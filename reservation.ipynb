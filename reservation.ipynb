{
 "cells": [
  {
   "cell_type": "markdown",
   "id": "0d069f7d",
   "metadata": {},
   "source": [
    "## Надежность системы"
   ]
  },
  {
   "cell_type": "markdown",
   "id": "8948f9cb",
   "metadata": {},
   "source": [
    "#### №1"
   ]
  },
  {
   "cell_type": "markdown",
   "id": "3be2f359",
   "metadata": {},
   "source": [
    "ТС состоит из 1000 элементов, средняя интенсивность отказов которых составляет 3*10^-6 (1/ч). Отказ любого элемента влечет отказ системы. Предполагая, что справедлив экспоненциальный закон надежности, определить ВБР системы в течение 1000 ч.\n",
    "\n",
    "Входные данные:"
   ]
  },
  {
   "cell_type": "code",
   "execution_count": null,
   "id": "3c1010d9",
   "metadata": {},
   "outputs": [],
   "source": [
    "import numpy as np\n",
    "import math as mt\n",
    "\n",
    "lambda_mean = 3*10**(-6)\n",
    "N = 1000\n",
    "T = 1000"
   ]
  },
  {
   "cell_type": "markdown",
   "id": "37839249",
   "metadata": {},
   "source": [
    "Найдем ВБР системы в течение 1000 ч, при условии верности экспоненциального закона для системы\n",
    "$$P(T) = \\exp(-\\lambda_i*N*T)$$\n",
    "Общая ИО:"
   ]
  },
  {
   "cell_type": "code",
   "execution_count": null,
   "id": "c87f1ea8",
   "metadata": {},
   "outputs": [],
   "source": [
    "lambda_sys = N*lambda_mean\n",
    "P_sys = np.exp(-lambda_sys*T)\n",
    "print('ВБР системы {0} %'.format(round(P_sys*100)))"
   ]
  },
  {
   "cell_type": "markdown",
   "id": "85840a25",
   "metadata": {},
   "source": [
    "#### №2"
   ]
  },
  {
   "cell_type": "markdown",
   "id": "42733552",
   "metadata": {},
   "source": [
    "Какое значение не должна превышать интенсивность отказов элементов, чтобы ВБР системы задачи №1 в течение 1000 ч была не ниже 0,98 ?"
   ]
  },
  {
   "cell_type": "code",
   "execution_count": null,
   "id": "07badbec",
   "metadata": {},
   "outputs": [],
   "source": [
    "P_nom = 0.98"
   ]
  },
  {
   "cell_type": "markdown",
   "id": "cb466bed",
   "metadata": {},
   "source": [
    "Выразим ИО и ее максимально допустимое значение\n",
    "$$\\lambda = -\\frac{\\ln(P)}{N*T}$$"
   ]
  },
  {
   "cell_type": "code",
   "execution_count": null,
   "id": "eefadae5",
   "metadata": {
    "scrolled": true
   },
   "outputs": [],
   "source": [
    "lambda_2 = -np.log(P_nom)/(N*T)\n",
    "print('Максимальная ИО для P = 0.98 {0:.0}'.format(lambda_2))"
   ]
  },
  {
   "cell_type": "markdown",
   "id": "55453fb4",
   "metadata": {},
   "source": [
    "#### №3"
   ]
  },
  {
   "cell_type": "markdown",
   "id": "19cfc8ee",
   "metadata": {},
   "source": [
    "Какое значение не должно превышать количество элементов (сложность) системы, чтобы ВБР системы задачи №1 в течение 1000 ч была не ниже 0,98, при условии, что исходную среднюю интенсивность отказов элементов системы удалось понизить на порядок?"
   ]
  },
  {
   "cell_type": "code",
   "execution_count": null,
   "id": "e92b9860",
   "metadata": {},
   "outputs": [],
   "source": [
    "lambda_3 = lambda_mean/10"
   ]
  },
  {
   "cell_type": "markdown",
   "id": "8db42508",
   "metadata": {},
   "source": [
    "Выразим количество элементов\n",
    "$$N = -\\frac{\\ln(P)}{\\lambda*T}$$"
   ]
  },
  {
   "cell_type": "code",
   "execution_count": null,
   "id": "08ee8e8c",
   "metadata": {},
   "outputs": [],
   "source": [
    "N_3 = -np.log(P_nom)/(lambda_3*T)\n",
    "print('Количество элементов {0}'.format(round(N_3)))"
   ]
  },
  {
   "cell_type": "markdown",
   "id": "28db0f0c",
   "metadata": {},
   "source": [
    "#### №4"
   ]
  },
  {
   "cell_type": "markdown",
   "id": "48d829b2",
   "metadata": {},
   "source": [
    "Какое значение не должно превышать суммарное время непрерывной работы (ч) системы задачи №1, чтобы ее ВБР была не ниже 0,98 ?\n",
    "\n",
    "Выразим время непрерывной работы:\n",
    "$$T = -\\frac{\\ln(P)}{\\lambda*N}$$"
   ]
  },
  {
   "cell_type": "code",
   "execution_count": null,
   "id": "158d6717",
   "metadata": {},
   "outputs": [],
   "source": [
    "T_4 = -np.log(P_nom)/(lambda_sys)\n",
    "print('Время непрерывной работы {0:.0f}'.format(np.fix(T_4)))"
   ]
  },
  {
   "cell_type": "markdown",
   "id": "ad635bb1",
   "metadata": {},
   "source": [
    "#### №5"
   ]
  },
  {
   "cell_type": "markdown",
   "id": "52e81487",
   "metadata": {},
   "source": [
    "Какова должна быть кратность общего постоянного резервирования, чтобы ВБР системы задачи №1 в течение 1000 ч была не ниже 0,98 ? "
   ]
  },
  {
   "cell_type": "markdown",
   "id": "e5c111e7",
   "metadata": {},
   "source": [
    "При общем постоянном (горячем) резервировании вероятность отказа равна:\n",
    "$$Q_c = (1-\\exp(-\\lambda*T))^{m+1},$$ где **m** - кратность резервирования\n",
    "$$1-P_{ном} = (1-\\exp(-\\lambda*T))^{m+1},$$\n",
    "Выразим кратность:"
   ]
  },
  {
   "cell_type": "code",
   "execution_count": null,
   "id": "5d5febd8",
   "metadata": {},
   "outputs": [],
   "source": [
    "m = np.log(1-P_nom)/np.log(1-np.exp(-lambda_sys*T)) - 1\n",
    "print('Кратность общего постоянного резервирования {0:.0f}'.format(np.fix(m)))"
   ]
  },
  {
   "cell_type": "markdown",
   "id": "9d529a33",
   "metadata": {},
   "source": [
    "#### №6"
   ]
  },
  {
   "cell_type": "markdown",
   "id": "f5b5c01d",
   "metadata": {},
   "source": [
    "Какова должна быть кратность общего холодного резервирования, чтобы ВБР системы задачи №1 в течение 1000 ч была не ниже 0,98 ?"
   ]
  },
  {
   "cell_type": "markdown",
   "id": "13173703",
   "metadata": {},
   "source": [
    "При общем холодном резервировании ВБР определяется как:\n",
    "$$P_c = \\exp(-\\lambda*T)\\sum_{i=0}^m \\frac{(\\lambda*T)!}{i!},$$ где **m** - кратность резервирования"
   ]
  },
  {
   "cell_type": "markdown",
   "id": "babd12f5",
   "metadata": {},
   "source": [
    "Найдем минимально допустимую кратность резервирования:"
   ]
  },
  {
   "cell_type": "code",
   "execution_count": null,
   "id": "8b07cc39",
   "metadata": {},
   "outputs": [],
   "source": [
    "P_6 = 0\n",
    "m = 0\n",
    "while P_6 < P_nom:\n",
    "    m += 1\n",
    "    s = []\n",
    "    for j in range(0, m+1):\n",
    "        s.append((lambda_sys*T)**j/mt.factorial(j))\n",
    "    P_6 = np.exp(-lambda_sys*T)*sum(s)\n",
    "print('Кратность общего холодного резервирования {0}'.format(m))"
   ]
  },
  {
   "cell_type": "markdown",
   "id": "7123215e",
   "metadata": {},
   "source": [
    "#### №7"
   ]
  },
  {
   "cell_type": "markdown",
   "id": "7eaecc3f",
   "metadata": {},
   "source": [
    "Какова должна быть кратность раздельного нагруженного резервирования, чтобы ВБР системы задачи №1 в течение 1000 ч была не ниже 0,98 ?"
   ]
  },
  {
   "cell_type": "markdown",
   "id": "62f0cb0f",
   "metadata": {},
   "source": [
    "При раздельном нагруженном резервировании ВБР определяется как:\n",
    "$$P_c = \\prod_{i=1}^N (1-(1-\\exp(-\\lambda_i*T))^{m+1}),$$ где **m** - кратность резервирования\n",
    "Т.к. элементы у нас одинаковые, то:\n",
    "$$P_c = (1-(1-\\exp(-\\lambda_i*T))^{m+1})^N$$\n",
    "$$P_c^{\\frac{1}{N}} = 1-(1-\\exp(-\\lambda_i*T))^{m+1}$$\n",
    "$$1-P_c^{\\frac{1}{N}} = (1-\\exp(-\\lambda_i*T))^{m+1}$$\n"
   ]
  },
  {
   "cell_type": "code",
   "execution_count": null,
   "id": "cfc82885",
   "metadata": {},
   "outputs": [],
   "source": [
    "m = (np.log(1-mt.pow(P_nom, 1/N))/np.log(1-np.exp(-lambda_mean*T))) - 1\n",
    "print('Кратность раздельного нагруженного резервирования {0}'.format(round(m)))"
   ]
  },
  {
   "cell_type": "markdown",
   "id": "b5a79f2a",
   "metadata": {},
   "source": [
    "#### №8"
   ]
  },
  {
   "cell_type": "markdown",
   "id": "e502a1a7",
   "metadata": {},
   "source": [
    "Какова должна быть кратность раздельного холодного резервирования, чтобы ВБР системы задачи №1 в течение 1000 ч была не ниже 0,98?"
   ]
  },
  {
   "cell_type": "markdown",
   "id": "49c71fce",
   "metadata": {},
   "source": [
    "При общем холодном резервировании ВБР определяется как:\n",
    "$$P_c = \\exp(-\\lambda_i*T)\\sum_{i=0}^m \\frac{(\\lambda_i*T)!}{i!},$$ где **m** - кратность резервирования"
   ]
  },
  {
   "cell_type": "code",
   "execution_count": null,
   "id": "c715a3cd",
   "metadata": {},
   "outputs": [],
   "source": [
    "P_8 = 0\n",
    "m = 0\n",
    "while P_8 < P_nom:\n",
    "    m += 1\n",
    "    s = []\n",
    "    for j in range(0, m+1):\n",
    "        s.append((lambda_mean*T)**j/mt.factorial(j))\n",
    "    P_8 = np.exp(-lambda_mean*T)*sum(s)\n",
    "print('Кратность раздельного холодного резервирования {0}'.format(m))"
   ]
  },
  {
   "cell_type": "markdown",
   "id": "d74fcfeb",
   "metadata": {},
   "source": [
    "#### №9"
   ]
  },
  {
   "cell_type": "markdown",
   "id": "1db6b4dd",
   "metadata": {},
   "source": [
    "Каково должно быть значение минимальной кратности скользящего резервирования, чтобы ВБР системы задачи №1 в течение 1000 ч была не ниже 0,98 (при условии, что все элементы резервируемой системы одинаковы)?"
   ]
  },
  {
   "cell_type": "markdown",
   "id": "da47f400",
   "metadata": {},
   "source": [
    "$$P_c = \\sum_{i=0}^{Res} C^i_{N}*p^{N-i}\\sum_{j=0}^{i} (-1)^j*C_i^j*p^j,$$ где **m** - кратность резервирования"
   ]
  },
  {
   "cell_type": "code",
   "execution_count": null,
   "id": "110b5467",
   "metadata": {},
   "outputs": [],
   "source": [
    "P_9 = 0\n",
    "res = 0\n",
    "p = np.exp(-lambda_mean*N*T)\n",
    "while P_9 < P_nom:\n",
    "    res += 1\n",
    "    s1 = []\n",
    "    for i in range(0, res+1):\n",
    "        s2 = []\n",
    "        for j in range(0, i+1):\n",
    "            C_ij = mt.factorial(i)/(mt.factorial(j)*mt.factorial(i-j))\n",
    "            s2.append(((-1)**j)*p*C_ij)\n",
    "        C_Ni = mt.factorial(N)/(mt.factorial(i)*mt.factorial(N-i))\n",
    "        s1.append(C_Ni*(p**(N-i))*sum(s2))\n",
    "    P_9 = sum(s1)\n",
    "print('Кратность раздельного холодного резервирования {0:.0f}'.format(res/N))"
   ]
  },
  {
   "cell_type": "markdown",
   "id": "2d9ec206",
   "metadata": {},
   "source": [
    "#### №10"
   ]
  },
  {
   "cell_type": "markdown",
   "id": "922b42e5",
   "metadata": {},
   "source": [
    "При какой минимальной кратности общего холодного резервирования может быть обеспечено требование ВБР системы задачи №1 в течение 1000 ч не ниже 0,98 (при условии, что удалось подобрать такую элементную базу, что средняя интенсивность отказов элементов на порядок ниже исходной)?"
   ]
  },
  {
   "cell_type": "markdown",
   "id": "facdc954",
   "metadata": {},
   "source": [
    "При общем холодном резервировании ВБР определяется как:\n",
    "$$P_c = \\exp(-\\lambda*T)\\sum_{i=0}^m \\frac{(\\lambda*T)!}{i!},$$ где **m** - кратность резервирования"
   ]
  },
  {
   "cell_type": "markdown",
   "id": "07887358",
   "metadata": {},
   "source": [
    "Найдем минимально допустимую кратность резервирования при ИО на порядок меньше исходной:"
   ]
  },
  {
   "cell_type": "code",
   "execution_count": null,
   "id": "ce8edea6",
   "metadata": {},
   "outputs": [],
   "source": [
    "lambda_mean_10 = lambda_mean/10\n",
    "lambda_sys = lambda_mean_10*N\n",
    "P_10 = 0\n",
    "m = 0\n",
    "while P_10 < P_nom:\n",
    "    m += 1\n",
    "    s = []\n",
    "    for j in range(0, m+1):\n",
    "        s.append((lambda_sys*T)**j/mt.factorial(j))\n",
    "    P_10 = np.exp(-lambda_sys*T)*sum(s)\n",
    "print('Кратность общего холодного резервирования {0}'.format(m))"
   ]
  },
  {
   "cell_type": "markdown",
   "id": "6c3f7a7f",
   "metadata": {},
   "source": [
    "#### №11"
   ]
  },
  {
   "cell_type": "markdown",
   "id": "829c4f23",
   "metadata": {},
   "source": [
    "Определить какое из мероприятий оказывает большее влияние на надежность системы, состоящей из 100 элементов с интенсивностью отказов 10^-5 (1/ч): снижение интенсивности отказов элементов в 2 раза или использование схем нагруженного дублирования всего блока. Принять время работы блока равным 1500 ч. \n",
    "\n",
    "Найдем ВБР"
   ]
  },
  {
   "cell_type": "code",
   "execution_count": null,
   "id": "af40a0a9",
   "metadata": {},
   "outputs": [],
   "source": [
    "N = 100\n",
    "lambda_mean = 10**(-5)\n",
    "T = 1500"
   ]
  },
  {
   "cell_type": "markdown",
   "id": "990e0d88",
   "metadata": {},
   "source": [
    "Найдем ВБР системы, исходя из экспоненциального закона надежности:"
   ]
  },
  {
   "cell_type": "code",
   "execution_count": null,
   "id": "772ab0db",
   "metadata": {},
   "outputs": [],
   "source": [
    "P = np.exp(-lambda_mean*T*N)\n",
    "print('ВБР исходной системы: {0:.0f} %'.format(P*100))"
   ]
  },
  {
   "cell_type": "markdown",
   "id": "e589fb1b",
   "metadata": {},
   "source": [
    "1. Снизим ИО в 2 раза"
   ]
  },
  {
   "cell_type": "code",
   "execution_count": null,
   "id": "11ea5c7f",
   "metadata": {},
   "outputs": [],
   "source": [
    "lambda_mean_new = lambda_mean/2\n",
    "P_1 = np.exp(-lambda_mean_new*T*N)\n",
    "print('ВБР при снижении ИО: {0:.0f} %'.format(P_1*100))"
   ]
  },
  {
   "cell_type": "code",
   "execution_count": null,
   "id": "d6ca9f12",
   "metadata": {},
   "outputs": [],
   "source": [
    "print('ВБР системы существенно изменилась: в {0:.3f} раза'.format(P_1/P))"
   ]
  },
  {
   "cell_type": "markdown",
   "id": "95587bdb",
   "metadata": {},
   "source": [
    "2. Нагруженное дублирование всего блока"
   ]
  },
  {
   "cell_type": "markdown",
   "id": "a923b216",
   "metadata": {},
   "source": [
    "При раздельном нагруженном резервировании ВБР определяется как:\n",
    "$$P_c = \\prod_{i=1}^N (1-(1-\\exp(-\\lambda_i*T))^{m+1})$$\n",
    "При дублирвании m = 1, тогда\n",
    "$$P_c = \\prod_{i=1}^N (1-(1-\\exp(-\\lambda_i*T))^{2})$$"
   ]
  },
  {
   "cell_type": "code",
   "execution_count": null,
   "id": "e2d41bb3",
   "metadata": {},
   "outputs": [],
   "source": [
    "P_2 = 1\n",
    "for i in range(1, N+1):\n",
    "    P_2 *= (1-(1-np.exp(-lambda_mean*N*T))**2)\n",
    "print('ВБР при дублировании: {0:.0f} %'.format(P_2*100))"
   ]
  },
  {
   "cell_type": "code",
   "execution_count": null,
   "id": "1698a4d2",
   "metadata": {},
   "outputs": [],
   "source": [
    "(1-(1-np.exp(-lambda_mean*N*T))**2)**2\n"
   ]
  },
  {
   "cell_type": "markdown",
   "id": "87378cc8",
   "metadata": {},
   "source": [
    "Из полученных значений видно, что нагруженное дублирвоание гораздо больше влияет на ВБР системы, чем уменьшение ИО."
   ]
  }
 ],
 "metadata": {
  "kernelspec": {
   "display_name": "Python 3 (ipykernel)",
   "language": "python",
   "name": "python3"
  },
  "language_info": {
   "codemirror_mode": {
    "name": "ipython",
    "version": 3
   },
   "file_extension": ".py",
   "mimetype": "text/x-python",
   "name": "python",
   "nbconvert_exporter": "python",
   "pygments_lexer": "ipython3",
   "version": "3.9.12"
  }
 },
 "nbformat": 4,
 "nbformat_minor": 5
}
