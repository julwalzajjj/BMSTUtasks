{
  "cells": [
    {
      "cell_type": "markdown",
      "metadata": {
        "id": "view-in-github",
        "colab_type": "text"
      },
      "source": [
        "<a href=\"https://colab.research.google.com/github/julwalzajjj/BMSTUtasks/blob/main/RS_L4_2_colab.ipynb\" target=\"_parent\"><img src=\"https://colab.research.google.com/assets/colab-badge.svg\" alt=\"Open In Colab\"/></a>"
      ]
    },
    {
      "cell_type": "markdown",
      "id": "5d1d517d",
      "metadata": {
        "id": "5d1d517d"
      },
      "source": [
        "# Задача А: персональные рекомендации"
      ]
    },
    {
      "cell_type": "markdown",
      "id": "ca76b9f7",
      "metadata": {
        "id": "ca76b9f7"
      },
      "source": [
        "## Формулировка задачи\n",
        "\n",
        "Необходимо на основе заказов пользователей сформировать предложение для его последующих покупок. Релевантность рекомендации будет оцениваться исходя из последующих покупок пользователей и того, насколько хорошо алгоритм позволяет их предсказать."
      ]
    },
    {
      "cell_type": "code",
      "execution_count": 2,
      "id": "69caf1f1",
      "metadata": {
        "colab": {
          "base_uri": "https://localhost:8080/"
        },
        "id": "69caf1f1",
        "outputId": "3696bef3-e31f-4343-80b8-f9fbeab9e874"
      },
      "outputs": [
        {
          "output_type": "stream",
          "name": "stdout",
          "text": [
            "Requirement already satisfied: scann in /usr/local/lib/python3.10/dist-packages (1.2.9)\n",
            "Requirement already satisfied: tensorflow~=2.11.0 in /usr/local/lib/python3.10/dist-packages (from scann) (2.11.1)\n",
            "Requirement already satisfied: numpy in /usr/local/lib/python3.10/dist-packages (from scann) (1.22.4)\n",
            "Requirement already satisfied: six in /usr/local/lib/python3.10/dist-packages (from scann) (1.16.0)\n",
            "Requirement already satisfied: absl-py>=1.0.0 in /usr/local/lib/python3.10/dist-packages (from tensorflow~=2.11.0->scann) (1.4.0)\n",
            "Requirement already satisfied: astunparse>=1.6.0 in /usr/local/lib/python3.10/dist-packages (from tensorflow~=2.11.0->scann) (1.6.3)\n",
            "Requirement already satisfied: flatbuffers>=2.0 in /usr/local/lib/python3.10/dist-packages (from tensorflow~=2.11.0->scann) (23.5.26)\n",
            "Requirement already satisfied: gast<=0.4.0,>=0.2.1 in /usr/local/lib/python3.10/dist-packages (from tensorflow~=2.11.0->scann) (0.4.0)\n",
            "Requirement already satisfied: google-pasta>=0.1.1 in /usr/local/lib/python3.10/dist-packages (from tensorflow~=2.11.0->scann) (0.2.0)\n",
            "Requirement already satisfied: grpcio<2.0,>=1.24.3 in /usr/local/lib/python3.10/dist-packages (from tensorflow~=2.11.0->scann) (1.56.0)\n",
            "Requirement already satisfied: h5py>=2.9.0 in /usr/local/lib/python3.10/dist-packages (from tensorflow~=2.11.0->scann) (3.8.0)\n",
            "Requirement already satisfied: keras<2.12,>=2.11.0 in /usr/local/lib/python3.10/dist-packages (from tensorflow~=2.11.0->scann) (2.11.0)\n",
            "Requirement already satisfied: libclang>=13.0.0 in /usr/local/lib/python3.10/dist-packages (from tensorflow~=2.11.0->scann) (16.0.0)\n",
            "Requirement already satisfied: opt-einsum>=2.3.2 in /usr/local/lib/python3.10/dist-packages (from tensorflow~=2.11.0->scann) (3.3.0)\n",
            "Requirement already satisfied: packaging in /usr/local/lib/python3.10/dist-packages (from tensorflow~=2.11.0->scann) (23.1)\n",
            "Requirement already satisfied: protobuf<3.20,>=3.9.2 in /usr/local/lib/python3.10/dist-packages (from tensorflow~=2.11.0->scann) (3.19.6)\n",
            "Requirement already satisfied: setuptools in /usr/local/lib/python3.10/dist-packages (from tensorflow~=2.11.0->scann) (67.7.2)\n",
            "Requirement already satisfied: tensorboard<2.12,>=2.11 in /usr/local/lib/python3.10/dist-packages (from tensorflow~=2.11.0->scann) (2.11.2)\n",
            "Requirement already satisfied: tensorflow-estimator<2.12,>=2.11.0 in /usr/local/lib/python3.10/dist-packages (from tensorflow~=2.11.0->scann) (2.11.0)\n",
            "Requirement already satisfied: termcolor>=1.1.0 in /usr/local/lib/python3.10/dist-packages (from tensorflow~=2.11.0->scann) (2.3.0)\n",
            "Requirement already satisfied: typing-extensions>=3.6.6 in /usr/local/lib/python3.10/dist-packages (from tensorflow~=2.11.0->scann) (4.6.3)\n",
            "Requirement already satisfied: wrapt>=1.11.0 in /usr/local/lib/python3.10/dist-packages (from tensorflow~=2.11.0->scann) (1.14.1)\n",
            "Requirement already satisfied: tensorflow-io-gcs-filesystem>=0.23.1 in /usr/local/lib/python3.10/dist-packages (from tensorflow~=2.11.0->scann) (0.32.0)\n",
            "Requirement already satisfied: wheel<1.0,>=0.23.0 in /usr/local/lib/python3.10/dist-packages (from astunparse>=1.6.0->tensorflow~=2.11.0->scann) (0.40.0)\n",
            "Requirement already satisfied: google-auth<3,>=1.6.3 in /usr/local/lib/python3.10/dist-packages (from tensorboard<2.12,>=2.11->tensorflow~=2.11.0->scann) (2.17.3)\n",
            "Requirement already satisfied: google-auth-oauthlib<0.5,>=0.4.1 in /usr/local/lib/python3.10/dist-packages (from tensorboard<2.12,>=2.11->tensorflow~=2.11.0->scann) (0.4.6)\n",
            "Requirement already satisfied: markdown>=2.6.8 in /usr/local/lib/python3.10/dist-packages (from tensorboard<2.12,>=2.11->tensorflow~=2.11.0->scann) (3.4.3)\n",
            "Requirement already satisfied: requests<3,>=2.21.0 in /usr/local/lib/python3.10/dist-packages (from tensorboard<2.12,>=2.11->tensorflow~=2.11.0->scann) (2.27.1)\n",
            "Requirement already satisfied: tensorboard-data-server<0.7.0,>=0.6.0 in /usr/local/lib/python3.10/dist-packages (from tensorboard<2.12,>=2.11->tensorflow~=2.11.0->scann) (0.6.1)\n",
            "Requirement already satisfied: tensorboard-plugin-wit>=1.6.0 in /usr/local/lib/python3.10/dist-packages (from tensorboard<2.12,>=2.11->tensorflow~=2.11.0->scann) (1.8.1)\n",
            "Requirement already satisfied: werkzeug>=1.0.1 in /usr/local/lib/python3.10/dist-packages (from tensorboard<2.12,>=2.11->tensorflow~=2.11.0->scann) (2.3.6)\n",
            "Requirement already satisfied: cachetools<6.0,>=2.0.0 in /usr/local/lib/python3.10/dist-packages (from google-auth<3,>=1.6.3->tensorboard<2.12,>=2.11->tensorflow~=2.11.0->scann) (5.3.1)\n",
            "Requirement already satisfied: pyasn1-modules>=0.2.1 in /usr/local/lib/python3.10/dist-packages (from google-auth<3,>=1.6.3->tensorboard<2.12,>=2.11->tensorflow~=2.11.0->scann) (0.3.0)\n",
            "Requirement already satisfied: rsa<5,>=3.1.4 in /usr/local/lib/python3.10/dist-packages (from google-auth<3,>=1.6.3->tensorboard<2.12,>=2.11->tensorflow~=2.11.0->scann) (4.9)\n",
            "Requirement already satisfied: requests-oauthlib>=0.7.0 in /usr/local/lib/python3.10/dist-packages (from google-auth-oauthlib<0.5,>=0.4.1->tensorboard<2.12,>=2.11->tensorflow~=2.11.0->scann) (1.3.1)\n",
            "Requirement already satisfied: urllib3<1.27,>=1.21.1 in /usr/local/lib/python3.10/dist-packages (from requests<3,>=2.21.0->tensorboard<2.12,>=2.11->tensorflow~=2.11.0->scann) (1.26.16)\n",
            "Requirement already satisfied: certifi>=2017.4.17 in /usr/local/lib/python3.10/dist-packages (from requests<3,>=2.21.0->tensorboard<2.12,>=2.11->tensorflow~=2.11.0->scann) (2023.5.7)\n",
            "Requirement already satisfied: charset-normalizer~=2.0.0 in /usr/local/lib/python3.10/dist-packages (from requests<3,>=2.21.0->tensorboard<2.12,>=2.11->tensorflow~=2.11.0->scann) (2.0.12)\n",
            "Requirement already satisfied: idna<4,>=2.5 in /usr/local/lib/python3.10/dist-packages (from requests<3,>=2.21.0->tensorboard<2.12,>=2.11->tensorflow~=2.11.0->scann) (3.4)\n",
            "Requirement already satisfied: MarkupSafe>=2.1.1 in /usr/local/lib/python3.10/dist-packages (from werkzeug>=1.0.1->tensorboard<2.12,>=2.11->tensorflow~=2.11.0->scann) (2.1.3)\n",
            "Requirement already satisfied: pyasn1<0.6.0,>=0.4.6 in /usr/local/lib/python3.10/dist-packages (from pyasn1-modules>=0.2.1->google-auth<3,>=1.6.3->tensorboard<2.12,>=2.11->tensorflow~=2.11.0->scann) (0.5.0)\n",
            "Requirement already satisfied: oauthlib>=3.0.0 in /usr/local/lib/python3.10/dist-packages (from requests-oauthlib>=0.7.0->google-auth-oauthlib<0.5,>=0.4.1->tensorboard<2.12,>=2.11->tensorflow~=2.11.0->scann) (3.2.2)\n"
          ]
        }
      ],
      "source": [
        "!pip install scann"
      ]
    },
    {
      "cell_type": "code",
      "execution_count": null,
      "id": "34c94905",
      "metadata": {
        "colab": {
          "base_uri": "https://localhost:8080/"
        },
        "id": "34c94905",
        "outputId": "9dcda455-8faf-44eb-983b-a55c96b27f8f"
      },
      "outputs": [
        {
          "output_type": "stream",
          "name": "stdout",
          "text": [
            "Collecting rank_bm25\n",
            "  Downloading rank_bm25-0.2.2-py3-none-any.whl (8.6 kB)\n",
            "Requirement already satisfied: numpy in /usr/local/lib/python3.10/dist-packages (from rank_bm25) (1.22.4)\n",
            "Installing collected packages: rank_bm25\n",
            "Successfully installed rank_bm25-0.2.2\n"
          ]
        }
      ],
      "source": [
        "!pip install rank_bm25"
      ]
    },
    {
      "cell_type": "code",
      "execution_count": 3,
      "id": "c15bea3c",
      "metadata": {
        "colab": {
          "base_uri": "https://localhost:8080/"
        },
        "id": "c15bea3c",
        "outputId": "39678963-09f7-4747-80bd-e31773b30ac3",
        "scrolled": true
      },
      "outputs": [
        {
          "output_type": "stream",
          "name": "stdout",
          "text": [
            "Requirement already satisfied: feature_engine in /usr/local/lib/python3.10/dist-packages (1.6.1)\n",
            "Requirement already satisfied: numpy>=1.18.2 in /usr/local/lib/python3.10/dist-packages (from feature_engine) (1.22.4)\n",
            "Requirement already satisfied: pandas>=1.0.3 in /usr/local/lib/python3.10/dist-packages (from feature_engine) (1.5.3)\n",
            "Requirement already satisfied: scikit-learn>=1.0.0 in /usr/local/lib/python3.10/dist-packages (from feature_engine) (1.2.2)\n",
            "Requirement already satisfied: scipy>=1.4.1 in /usr/local/lib/python3.10/dist-packages (from feature_engine) (1.10.1)\n",
            "Requirement already satisfied: statsmodels>=0.11.1 in /usr/local/lib/python3.10/dist-packages (from feature_engine) (0.13.5)\n",
            "Requirement already satisfied: python-dateutil>=2.8.1 in /usr/local/lib/python3.10/dist-packages (from pandas>=1.0.3->feature_engine) (2.8.2)\n",
            "Requirement already satisfied: pytz>=2020.1 in /usr/local/lib/python3.10/dist-packages (from pandas>=1.0.3->feature_engine) (2022.7.1)\n",
            "Requirement already satisfied: joblib>=1.1.1 in /usr/local/lib/python3.10/dist-packages (from scikit-learn>=1.0.0->feature_engine) (1.2.0)\n",
            "Requirement already satisfied: threadpoolctl>=2.0.0 in /usr/local/lib/python3.10/dist-packages (from scikit-learn>=1.0.0->feature_engine) (3.1.0)\n",
            "Requirement already satisfied: patsy>=0.5.2 in /usr/local/lib/python3.10/dist-packages (from statsmodels>=0.11.1->feature_engine) (0.5.3)\n",
            "Requirement already satisfied: packaging>=21.3 in /usr/local/lib/python3.10/dist-packages (from statsmodels>=0.11.1->feature_engine) (23.1)\n",
            "Requirement already satisfied: six in /usr/local/lib/python3.10/dist-packages (from patsy>=0.5.2->statsmodels>=0.11.1->feature_engine) (1.16.0)\n"
          ]
        }
      ],
      "source": [
        "!pip install feature_engine"
      ]
    },
    {
      "cell_type": "code",
      "execution_count": null,
      "id": "myJbtBl60ohE",
      "metadata": {
        "colab": {
          "base_uri": "https://localhost:8080/"
        },
        "id": "myJbtBl60ohE",
        "outputId": "8a0a2463-2e76-4e5e-a3e7-5de0d5aafd70"
      },
      "outputs": [
        {
          "output_type": "stream",
          "name": "stdout",
          "text": [
            "Collecting faiss-gpu\n",
            "  Downloading faiss_gpu-1.7.2-cp310-cp310-manylinux_2_17_x86_64.manylinux2014_x86_64.whl (85.5 MB)\n",
            "\u001b[2K     \u001b[90m━━━━━━━━━━━━━━━━━━━━━━━━━━━━━━━━━━━━━━━━\u001b[0m \u001b[32m85.5/85.5 MB\u001b[0m \u001b[31m6.9 MB/s\u001b[0m eta \u001b[36m0:00:00\u001b[0m\n",
            "\u001b[?25hInstalling collected packages: faiss-gpu\n",
            "Successfully installed faiss-gpu-1.7.2\n"
          ]
        }
      ],
      "source": [
        "!pip install faiss-gpu"
      ]
    },
    {
      "cell_type": "code",
      "execution_count": 4,
      "id": "CuAe5vJBraBV",
      "metadata": {
        "colab": {
          "base_uri": "https://localhost:8080/"
        },
        "id": "CuAe5vJBraBV",
        "outputId": "cd1fb3c6-bfa0-4ebf-e63f-5d0d787c6c81"
      },
      "outputs": [
        {
          "output_type": "stream",
          "name": "stdout",
          "text": [
            "Requirement already satisfied: tqdm in /usr/local/lib/python3.10/dist-packages (4.65.0)\n"
          ]
        }
      ],
      "source": [
        "!pip install tqdm"
      ]
    },
    {
      "cell_type": "code",
      "execution_count": null,
      "id": "7ce6d565",
      "metadata": {
        "colab": {
          "base_uri": "https://localhost:8080/"
        },
        "id": "7ce6d565",
        "outputId": "bb4e7066-0e92-48bb-b78c-4d0977a6f023"
      },
      "outputs": [
        {
          "output_type": "stream",
          "name": "stdout",
          "text": [
            "Collecting xlearn\n",
            "  Downloading xlearn-0.40a1.tar.gz (4.9 MB)\n",
            "\u001b[2K     \u001b[90m━━━━━━━━━━━━━━━━━━━━━━━━━━━━━━━━━━━━━━━━\u001b[0m \u001b[32m4.9/4.9 MB\u001b[0m \u001b[31m4.4 MB/s\u001b[0m eta \u001b[36m0:00:00\u001b[0m\n",
            "\u001b[?25h  Preparing metadata (setup.py) ... \u001b[?25l\u001b[?25hdone\n",
            "Building wheels for collected packages: xlearn\n",
            "  Building wheel for xlearn (setup.py) ... \u001b[?25l\u001b[?25hdone\n",
            "  Created wheel for xlearn: filename=xlearn-0.40a1-py3-none-any.whl size=225749 sha256=e31f6152f9b39941df625e3b29ac58f76728f4d363a4180f580d44623c61f91a\n",
            "  Stored in directory: /root/.cache/pip/wheels/09/48/04/779ee06b22532c86cde8da8984b83284517492dad1df998c6a\n",
            "Successfully built xlearn\n",
            "Installing collected packages: xlearn\n",
            "Successfully installed xlearn-0.40a1\n"
          ]
        }
      ],
      "source": [
        "!pip install xlearn"
      ]
    },
    {
      "cell_type": "code",
      "execution_count": null,
      "id": "8f249b3e",
      "metadata": {
        "colab": {
          "base_uri": "https://localhost:8080/"
        },
        "id": "8f249b3e",
        "outputId": "ac2023ec-0a50-483e-ca56-469bf70c0c89"
      },
      "outputs": [
        {
          "output_type": "stream",
          "name": "stdout",
          "text": [
            "Collecting catboost\n",
            "  Downloading catboost-1.2-cp310-cp310-manylinux2014_x86_64.whl (98.6 MB)\n",
            "\u001b[2K     \u001b[90m━━━━━━━━━━━━━━━━━━━━━━━━━━━━━━━━━━━━━━━━\u001b[0m \u001b[32m98.6/98.6 MB\u001b[0m \u001b[31m8.7 MB/s\u001b[0m eta \u001b[36m0:00:00\u001b[0m\n",
            "\u001b[?25hRequirement already satisfied: graphviz in /usr/local/lib/python3.10/dist-packages (from catboost) (0.20.1)\n",
            "Requirement already satisfied: matplotlib in /usr/local/lib/python3.10/dist-packages (from catboost) (3.7.1)\n",
            "Requirement already satisfied: numpy>=1.16.0 in /usr/local/lib/python3.10/dist-packages (from catboost) (1.22.4)\n",
            "Requirement already satisfied: pandas>=0.24 in /usr/local/lib/python3.10/dist-packages (from catboost) (1.5.3)\n",
            "Requirement already satisfied: scipy in /usr/local/lib/python3.10/dist-packages (from catboost) (1.10.1)\n",
            "Requirement already satisfied: plotly in /usr/local/lib/python3.10/dist-packages (from catboost) (5.13.1)\n",
            "Requirement already satisfied: six in /usr/local/lib/python3.10/dist-packages (from catboost) (1.16.0)\n",
            "Requirement already satisfied: python-dateutil>=2.8.1 in /usr/local/lib/python3.10/dist-packages (from pandas>=0.24->catboost) (2.8.2)\n",
            "Requirement already satisfied: pytz>=2020.1 in /usr/local/lib/python3.10/dist-packages (from pandas>=0.24->catboost) (2022.7.1)\n",
            "Requirement already satisfied: contourpy>=1.0.1 in /usr/local/lib/python3.10/dist-packages (from matplotlib->catboost) (1.1.0)\n",
            "Requirement already satisfied: cycler>=0.10 in /usr/local/lib/python3.10/dist-packages (from matplotlib->catboost) (0.11.0)\n",
            "Requirement already satisfied: fonttools>=4.22.0 in /usr/local/lib/python3.10/dist-packages (from matplotlib->catboost) (4.40.0)\n",
            "Requirement already satisfied: kiwisolver>=1.0.1 in /usr/local/lib/python3.10/dist-packages (from matplotlib->catboost) (1.4.4)\n",
            "Requirement already satisfied: packaging>=20.0 in /usr/local/lib/python3.10/dist-packages (from matplotlib->catboost) (23.1)\n",
            "Requirement already satisfied: pillow>=6.2.0 in /usr/local/lib/python3.10/dist-packages (from matplotlib->catboost) (8.4.0)\n",
            "Requirement already satisfied: pyparsing>=2.3.1 in /usr/local/lib/python3.10/dist-packages (from matplotlib->catboost) (3.1.0)\n",
            "Requirement already satisfied: tenacity>=6.2.0 in /usr/local/lib/python3.10/dist-packages (from plotly->catboost) (8.2.2)\n",
            "Installing collected packages: catboost\n",
            "Successfully installed catboost-1.2\n"
          ]
        }
      ],
      "source": [
        "!pip install catboost"
      ]
    },
    {
      "cell_type": "code",
      "execution_count": 5,
      "id": "0abae15c",
      "metadata": {
        "id": "0abae15c"
      },
      "outputs": [],
      "source": [
        "import pandas as pd\n",
        "import numpy as np\n",
        "# import faiss\n",
        "import random\n",
        "import scann\n",
        "\n",
        "from tqdm import notebook, tqdm\n",
        "\n",
        "import matplotlib.pyplot as plt\n",
        "\n",
        "from sklearn.pipeline import Pipeline\n",
        "from sklearn.model_selection import GridSearchCV\n",
        "from sklearn.preprocessing import FunctionTransformer\n",
        "from sklearn.preprocessing import StandardScaler\n",
        "from sklearn.datasets import load_iris\n",
        "from sklearn.model_selection import train_test_split\n",
        "from sklearn.neighbors import NearestNeighbors\n",
        "\n",
        "from feature_engine.creation import CyclicalFeatures\n",
        "\n",
        "from gensim.models import Word2Vec\n",
        "\n",
        "# import xlearn as xl\n",
        "# # from xlearn import DMatrix\n",
        "\n",
        "# import catboost as cb\n",
        "\n",
        "from sklearn.datasets import dump_svmlight_file\n",
        "\n",
        "# from rank_bm25 import BM25Okapi\n",
        "# from itertools import chain"
      ]
    },
    {
      "cell_type": "code",
      "execution_count": 6,
      "id": "0befcc64",
      "metadata": {
        "id": "0befcc64"
      },
      "outputs": [],
      "source": [
        "import seaborn as sns"
      ]
    },
    {
      "cell_type": "code",
      "execution_count": 7,
      "id": "ALUwXry45Fac",
      "metadata": {
        "id": "ALUwXry45Fac"
      },
      "outputs": [],
      "source": [
        "from scipy.stats import norm"
      ]
    },
    {
      "cell_type": "code",
      "execution_count": 8,
      "id": "05699dfc",
      "metadata": {
        "id": "05699dfc"
      },
      "outputs": [],
      "source": [
        "RANDOM_STATE=34"
      ]
    },
    {
      "cell_type": "markdown",
      "id": "4c8fbd4a",
      "metadata": {
        "id": "4c8fbd4a"
      },
      "source": [
        "## L3 Формирование обучающей выборки, проектирование валидации\n",
        "\n",
        "Итог: сформирована обучающая, тестовая и валидационная выборки, построен пайплайн валидации"
      ]
    },
    {
      "cell_type": "markdown",
      "id": "cb4804fe",
      "metadata": {
        "id": "cb4804fe"
      },
      "source": [
        "План:\n",
        "\n",
        "- [x] Cleaning: критерий Граббса\n",
        "- [x] Feature Engeneering\n",
        "    1. [x] Обучение эмбеддингов\n",
        "    2. [x] Дополнительные признаки\n",
        "- [x] Извлечение\n",
        "- [x] Ранжирование\n",
        "    1. [x] Формирование таргета\n",
        "    2. [x] Фильтрация\n",
        "    3. [x] Ранжирование\n",
        "- [ ] Оценка предсказания\n",
        "- [ ] Feature importance (?)\n",
        "- [ ] Кросс-валидация"
      ]
    },
    {
      "cell_type": "code",
      "execution_count": 9,
      "id": "618fd908",
      "metadata": {
        "colab": {
          "base_uri": "https://localhost:8080/"
        },
        "id": "618fd908",
        "outputId": "d50fef71-f1fc-40d7-e113-f52a1ed32d10"
      },
      "outputs": [
        {
          "output_type": "stream",
          "name": "stdout",
          "text": [
            "Mounted at /content/drive\n"
          ]
        }
      ],
      "source": [
        "try:\n",
        "    from google.colab import drive\n",
        "    drive.mount('/content/drive', force_remount=True)\n",
        "    data = pd.read_csv(r\"/content/drive/MyDrive/Colab Notebooks/wb_school_task_1.csv.gzip\", compression='gzip')\n",
        "except:\n",
        "    data = pd.read_csv(r\"C:\\Users\\User\\Documents\\wildberries\\wb_school_task_1.csv.gzip\", compression='gzip')"
      ]
    },
    {
      "cell_type": "markdown",
      "id": "7e7998d8",
      "metadata": {
        "id": "7e7998d8"
      },
      "source": [
        "### Формирование выборок"
      ]
    },
    {
      "cell_type": "markdown",
      "id": "b4a428ad",
      "metadata": {
        "id": "b4a428ad"
      },
      "source": [
        "Для формирования рекомендаций необходимо разделить данные на тренировочную и тестовую выборку (будем проводить кросс-валидацию):"
      ]
    },
    {
      "cell_type": "markdown",
      "id": "30bb1141",
      "metadata": {
        "id": "30bb1141"
      },
      "source": [
        "Нужно отсортировать данные по времени покупок, чтобы в тестовой выборке были наиболее новые. В рекомендательных системах разделение происходит таким образом. Также для формирования эмбеддингов это необходимо."
      ]
    },
    {
      "cell_type": "code",
      "execution_count": 10,
      "id": "694ceeed",
      "metadata": {
        "id": "694ceeed"
      },
      "outputs": [],
      "source": [
        "sorted_data = data.sort_values(by=['order_ts']).reset_index(drop=True)"
      ]
    },
    {
      "cell_type": "code",
      "execution_count": 11,
      "id": "6aa11af8",
      "metadata": {
        "id": "6aa11af8"
      },
      "outputs": [],
      "source": [
        "sorted_data['order_ts'] = pd.to_datetime(sorted_data['order_ts'])"
      ]
    },
    {
      "cell_type": "code",
      "execution_count": 12,
      "id": "f378a0a1",
      "metadata": {
        "id": "f378a0a1"
      },
      "outputs": [],
      "source": [
        "train = sorted_data[sorted_data['order_ts'].dt.month != 3]"
      ]
    },
    {
      "cell_type": "code",
      "execution_count": 13,
      "id": "f07ad52d",
      "metadata": {
        "id": "f07ad52d"
      },
      "outputs": [],
      "source": [
        "\n",
        "test = sorted_data[sorted_data['order_ts'].dt.month == 3]"
      ]
    },
    {
      "cell_type": "markdown",
      "id": "cca60c7d",
      "metadata": {
        "id": "cca60c7d"
      },
      "source": [
        "Из тестовой (валидационной) выборки будем брать **список покупок** определенного пользователя."
      ]
    },
    {
      "cell_type": "markdown",
      "id": "e0e4ad28",
      "metadata": {
        "id": "e0e4ad28"
      },
      "source": [
        "![image.png](attachment:image.png)"
      ]
    },
    {
      "cell_type": "markdown",
      "id": "06319914",
      "metadata": {
        "id": "06319914"
      },
      "source": [
        "### Обработка выбросов"
      ]
    },
    {
      "cell_type": "markdown",
      "id": "6dc44148",
      "metadata": {
        "id": "6dc44148"
      },
      "source": [
        "Обработка выбросов происходит по критерию Граббса с экспериментальными значениями процентов выбросов, по умолчанию значения установлены, их можно будет поменять. Для нашего датасета отчищение выбросов методами `KNN` и `IsolationForest` слишком долгие (около 3-ех минут для 1/5 части).\n",
        "\n",
        "Применяется функция `CleaningOutliners`, приведены значения, сделанные по выводам обработки выбросов на этапе L1:"
      ]
    },
    {
      "cell_type": "code",
      "execution_count": 14,
      "id": "7dtMn5vO4wex",
      "metadata": {
        "id": "7dtMn5vO4wex"
      },
      "outputs": [],
      "source": [
        "def outlinersGrubbs(data, column, percent):\n",
        "    df = data.copy()\n",
        "    df['g_score'] = np.abs(df[column] - df[column].mean()) / df[column].std()\n",
        "    df['p_value'] = 2 * norm.sf(abs(df['g_score']))\n",
        "    return df.sort_values(by='p_value', ascending=True).head(round(df.shape[0]*percent/100))\n",
        "\n",
        "def multiInd(x):\n",
        "    indexes = list(x.index)\n",
        "    first_col = []\n",
        "    second_col = []\n",
        "    for row in indexes:\n",
        "        first_col.append(row[1])\n",
        "        second_col.append(row[0])\n",
        "    return first_col, second_col\n",
        "\n",
        "# CleaningOutliners\n",
        "# input: data - датасет,\n",
        "#        p1 - процент выбросов для больших заказов,\n",
        "#        p2 - процент выбросов для количества заказов у пользователя,\n",
        "#        p3 - процент выбросов для заказов с одинаковыми товарами,\n",
        "#        p4 - процент выбросов для активных юзеров,\n",
        "#        p5 - процент выбросов для популярных товаров,\n",
        "# otput: df - отчищенный датасет\n",
        "\n",
        "def CleaningOutliners(data, p1=0.002, p2=0.01, p3=0.001, p4=0.02, p5=0.05):\n",
        "\n",
        "    df = data.copy()\n",
        "\n",
        "    orders = df.groupby(['order_ts', 'user_id']).count()\n",
        "    orders_out = outlinersGrubbs(orders, 'item_id', p1)\n",
        "    users_bg_orders, dates_bg_orders = multiInd(orders_out)\n",
        "    df = df[~(df['user_id'].isin(users_bg_orders) & df['order_ts'].isin(dates_bg_orders))]\n",
        "\n",
        "    cnt_orders = df.drop(['item_id'], axis=1).drop_duplicates().groupby(['user_id']).count()\n",
        "    cnt_orders_out = outlinersGrubbs(cnt_orders, 'order_ts', p2)\n",
        "    df = df[~(df['user_id'].isin(cnt_orders_out.index))]\n",
        "\n",
        "    duplicated_items = df[df.duplicated()].value_counts().sort_values(ascending=False)\n",
        "    duplicated_items = pd.DataFrame(duplicated_items, columns=['items_cnt'])\n",
        "    duplicated_items_out = outlinersGrubbs(duplicated_items, 'items_cnt', p3)\n",
        "    items_dup, users_dup = multiInd(duplicated_items_out)\n",
        "    df = df[~(df['user_id'].isin(users_dup) & df['item_id'].isin(items_dup))]\n",
        "\n",
        "    data_wo_date = df.drop(['order_ts'], axis = 1)\n",
        "    users_cnt_items = data_wo_date.groupby(['user_id']).count()\n",
        "    users_cnt_items_out = outlinersGrubbs(users_cnt_items, 'item_id', p4)\n",
        "    df = df[~(df['user_id'].isin(users_cnt_items_out.index))]\n",
        "\n",
        "    data_wo_date = df.drop(['order_ts'], axis = 1)\n",
        "    items_cnt_users = data_wo_date.groupby(['item_id']).count()\n",
        "    items_cnt_users_out = outlinersGrubbs(items_cnt_users, 'user_id', p5)\n",
        "    df = df[~(df['item_id'].isin(items_cnt_users_out.index) | df['item_id'].isin(\n",
        "        items_cnt_users[items_cnt_users['user_id'] == 1].index))]\n",
        "\n",
        "    return df\n"
      ]
    },
    {
      "cell_type": "code",
      "execution_count": 15,
      "id": "ac5e902e",
      "metadata": {
        "id": "ac5e902e"
      },
      "outputs": [],
      "source": [
        "train_ = train.copy()"
      ]
    },
    {
      "cell_type": "code",
      "execution_count": 16,
      "id": "3cdb72cf",
      "metadata": {
        "colab": {
          "base_uri": "https://localhost:8080/"
        },
        "id": "3cdb72cf",
        "outputId": "5d57b358-69aa-4d91-c273-6befbd41263b"
      },
      "outputs": [
        {
          "output_type": "execute_result",
          "data": {
            "text/plain": [
              "(13339315, 3)"
            ]
          },
          "metadata": {},
          "execution_count": 16
        }
      ],
      "source": [
        "train_.shape"
      ]
    },
    {
      "cell_type": "code",
      "execution_count": 17,
      "id": "8a4169e3",
      "metadata": {
        "id": "8a4169e3"
      },
      "outputs": [],
      "source": [
        "train_ = CleaningOutliners(train_)"
      ]
    },
    {
      "cell_type": "code",
      "execution_count": 18,
      "id": "f493b834",
      "metadata": {
        "colab": {
          "base_uri": "https://localhost:8080/"
        },
        "id": "f493b834",
        "outputId": "3bc4b4cc-f630-4e31-ed4c-9e86cf8bd974"
      },
      "outputs": [
        {
          "output_type": "execute_result",
          "data": {
            "text/plain": [
              "(12466369, 3)"
            ]
          },
          "metadata": {},
          "execution_count": 18
        }
      ],
      "source": [
        "train_.shape"
      ]
    },
    {
      "cell_type": "markdown",
      "id": "ca733067",
      "metadata": {
        "id": "ca733067"
      },
      "source": [
        "### Работа с признаками"
      ]
    },
    {
      "cell_type": "markdown",
      "id": "d51b0d04",
      "metadata": {
        "id": "d51b0d04"
      },
      "source": [
        "#### Формирование новых признаков"
      ]
    },
    {
      "cell_type": "markdown",
      "id": "47405278",
      "metadata": {
        "id": "47405278"
      },
      "source": [
        "Новые признаки, за счет большого количества эмбеддингов сформируем только по датам. Для этого применим метод кодирвования даты синусоидальной и косинусоидальной составляющих для учета времени покупки.\n",
        "\n",
        "А также добавим признак популярности айтема."
      ]
    },
    {
      "cell_type": "code",
      "execution_count": 19,
      "id": "62ec58f7",
      "metadata": {
        "id": "62ec58f7"
      },
      "outputs": [],
      "source": [
        "def FeaturesAdd(data):\n",
        "\n",
        "    df = data.copy()\n",
        "    df_grouped = df.groupby(by=['item_id']).count()\n",
        "    df_grouped.drop(['order_ts'], axis=1, inplace=True)\n",
        "    df_grouped.columns = ['count']\n",
        "    scaler = StandardScaler()\n",
        "    df_grouped['count'] = scaler.fit_transform(df_grouped)\n",
        "\n",
        "    df_time = pd.DataFrame(pd.to_datetime(df['order_ts']))\n",
        "    df_time['day'] = df_time['order_ts'].dt.day\n",
        "    df_time['month'] = df_time['order_ts'].dt.month\n",
        "    df_time['hour'] = df_time['order_ts'].dt.hour\n",
        "    df.drop(['order_ts'], axis=1, inplace=True)\n",
        "    df_time.drop(['order_ts'], axis=1, inplace=True)\n",
        "\n",
        "    cyclical = CyclicalFeatures(variables=None, drop_original=True)\n",
        "    df_time = cyclical.fit_transform(df_time)\n",
        "\n",
        "    df = df.join(df_grouped, on='item_id', how='left')\n",
        "\n",
        "    return pd.concat([df, df_time], axis=1)"
      ]
    },
    {
      "cell_type": "code",
      "execution_count": 20,
      "id": "1463fe91",
      "metadata": {
        "colab": {
          "base_uri": "https://localhost:8080/",
          "height": 206
        },
        "id": "1463fe91",
        "outputId": "43aa144f-0f04-4bfc-a570-356f25eaa4e4"
      },
      "outputs": [
        {
          "output_type": "execute_result",
          "data": {
            "text/plain": [
              "   user_id  item_id     count   day_sin  day_cos     month_sin  month_cos  \\\n",
              "0   698494     6868 -0.221754  0.201299  0.97953  1.224647e-16       -1.0   \n",
              "1   851330     5116 -0.195990  0.201299  0.97953  1.224647e-16       -1.0   \n",
              "2   737479      787  1.153015  0.201299  0.97953  1.224647e-16       -1.0   \n",
              "3   760693      252  0.278785  0.201299  0.97953  1.224647e-16       -1.0   \n",
              "4  1023317     5273 -0.050575  0.201299  0.97953  1.224647e-16       -1.0   \n",
              "\n",
              "   hour_sin  hour_cos  \n",
              "0       0.0       1.0  \n",
              "1       0.0       1.0  \n",
              "2       0.0       1.0  \n",
              "3       0.0       1.0  \n",
              "4       0.0       1.0  "
            ],
            "text/html": [
              "\n",
              "  <div id=\"df-eab9de1d-784a-453b-b3b7-93345b96b9ac\">\n",
              "    <div class=\"colab-df-container\">\n",
              "      <div>\n",
              "<style scoped>\n",
              "    .dataframe tbody tr th:only-of-type {\n",
              "        vertical-align: middle;\n",
              "    }\n",
              "\n",
              "    .dataframe tbody tr th {\n",
              "        vertical-align: top;\n",
              "    }\n",
              "\n",
              "    .dataframe thead th {\n",
              "        text-align: right;\n",
              "    }\n",
              "</style>\n",
              "<table border=\"1\" class=\"dataframe\">\n",
              "  <thead>\n",
              "    <tr style=\"text-align: right;\">\n",
              "      <th></th>\n",
              "      <th>user_id</th>\n",
              "      <th>item_id</th>\n",
              "      <th>count</th>\n",
              "      <th>day_sin</th>\n",
              "      <th>day_cos</th>\n",
              "      <th>month_sin</th>\n",
              "      <th>month_cos</th>\n",
              "      <th>hour_sin</th>\n",
              "      <th>hour_cos</th>\n",
              "    </tr>\n",
              "  </thead>\n",
              "  <tbody>\n",
              "    <tr>\n",
              "      <th>0</th>\n",
              "      <td>698494</td>\n",
              "      <td>6868</td>\n",
              "      <td>-0.221754</td>\n",
              "      <td>0.201299</td>\n",
              "      <td>0.97953</td>\n",
              "      <td>1.224647e-16</td>\n",
              "      <td>-1.0</td>\n",
              "      <td>0.0</td>\n",
              "      <td>1.0</td>\n",
              "    </tr>\n",
              "    <tr>\n",
              "      <th>1</th>\n",
              "      <td>851330</td>\n",
              "      <td>5116</td>\n",
              "      <td>-0.195990</td>\n",
              "      <td>0.201299</td>\n",
              "      <td>0.97953</td>\n",
              "      <td>1.224647e-16</td>\n",
              "      <td>-1.0</td>\n",
              "      <td>0.0</td>\n",
              "      <td>1.0</td>\n",
              "    </tr>\n",
              "    <tr>\n",
              "      <th>2</th>\n",
              "      <td>737479</td>\n",
              "      <td>787</td>\n",
              "      <td>1.153015</td>\n",
              "      <td>0.201299</td>\n",
              "      <td>0.97953</td>\n",
              "      <td>1.224647e-16</td>\n",
              "      <td>-1.0</td>\n",
              "      <td>0.0</td>\n",
              "      <td>1.0</td>\n",
              "    </tr>\n",
              "    <tr>\n",
              "      <th>3</th>\n",
              "      <td>760693</td>\n",
              "      <td>252</td>\n",
              "      <td>0.278785</td>\n",
              "      <td>0.201299</td>\n",
              "      <td>0.97953</td>\n",
              "      <td>1.224647e-16</td>\n",
              "      <td>-1.0</td>\n",
              "      <td>0.0</td>\n",
              "      <td>1.0</td>\n",
              "    </tr>\n",
              "    <tr>\n",
              "      <th>4</th>\n",
              "      <td>1023317</td>\n",
              "      <td>5273</td>\n",
              "      <td>-0.050575</td>\n",
              "      <td>0.201299</td>\n",
              "      <td>0.97953</td>\n",
              "      <td>1.224647e-16</td>\n",
              "      <td>-1.0</td>\n",
              "      <td>0.0</td>\n",
              "      <td>1.0</td>\n",
              "    </tr>\n",
              "  </tbody>\n",
              "</table>\n",
              "</div>\n",
              "      <button class=\"colab-df-convert\" onclick=\"convertToInteractive('df-eab9de1d-784a-453b-b3b7-93345b96b9ac')\"\n",
              "              title=\"Convert this dataframe to an interactive table.\"\n",
              "              style=\"display:none;\">\n",
              "        \n",
              "  <svg xmlns=\"http://www.w3.org/2000/svg\" height=\"24px\"viewBox=\"0 0 24 24\"\n",
              "       width=\"24px\">\n",
              "    <path d=\"M0 0h24v24H0V0z\" fill=\"none\"/>\n",
              "    <path d=\"M18.56 5.44l.94 2.06.94-2.06 2.06-.94-2.06-.94-.94-2.06-.94 2.06-2.06.94zm-11 1L8.5 8.5l.94-2.06 2.06-.94-2.06-.94L8.5 2.5l-.94 2.06-2.06.94zm10 10l.94 2.06.94-2.06 2.06-.94-2.06-.94-.94-2.06-.94 2.06-2.06.94z\"/><path d=\"M17.41 7.96l-1.37-1.37c-.4-.4-.92-.59-1.43-.59-.52 0-1.04.2-1.43.59L10.3 9.45l-7.72 7.72c-.78.78-.78 2.05 0 2.83L4 21.41c.39.39.9.59 1.41.59.51 0 1.02-.2 1.41-.59l7.78-7.78 2.81-2.81c.8-.78.8-2.07 0-2.86zM5.41 20L4 18.59l7.72-7.72 1.47 1.35L5.41 20z\"/>\n",
              "  </svg>\n",
              "      </button>\n",
              "      \n",
              "  <style>\n",
              "    .colab-df-container {\n",
              "      display:flex;\n",
              "      flex-wrap:wrap;\n",
              "      gap: 12px;\n",
              "    }\n",
              "\n",
              "    .colab-df-convert {\n",
              "      background-color: #E8F0FE;\n",
              "      border: none;\n",
              "      border-radius: 50%;\n",
              "      cursor: pointer;\n",
              "      display: none;\n",
              "      fill: #1967D2;\n",
              "      height: 32px;\n",
              "      padding: 0 0 0 0;\n",
              "      width: 32px;\n",
              "    }\n",
              "\n",
              "    .colab-df-convert:hover {\n",
              "      background-color: #E2EBFA;\n",
              "      box-shadow: 0px 1px 2px rgba(60, 64, 67, 0.3), 0px 1px 3px 1px rgba(60, 64, 67, 0.15);\n",
              "      fill: #174EA6;\n",
              "    }\n",
              "\n",
              "    [theme=dark] .colab-df-convert {\n",
              "      background-color: #3B4455;\n",
              "      fill: #D2E3FC;\n",
              "    }\n",
              "\n",
              "    [theme=dark] .colab-df-convert:hover {\n",
              "      background-color: #434B5C;\n",
              "      box-shadow: 0px 1px 3px 1px rgba(0, 0, 0, 0.15);\n",
              "      filter: drop-shadow(0px 1px 2px rgba(0, 0, 0, 0.3));\n",
              "      fill: #FFFFFF;\n",
              "    }\n",
              "  </style>\n",
              "\n",
              "      <script>\n",
              "        const buttonEl =\n",
              "          document.querySelector('#df-eab9de1d-784a-453b-b3b7-93345b96b9ac button.colab-df-convert');\n",
              "        buttonEl.style.display =\n",
              "          google.colab.kernel.accessAllowed ? 'block' : 'none';\n",
              "\n",
              "        async function convertToInteractive(key) {\n",
              "          const element = document.querySelector('#df-eab9de1d-784a-453b-b3b7-93345b96b9ac');\n",
              "          const dataTable =\n",
              "            await google.colab.kernel.invokeFunction('convertToInteractive',\n",
              "                                                     [key], {});\n",
              "          if (!dataTable) return;\n",
              "\n",
              "          const docLinkHtml = 'Like what you see? Visit the ' +\n",
              "            '<a target=\"_blank\" href=https://colab.research.google.com/notebooks/data_table.ipynb>data table notebook</a>'\n",
              "            + ' to learn more about interactive tables.';\n",
              "          element.innerHTML = '';\n",
              "          dataTable['output_type'] = 'display_data';\n",
              "          await google.colab.output.renderOutput(dataTable, element);\n",
              "          const docLink = document.createElement('div');\n",
              "          docLink.innerHTML = docLinkHtml;\n",
              "          element.appendChild(docLink);\n",
              "        }\n",
              "      </script>\n",
              "    </div>\n",
              "  </div>\n",
              "  "
            ]
          },
          "metadata": {},
          "execution_count": 20
        }
      ],
      "source": [
        "train_f = FeaturesAdd(train_)\n",
        "train_f.head()"
      ]
    },
    {
      "cell_type": "markdown",
      "id": "9c3724c7",
      "metadata": {
        "id": "9c3724c7"
      },
      "source": [
        "Получившиеся признаки:\n",
        "- `count` - масштабированная популярность товара\n",
        "- `day_sin`, `day_cos` - признаки дня\n",
        "- `month_sin`, `month_cos` - признаки месяца\n",
        "- `hour_sin`, `hour_cos` - признаки часа"
      ]
    },
    {
      "cell_type": "markdown",
      "id": "f1b687cb",
      "metadata": {
        "id": "f1b687cb"
      },
      "source": [
        "Источники:\n",
        "1. <a href='https://www.kaggle.com/code/jonaspalucibarbosa/removing-outliers-within-a-pipeline/notebook'> Пример пайплайна для обработки выбросов </a>\n",
        "2. <a href='https://translated.turbopages.org/proxy_u/en-ru.ru.b90e6737-64773576-92b1ac5f-74722d776562/https/stats.stackexchange.com/questions/311494/best-practice-for-encoding-datetime-in-machine-learning'> Хорошее кодирование даты </a>\n",
        "3. <a href='https://machinelearningmastery.ru/locality-sensitive-hashing-for-music-search-f2f1940ace23/'> Про LSH </a>\n"
      ]
    },
    {
      "cell_type": "markdown",
      "id": "af088e0f",
      "metadata": {
        "id": "af088e0f"
      },
      "source": [
        "### Извлечение кандидатов"
      ]
    },
    {
      "cell_type": "markdown",
      "id": "9c785246",
      "metadata": {
        "id": "9c785246"
      },
      "source": []
    },
    {
      "cell_type": "code",
      "execution_count": null,
      "id": "e70436c8",
      "metadata": {
        "id": "e70436c8"
      },
      "outputs": [],
      "source": []
    },
    {
      "cell_type": "code",
      "execution_count": null,
      "id": "a0e280f0",
      "metadata": {
        "id": "a0e280f0"
      },
      "outputs": [],
      "source": []
    },
    {
      "cell_type": "code",
      "execution_count": null,
      "id": "a1400225",
      "metadata": {
        "id": "a1400225"
      },
      "outputs": [],
      "source": []
    },
    {
      "cell_type": "code",
      "execution_count": null,
      "id": "56900609",
      "metadata": {
        "id": "56900609"
      },
      "outputs": [],
      "source": []
    },
    {
      "cell_type": "markdown",
      "id": "0ebc2b66",
      "metadata": {
        "id": "0ebc2b66"
      },
      "source": [
        "Извлечение кандидатов будем производить методом ближайших соседей из библиотеки `faiss`, оно будет происходить в функции `Recovery()`.\n",
        "\n",
        "Кандидатов извлекаем из каждого батча размера `n` - от размера батча зависит разреженность товаров, можно также регулировать время начала отбора кандидатов, начиная не с начала выборки."
      ]
    },
    {
      "cell_type": "markdown",
      "id": "23717018",
      "metadata": {
        "id": "23717018"
      },
      "source": [
        "Пользователи, которые есть и в тренироввочной, и в тестовой выборках:"
      ]
    },
    {
      "cell_type": "code",
      "execution_count": 21,
      "id": "8a14f6dd",
      "metadata": {
        "colab": {
          "base_uri": "https://localhost:8080/"
        },
        "id": "8a14f6dd",
        "outputId": "8f3908a5-921e-4f92-f0bb-4bcfb72ca99a"
      },
      "outputs": [
        {
          "output_type": "execute_result",
          "data": {
            "text/plain": [
              "715796"
            ]
          },
          "metadata": {},
          "execution_count": 21
        }
      ],
      "source": [
        "users_test = list(test['user_id'].unique())\n",
        "users_train = list(train_['user_id'].unique())\n",
        "users_tt = list(set(users_train) & set(users_test))\n",
        "len(set(users_train) & set(users_test))"
      ]
    },
    {
      "cell_type": "code",
      "execution_count": 22,
      "id": "OzKiw4bd0gyi",
      "metadata": {
        "id": "OzKiw4bd0gyi"
      },
      "outputs": [],
      "source": [
        "def map_at_k(precisions_at_k):\n",
        "    return precisions_at_k.mean()\n",
        "\n",
        "def precision_at_k(recommendations, purchases):\n",
        "    recommended_list = np.array(recommendations)\n",
        "    flags = np.isin(purchases, recommended_list)\n",
        "\n",
        "    return flags.sum()/len(recommendations)\n",
        "\n",
        "def recall_at_k(recommendations, purchases):\n",
        "    recommended_list = np.array(recommendations)\n",
        "    flags = np.isin(purchases, recommended_list)\n",
        "\n",
        "    return flags.sum()/len(purchases)"
      ]
    },
    {
      "cell_type": "code",
      "execution_count": null,
      "id": "2e579023",
      "metadata": {
        "id": "2e579023"
      },
      "outputs": [],
      "source": [
        "def Recovery(train, test, user_id, top, n, k, num_emb):\n",
        "    itter = round(train.shape[0]/n) # количество иттераций\n",
        "    distances = []\n",
        "    indexes = []\n",
        "\n",
        "    user_data = train[train['user_id'] == user_id].reset_index(drop=True)\n",
        "    user_vectors = np.array(user_data).astype('float32')\n",
        "    user_vectors_с = user_vectors.copy(order='C')\n",
        "\n",
        "    for i in range(0, itter+1):\n",
        "        index = faiss.IndexFlatL2(num_emb)\n",
        "\n",
        "        train_batch = train[i*n:(i+1)*n]\n",
        "        train_faiss = np.array(train_batch).astype('float32')\n",
        "        train_faiss_с = train_faiss.copy(order='C') # перевод массива в форму, пригодную для faiss\n",
        "        index.add(train_faiss_с)\n",
        "\n",
        "        D, I = index.search(user_vectors_с, k)\n",
        "\n",
        "        distances.extend(D.flatten())\n",
        "        indexes.extend(I.flatten())\n",
        "\n",
        "    indexes_in = [i for i in indexes if i < train.shape[0] and i >= 0]\n",
        "    result = train.iloc[list(set(indexes_in))]\n",
        "    retrivial_result = result[~result['item_id'].isin(list(user_data['item_id']))]\n",
        "    recommendations_items = list(retrivial_result['item_id'].unique())\n",
        "\n",
        "#     user_boughts = train[train['user_id'] == user_id].reset_index(drop=True)\n",
        "#     user_neg_boughts = train[train['user_id'] != user_id].sample(n=round(user_boughts.shape[0]*1.8)).reset_index(drop=True)\n",
        "#     user_boughts.loc[:, 'purchaise'] = [1] * len(user_boughts)\n",
        "#     user_neg_boughts.loc[:, 'purchaise'] = [0] * len(user_neg_boughts)\n",
        "\n",
        "#     # фильтрация\n",
        "#     retrivial_result = retrivial_result[~retrivial_result['item_id'].isin(top)]\n",
        "\n",
        "#     # ранжирование\n",
        "#     train_rank = pd.concat([user_boughts, user_neg_boughts], ignore_index=True)\n",
        "    return recommendations_items"
      ]
    },
    {
      "cell_type": "markdown",
      "id": "a4136469",
      "metadata": {
        "id": "a4136469"
      },
      "source": [
        "### Тестирование"
      ]
    },
    {
      "cell_type": "code",
      "execution_count": 23,
      "id": "f43e8490",
      "metadata": {
        "id": "f43e8490"
      },
      "outputs": [],
      "source": [
        "top_items = list(train_.groupby(['item_id']).count().sort_values(by=['user_id'], ascending=False).head(5).index)"
      ]
    },
    {
      "cell_type": "code",
      "execution_count": null,
      "id": "ede742ad",
      "metadata": {
        "id": "ede742ad"
      },
      "outputs": [],
      "source": [
        "n = 2_000_000\n",
        "k_recovery = 1000\n",
        "num_emb = 9"
      ]
    },
    {
      "cell_type": "code",
      "execution_count": 25,
      "id": "1e819e22",
      "metadata": {
        "id": "1e819e22"
      },
      "outputs": [],
      "source": [
        "users = random.sample(users_tt, 5000)"
      ]
    },
    {
      "cell_type": "code",
      "execution_count": 24,
      "id": "a1ea77d0",
      "metadata": {
        "id": "a1ea77d0",
        "colab": {
          "base_uri": "https://localhost:8080/",
          "height": 170
        },
        "outputId": "3fe2af2d-6152-4350-bb9d-6ad489f7fecf"
      },
      "outputs": [
        {
          "output_type": "error",
          "ename": "NameError",
          "evalue": "ignored",
          "traceback": [
            "\u001b[0;31m---------------------------------------------------------------------------\u001b[0m",
            "\u001b[0;31mNameError\u001b[0m                                 Traceback (most recent call last)",
            "\u001b[0;32m<ipython-input-24-d4ab3338335d>\u001b[0m in \u001b[0;36m<cell line: 1>\u001b[0;34m()\u001b[0m\n\u001b[0;32m----> 1\u001b[0;31m \u001b[0musers\u001b[0m \u001b[0;34m=\u001b[0m \u001b[0musers\u001b[0m\u001b[0;34m[\u001b[0m\u001b[0;34m:\u001b[0m\u001b[0;36m5000\u001b[0m\u001b[0;34m]\u001b[0m\u001b[0;34m\u001b[0m\u001b[0;34m\u001b[0m\u001b[0m\n\u001b[0m",
            "\u001b[0;31mNameError\u001b[0m: name 'users' is not defined"
          ]
        }
      ],
      "source": [
        "users = users[:5000]"
      ]
    },
    {
      "cell_type": "code",
      "execution_count": null,
      "id": "f21d1bf9",
      "metadata": {
        "colab": {
          "referenced_widgets": [
            "966b86ce21af499da1a1dc4f3901cf23"
          ]
        },
        "id": "f21d1bf9",
        "outputId": "fec6310c-fd42-4b30-c896-0e45ffc234e4"
      },
      "outputs": [
        {
          "data": {
            "application/vnd.jupyter.widget-view+json": {
              "model_id": "966b86ce21af499da1a1dc4f3901cf23",
              "version_major": 2,
              "version_minor": 0
            },
            "text/plain": [
              "  0%|          | 0/5000 [00:00<?, ?it/s]"
            ]
          },
          "metadata": {},
          "output_type": "display_data"
        },
        {
          "name": "stdout",
          "output_type": "stream",
          "text": [
            "0.043037754478662586\n",
            "0.043037754478662586\n"
          ]
        }
      ],
      "source": [
        "recalls = []\n",
        "precisions = []\n",
        "rec = []\n",
        "for user_id in notebook.tqdm(users):\n",
        "    recommendations_items = Recovery(train_f, test, user_id, top_items, n, k_recovery, num_emb)\n",
        "\n",
        "    bought_test = list(test[test['user_id'] == user_id]['item_id'].unique())\n",
        "\n",
        "    recalls.append(recall_at_k(recommendations_items[:20], bought_test))\n",
        "    precisions.append(precision_at_k(recommendations_items[:20], bought_test))\n",
        "    rec.append(recommendations_items[:20])\n",
        "print(np.mean(recalls))\n",
        "print(np.mean(recalls))"
      ]
    },
    {
      "cell_type": "code",
      "execution_count": null,
      "id": "a8e690e9",
      "metadata": {
        "id": "a8e690e9",
        "outputId": "9ab2aaa0-c97d-4ec0-f4b4-ed29897d3a3e"
      },
      "outputs": [
        {
          "data": {
            "text/plain": [
              "0.043037754478662586"
            ]
          },
          "execution_count": 39,
          "metadata": {},
          "output_type": "execute_result"
        }
      ],
      "source": [
        "np.mean(recalls)"
      ]
    },
    {
      "cell_type": "code",
      "execution_count": null,
      "id": "69a5abf4",
      "metadata": {
        "id": "69a5abf4",
        "outputId": "4dd316ac-139e-4161-f672-0fd4edfb4fe8"
      },
      "outputs": [
        {
          "data": {
            "text/plain": [
              "0.014660000000000003"
            ]
          },
          "execution_count": 40,
          "metadata": {},
          "output_type": "execute_result"
        }
      ],
      "source": [
        "np.mean(precisions)"
      ]
    },
    {
      "cell_type": "code",
      "execution_count": null,
      "id": "a14d9488",
      "metadata": {
        "id": "a14d9488",
        "outputId": "718ec252-6432-4fff-8d74-63d8b0bf5e89"
      },
      "outputs": [
        {
          "name": "stdout",
          "output_type": "stream",
          "text": [
            "33.37658125202725\n"
          ]
        }
      ],
      "source": [
        "coverage = (len(set(np.array(rec).flatten()))/len(list(set(train_f['item_id'].unique()))))*100\n",
        "print(coverage)"
      ]
    },
    {
      "cell_type": "code",
      "execution_count": null,
      "id": "7092ff9a",
      "metadata": {
        "id": "7092ff9a",
        "outputId": "eb75e9a7-3120-43cc-e04a-b8b696949577"
      },
      "outputs": [
        {
          "data": {
            "text/plain": [
              "100000"
            ]
          },
          "execution_count": 51,
          "metadata": {},
          "output_type": "execute_result"
        }
      ],
      "source": [
        "len(np.array(rec).flatten())"
      ]
    },
    {
      "cell_type": "markdown",
      "source": [
        "Извлечение ScaNN"
      ],
      "metadata": {
        "id": "5_I2DzZHsx1e"
      },
      "id": "5_I2DzZHsx1e"
    },
    {
      "cell_type": "code",
      "source": [
        "for user_id in notebook.tqdm(users):"
      ],
      "metadata": {
        "id": "xvCmyv8cyERm"
      },
      "id": "xvCmyv8cyERm",
      "execution_count": null,
      "outputs": []
    },
    {
      "cell_type": "code",
      "source": [],
      "metadata": {
        "id": "lVYNX1T1J-eQ"
      },
      "id": "lVYNX1T1J-eQ",
      "execution_count": null,
      "outputs": []
    },
    {
      "cell_type": "code",
      "source": [
        "user_id = users[0]"
      ],
      "metadata": {
        "id": "WHMLzq8KyHze"
      },
      "id": "WHMLzq8KyHze",
      "execution_count": null,
      "outputs": []
    },
    {
      "cell_type": "code",
      "source": [
        "scann_data = train_f.reset_index(drop=True)\n",
        "scann_vectors = np.array(scann_data).astype('float32')\n",
        "\n",
        "# user_data = train_f[train_f['user_id'] == user_id].reset_index(drop=True)\n",
        "# user_vectors = np.array(user_data).astype('float32')"
      ],
      "metadata": {
        "id": "2te3sWoosxdX"
      },
      "id": "2te3sWoosxdX",
      "execution_count": 25,
      "outputs": []
    },
    {
      "cell_type": "code",
      "source": [
        "train_f.reset_index(drop=True, inplace=True)"
      ],
      "metadata": {
        "id": "GhcveawEIwYi"
      },
      "id": "GhcveawEIwYi",
      "execution_count": 26,
      "outputs": []
    },
    {
      "cell_type": "code",
      "source": [
        "test"
      ],
      "metadata": {
        "colab": {
          "base_uri": "https://localhost:8080/",
          "height": 423
        },
        "id": "yfYG980yKo2h",
        "outputId": "2beb0e85-1c8a-4b19-8a7f-4ad97bd7e605"
      },
      "id": "yfYG980yKo2h",
      "execution_count": 27,
      "outputs": [
        {
          "output_type": "execute_result",
          "data": {
            "text/plain": [
              "          user_id  item_id                   order_ts\n",
              "13339315   801677       11 2023-03-01 00:00:00.677003\n",
              "13339316   892807      213 2023-03-01 00:00:02.601518\n",
              "13339317  1043641     1775 2023-03-01 00:00:02.687904\n",
              "13339318   825271       84 2023-03-01 00:00:02.729571\n",
              "13339319   825271       84 2023-03-01 00:00:02.729571\n",
              "...           ...      ...                        ...\n",
              "21265779   860945     1904 2023-03-31 23:59:59.409847\n",
              "21265780   656085      214 2023-03-31 23:59:59.475521\n",
              "21265781   378542      782 2023-03-31 23:59:59.728595\n",
              "21265782   738404     2135 2023-03-31 23:59:59.862241\n",
              "21265783   535766      106 2023-03-31 23:59:59.947831\n",
              "\n",
              "[7926469 rows x 3 columns]"
            ],
            "text/html": [
              "\n",
              "  <div id=\"df-0921f1f0-447e-470c-a56c-ce9608f33e64\">\n",
              "    <div class=\"colab-df-container\">\n",
              "      <div>\n",
              "<style scoped>\n",
              "    .dataframe tbody tr th:only-of-type {\n",
              "        vertical-align: middle;\n",
              "    }\n",
              "\n",
              "    .dataframe tbody tr th {\n",
              "        vertical-align: top;\n",
              "    }\n",
              "\n",
              "    .dataframe thead th {\n",
              "        text-align: right;\n",
              "    }\n",
              "</style>\n",
              "<table border=\"1\" class=\"dataframe\">\n",
              "  <thead>\n",
              "    <tr style=\"text-align: right;\">\n",
              "      <th></th>\n",
              "      <th>user_id</th>\n",
              "      <th>item_id</th>\n",
              "      <th>order_ts</th>\n",
              "    </tr>\n",
              "  </thead>\n",
              "  <tbody>\n",
              "    <tr>\n",
              "      <th>13339315</th>\n",
              "      <td>801677</td>\n",
              "      <td>11</td>\n",
              "      <td>2023-03-01 00:00:00.677003</td>\n",
              "    </tr>\n",
              "    <tr>\n",
              "      <th>13339316</th>\n",
              "      <td>892807</td>\n",
              "      <td>213</td>\n",
              "      <td>2023-03-01 00:00:02.601518</td>\n",
              "    </tr>\n",
              "    <tr>\n",
              "      <th>13339317</th>\n",
              "      <td>1043641</td>\n",
              "      <td>1775</td>\n",
              "      <td>2023-03-01 00:00:02.687904</td>\n",
              "    </tr>\n",
              "    <tr>\n",
              "      <th>13339318</th>\n",
              "      <td>825271</td>\n",
              "      <td>84</td>\n",
              "      <td>2023-03-01 00:00:02.729571</td>\n",
              "    </tr>\n",
              "    <tr>\n",
              "      <th>13339319</th>\n",
              "      <td>825271</td>\n",
              "      <td>84</td>\n",
              "      <td>2023-03-01 00:00:02.729571</td>\n",
              "    </tr>\n",
              "    <tr>\n",
              "      <th>...</th>\n",
              "      <td>...</td>\n",
              "      <td>...</td>\n",
              "      <td>...</td>\n",
              "    </tr>\n",
              "    <tr>\n",
              "      <th>21265779</th>\n",
              "      <td>860945</td>\n",
              "      <td>1904</td>\n",
              "      <td>2023-03-31 23:59:59.409847</td>\n",
              "    </tr>\n",
              "    <tr>\n",
              "      <th>21265780</th>\n",
              "      <td>656085</td>\n",
              "      <td>214</td>\n",
              "      <td>2023-03-31 23:59:59.475521</td>\n",
              "    </tr>\n",
              "    <tr>\n",
              "      <th>21265781</th>\n",
              "      <td>378542</td>\n",
              "      <td>782</td>\n",
              "      <td>2023-03-31 23:59:59.728595</td>\n",
              "    </tr>\n",
              "    <tr>\n",
              "      <th>21265782</th>\n",
              "      <td>738404</td>\n",
              "      <td>2135</td>\n",
              "      <td>2023-03-31 23:59:59.862241</td>\n",
              "    </tr>\n",
              "    <tr>\n",
              "      <th>21265783</th>\n",
              "      <td>535766</td>\n",
              "      <td>106</td>\n",
              "      <td>2023-03-31 23:59:59.947831</td>\n",
              "    </tr>\n",
              "  </tbody>\n",
              "</table>\n",
              "<p>7926469 rows × 3 columns</p>\n",
              "</div>\n",
              "      <button class=\"colab-df-convert\" onclick=\"convertToInteractive('df-0921f1f0-447e-470c-a56c-ce9608f33e64')\"\n",
              "              title=\"Convert this dataframe to an interactive table.\"\n",
              "              style=\"display:none;\">\n",
              "        \n",
              "  <svg xmlns=\"http://www.w3.org/2000/svg\" height=\"24px\"viewBox=\"0 0 24 24\"\n",
              "       width=\"24px\">\n",
              "    <path d=\"M0 0h24v24H0V0z\" fill=\"none\"/>\n",
              "    <path d=\"M18.56 5.44l.94 2.06.94-2.06 2.06-.94-2.06-.94-.94-2.06-.94 2.06-2.06.94zm-11 1L8.5 8.5l.94-2.06 2.06-.94-2.06-.94L8.5 2.5l-.94 2.06-2.06.94zm10 10l.94 2.06.94-2.06 2.06-.94-2.06-.94-.94-2.06-.94 2.06-2.06.94z\"/><path d=\"M17.41 7.96l-1.37-1.37c-.4-.4-.92-.59-1.43-.59-.52 0-1.04.2-1.43.59L10.3 9.45l-7.72 7.72c-.78.78-.78 2.05 0 2.83L4 21.41c.39.39.9.59 1.41.59.51 0 1.02-.2 1.41-.59l7.78-7.78 2.81-2.81c.8-.78.8-2.07 0-2.86zM5.41 20L4 18.59l7.72-7.72 1.47 1.35L5.41 20z\"/>\n",
              "  </svg>\n",
              "      </button>\n",
              "      \n",
              "  <style>\n",
              "    .colab-df-container {\n",
              "      display:flex;\n",
              "      flex-wrap:wrap;\n",
              "      gap: 12px;\n",
              "    }\n",
              "\n",
              "    .colab-df-convert {\n",
              "      background-color: #E8F0FE;\n",
              "      border: none;\n",
              "      border-radius: 50%;\n",
              "      cursor: pointer;\n",
              "      display: none;\n",
              "      fill: #1967D2;\n",
              "      height: 32px;\n",
              "      padding: 0 0 0 0;\n",
              "      width: 32px;\n",
              "    }\n",
              "\n",
              "    .colab-df-convert:hover {\n",
              "      background-color: #E2EBFA;\n",
              "      box-shadow: 0px 1px 2px rgba(60, 64, 67, 0.3), 0px 1px 3px 1px rgba(60, 64, 67, 0.15);\n",
              "      fill: #174EA6;\n",
              "    }\n",
              "\n",
              "    [theme=dark] .colab-df-convert {\n",
              "      background-color: #3B4455;\n",
              "      fill: #D2E3FC;\n",
              "    }\n",
              "\n",
              "    [theme=dark] .colab-df-convert:hover {\n",
              "      background-color: #434B5C;\n",
              "      box-shadow: 0px 1px 3px 1px rgba(0, 0, 0, 0.15);\n",
              "      filter: drop-shadow(0px 1px 2px rgba(0, 0, 0, 0.3));\n",
              "      fill: #FFFFFF;\n",
              "    }\n",
              "  </style>\n",
              "\n",
              "      <script>\n",
              "        const buttonEl =\n",
              "          document.querySelector('#df-0921f1f0-447e-470c-a56c-ce9608f33e64 button.colab-df-convert');\n",
              "        buttonEl.style.display =\n",
              "          google.colab.kernel.accessAllowed ? 'block' : 'none';\n",
              "\n",
              "        async function convertToInteractive(key) {\n",
              "          const element = document.querySelector('#df-0921f1f0-447e-470c-a56c-ce9608f33e64');\n",
              "          const dataTable =\n",
              "            await google.colab.kernel.invokeFunction('convertToInteractive',\n",
              "                                                     [key], {});\n",
              "          if (!dataTable) return;\n",
              "\n",
              "          const docLinkHtml = 'Like what you see? Visit the ' +\n",
              "            '<a target=\"_blank\" href=https://colab.research.google.com/notebooks/data_table.ipynb>data table notebook</a>'\n",
              "            + ' to learn more about interactive tables.';\n",
              "          element.innerHTML = '';\n",
              "          dataTable['output_type'] = 'display_data';\n",
              "          await google.colab.output.renderOutput(dataTable, element);\n",
              "          const docLink = document.createElement('div');\n",
              "          docLink.innerHTML = docLinkHtml;\n",
              "          element.appendChild(docLink);\n",
              "        }\n",
              "      </script>\n",
              "    </div>\n",
              "  </div>\n",
              "  "
            ]
          },
          "metadata": {},
          "execution_count": 27
        }
      ]
    },
    {
      "cell_type": "code",
      "source": [
        "test_purch = test.drop(['order_ts'], axis=1).groupby('user_id')['item_id'].agg(list)"
      ],
      "metadata": {
        "id": "sJguGqwfKI93"
      },
      "id": "sJguGqwfKI93",
      "execution_count": 31,
      "outputs": []
    },
    {
      "cell_type": "code",
      "source": [
        "test_purch"
      ],
      "metadata": {
        "colab": {
          "base_uri": "https://localhost:8080/"
        },
        "id": "BP8NC6C2LKol",
        "outputId": "405a0a17-2ab7-44aa-8001-a9ba96c386cc"
      },
      "id": "BP8NC6C2LKol",
      "execution_count": 32,
      "outputs": [
        {
          "output_type": "execute_result",
          "data": {
            "text/plain": [
              "user_id\n",
              "3          [93, 98, 3168, 38, 93, 783, 185, 217, 93, 318,...\n",
              "4          [2099, 435, 959, 357, 150, 150, 362, 213, 213,...\n",
              "5          [1248, 133, 69, 69, 69, 347, 347, 351, 348, 35...\n",
              "6                                                     [2390]\n",
              "7                                           [390, 1274, 104]\n",
              "                                 ...                        \n",
              "1057261    [2457, 283, 348, 1444, 218, 881, 107, 98, 374,...\n",
              "1057262                                          [1133, 721]\n",
              "1057263    [349, 2135, 90, 4088, 4088, 390, 1612, 2326, 3...\n",
              "1057264                                [163, 361, 363, 5408]\n",
              "1057265                   [268, 1583, 609, 69, 69, 69, 2457]\n",
              "Name: item_id, Length: 836259, dtype: object"
            ]
          },
          "metadata": {},
          "execution_count": 32
        }
      ]
    },
    {
      "cell_type": "code",
      "source": [
        "train_f.head()"
      ],
      "metadata": {
        "colab": {
          "base_uri": "https://localhost:8080/",
          "height": 206
        },
        "id": "IHy_dxQYMPQ1",
        "outputId": "a3b0928a-d5bd-4cf3-c194-c505402475f7"
      },
      "id": "IHy_dxQYMPQ1",
      "execution_count": 34,
      "outputs": [
        {
          "output_type": "execute_result",
          "data": {
            "text/plain": [
              "   user_id  item_id     count   day_sin  day_cos     month_sin  month_cos  \\\n",
              "0   698494     6868 -0.221754  0.201299  0.97953  1.224647e-16       -1.0   \n",
              "1   851330     5116 -0.195990  0.201299  0.97953  1.224647e-16       -1.0   \n",
              "2   737479      787  1.153015  0.201299  0.97953  1.224647e-16       -1.0   \n",
              "3   760693      252  0.278785  0.201299  0.97953  1.224647e-16       -1.0   \n",
              "4  1023317     5273 -0.050575  0.201299  0.97953  1.224647e-16       -1.0   \n",
              "\n",
              "   hour_sin  hour_cos  \n",
              "0       0.0       1.0  \n",
              "1       0.0       1.0  \n",
              "2       0.0       1.0  \n",
              "3       0.0       1.0  \n",
              "4       0.0       1.0  "
            ],
            "text/html": [
              "\n",
              "  <div id=\"df-e8114eca-813e-4248-a7fa-e02ae01b43ee\">\n",
              "    <div class=\"colab-df-container\">\n",
              "      <div>\n",
              "<style scoped>\n",
              "    .dataframe tbody tr th:only-of-type {\n",
              "        vertical-align: middle;\n",
              "    }\n",
              "\n",
              "    .dataframe tbody tr th {\n",
              "        vertical-align: top;\n",
              "    }\n",
              "\n",
              "    .dataframe thead th {\n",
              "        text-align: right;\n",
              "    }\n",
              "</style>\n",
              "<table border=\"1\" class=\"dataframe\">\n",
              "  <thead>\n",
              "    <tr style=\"text-align: right;\">\n",
              "      <th></th>\n",
              "      <th>user_id</th>\n",
              "      <th>item_id</th>\n",
              "      <th>count</th>\n",
              "      <th>day_sin</th>\n",
              "      <th>day_cos</th>\n",
              "      <th>month_sin</th>\n",
              "      <th>month_cos</th>\n",
              "      <th>hour_sin</th>\n",
              "      <th>hour_cos</th>\n",
              "    </tr>\n",
              "  </thead>\n",
              "  <tbody>\n",
              "    <tr>\n",
              "      <th>0</th>\n",
              "      <td>698494</td>\n",
              "      <td>6868</td>\n",
              "      <td>-0.221754</td>\n",
              "      <td>0.201299</td>\n",
              "      <td>0.97953</td>\n",
              "      <td>1.224647e-16</td>\n",
              "      <td>-1.0</td>\n",
              "      <td>0.0</td>\n",
              "      <td>1.0</td>\n",
              "    </tr>\n",
              "    <tr>\n",
              "      <th>1</th>\n",
              "      <td>851330</td>\n",
              "      <td>5116</td>\n",
              "      <td>-0.195990</td>\n",
              "      <td>0.201299</td>\n",
              "      <td>0.97953</td>\n",
              "      <td>1.224647e-16</td>\n",
              "      <td>-1.0</td>\n",
              "      <td>0.0</td>\n",
              "      <td>1.0</td>\n",
              "    </tr>\n",
              "    <tr>\n",
              "      <th>2</th>\n",
              "      <td>737479</td>\n",
              "      <td>787</td>\n",
              "      <td>1.153015</td>\n",
              "      <td>0.201299</td>\n",
              "      <td>0.97953</td>\n",
              "      <td>1.224647e-16</td>\n",
              "      <td>-1.0</td>\n",
              "      <td>0.0</td>\n",
              "      <td>1.0</td>\n",
              "    </tr>\n",
              "    <tr>\n",
              "      <th>3</th>\n",
              "      <td>760693</td>\n",
              "      <td>252</td>\n",
              "      <td>0.278785</td>\n",
              "      <td>0.201299</td>\n",
              "      <td>0.97953</td>\n",
              "      <td>1.224647e-16</td>\n",
              "      <td>-1.0</td>\n",
              "      <td>0.0</td>\n",
              "      <td>1.0</td>\n",
              "    </tr>\n",
              "    <tr>\n",
              "      <th>4</th>\n",
              "      <td>1023317</td>\n",
              "      <td>5273</td>\n",
              "      <td>-0.050575</td>\n",
              "      <td>0.201299</td>\n",
              "      <td>0.97953</td>\n",
              "      <td>1.224647e-16</td>\n",
              "      <td>-1.0</td>\n",
              "      <td>0.0</td>\n",
              "      <td>1.0</td>\n",
              "    </tr>\n",
              "  </tbody>\n",
              "</table>\n",
              "</div>\n",
              "      <button class=\"colab-df-convert\" onclick=\"convertToInteractive('df-e8114eca-813e-4248-a7fa-e02ae01b43ee')\"\n",
              "              title=\"Convert this dataframe to an interactive table.\"\n",
              "              style=\"display:none;\">\n",
              "        \n",
              "  <svg xmlns=\"http://www.w3.org/2000/svg\" height=\"24px\"viewBox=\"0 0 24 24\"\n",
              "       width=\"24px\">\n",
              "    <path d=\"M0 0h24v24H0V0z\" fill=\"none\"/>\n",
              "    <path d=\"M18.56 5.44l.94 2.06.94-2.06 2.06-.94-2.06-.94-.94-2.06-.94 2.06-2.06.94zm-11 1L8.5 8.5l.94-2.06 2.06-.94-2.06-.94L8.5 2.5l-.94 2.06-2.06.94zm10 10l.94 2.06.94-2.06 2.06-.94-2.06-.94-.94-2.06-.94 2.06-2.06.94z\"/><path d=\"M17.41 7.96l-1.37-1.37c-.4-.4-.92-.59-1.43-.59-.52 0-1.04.2-1.43.59L10.3 9.45l-7.72 7.72c-.78.78-.78 2.05 0 2.83L4 21.41c.39.39.9.59 1.41.59.51 0 1.02-.2 1.41-.59l7.78-7.78 2.81-2.81c.8-.78.8-2.07 0-2.86zM5.41 20L4 18.59l7.72-7.72 1.47 1.35L5.41 20z\"/>\n",
              "  </svg>\n",
              "      </button>\n",
              "      \n",
              "  <style>\n",
              "    .colab-df-container {\n",
              "      display:flex;\n",
              "      flex-wrap:wrap;\n",
              "      gap: 12px;\n",
              "    }\n",
              "\n",
              "    .colab-df-convert {\n",
              "      background-color: #E8F0FE;\n",
              "      border: none;\n",
              "      border-radius: 50%;\n",
              "      cursor: pointer;\n",
              "      display: none;\n",
              "      fill: #1967D2;\n",
              "      height: 32px;\n",
              "      padding: 0 0 0 0;\n",
              "      width: 32px;\n",
              "    }\n",
              "\n",
              "    .colab-df-convert:hover {\n",
              "      background-color: #E2EBFA;\n",
              "      box-shadow: 0px 1px 2px rgba(60, 64, 67, 0.3), 0px 1px 3px 1px rgba(60, 64, 67, 0.15);\n",
              "      fill: #174EA6;\n",
              "    }\n",
              "\n",
              "    [theme=dark] .colab-df-convert {\n",
              "      background-color: #3B4455;\n",
              "      fill: #D2E3FC;\n",
              "    }\n",
              "\n",
              "    [theme=dark] .colab-df-convert:hover {\n",
              "      background-color: #434B5C;\n",
              "      box-shadow: 0px 1px 3px 1px rgba(0, 0, 0, 0.15);\n",
              "      filter: drop-shadow(0px 1px 2px rgba(0, 0, 0, 0.3));\n",
              "      fill: #FFFFFF;\n",
              "    }\n",
              "  </style>\n",
              "\n",
              "      <script>\n",
              "        const buttonEl =\n",
              "          document.querySelector('#df-e8114eca-813e-4248-a7fa-e02ae01b43ee button.colab-df-convert');\n",
              "        buttonEl.style.display =\n",
              "          google.colab.kernel.accessAllowed ? 'block' : 'none';\n",
              "\n",
              "        async function convertToInteractive(key) {\n",
              "          const element = document.querySelector('#df-e8114eca-813e-4248-a7fa-e02ae01b43ee');\n",
              "          const dataTable =\n",
              "            await google.colab.kernel.invokeFunction('convertToInteractive',\n",
              "                                                     [key], {});\n",
              "          if (!dataTable) return;\n",
              "\n",
              "          const docLinkHtml = 'Like what you see? Visit the ' +\n",
              "            '<a target=\"_blank\" href=https://colab.research.google.com/notebooks/data_table.ipynb>data table notebook</a>'\n",
              "            + ' to learn more about interactive tables.';\n",
              "          element.innerHTML = '';\n",
              "          dataTable['output_type'] = 'display_data';\n",
              "          await google.colab.output.renderOutput(dataTable, element);\n",
              "          const docLink = document.createElement('div');\n",
              "          docLink.innerHTML = docLinkHtml;\n",
              "          element.appendChild(docLink);\n",
              "        }\n",
              "      </script>\n",
              "    </div>\n",
              "  </div>\n",
              "  "
            ]
          },
          "metadata": {},
          "execution_count": 34
        }
      ]
    },
    {
      "cell_type": "code",
      "source": [
        "grouped_df = train_f.groupby('user_id').apply(lambda x: x[['item_id', 'count',\t'day_sin',\t'day_cos',\t'month_sin',\t'month_cos',\t'hour_sin',\t'hour_cos']].values.tolist())\n",
        "result_train = pd.DataFrame(grouped_df.tolist(), index=grouped_df.index, columns=['item_id', 'count',\t'day_sin',\t'day_cos',\t'month_sin',\t'month_cos',\t'hour_sin',\t'hour_cos'])"
      ],
      "metadata": {
        "id": "jhq3EU2OLL9l"
      },
      "id": "jhq3EU2OLL9l",
      "execution_count": null,
      "outputs": []
    },
    {
      "cell_type": "code",
      "source": [],
      "metadata": {
        "id": "qV85MHTqNb1n"
      },
      "id": "qV85MHTqNb1n",
      "execution_count": null,
      "outputs": []
    },
    {
      "cell_type": "code",
      "source": [
        "scann_ops = scann.scann_ops_pybind.builder(\n",
        "    scann_vectors, 10, \"dot_product\").tree(num_leaves=2000, num_leaves_to_search=100, training_sample_size=25000).score_ah(\n",
        "        2, anisotropic_quantization_threshold=0.2).reorder(100).build()"
      ],
      "metadata": {
        "id": "_Pkiq8NbsuyO"
      },
      "id": "_Pkiq8NbsuyO",
      "execution_count": 26,
      "outputs": []
    },
    {
      "cell_type": "code",
      "source": [
        "user_vectors"
      ],
      "metadata": {
        "colab": {
          "base_uri": "https://localhost:8080/"
        },
        "id": "5cEJagyYTt2R",
        "outputId": "1da8e0ba-43f0-419b-fc57-c1d2ed0e5035"
      },
      "id": "5cEJagyYTt2R",
      "execution_count": null,
      "outputs": [
        {
          "output_type": "execute_result",
          "data": {
            "text/plain": [
              "array([[ 8.4606100e+05,  8.2300000e+02,  5.3642333e-01,  3.9435586e-01,\n",
              "         9.1895783e-01,  1.2246469e-16, -1.0000000e+00, -9.4226092e-01,\n",
              "        -3.3487961e-01],\n",
              "       [ 8.4606100e+05,  2.4570000e+03,  2.2226655e-01,  3.9435586e-01,\n",
              "         9.1895783e-01,  1.2246469e-16, -1.0000000e+00, -9.4226092e-01,\n",
              "        -3.3487961e-01],\n",
              "       [ 8.4606100e+05,  2.3020000e+03,  1.0749115e+00,  3.9435586e-01,\n",
              "         9.1895783e-01,  1.2246469e-16, -1.0000000e+00, -9.4226092e-01,\n",
              "        -3.3487961e-01],\n",
              "       [ 8.4606100e+05,  2.4660000e+03,  4.4149157e-01,  3.9435586e-01,\n",
              "         9.1895783e-01,  1.2246469e-16, -1.0000000e+00, -9.4226092e-01,\n",
              "        -3.3487961e-01],\n",
              "       [ 8.4606100e+05,  8.1300000e+02,  1.9516956e+00,  3.9435586e-01,\n",
              "         9.1895783e-01,  1.2246469e-16, -1.0000000e+00, -9.4226092e-01,\n",
              "        -3.3487961e-01],\n",
              "       [ 8.4606100e+05,  8.1300000e+02,  1.9516956e+00,  3.9435586e-01,\n",
              "         9.1895783e-01,  1.2246469e-16, -1.0000000e+00, -9.4226092e-01,\n",
              "        -3.3487961e-01],\n",
              "       [ 8.4606100e+05,  1.8130000e+03,  1.2919167e-01,  3.9435586e-01,\n",
              "         9.1895783e-01,  1.2246469e-16, -1.0000000e+00, -9.4226092e-01,\n",
              "        -3.3487961e-01],\n",
              "       [ 8.4606100e+05,  9.9700000e+02, -1.3169655e-01,  3.9435586e-01,\n",
              "         9.1895783e-01,  1.2246469e-16, -1.0000000e+00, -9.4226092e-01,\n",
              "        -3.3487961e-01],\n",
              "       [ 8.4606100e+05,  6.1900000e+02,  4.2847883e-02,  9.9871653e-01,\n",
              "        -5.0649170e-02,  1.2246469e-16, -1.0000000e+00,  9.4226092e-01,\n",
              "        -3.3487961e-01],\n",
              "       [ 8.4606100e+05,  9.1300000e+02,  2.8238225e-01,  9.9871653e-01,\n",
              "        -5.0649170e-02,  1.2246469e-16, -1.0000000e+00,  8.1696987e-01,\n",
              "        -5.7668030e-01],\n",
              "       [ 8.4606100e+05,  9.1300000e+02,  2.8238225e-01,  9.9871653e-01,\n",
              "        -5.0649170e-02,  1.2246469e-16, -1.0000000e+00,  8.1696987e-01,\n",
              "        -5.7668030e-01],\n",
              "       [ 8.4606100e+05,  9.1300000e+02,  2.8238225e-01,  9.9871653e-01,\n",
              "        -5.0649170e-02,  1.2246469e-16, -1.0000000e+00,  8.1696987e-01,\n",
              "        -5.7668030e-01],\n",
              "       [ 8.4606100e+05,  2.2570000e+03,  4.3905446e-01,  9.9871653e-01,\n",
              "        -5.0649170e-02,  1.2246469e-16, -1.0000000e+00, -6.3108796e-01,\n",
              "        -7.7571130e-01],\n",
              "       [ 8.4606100e+05,  4.8760000e+03, -2.2523566e-01,  2.9936314e-01,\n",
              "        -9.5413923e-01,  1.2246469e-16, -1.0000000e+00,  3.9840108e-01,\n",
              "        -9.1721129e-01],\n",
              "       [ 8.4606100e+05,  2.3170000e+03,  6.3437247e-01,  1.0116832e-01,\n",
              "        -9.9486935e-01,  1.2246469e-16, -1.0000000e+00,  6.3108796e-01,\n",
              "        -7.7571130e-01],\n",
              "       [ 8.4606100e+05,  4.3800000e+02,  4.5002298e+00,  1.0116832e-01,\n",
              "        -9.9486935e-01,  1.2246469e-16, -1.0000000e+00, -9.7908407e-01,\n",
              "         2.0345601e-01],\n",
              "       [ 8.4606100e+05,  8.1300000e+02,  1.9516956e+00,  9.6807712e-01,\n",
              "        -2.5065252e-01, -2.4492937e-16,  1.0000000e+00, -2.6979676e-01,\n",
              "         9.6291727e-01],\n",
              "       [ 8.4606100e+05,  8.1300000e+02,  1.9516956e+00,  9.6807712e-01,\n",
              "        -2.5065252e-01, -2.4492937e-16,  1.0000000e+00, -2.6979676e-01,\n",
              "         9.6291727e-01],\n",
              "       [ 8.4606100e+05,  3.4310000e+03, -1.5641594e-01,  9.6807712e-01,\n",
              "        -2.5065252e-01, -2.4492937e-16,  1.0000000e+00, -2.6979676e-01,\n",
              "         9.6291727e-01],\n",
              "       [ 8.4606100e+05,  4.0600000e+02,  6.5564656e+00,  9.6807712e-01,\n",
              "        -2.5065252e-01, -2.4492937e-16,  1.0000000e+00, -2.4492937e-16,\n",
              "         1.0000000e+00],\n",
              "       [ 8.4606100e+05,  8.1300000e+02,  1.9516956e+00,  1.0116832e-01,\n",
              "        -9.9486935e-01, -2.4492937e-16,  1.0000000e+00, -7.3083597e-01,\n",
              "         6.8255317e-01],\n",
              "       [ 8.4606100e+05,  3.4160000e+03,  9.5073426e-01,  1.0116832e-01,\n",
              "        -9.9486935e-01, -2.4492937e-16,  1.0000000e+00, -7.3083597e-01,\n",
              "         6.8255317e-01],\n",
              "       [ 8.4606100e+05,  1.5080000e+03,  1.4322401e+00, -2.9936314e-01,\n",
              "        -9.5413923e-01, -2.4492937e-16,  1.0000000e+00, -6.3108796e-01,\n",
              "        -7.7571130e-01],\n",
              "       [ 8.4606100e+05,  3.4260000e+03, -1.0941428e-01, -2.9936314e-01,\n",
              "        -9.5413923e-01, -2.4492937e-16,  1.0000000e+00, -6.3108796e-01,\n",
              "        -7.7571130e-01]], dtype=float32)"
            ]
          },
          "metadata": {},
          "execution_count": 30
        }
      ]
    },
    {
      "cell_type": "code",
      "source": [
        "# Поиск ближайших соседей\n",
        "neigh = []\n",
        "dist = []\n",
        "for i in user_vectors:\n",
        "  neighbors, distances = scann_ops.search(i, final_num_neighbors=20)\n",
        "  neigh.append(neighbors)\n",
        "  dist.append(distances)"
      ],
      "metadata": {
        "colab": {
          "base_uri": "https://localhost:8080/",
          "height": 242
        },
        "id": "LJSRiQwHIShX",
        "outputId": "cc709a9a-c771-41e6-d2b5-c928550f4ea2"
      },
      "id": "LJSRiQwHIShX",
      "execution_count": null,
      "outputs": [
        {
          "output_type": "error",
          "ename": "NameError",
          "evalue": "ignored",
          "traceback": [
            "\u001b[0;31m---------------------------------------------------------------------------\u001b[0m",
            "\u001b[0;31mNameError\u001b[0m                                 Traceback (most recent call last)",
            "\u001b[0;32m<ipython-input-26-92c675d7345a>\u001b[0m in \u001b[0;36m<cell line: 4>\u001b[0;34m()\u001b[0m\n\u001b[1;32m      3\u001b[0m \u001b[0mdist\u001b[0m \u001b[0;34m=\u001b[0m \u001b[0;34m[\u001b[0m\u001b[0;34m]\u001b[0m\u001b[0;34m\u001b[0m\u001b[0;34m\u001b[0m\u001b[0m\n\u001b[1;32m      4\u001b[0m \u001b[0;32mfor\u001b[0m \u001b[0mi\u001b[0m \u001b[0;32min\u001b[0m \u001b[0muser_vectors\u001b[0m\u001b[0;34m:\u001b[0m\u001b[0;34m\u001b[0m\u001b[0;34m\u001b[0m\u001b[0m\n\u001b[0;32m----> 5\u001b[0;31m   \u001b[0mneighbors\u001b[0m\u001b[0;34m,\u001b[0m \u001b[0mdistances\u001b[0m \u001b[0;34m=\u001b[0m \u001b[0mscann_ops\u001b[0m\u001b[0;34m.\u001b[0m\u001b[0msearch\u001b[0m\u001b[0;34m(\u001b[0m\u001b[0mi\u001b[0m\u001b[0;34m,\u001b[0m \u001b[0mfinal_num_neighbors\u001b[0m\u001b[0;34m=\u001b[0m\u001b[0;36m20\u001b[0m\u001b[0;34m)\u001b[0m\u001b[0;34m\u001b[0m\u001b[0;34m\u001b[0m\u001b[0m\n\u001b[0m\u001b[1;32m      6\u001b[0m   \u001b[0mneigh\u001b[0m\u001b[0;34m.\u001b[0m\u001b[0mappend\u001b[0m\u001b[0;34m(\u001b[0m\u001b[0mneighbors\u001b[0m\u001b[0;34m)\u001b[0m\u001b[0;34m\u001b[0m\u001b[0;34m\u001b[0m\u001b[0m\n\u001b[1;32m      7\u001b[0m   \u001b[0mdist\u001b[0m\u001b[0;34m.\u001b[0m\u001b[0mappend\u001b[0m\u001b[0;34m(\u001b[0m\u001b[0mdistances\u001b[0m\u001b[0;34m)\u001b[0m\u001b[0;34m\u001b[0m\u001b[0;34m\u001b[0m\u001b[0m\n",
            "\u001b[0;31mNameError\u001b[0m: name 'scann_ops' is not defined"
          ]
        }
      ]
    },
    {
      "cell_type": "code",
      "source": [
        "relevant = scann_data.iloc[np.array(neigh).flatten()]\n",
        "relevant['distance'] = np.array(dist).flatten()\n",
        "relevant = relevant.sort_values(by='distance')\n",
        "rec = list(relevant['item_id'].unique())"
      ],
      "metadata": {
        "colab": {
          "base_uri": "https://localhost:8080/"
        },
        "id": "N5UUTiRUVS7D",
        "outputId": "c2fbecff-66e1-4929-f457-8838f89f3ee4"
      },
      "id": "N5UUTiRUVS7D",
      "execution_count": null,
      "outputs": [
        {
          "output_type": "stream",
          "name": "stderr",
          "text": [
            "<ipython-input-40-5ca219c0df21>:2: SettingWithCopyWarning: \n",
            "A value is trying to be set on a copy of a slice from a DataFrame.\n",
            "Try using .loc[row_indexer,col_indexer] = value instead\n",
            "\n",
            "See the caveats in the documentation: https://pandas.pydata.org/pandas-docs/stable/user_guide/indexing.html#returning-a-view-versus-a-copy\n",
            "  relevant['distance'] = np.array(dist).flatten()\n"
          ]
        }
      ]
    },
    {
      "cell_type": "code",
      "source": [
        "bought_test = list(test[test['user_id'] == user_id]['item_id'].unique())\n",
        "print(recall_at_k(rec[:20], bought_test))\n",
        "print(precision_at_k(rec[:20], bought_test))"
      ],
      "metadata": {
        "colab": {
          "base_uri": "https://localhost:8080/"
        },
        "id": "yfaUMlhCWRXY",
        "outputId": "3632bc10-f19b-4b4e-c4eb-712c9852a9d4"
      },
      "id": "yfaUMlhCWRXY",
      "execution_count": null,
      "outputs": [
        {
          "output_type": "stream",
          "name": "stdout",
          "text": [
            "0.0\n",
            "0.0\n"
          ]
        }
      ]
    },
    {
      "cell_type": "markdown",
      "source": [
        "Мин. задачи на 29:06:\n",
        "\n",
        "⚠ **Возможно стоит подготовить тестовую выборку: датасет с юзером и его айтемами, чтобы быстрее грузить в модели. Аналогично на тестовой можно сгруппировать по юзеру и просто выписать в двойном массиве значения** <br>\n",
        "▶ Спросить у chat gpt как лучше подготовить выборки и прогнать процедуру длявсех юзеров <br>\n",
        "▶Посмотреть как вообще правильно производить извлечение для оек. систем\n"
      ],
      "metadata": {
        "id": "E0L8YnEc40m2"
      },
      "id": "E0L8YnEc40m2"
    },
    {
      "cell_type": "code",
      "source": [
        "a = [1, 2, 2]\n",
        "a[-10:]"
      ],
      "metadata": {
        "id": "GPls0WDi4wgU",
        "colab": {
          "base_uri": "https://localhost:8080/"
        },
        "outputId": "c4d7e564-c6fb-48b6-da46-07767f605332"
      },
      "id": "GPls0WDi4wgU",
      "execution_count": 33,
      "outputs": [
        {
          "output_type": "execute_result",
          "data": {
            "text/plain": [
              "[1, 2, 2]"
            ]
          },
          "metadata": {},
          "execution_count": 33
        }
      ]
    },
    {
      "cell_type": "code",
      "execution_count": null,
      "id": "06dfff4b",
      "metadata": {
        "colab": {
          "base_uri": "https://localhost:8080/",
          "height": 49,
          "referenced_widgets": [
            "9c78a388a8a4404db5c798ae9ed6767f",
            "8223b67352974c1b8a27c8ad7544a20f",
            "b53af9d16db444b797a3f47292ee4a43",
            "3fdf5d2d2cb448a2a30bf1885514750f",
            "430a8fe301b146d88fc1892effb98369",
            "8cdeca8cfd2a4673988f3d964a6c52b7",
            "594d465896b74008b68e83df1f026fe1",
            "6b68e67480624a3fa903b03340996fc7",
            "e8a8789314694285831ed27e366256f2",
            "035325384d4547228a6152594e261097",
            "200436aad540461789369f408d6fa7b4"
          ]
        },
        "id": "06dfff4b",
        "outputId": "07dfe4d0-1917-4662-d724-6d33f2e853cd"
      },
      "outputs": [
        {
          "output_type": "display_data",
          "data": {
            "text/plain": [
              "  0%|          | 0/5000 [00:00<?, ?it/s]"
            ],
            "application/vnd.jupyter.widget-view+json": {
              "version_major": 2,
              "version_minor": 0,
              "model_id": "9c78a388a8a4404db5c798ae9ed6767f"
            }
          },
          "metadata": {}
        }
      ],
      "source": [
        "recalls = []\n",
        "precisions = []\n",
        "rec = []\n",
        "for user_id in notebook.tqdm(users):\n",
        "    user_data = train_f[train_f['user_id'] == user_id].reset_index(drop=True)\n",
        "    user_vectors = np.array(user_data).astype('float32')\n",
        "    scann_ops = scann.scann_ops_pybind.builder(\n",
        "        scann_vectors, 10, \"dot_product\").tree(num_leaves=2000, num_leaves_to_search=100, training_sample_size=25000).score_ah(\n",
        "            2, anisotropic_quantization_threshold=0.2).reorder(100).build()\n",
        "    # Поиск ближайших соседей\n",
        "    neigh = []\n",
        "    dist = []\n",
        "    for i in user_vectors[-10:]:\n",
        "      neighbors, distances = scann_ops.search(i, final_num_neighbors=20)\n",
        "      neigh.append(neighbors)\n",
        "      dist.append(distances)\n",
        "\n",
        "    relevant = scann_data.loc[np.array(neigh).flatten()]\n",
        "    relevant['distance'] = np.array(dist).flatten()\n",
        "    relevant = relevant.sort_values(by='distance')\n",
        "    rec = list(relevant['item_id'].unique())\n",
        "\n",
        "    bought_test = list(test[test['user_id'] == user_id]['item_id'].unique())\n",
        "\n",
        "    recalls.append(recall_at_k(rec[:20], bought_test))\n",
        "    precisions.append(precision_at_k(rec[:20], bought_test))\n",
        "    rec.append(rec[:20])\n",
        "print(np.mean(recalls))\n",
        "print(np.mean(precisions))"
      ]
    },
    {
      "cell_type": "code",
      "execution_count": null,
      "id": "110b593b",
      "metadata": {
        "id": "110b593b"
      },
      "outputs": [],
      "source": [
        "coverage = (len(set(np.array(rec).flatten()))/len(list(set(train_f['item_id'].unique()))))*100\n",
        "print(coverage)"
      ]
    },
    {
      "cell_type": "code",
      "execution_count": null,
      "id": "1063ed36",
      "metadata": {
        "colab": {
          "base_uri": "https://localhost:8080/",
          "height": 170
        },
        "id": "1063ed36",
        "outputId": "ce8ba2a1-68a3-49ca-fd5f-7996b07fe3bf"
      },
      "outputs": [
        {
          "output_type": "error",
          "ename": "NameError",
          "evalue": "ignored",
          "traceback": [
            "\u001b[0;31m---------------------------------------------------------------------------\u001b[0m",
            "\u001b[0;31mNameError\u001b[0m                                 Traceback (most recent call last)",
            "\u001b[0;32m<ipython-input-2-e4e4480800e6>\u001b[0m in \u001b[0;36m<cell line: 1>\u001b[0;34m()\u001b[0m\n\u001b[0;32m----> 1\u001b[0;31m \u001b[0mpecisions\u001b[0m\u001b[0;34m\u001b[0m\u001b[0;34m\u001b[0m\u001b[0m\n\u001b[0m",
            "\u001b[0;31mNameError\u001b[0m: name 'pecisions' is not defined"
          ]
        }
      ],
      "source": []
    },
    {
      "cell_type": "markdown",
      "id": "4944addc",
      "metadata": {
        "id": "4944addc"
      },
      "source": [
        "Осуществлять поиск наиболее релевантных рекомендаций будет методом поиска ближайших соседей `KNN`."
      ]
    },
    {
      "cell_type": "code",
      "execution_count": null,
      "id": "bb80ff07",
      "metadata": {
        "id": "bb80ff07"
      },
      "outputs": [],
      "source": [
        "def NN(train, relevant_recommendations, nn, user_id):\n",
        "    relevant_recommendations_nn = relevant_recommendations.drop(['user_id', 'item_id'], axis=1)\n",
        "\n",
        "    train.reset_index(inplace=True, drop=True)\n",
        "    user_boughts_nn = train.drop(['user_id', 'item_id'], axis=1)\n",
        "\n",
        "    n_n = NearestNeighbors(n_neighbors=nn, metric='cosine')\n",
        "    n_n.fit(np.array(user_boughts_nn))\n",
        "\n",
        "    distances_gl = []\n",
        "    indexes_gl = []\n",
        "\n",
        "    for i in range(relevant_recommendations_nn.shape[0]):\n",
        "        distances, indexes = n_n.kneighbors([list(relevant_recommendations_nn.iloc[i])])\n",
        "        distances_gl.extend(distances)\n",
        "        indexes_gl.extend(indexes)\n",
        "\n",
        "    distances_gl = np.array(distances_gl).flatten()\n",
        "    indexes_gl = np.array(indexes_gl).flatten()\n",
        "\n",
        "    data_nn = pd.DataFrame(data=distances_gl, columns=['distance'])\n",
        "\n",
        "    data_nn['index'] = indexes_gl\n",
        "\n",
        "    # тут надо сортировку добавить\n",
        "    data_nn = data_nn.groupby(by='index').mean()\n",
        "\n",
        "    recommendations = train.join(data_nn, how='right')\n",
        "    recommendations.drop(['distance'], axis=1, inplace=True)\n",
        "    return recommendations"
      ]
    },
    {
      "cell_type": "code",
      "execution_count": null,
      "id": "1964f6a5",
      "metadata": {
        "id": "1964f6a5"
      },
      "outputs": [],
      "source": [
        "user_id_test = random.sample(users_tt, 1)"
      ]
    },
    {
      "cell_type": "code",
      "execution_count": null,
      "id": "9fab7948",
      "metadata": {
        "id": "9fab7948"
      },
      "outputs": [],
      "source": [
        "nn = 10"
      ]
    },
    {
      "cell_type": "code",
      "execution_count": null,
      "id": "57ee02f9",
      "metadata": {
        "id": "57ee02f9"
      },
      "outputs": [],
      "source": [
        "train_rank, retrivial_result = Recovery(train_, test, user_id_test[0], top_items, n, k_recovery, num_emb)"
      ]
    },
    {
      "cell_type": "code",
      "execution_count": null,
      "id": "12753451",
      "metadata": {
        "id": "12753451"
      },
      "outputs": [],
      "source": [
        "train_rank_n, retrivial_result_n = Recovery_NN(train_, test, user_id_test[0], top_items, n, k_recovery, num_emb, nn)"
      ]
    },
    {
      "cell_type": "code",
      "execution_count": null,
      "id": "57856956",
      "metadata": {
        "id": "57856956",
        "outputId": "c2a4585f-7338-4c4d-a7eb-a6f401e4158a"
      },
      "outputs": [
        {
          "data": {
            "text/html": [
              "<div>\n",
              "<style scoped>\n",
              "    .dataframe tbody tr th:only-of-type {\n",
              "        vertical-align: middle;\n",
              "    }\n",
              "\n",
              "    .dataframe tbody tr th {\n",
              "        vertical-align: top;\n",
              "    }\n",
              "\n",
              "    .dataframe thead th {\n",
              "        text-align: right;\n",
              "    }\n",
              "</style>\n",
              "<table border=\"1\" class=\"dataframe\">\n",
              "  <thead>\n",
              "    <tr style=\"text-align: right;\">\n",
              "      <th></th>\n",
              "      <th>user_id</th>\n",
              "      <th>item_id</th>\n",
              "      <th>i_ebd_0</th>\n",
              "      <th>i_ebd_1</th>\n",
              "      <th>i_ebd_2</th>\n",
              "      <th>i_ebd_3</th>\n",
              "      <th>i_ebd_4</th>\n",
              "      <th>i_ebd_5</th>\n",
              "      <th>i_ebd_6</th>\n",
              "      <th>i_ebd_7</th>\n",
              "      <th>...</th>\n",
              "      <th>u_ebd_3</th>\n",
              "      <th>u_ebd_4</th>\n",
              "      <th>count</th>\n",
              "      <th>day_sin</th>\n",
              "      <th>day_cos</th>\n",
              "      <th>month_sin</th>\n",
              "      <th>month_cos</th>\n",
              "      <th>hour_sin</th>\n",
              "      <th>hour_cos</th>\n",
              "      <th>purchaise</th>\n",
              "    </tr>\n",
              "  </thead>\n",
              "  <tbody>\n",
              "    <tr>\n",
              "      <th>0</th>\n",
              "      <td>897759</td>\n",
              "      <td>94</td>\n",
              "      <td>-3.389610</td>\n",
              "      <td>-0.883720</td>\n",
              "      <td>-3.647423</td>\n",
              "      <td>-2.711012</td>\n",
              "      <td>-5.403460</td>\n",
              "      <td>-0.444126</td>\n",
              "      <td>6.038689</td>\n",
              "      <td>-1.039902</td>\n",
              "      <td>...</td>\n",
              "      <td>-0.052791</td>\n",
              "      <td>0.119282</td>\n",
              "      <td>6.726948</td>\n",
              "      <td>0.201299</td>\n",
              "      <td>0.979530</td>\n",
              "      <td>1.224647e-16</td>\n",
              "      <td>-1.0</td>\n",
              "      <td>-0.519584</td>\n",
              "      <td>0.854419</td>\n",
              "      <td>1</td>\n",
              "    </tr>\n",
              "    <tr>\n",
              "      <th>1</th>\n",
              "      <td>897759</td>\n",
              "      <td>94</td>\n",
              "      <td>-3.389610</td>\n",
              "      <td>-0.883720</td>\n",
              "      <td>-3.647423</td>\n",
              "      <td>-2.711012</td>\n",
              "      <td>-5.403460</td>\n",
              "      <td>-0.444126</td>\n",
              "      <td>6.038689</td>\n",
              "      <td>-1.039902</td>\n",
              "      <td>...</td>\n",
              "      <td>-0.052791</td>\n",
              "      <td>0.119282</td>\n",
              "      <td>6.726948</td>\n",
              "      <td>0.201299</td>\n",
              "      <td>0.979530</td>\n",
              "      <td>1.224647e-16</td>\n",
              "      <td>-1.0</td>\n",
              "      <td>-0.519584</td>\n",
              "      <td>0.854419</td>\n",
              "      <td>1</td>\n",
              "    </tr>\n",
              "    <tr>\n",
              "      <th>2</th>\n",
              "      <td>897759</td>\n",
              "      <td>5520</td>\n",
              "      <td>1.976323</td>\n",
              "      <td>-1.448247</td>\n",
              "      <td>0.934559</td>\n",
              "      <td>-4.139649</td>\n",
              "      <td>-4.336630</td>\n",
              "      <td>-3.715211</td>\n",
              "      <td>-0.506305</td>\n",
              "      <td>0.403943</td>\n",
              "      <td>...</td>\n",
              "      <td>-0.052791</td>\n",
              "      <td>0.119282</td>\n",
              "      <td>0.186290</td>\n",
              "      <td>0.201299</td>\n",
              "      <td>0.979530</td>\n",
              "      <td>1.224647e-16</td>\n",
              "      <td>-1.0</td>\n",
              "      <td>-0.269797</td>\n",
              "      <td>0.962917</td>\n",
              "      <td>1</td>\n",
              "    </tr>\n",
              "    <tr>\n",
              "      <th>3</th>\n",
              "      <td>897759</td>\n",
              "      <td>1525</td>\n",
              "      <td>0.759541</td>\n",
              "      <td>-0.609679</td>\n",
              "      <td>3.254939</td>\n",
              "      <td>-5.656903</td>\n",
              "      <td>-5.522559</td>\n",
              "      <td>-4.998284</td>\n",
              "      <td>0.025804</td>\n",
              "      <td>0.152961</td>\n",
              "      <td>...</td>\n",
              "      <td>-0.052791</td>\n",
              "      <td>0.119282</td>\n",
              "      <td>3.353273</td>\n",
              "      <td>0.201299</td>\n",
              "      <td>0.979530</td>\n",
              "      <td>1.224647e-16</td>\n",
              "      <td>-1.0</td>\n",
              "      <td>-0.269797</td>\n",
              "      <td>0.962917</td>\n",
              "      <td>1</td>\n",
              "    </tr>\n",
              "    <tr>\n",
              "      <th>4</th>\n",
              "      <td>897759</td>\n",
              "      <td>94</td>\n",
              "      <td>-3.389610</td>\n",
              "      <td>-0.883720</td>\n",
              "      <td>-3.647423</td>\n",
              "      <td>-2.711012</td>\n",
              "      <td>-5.403460</td>\n",
              "      <td>-0.444126</td>\n",
              "      <td>6.038689</td>\n",
              "      <td>-1.039902</td>\n",
              "      <td>...</td>\n",
              "      <td>-0.052791</td>\n",
              "      <td>0.119282</td>\n",
              "      <td>6.726948</td>\n",
              "      <td>0.394356</td>\n",
              "      <td>0.918958</td>\n",
              "      <td>1.224647e-16</td>\n",
              "      <td>-1.0</td>\n",
              "      <td>0.000000</td>\n",
              "      <td>1.000000</td>\n",
              "      <td>1</td>\n",
              "    </tr>\n",
              "  </tbody>\n",
              "</table>\n",
              "<p>5 rows × 25 columns</p>\n",
              "</div>"
            ],
            "text/plain": [
              "   user_id  item_id   i_ebd_0   i_ebd_1   i_ebd_2   i_ebd_3   i_ebd_4  \\\n",
              "0   897759       94 -3.389610 -0.883720 -3.647423 -2.711012 -5.403460   \n",
              "1   897759       94 -3.389610 -0.883720 -3.647423 -2.711012 -5.403460   \n",
              "2   897759     5520  1.976323 -1.448247  0.934559 -4.139649 -4.336630   \n",
              "3   897759     1525  0.759541 -0.609679  3.254939 -5.656903 -5.522559   \n",
              "4   897759       94 -3.389610 -0.883720 -3.647423 -2.711012 -5.403460   \n",
              "\n",
              "    i_ebd_5   i_ebd_6   i_ebd_7  ...   u_ebd_3   u_ebd_4     count   day_sin  \\\n",
              "0 -0.444126  6.038689 -1.039902  ... -0.052791  0.119282  6.726948  0.201299   \n",
              "1 -0.444126  6.038689 -1.039902  ... -0.052791  0.119282  6.726948  0.201299   \n",
              "2 -3.715211 -0.506305  0.403943  ... -0.052791  0.119282  0.186290  0.201299   \n",
              "3 -4.998284  0.025804  0.152961  ... -0.052791  0.119282  3.353273  0.201299   \n",
              "4 -0.444126  6.038689 -1.039902  ... -0.052791  0.119282  6.726948  0.394356   \n",
              "\n",
              "    day_cos     month_sin  month_cos  hour_sin  hour_cos  purchaise  \n",
              "0  0.979530  1.224647e-16       -1.0 -0.519584  0.854419          1  \n",
              "1  0.979530  1.224647e-16       -1.0 -0.519584  0.854419          1  \n",
              "2  0.979530  1.224647e-16       -1.0 -0.269797  0.962917          1  \n",
              "3  0.979530  1.224647e-16       -1.0 -0.269797  0.962917          1  \n",
              "4  0.918958  1.224647e-16       -1.0  0.000000  1.000000          1  \n",
              "\n",
              "[5 rows x 25 columns]"
            ]
          },
          "execution_count": 42,
          "metadata": {},
          "output_type": "execute_result"
        }
      ],
      "source": [
        "train_rank.head()"
      ]
    },
    {
      "cell_type": "code",
      "execution_count": null,
      "id": "701dd63f",
      "metadata": {
        "id": "701dd63f",
        "outputId": "f71d1c9f-34e3-4ef0-a08e-beec8741b7bf"
      },
      "outputs": [
        {
          "data": {
            "text/html": [
              "<div>\n",
              "<style scoped>\n",
              "    .dataframe tbody tr th:only-of-type {\n",
              "        vertical-align: middle;\n",
              "    }\n",
              "\n",
              "    .dataframe tbody tr th {\n",
              "        vertical-align: top;\n",
              "    }\n",
              "\n",
              "    .dataframe thead th {\n",
              "        text-align: right;\n",
              "    }\n",
              "</style>\n",
              "<table border=\"1\" class=\"dataframe\">\n",
              "  <thead>\n",
              "    <tr style=\"text-align: right;\">\n",
              "      <th></th>\n",
              "      <th>user_id</th>\n",
              "      <th>item_id</th>\n",
              "      <th>i_ebd_0</th>\n",
              "      <th>i_ebd_1</th>\n",
              "      <th>i_ebd_2</th>\n",
              "      <th>i_ebd_3</th>\n",
              "      <th>i_ebd_4</th>\n",
              "      <th>i_ebd_5</th>\n",
              "      <th>i_ebd_6</th>\n",
              "      <th>i_ebd_7</th>\n",
              "      <th>...</th>\n",
              "      <th>u_ebd_2</th>\n",
              "      <th>u_ebd_3</th>\n",
              "      <th>u_ebd_4</th>\n",
              "      <th>count</th>\n",
              "      <th>day_sin</th>\n",
              "      <th>day_cos</th>\n",
              "      <th>month_sin</th>\n",
              "      <th>month_cos</th>\n",
              "      <th>hour_sin</th>\n",
              "      <th>hour_cos</th>\n",
              "    </tr>\n",
              "  </thead>\n",
              "  <tbody>\n",
              "    <tr>\n",
              "      <th>563326</th>\n",
              "      <td>941466</td>\n",
              "      <td>180</td>\n",
              "      <td>-6.157778</td>\n",
              "      <td>-0.486773</td>\n",
              "      <td>-3.961148</td>\n",
              "      <td>-0.522232</td>\n",
              "      <td>-1.273532</td>\n",
              "      <td>-1.858057</td>\n",
              "      <td>2.140595</td>\n",
              "      <td>-1.144723</td>\n",
              "      <td>...</td>\n",
              "      <td>0.192532</td>\n",
              "      <td>0.034289</td>\n",
              "      <td>0.365998</td>\n",
              "      <td>15.003534</td>\n",
              "      <td>0.724793</td>\n",
              "      <td>0.688967</td>\n",
              "      <td>1.224647e-16</td>\n",
              "      <td>-1.0</td>\n",
              "      <td>-0.730836</td>\n",
              "      <td>0.682553</td>\n",
              "    </tr>\n",
              "    <tr>\n",
              "      <th>7</th>\n",
              "      <td>46754</td>\n",
              "      <td>1794</td>\n",
              "      <td>3.105823</td>\n",
              "      <td>-1.754636</td>\n",
              "      <td>-4.733544</td>\n",
              "      <td>-1.084760</td>\n",
              "      <td>3.045731</td>\n",
              "      <td>-1.568561</td>\n",
              "      <td>-4.191936</td>\n",
              "      <td>-3.584041</td>\n",
              "      <td>...</td>\n",
              "      <td>0.119697</td>\n",
              "      <td>-0.073670</td>\n",
              "      <td>-0.034854</td>\n",
              "      <td>0.388919</td>\n",
              "      <td>0.201299</td>\n",
              "      <td>0.979530</td>\n",
              "      <td>1.224647e-16</td>\n",
              "      <td>-1.0</td>\n",
              "      <td>0.000000</td>\n",
              "      <td>1.000000</td>\n",
              "    </tr>\n",
              "    <tr>\n",
              "      <th>563330</th>\n",
              "      <td>1032392</td>\n",
              "      <td>3043</td>\n",
              "      <td>1.277733</td>\n",
              "      <td>0.257720</td>\n",
              "      <td>1.660798</td>\n",
              "      <td>-4.044787</td>\n",
              "      <td>-3.012926</td>\n",
              "      <td>-1.700421</td>\n",
              "      <td>-0.163280</td>\n",
              "      <td>1.084374</td>\n",
              "      <td>...</td>\n",
              "      <td>0.031960</td>\n",
              "      <td>0.010420</td>\n",
              "      <td>0.064031</td>\n",
              "      <td>-0.104772</td>\n",
              "      <td>0.724793</td>\n",
              "      <td>0.688967</td>\n",
              "      <td>1.224647e-16</td>\n",
              "      <td>-1.0</td>\n",
              "      <td>-0.730836</td>\n",
              "      <td>0.682553</td>\n",
              "    </tr>\n",
              "    <tr>\n",
              "      <th>10</th>\n",
              "      <td>295667</td>\n",
              "      <td>1833</td>\n",
              "      <td>3.117075</td>\n",
              "      <td>4.633699</td>\n",
              "      <td>-6.003606</td>\n",
              "      <td>0.475198</td>\n",
              "      <td>4.444748</td>\n",
              "      <td>0.592782</td>\n",
              "      <td>-4.020923</td>\n",
              "      <td>-1.198901</td>\n",
              "      <td>...</td>\n",
              "      <td>-0.031051</td>\n",
              "      <td>-0.152033</td>\n",
              "      <td>0.063400</td>\n",
              "      <td>1.551659</td>\n",
              "      <td>0.201299</td>\n",
              "      <td>0.979530</td>\n",
              "      <td>1.224647e-16</td>\n",
              "      <td>-1.0</td>\n",
              "      <td>0.000000</td>\n",
              "      <td>1.000000</td>\n",
              "    </tr>\n",
              "    <tr>\n",
              "      <th>1678671</th>\n",
              "      <td>905656</td>\n",
              "      <td>953</td>\n",
              "      <td>-0.453368</td>\n",
              "      <td>-3.519981</td>\n",
              "      <td>-1.056260</td>\n",
              "      <td>1.011127</td>\n",
              "      <td>-0.802284</td>\n",
              "      <td>-1.531811</td>\n",
              "      <td>-1.035011</td>\n",
              "      <td>-5.426642</td>\n",
              "      <td>...</td>\n",
              "      <td>0.053694</td>\n",
              "      <td>0.017299</td>\n",
              "      <td>0.126794</td>\n",
              "      <td>2.681208</td>\n",
              "      <td>0.897805</td>\n",
              "      <td>-0.440394</td>\n",
              "      <td>1.224647e-16</td>\n",
              "      <td>-1.0</td>\n",
              "      <td>-0.997669</td>\n",
              "      <td>-0.068242</td>\n",
              "    </tr>\n",
              "  </tbody>\n",
              "</table>\n",
              "<p>5 rows × 24 columns</p>\n",
              "</div>"
            ],
            "text/plain": [
              "         user_id  item_id   i_ebd_0   i_ebd_1   i_ebd_2   i_ebd_3   i_ebd_4  \\\n",
              "563326    941466      180 -6.157778 -0.486773 -3.961148 -0.522232 -1.273532   \n",
              "7          46754     1794  3.105823 -1.754636 -4.733544 -1.084760  3.045731   \n",
              "563330   1032392     3043  1.277733  0.257720  1.660798 -4.044787 -3.012926   \n",
              "10        295667     1833  3.117075  4.633699 -6.003606  0.475198  4.444748   \n",
              "1678671   905656      953 -0.453368 -3.519981 -1.056260  1.011127 -0.802284   \n",
              "\n",
              "          i_ebd_5   i_ebd_6   i_ebd_7  ...   u_ebd_2   u_ebd_3   u_ebd_4  \\\n",
              "563326  -1.858057  2.140595 -1.144723  ...  0.192532  0.034289  0.365998   \n",
              "7       -1.568561 -4.191936 -3.584041  ...  0.119697 -0.073670 -0.034854   \n",
              "563330  -1.700421 -0.163280  1.084374  ...  0.031960  0.010420  0.064031   \n",
              "10       0.592782 -4.020923 -1.198901  ... -0.031051 -0.152033  0.063400   \n",
              "1678671 -1.531811 -1.035011 -5.426642  ...  0.053694  0.017299  0.126794   \n",
              "\n",
              "             count   day_sin   day_cos     month_sin  month_cos  hour_sin  \\\n",
              "563326   15.003534  0.724793  0.688967  1.224647e-16       -1.0 -0.730836   \n",
              "7         0.388919  0.201299  0.979530  1.224647e-16       -1.0  0.000000   \n",
              "563330   -0.104772  0.724793  0.688967  1.224647e-16       -1.0 -0.730836   \n",
              "10        1.551659  0.201299  0.979530  1.224647e-16       -1.0  0.000000   \n",
              "1678671   2.681208  0.897805 -0.440394  1.224647e-16       -1.0 -0.997669   \n",
              "\n",
              "         hour_cos  \n",
              "563326   0.682553  \n",
              "7        1.000000  \n",
              "563330   0.682553  \n",
              "10       1.000000  \n",
              "1678671 -0.068242  \n",
              "\n",
              "[5 rows x 24 columns]"
            ]
          },
          "execution_count": 43,
          "metadata": {},
          "output_type": "execute_result"
        }
      ],
      "source": [
        "retrivial_result.head()"
      ]
    },
    {
      "cell_type": "code",
      "execution_count": null,
      "id": "c0824452",
      "metadata": {
        "id": "c0824452",
        "outputId": "043d6d03-20da-4075-e691-f07d31d3700a"
      },
      "outputs": [
        {
          "name": "stdout",
          "output_type": "stream",
          "text": [
            "Для ранжирования размеры до :  (207, 25) Размеры NN :  (1450, 25)\n"
          ]
        }
      ],
      "source": [
        "print('Для ранжирования размеры до : ', train_rank.shape, 'Размеры NN : ', train_rank_n.shape)"
      ]
    },
    {
      "cell_type": "code",
      "execution_count": null,
      "id": "9f1faa67",
      "metadata": {
        "id": "9f1faa67",
        "outputId": "c759be39-8c6b-464f-8c21-45bb5a2df9a3"
      },
      "outputs": [
        {
          "name": "stdout",
          "output_type": "stream",
          "text": [
            "Извлеченные размеры до :  (172704, 24) Размеры NN :  (172704, 24)\n"
          ]
        }
      ],
      "source": [
        "retrivial_result.shape\n",
        "print('Извлеченные размеры до : ', retrivial_result.shape, 'Размеры NN : ', retrivial_result_n.shape)"
      ]
    },
    {
      "cell_type": "markdown",
      "id": "a73c4899",
      "metadata": {
        "id": "a73c4899"
      },
      "source": [
        "Второй этап извлечения:"
      ]
    },
    {
      "cell_type": "code",
      "execution_count": null,
      "id": "967770bf",
      "metadata": {
        "id": "967770bf"
      },
      "outputs": [],
      "source": [
        "res_1 = {}"
      ]
    },
    {
      "cell_type": "code",
      "execution_count": null,
      "id": "6928ce2d",
      "metadata": {
        "id": "6928ce2d",
        "outputId": "d6f81040-16cf-4a24-c211-68ec9376b9f2"
      },
      "outputs": [
        {
          "name": "stdout",
          "output_type": "stream",
          "text": [
            "3000  :  0.375 shape :  14678\n",
            "3500  :  0.375 shape :  16266\n",
            "4000  :  0.5 shape :  17861\n",
            "4500  :  0.5 shape :  19089\n",
            "5000  :  0.5 shape :  20586\n",
            "5500  :  0.5 shape :  21934\n"
          ]
        }
      ],
      "source": [
        "for k_recovery in range(3000, 6000, 500):\n",
        "    train_rank, retrivial_result_1 = Recovery_1(train_, test, retrivial_result, user_id_test[0], top_items, n, k_recovery, num_emb)\n",
        "\n",
        "    bought_test = list(test[test['user_id'] == user_id_test[0]]['item_id'].unique())\n",
        "    recommendations_items = list(retrivial_result_1['item_id'].unique())\n",
        "\n",
        "    res_1[k_recovery] = recall_at_k(recommendations_items, bought_test)\n",
        "    print(k_recovery, ' : ', res_1[k_recovery], 'shape : ', retrivial_result_1.shape[0])"
      ]
    },
    {
      "cell_type": "markdown",
      "id": "a843087f",
      "metadata": {
        "id": "a843087f"
      },
      "source": [
        "### Ранжирование кандидатов"
      ]
    },
    {
      "cell_type": "markdown",
      "id": "cca2918d",
      "metadata": {
        "id": "cca2918d"
      },
      "source": [
        "#### Ранжировнаие XLearn"
      ]
    },
    {
      "cell_type": "markdown",
      "id": "c17ea48b",
      "metadata": {
        "id": "c17ea48b"
      },
      "source": [
        "Функция ранжтрования:"
      ]
    },
    {
      "cell_type": "code",
      "execution_count": null,
      "id": "b0a8f5a1",
      "metadata": {
        "id": "b0a8f5a1"
      },
      "outputs": [],
      "source": [
        "def RankingXLearn(train_rank, retrivial_result):\n",
        "    target = train_rank['purchaise']\n",
        "    features = train_rank.drop(['item_id', 'user_id', 'purchaise'], axis=1)\n",
        "    dump_svmlight_file(features, target, 'libsvm_train_rank.txt')\n",
        "    param = {'task':'reg', 'lr':0.2, 'lambda':0.001, 'metric':'acc'}\n",
        "\n",
        "    ffm_model = xl.create_ffm()\n",
        "    ffm_model.setTrain(\"libsvm_train_rank.txt\")\n",
        "\n",
        "\n",
        "    ffm_model.fit(param, \"ffm_out.out\")\n",
        "    ffm_model.setSign()\n",
        "    retrivial_result_test = retrivial_result.drop(['user_id', 'item_id'], axis=1)\n",
        "    dump_svmlight_file(retrivial_result_test, np.zeros(retrivial_result_test.shape[0]), 'libsvm_test_rank.txt')\n",
        "    ffm_model.setTest(\"libsvm_test_rank.txt\")\n",
        "    ffm_model.predict(\"ffm_out.out\", 'output_rank.txt')\n",
        "    rank = pd.read_csv('output_rank.txt')\n",
        "    retrivial_result.reset_index(inplace=True, drop=True)\n",
        "    retrivial_result['rank'] = rank\n",
        "    retrivial_result.reset_index(inplace=True, drop=True)\n",
        "    relevant_recommendations = retrivial_result.sort_values(by='rank', ascending=False)\n",
        "\n",
        "    return relevant_recommendations"
      ]
    },
    {
      "cell_type": "markdown",
      "id": "dc4c5efb",
      "metadata": {
        "id": "dc4c5efb"
      },
      "source": [
        "#### Ранжировнаие Catboost"
      ]
    },
    {
      "cell_type": "code",
      "execution_count": null,
      "id": "203cdfff",
      "metadata": {
        "id": "203cdfff"
      },
      "outputs": [],
      "source": [
        "def RankingCb(train_rank, retrivial_result):\n",
        "    target = train_rank['purchaise']\n",
        "    features = train_rank.drop(['item_id', 'user_id', 'purchaise'], axis=1)\n",
        "\n",
        "    group_id_train = [0]*target.shape[0]\n",
        "\n",
        "    # Загрузка данных\n",
        "    train_data = cb.Pool(data=features, label=target, group_id=group_id_train)\n",
        "    test_data = cb.Pool(data=retrivial_result)\n",
        "\n",
        "    catboost_params = {'iterations': 500,\n",
        "                      'custom_metric': ['NDCG'],\n",
        "                      'verbose': True,\n",
        "                      'random_seed': RANDOM_STATE,\n",
        "                      'loss_function' : 'YetiRank',\n",
        "                      'depth' : 7,\n",
        "                      'learning_rate' : 0.01\n",
        "                       }\n",
        "\n",
        "    model = cb.CatBoost(catboost_params)\n",
        "    model.fit(train_data, verbose=False)\n",
        "    predictions = model.predict(test_data)\n",
        "\n",
        "    retrivial_result['rank_1'] = predictions\n",
        "    retrivial_result.sort_values(by='rank_1', inplace=True, ascending=False)\n",
        "\n",
        "    relevant_recommendations = retrivial_result.sort_values(by='rank').loc[:20]\n",
        "\n",
        "    return relevant_recommendations"
      ]
    },
    {
      "cell_type": "markdown",
      "id": "a316a64b",
      "metadata": {
        "id": "a316a64b"
      },
      "source": [
        "### Подбор гиперпараметров"
      ]
    },
    {
      "cell_type": "code",
      "execution_count": null,
      "id": "a0b53043",
      "metadata": {
        "id": "a0b53043"
      },
      "outputs": [],
      "source": [
        "users = random.sample(users_tt, 100)\n",
        "parameters  = {}\n",
        "precisions = []\n",
        "recalls = []\n",
        "recalls_at_20 = []"
      ]
    },
    {
      "cell_type": "code",
      "execution_count": null,
      "id": "06e8ccd7",
      "metadata": {
        "colab": {
          "referenced_widgets": [
            "c63e43b326894552a46a8d7a32105636"
          ]
        },
        "id": "06e8ccd7",
        "outputId": "7e840a82-b773-401c-d64a-0581c5b1b314"
      },
      "outputs": [
        {
          "data": {
            "application/vnd.jupyter.widget-view+json": {
              "model_id": "c63e43b326894552a46a8d7a32105636",
              "version_major": 2,
              "version_minor": 0
            },
            "text/plain": [
              "  0%|          | 0/100 [00:00<?, ?it/s]"
            ]
          },
          "metadata": {},
          "output_type": "display_data"
        },
        {
          "name": "stdout",
          "output_type": "stream",
          "text": [
            "{'iterations': 1000, 'depth': 10, 'learning_rate': 0.001}\n",
            "precision@20: 0.02\n",
            "recall@20: 0.05528397065897066\n",
            "recall: 0.79248254985755\n",
            "64\n"
          ]
        }
      ],
      "source": [
        "for iter_ in [1000]:\n",
        "    for depth in [10]:\n",
        "        for lr in [0.001]:\n",
        "            for nn in [10]:\n",
        "                for user_id in notebook.tqdm(users):\n",
        "                    train_rank, retrivial_result = Recovery_NN(train_f, test, user_id, top_items, n, k_recovery, num_emb, nn)\n",
        "\n",
        "                    bought_test = list(test[test['user_id'] == user_id]['item_id'].unique())\n",
        "\n",
        "                    target = train_rank['purchaise']\n",
        "                    features = train_rank.drop(['item_id', 'user_id', 'purchaise'], axis=1)\n",
        "\n",
        "                    group_id_train = [0]*target.shape[0]\n",
        "\n",
        "                    # Загрузка данных\n",
        "                    train_data = cb.Pool(data=features, label=target, group_id=group_id_train)\n",
        "                    test_data = cb.Pool(data=retrivial_result)\n",
        "\n",
        "                    parameters['iterations'] = iter_\n",
        "                    parameters['depth'] = depth\n",
        "                    parameters['learning_rate'] = lr\n",
        "\n",
        "                    params = {'iterations': iter_,\n",
        "                              'custom_metric': ['NDCG'],\n",
        "                              'verbose': True,\n",
        "                              'random_seed': RANDOM_STATE,\n",
        "                              'loss_function' : 'YetiRank',\n",
        "                              'depth' : depth,\n",
        "                              'learning_rate' : lr\n",
        "                    }\n",
        "\n",
        "                    model = cb.CatBoost(params)\n",
        "                    model.fit(train_data, verbose=False)\n",
        "                    predictions = model.predict(test_data)\n",
        "\n",
        "                    retrivial_result['rank'] = predictions\n",
        "                    retrivial_result.sort_values(by='rank', inplace=True, ascending=False)\n",
        "\n",
        "                    relevant_recommendations = list(retrivial_result['item_id'].unique())\n",
        "\n",
        "                    precisions.append(precision_at_k(relevant_recommendations[:20], bought_test))\n",
        "                    recalls.append(recall_at_k(relevant_recommendations, bought_test))\n",
        "                    recalls_at_20.append(recall_at_k(relevant_recommendations[:20], bought_test))\n",
        "                print(parameters)\n",
        "                print(f'precision@20: {np.mean(precisions)}')\n",
        "                print(f'recall@20: {np.mean(recalls_at_20)}')\n",
        "                print(f'recall: {np.mean(recalls)}')\n",
        "                print(features.shape[0])"
      ]
    },
    {
      "cell_type": "code",
      "execution_count": null,
      "id": "2c9dc729",
      "metadata": {
        "id": "2c9dc729"
      },
      "outputs": [],
      "source": [
        "res_nn = {'recall': recalls, 'precision@20': precisions, 'recall@20': recalls_at_20}"
      ]
    },
    {
      "cell_type": "code",
      "execution_count": null,
      "id": "9c4236b8",
      "metadata": {
        "scrolled": true,
        "id": "9c4236b8",
        "outputId": "6557d54d-2589-4464-bb19-a083b23490a6"
      },
      "outputs": [
        {
          "data": {
            "image/png": "[encoded data removed]",
            "text/plain": [
              "<Figure size 640x480 with 1 Axes>"
            ]
          },
          "metadata": {},
          "output_type": "display_data"
        }
      ],
      "source": [
        "sns.boxplot(data=pd.DataFrame(res_nn))\n",
        "plt.xlabel('Метрики')\n",
        "plt.ylabel('')\n",
        "plt.title('Результаты')\n",
        "plt.show()"
      ]
    },
    {
      "cell_type": "code",
      "execution_count": null,
      "id": "f8121d49",
      "metadata": {
        "id": "f8121d49"
      },
      "outputs": [],
      "source": [
        "parameters  = {}\n",
        "precisions_ = []\n",
        "recalls_ = []\n",
        "recalls_at_20_ = []"
      ]
    },
    {
      "cell_type": "code",
      "execution_count": null,
      "id": "9f092818",
      "metadata": {
        "id": "9f092818"
      },
      "outputs": [],
      "source": [
        "for iter_ in [1000]:\n",
        "    for depth in [10]:\n",
        "        for lr in [0.001]:\n",
        "            for user_id in notebook.tqdm(users):\n",
        "                train_rank, retrivial_result = RecoveryRec(train_f, test, user_id, top_items, n, 5, num_emb, nn)\n",
        "\n",
        "                bought_test = list(test[test['user_id'] == user_id]['item_id'].unique())\n",
        "\n",
        "                target = train_rank['purchaise']\n",
        "                features = train_rank.drop(['item_id', 'user_id', 'purchaise'], axis=1)\n",
        "\n",
        "                group_id_train = [0]*target.shape[0]\n",
        "\n",
        "                # Загрузка данных\n",
        "                train_data = cb.Pool(data=features, label=target, group_id=group_id_train)\n",
        "                test_data = cb.Pool(data=retrivial_result)\n",
        "\n",
        "                parameters['iterations'] = iter_\n",
        "                parameters['depth'] = depth\n",
        "                parameters['learning_rate'] = lr\n",
        "\n",
        "                params = {'iterations': iter_,\n",
        "                          'custom_metric': ['NDCG'],\n",
        "                          'verbose': True,\n",
        "                          'random_seed': RANDOM_STATE,\n",
        "                          'loss_function' : 'YetiRank',\n",
        "                          'depth' : depth,\n",
        "                          'learning_rate' : lr\n",
        "                }\n",
        "\n",
        "                model = cb.CatBoost(params)\n",
        "                model.fit(train_data, verbose=False)\n",
        "                predictions = model.predict(test_data)\n",
        "\n",
        "                retrivial_result['rank'] = predictions\n",
        "                retrivial_result.sort_values(by='rank', inplace=True, ascending=False)\n",
        "\n",
        "                relevant_recommendations = list(retrivial_result['item_id'].unique())\n",
        "\n",
        "                precisions_.append(precision_at_k(relevant_recommendations[:20], bought_test))\n",
        "                recalls_.append(recall_at_k(relevant_recommendations, bought_test))\n",
        "                recalls_at_20_.append(recall_at_k(relevant_recommendations[:20], bought_test))\n",
        "            print(parameters)\n",
        "            print(f'precision@20: {np.mean(precisions_)}')\n",
        "            print(f'recall@20: {np.mean(recalls_at_20_)}')\n",
        "            print(f'recall: {np.mean(recalls_)}')\n",
        "            print(features.shape[0])"
      ]
    },
    {
      "cell_type": "code",
      "execution_count": null,
      "id": "cf82fb2b",
      "metadata": {
        "id": "cf82fb2b"
      },
      "outputs": [],
      "source": [
        "parameters  = {}\n",
        "precisions_cb = []\n",
        "recalls_cb = []\n",
        "recalls_at_20_cb = []"
      ]
    },
    {
      "cell_type": "code",
      "execution_count": null,
      "id": "f9ded836",
      "metadata": {
        "colab": {
          "referenced_widgets": [
            "7161d854e7dd442f9e7cadd98b7ef0c2"
          ]
        },
        "id": "f9ded836",
        "outputId": "f9bfdb27-3181-4266-e8a9-4abffb0bc6e4"
      },
      "outputs": [
        {
          "data": {
            "application/vnd.jupyter.widget-view+json": {
              "model_id": "7161d854e7dd442f9e7cadd98b7ef0c2",
              "version_major": 2,
              "version_minor": 0
            },
            "text/plain": [
              "  0%|          | 0/100 [00:00<?, ?it/s]"
            ]
          },
          "metadata": {},
          "output_type": "display_data"
        },
        {
          "name": "stdout",
          "output_type": "stream",
          "text": [
            "precision@20: 0.015500000000000003\n",
            "recall@20: 0.044491513116513115\n",
            "recall: 0.79248254985755\n",
            "8 {'depth': 7, 'iter_': 1000}\n"
          ]
        }
      ],
      "source": [
        "parameters = {}\n",
        "for iter_ in [1000]:\n",
        "    for depth in [7]:\n",
        "        for lr in [0.001]:\n",
        "            for user_id in notebook.tqdm(users):\n",
        "                parameters['depth'] = depth\n",
        "                parameters['iter_'] = iter_\n",
        "                train_rank, retrivial_result = Recovery(train_f, test, user_id, top_items, n, k_recovery, num_emb)\n",
        "\n",
        "                bought_test = list(test[test['user_id'] == user_id]['item_id'].unique())\n",
        "\n",
        "                target = train_rank['purchaise']\n",
        "                features = train_rank.drop(['item_id', 'user_id', 'purchaise'], axis=1)\n",
        "\n",
        "                group_id_train = [0]*target.shape[0]\n",
        "\n",
        "                # Загрузка данных\n",
        "                train_data = cb.Pool(data=features, label=target, group_id=group_id_train)\n",
        "                test_data = cb.Pool(data=retrivial_result)\n",
        "\n",
        "\n",
        "                params = {'iterations': iter_,\n",
        "                          'custom_metric': ['NDCG'],\n",
        "                          'verbose': True,\n",
        "                          'random_seed': RANDOM_STATE,\n",
        "                          'loss_function' : 'YetiRank',\n",
        "                          'depth' : depth,\n",
        "                          'learning_rate' : lr\n",
        "                }\n",
        "\n",
        "                model = cb.CatBoost(params)\n",
        "                model.fit(train_data, verbose=False)\n",
        "                predictions = model.predict(test_data)\n",
        "\n",
        "                retrivial_result['rank'] = predictions\n",
        "                retrivial_result.sort_values(by='rank', inplace=True, ascending=False)\n",
        "\n",
        "                relevant_recommendations = list(retrivial_result['item_id'].unique())\n",
        "                precisions_cb.append(precision_at_k(relevant_recommendations[:20], bought_test))\n",
        "                recalls_cb.append(recall_at_k(relevant_recommendations, bought_test))\n",
        "                recalls_at_20_cb.append(recall_at_k(relevant_recommendations[:20], bought_test))\n",
        "\n",
        "            print(f'precision@20: {np.mean(precisions_cb)}')\n",
        "            print(f'recall@20: {np.mean(recalls_at_20_cb)}')\n",
        "            print(f'recall: {np.mean(recalls_cb)}')\n",
        "            print(features.shape[0], parameters)"
      ]
    },
    {
      "cell_type": "code",
      "execution_count": null,
      "id": "18fb37d2",
      "metadata": {
        "id": "18fb37d2"
      },
      "outputs": [],
      "source": [
        "res_cb = {'recall': recalls_cb, 'precision@20': precisions_cb, 'recall@20': recalls_at_20_cb}"
      ]
    },
    {
      "cell_type": "code",
      "execution_count": null,
      "id": "0aeefb33",
      "metadata": {
        "id": "0aeefb33",
        "outputId": "df06274b-5f19-4c58-e858-ca3b27590ec6"
      },
      "outputs": [
        {
          "data": {
            "image/png": "[encoded data removed]",
            "text/plain": [
              "<Figure size 640x480 with 1 Axes>"
            ]
          },
          "metadata": {},
          "output_type": "display_data"
        }
      ],
      "source": [
        "sns.boxplot(data=pd.DataFrame(res_cb))\n",
        "plt.xlabel('Метрики')\n",
        "plt.ylabel('')\n",
        "plt.title('Результаты')\n",
        "plt.show()"
      ]
    },
    {
      "cell_type": "code",
      "execution_count": null,
      "id": "7201602a",
      "metadata": {
        "id": "7201602a"
      },
      "outputs": [],
      "source": [
        "parameters = {}\n",
        "for lambd in [0.001]:\n",
        "    for lr in [0.001]:\n",
        "        precisions = []\n",
        "        for user_id in notebook.tqdm(users):\n",
        "            parameters['lambda'] = lambd\n",
        "            parameters['larning rate'] = lr\n",
        "            train_rank, retrivial_result = Recovery(train_f, test, user_id, top_items, n, k_recovery, num_emb)\n",
        "\n",
        "            bought_test = list(test[test['user_id'] == user_id]['item_id'].unique())\n",
        "\n",
        "            target = train_rank['purchaise']\n",
        "            features = train_rank.drop(['item_id', 'user_id', 'purchaise'], axis=1)\n",
        "            dump_svmlight_file(features, target, 'libsvm_train_rank.txt')\n",
        "            param = {'task':'reg', 'lr': lr, 'lambda': lambd, 'metric':'acc'}\n",
        "\n",
        "            ffm_model = xl.create_ffm()\n",
        "            ffm_model.setTrain(\"libsvm_train_rank.txt\")\n",
        "\n",
        "\n",
        "            ffm_model.fit(param, \"ffm_out.out\")\n",
        "            ffm_model.setSign()\n",
        "            retrivial_result_test = retrivial_result.drop(['user_id', 'item_id'], axis=1)\n",
        "            dump_svmlight_file(retrivial_result_test, np.zeros(retrivial_result_test.shape[0]), 'libsvm_test_rank.txt')\n",
        "            ffm_model.setTest(\"libsvm_test_rank.txt\")\n",
        "            ffm_model.predict(\"ffm_out.out\", 'output_rank.txt')\n",
        "            rank = pd.read_csv('output_rank.txt')\n",
        "            retrivial_result.reset_index(inplace=True, drop=True)\n",
        "            retrivial_result['rank'] = rank\n",
        "            retrivial_result.reset_index(inplace=True, drop=True)\n",
        "            relevant_recommendations = retrivial_result.sort_values(by='rank', ascending=False)\n",
        "\n",
        "            precisions.append(precision_at_k(relevant_recommendations[:20], bought_test))\n",
        "        print(np.mean(precisions))\n",
        "        print(parameters)"
      ]
    },
    {
      "cell_type": "markdown",
      "id": "3efd4d28",
      "metadata": {
        "id": "3efd4d28"
      },
      "source": [
        "Другая модель BM25 для ранжирования:"
      ]
    },
    {
      "cell_type": "code",
      "execution_count": null,
      "id": "1b3da301",
      "metadata": {
        "id": "1b3da301"
      },
      "outputs": [],
      "source": [
        "users = random.sample(users_tt, 100)\n",
        "parameters  = {}\n",
        "precisions_bm = []\n",
        "recalls_bm = []\n",
        "recalls_at_20_bm = []"
      ]
    },
    {
      "cell_type": "code",
      "execution_count": null,
      "id": "22b471b9",
      "metadata": {
        "colab": {
          "referenced_widgets": [
            "359eb715c0d040d58dd6ecf20e064b7d"
          ]
        },
        "id": "22b471b9",
        "outputId": "25fdfac0-5361-4cb2-99cb-da5a87b9673b"
      },
      "outputs": [
        {
          "data": {
            "application/vnd.jupyter.widget-view+json": {
              "model_id": "359eb715c0d040d58dd6ecf20e064b7d",
              "version_major": 2,
              "version_minor": 0
            },
            "text/plain": [
              "  0%|          | 0/100 [00:00<?, ?it/s]"
            ]
          },
          "metadata": {},
          "output_type": "display_data"
        },
        {
          "name": "stdout",
          "output_type": "stream",
          "text": [
            "precision@20: 0.018000000000000002\n",
            "recall@20: 0.043092564154635096\n",
            "recall: 0.813008910876817\n"
          ]
        }
      ],
      "source": [
        "grouped_train = train_.drop(['order_ts'], axis=1).groupby('user_id')['item_id'].agg(lambda x: list(map(str, x)))\n",
        "for user_id in notebook.tqdm(users):\n",
        "\n",
        "    query = list(map(str, grouped_train.loc[user_id]))\n",
        "    grouped_train_1 = grouped_train.drop(user_id, axis=0)\n",
        "\n",
        "    query = list(set(query))\n",
        "\n",
        "    corpus = np.array(grouped_train_1.values)\n",
        "    bm25 = BM25Okapi(corpus)\n",
        "    doc_scores = bm25.get_scores(query)\n",
        "\n",
        "    sc = pd.DataFrame(data=doc_scores, index=grouped_train_1.index, columns=['scores'])\n",
        "    sc_sort = sc.sort_values(by='scores', ascending=False)\n",
        "    users_relevant = sc_sort[sc_sort['scores'] > 0].index\n",
        "\n",
        "    merged_list = list(chain.from_iterable(grouped_train_1[users_relevant].values))\n",
        "    rec = list(map(int, pd.Series(merged_list).unique()))\n",
        "    bought_test = list(test[test['user_id'] == user_id]['item_id'].unique())\n",
        "    query_int = list(map(int, query))\n",
        "    rec_new = [x for x in rec if x not in query_int]\n",
        "\n",
        "    precisions_bm.append(precision_at_k(rec_new[:20], bought_test))\n",
        "    recalls_bm.append(recall_at_k(rec_new, bought_test))\n",
        "    recalls_at_20_bm.append(recall_at_k(rec_new[:20], bought_test))\n",
        "\n",
        "print(f'precision@20: {np.mean(precisions_bm)}')\n",
        "print(f'recall@20: {np.mean(recalls_at_20_bm)}')\n",
        "print(f'recall: {np.mean(recalls_bm)}')"
      ]
    },
    {
      "cell_type": "code",
      "execution_count": null,
      "id": "6dabff5b",
      "metadata": {
        "id": "6dabff5b"
      },
      "outputs": [],
      "source": [
        "res_bm = {'recall': recalls_bm, 'precision@20': precisions_bm, 'recall@20': recalls_at_20_bm}"
      ]
    },
    {
      "cell_type": "code",
      "execution_count": null,
      "id": "211ac9cd",
      "metadata": {
        "id": "211ac9cd",
        "outputId": "5c94b500-fb6f-446d-ff51-c3a30a09d100"
      },
      "outputs": [
        {
          "data": {
            "image/png": "[encoded data removed]",
            "text/plain": [
              "<Figure size 640x480 with 1 Axes>"
            ]
          },
          "metadata": {},
          "output_type": "display_data"
        }
      ],
      "source": [
        "sns.boxplot(data=pd.DataFrame(res_bm))\n",
        "plt.xlabel('Метрики')\n",
        "plt.ylabel('')\n",
        "plt.title('Результаты')\n",
        "plt.show()"
      ]
    },
    {
      "cell_type": "markdown",
      "id": "735c3441",
      "metadata": {
        "id": "735c3441"
      },
      "source": [
        "Итог:\n",
        "- при использовании только faiss и catboost - результат лучше других\n",
        "- при использовании двойного извлечения результат не меняется (и даже иногда хуже)\n",
        "- при использовании NN для тренирововочной выборки catboost после faiss и до ранжирования - лучший результат\n",
        "- при использовании BM25 для извлеченной выборки - результат хуже\n",
        "- при использовании BM25 для всей выборки - результат незначительно хуже"
      ]
    },
    {
      "cell_type": "markdown",
      "id": "d50a9541",
      "metadata": {
        "id": "d50a9541"
      },
      "source": [
        "Попробуем примеить BM25 для ранжирования для наших приззнаков:"
      ]
    },
    {
      "cell_type": "code",
      "execution_count": null,
      "id": "79d7815b",
      "metadata": {
        "colab": {
          "referenced_widgets": [
            "4549aa6a6f704689bc6cc72e7f664c26"
          ]
        },
        "id": "79d7815b",
        "outputId": "05678d1d-ddcd-463b-d249-0b9010100344"
      },
      "outputs": [
        {
          "data": {
            "application/vnd.jupyter.widget-view+json": {
              "model_id": "4549aa6a6f704689bc6cc72e7f664c26",
              "version_major": 2,
              "version_minor": 0
            },
            "text/plain": [
              "  0%|          | 0/100 [00:00<?, ?it/s]"
            ]
          },
          "metadata": {},
          "output_type": "display_data"
        },
        {
          "name": "stdout",
          "output_type": "stream",
          "text": [
            "precision@20: 0.012980769230769231\n",
            "recall@20: 0.02842460830232569\n",
            "recall: 0.752162757023092\n"
          ]
        }
      ],
      "source": [
        "for user_id in notebook.tqdm(users):\n",
        "\n",
        "    train_rank, retrivial_result = Recovery(train_f, test, user_id, top_items, n, k_recovery, num_emb)\n",
        "    grouped_train = retrivial_result.agg(lambda x: list(map(str, x)))\n",
        "\n",
        "    query = list(map(str, train_f.iloc[user_id]))\n",
        "    query = list(set(query))\n",
        "\n",
        "    corpus = np.array(grouped_train.values)\n",
        "    bm25 = BM25Okapi(corpus)\n",
        "    doc_scores = bm25.get_scores(query)\n",
        "\n",
        "    sc = pd.DataFrame(data=doc_scores, index=grouped_train.index, columns=['scores'])\n",
        "    sc_sort = sc.sort_values(by='scores', ascending=False)\n",
        "    users_relevant = sc_sort[sc_sort['scores'] > 0]\n",
        "\n",
        "    recommendations = retrivial_result.join(users_relevant, how='right')['item_id']\n",
        "    bought_test = list(test[test['user_id'] == user_id]['item_id'].unique())\n",
        "    recommendations = list(recommendations.unique())\n",
        "\n",
        "    precisions_mix.append(precision_at_k(recommendations[:20], bought_test))\n",
        "    recalls_mix.append(recall_at_k(recommendations, bought_test))\n",
        "    recalls_at_20_mix.append(recall_at_k(recommendations[:20], bought_test))\n",
        "\n",
        "print(f'precision@20: {np.mean(precisions_mix)}')\n",
        "print(f'recall@20: {np.mean(recalls_at_20_mix)}')\n",
        "print(f'recall: {np.mean(recalls_mix)}')"
      ]
    },
    {
      "cell_type": "code",
      "execution_count": null,
      "id": "f0ceb935",
      "metadata": {
        "id": "f0ceb935",
        "outputId": "0aed57d0-78d1-4830-b3ea-83a729214c15"
      },
      "outputs": [
        {
          "data": {
            "image/png": "[encoded data removed]",
            "text/plain": [
              "<Figure size 640x480 with 1 Axes>"
            ]
          },
          "metadata": {},
          "output_type": "display_data"
        }
      ],
      "source": [
        "res_mix = {'recall': recalls_mix, 'precision@20': precisions_mix, 'recall@20': recalls_at_20_mix}\n",
        "\n",
        "sns.boxplot(data=pd.DataFrame(res_mix))\n",
        "plt.xlabel('Метрики')\n",
        "plt.ylabel('')\n",
        "plt.title('Результаты')\n",
        "plt.show()"
      ]
    },
    {
      "cell_type": "code",
      "execution_count": null,
      "id": "70cb99af",
      "metadata": {
        "id": "70cb99af",
        "outputId": "624a54f2-362a-49d5-9bc0-9f2b5d42ad4b"
      },
      "outputs": [
        {
          "name": "stdout",
          "output_type": "stream",
          "text": [
            "Coverage xlearn : 30.49\n",
            "Coverage catboost : 22.92\n"
          ]
        }
      ],
      "source": [
        "print(f'Coverage xlearn : {coverage_xl:.2f}')\n",
        "print(f'Coverage catboost : {coverage_cb:.2f}')"
      ]
    },
    {
      "cell_type": "code",
      "execution_count": null,
      "id": "65d4f75e",
      "metadata": {
        "id": "65d4f75e",
        "outputId": "c3e5bf8b-6787-4acf-877d-cc06d1bd8b47"
      },
      "outputs": [
        {
          "data": {
            "image/png": "[encoded data removed]",
            "text/plain": [
              "<Figure size 640x480 with 1 Axes>"
            ]
          },
          "metadata": {},
          "output_type": "display_data"
        }
      ],
      "source": [
        "sns.boxplot(data=pd.DataFrame(df_recalls))\n",
        "plt.title('Полнота для разных методов ранжирования')\n",
        "plt.show()"
      ]
    },
    {
      "cell_type": "code",
      "execution_count": null,
      "id": "a6aea5fd",
      "metadata": {
        "id": "a6aea5fd",
        "outputId": "8b9e68a5-adcf-4bfa-ba23-4993fc52a958"
      },
      "outputs": [
        {
          "data": {
            "image/png": "[encoded data removed]",
            "text/plain": [
              "<Figure size 640x480 with 1 Axes>"
            ]
          },
          "metadata": {},
          "output_type": "display_data"
        }
      ],
      "source": [
        "sns.boxplot(data=pd.DataFrame(df_precisions))\n",
        "plt.title('Точность для разных методов ранжирования')\n",
        "plt.show()"
      ]
    },
    {
      "cell_type": "markdown",
      "id": "eff558fb",
      "metadata": {
        "id": "eff558fb"
      },
      "source": [
        "Результаты:\n",
        "- в среднем себя лучше показывает **xlearn**\n",
        "- для отдельный элементов гораздо лучшие точность у **catboost**"
      ]
    },
    {
      "cell_type": "markdown",
      "id": "2558dd6b",
      "metadata": {
        "id": "2558dd6b"
      },
      "source": [
        "## Кросс-валидация"
      ]
    },
    {
      "cell_type": "code",
      "execution_count": null,
      "id": "422dd14d",
      "metadata": {
        "id": "422dd14d"
      },
      "outputs": [],
      "source": [
        "users = random.sample(users_tt, 50)"
      ]
    },
    {
      "cell_type": "code",
      "execution_count": null,
      "id": "a6b8b79f",
      "metadata": {
        "id": "a6b8b79f"
      },
      "outputs": [],
      "source": [
        "k = 200"
      ]
    },
    {
      "cell_type": "code",
      "execution_count": null,
      "id": "2e8e514e",
      "metadata": {
        "scrolled": false,
        "id": "2e8e514e"
      },
      "outputs": [],
      "source": [
        "# parameters = {}\n",
        "# scores = {}\n",
        "# max_precision = 0\n",
        "\n",
        "# for n in [2_000_000, 4_000_000, 6_000_000]:\n",
        "#     for th in [-5, 0, 5]:\n",
        "#         vi = 10\n",
        "#         vu = 5\n",
        "#         nn = 25\n",
        "#         k_recovery = 15\n",
        "#         all_rec, recalls, precisions = RRN_Cb(train_, test, users, n, nn, th, 100)\n",
        "#         parameters['batch_size'] = n\n",
        "#         parameters['threshold'] = th\n",
        "\n",
        "#         train_ = train_.reset_index(drop=True)\n",
        "\n",
        "#         scores['recall_mean'] = np.mean(recalls)\n",
        "#         scores['precision_mean'] = np.mean(precisions)\n",
        "#         scores['recall_max'] = max(recalls)\n",
        "#         scores['precision_max'] = max(precisions)\n",
        "\n",
        "#         scores['coverage'] = len(set(all_rec))/len(set(data['item_id'].unique()))*100\n",
        "\n",
        "#         print(f'Параметры: {parameters}')\n",
        "#         print(f'Result {scores}')\n",
        "#         print('_'*30)\n",
        "\n",
        "#         if scores['precision_mean'] > max_precision:\n",
        "#             best_score = scores\n",
        "#             best_params = parameters"
      ]
    },
    {
      "cell_type": "markdown",
      "id": "a30c341a",
      "metadata": {
        "id": "a30c341a"
      },
      "source": [
        "![image.png](attachment:image.png)"
      ]
    },
    {
      "cell_type": "markdown",
      "id": "8c9a107d",
      "metadata": {
        "id": "8c9a107d"
      },
      "source": [
        "![image.png](attachment:image.png)"
      ]
    },
    {
      "cell_type": "markdown",
      "id": "7cffd608",
      "metadata": {
        "id": "7cffd608"
      },
      "source": [
        "![image.png](attachment:image.png)"
      ]
    },
    {
      "cell_type": "markdown",
      "id": "da9d9937",
      "metadata": {
        "id": "da9d9937"
      },
      "source": [
        "При подборе гиперпараметров при учете всех рекомендаций получились средние **recall ~0.2, precision ~0.015**\n",
        "\n",
        "Оптимальные параметры: nn = 25, k = 15, batch_size = 4000000, threshold для catboost: -5"
      ]
    },
    {
      "cell_type": "markdown",
      "id": "dc8d92c0",
      "metadata": {
        "id": "dc8d92c0"
      },
      "source": [
        "Лучшие параметры 'batch_size': 4000000, 'threshold': -5"
      ]
    },
    {
      "cell_type": "markdown",
      "id": "0a46d219",
      "metadata": {
        "id": "0a46d219"
      },
      "source": [
        "### Оценка модели (здесь на тестовой выборке)"
      ]
    },
    {
      "cell_type": "markdown",
      "id": "c9667565",
      "metadata": {
        "id": "c9667565"
      },
      "source": [
        "Для нашего пользователя:"
      ]
    },
    {
      "cell_type": "markdown",
      "id": "2ad28e86",
      "metadata": {
        "id": "2ad28e86"
      },
      "source": [
        "<div style='color:red;'>Учесть количество покупок в тестовой выборке<div>"
      ]
    },
    {
      "cell_type": "code",
      "execution_count": null,
      "id": "805eee0a",
      "metadata": {
        "colab": {
          "referenced_widgets": [
            "3f716eae0537474299299b727da96789"
          ]
        },
        "id": "805eee0a",
        "outputId": "13422fc5-7a81-4983-d319-22de56fb87f2"
      },
      "outputs": [
        {
          "data": {
            "application/vnd.jupyter.widget-view+json": {
              "model_id": "3f716eae0537474299299b727da96789",
              "version_major": 2,
              "version_minor": 0
            },
            "text/plain": [
              "  0%|          | 0/500 [00:00<?, ?it/s]"
            ]
          },
          "metadata": {},
          "output_type": "display_data"
        },
        {
          "ename": "NameError",
          "evalue": "name 'all_rec' is not defined",
          "output_type": "error",
          "traceback": [
            "\u001b[1;31m---------------------------------------------------------------------------\u001b[0m",
            "\u001b[1;31mNameError\u001b[0m                                 Traceback (most recent call last)",
            "\u001b[1;32m~\\AppData\\Local\\Temp\\ipykernel_24904\\1749988789.py\u001b[0m in \u001b[0;36m<module>\u001b[1;34m\u001b[0m\n\u001b[0;32m      8\u001b[0m \u001b[1;33m\u001b[0m\u001b[0m\n\u001b[0;32m      9\u001b[0m \u001b[0mall_rec_xl\u001b[0m\u001b[1;33m,\u001b[0m \u001b[0mrecalls_xl\u001b[0m\u001b[1;33m,\u001b[0m \u001b[0mprecisions_xl\u001b[0m \u001b[1;33m=\u001b[0m \u001b[0mRRN_Xlearn\u001b[0m\u001b[1;33m(\u001b[0m\u001b[0mtrain_\u001b[0m\u001b[1;33m,\u001b[0m \u001b[0mtest\u001b[0m\u001b[1;33m,\u001b[0m \u001b[0musers\u001b[0m\u001b[1;33m,\u001b[0m \u001b[1;36m200\u001b[0m\u001b[1;33m)\u001b[0m\u001b[1;33m\u001b[0m\u001b[1;33m\u001b[0m\u001b[0m\n\u001b[1;32m---> 10\u001b[1;33m \u001b[0mcoverage_xl\u001b[0m \u001b[1;33m=\u001b[0m \u001b[0mlen\u001b[0m\u001b[1;33m(\u001b[0m\u001b[0mset\u001b[0m\u001b[1;33m(\u001b[0m\u001b[0mall_rec\u001b[0m\u001b[1;33m)\u001b[0m\u001b[1;33m)\u001b[0m\u001b[1;33m/\u001b[0m\u001b[0mlen\u001b[0m\u001b[1;33m(\u001b[0m\u001b[0mset\u001b[0m\u001b[1;33m(\u001b[0m\u001b[0mdata\u001b[0m\u001b[1;33m[\u001b[0m\u001b[1;34m'item_id'\u001b[0m\u001b[1;33m]\u001b[0m\u001b[1;33m.\u001b[0m\u001b[0munique\u001b[0m\u001b[1;33m(\u001b[0m\u001b[1;33m)\u001b[0m\u001b[1;33m)\u001b[0m\u001b[1;33m)\u001b[0m\u001b[1;33m*\u001b[0m\u001b[1;36m100\u001b[0m\u001b[1;33m\u001b[0m\u001b[1;33m\u001b[0m\u001b[0m\n\u001b[0m",
            "\u001b[1;31mNameError\u001b[0m: name 'all_rec' is not defined"
          ]
        }
      ],
      "source": [
        "n = 4_000_000 # размер батча\n",
        "vi = 10 # вектор эмбеддингов айтемов\n",
        "vu = 5 # вектор эмбеддингов юзеров\n",
        "nn = 25 # число ближайших соседей\n",
        "k_recovery = 15 # число извлеченных объектов\n",
        "\n",
        "users = random.sample(users_tt, 500)\n",
        "\n",
        "all_rec_xl, recalls_xl, precisions_xl = RRN_Xlearn(train_, test, users, 200)"
      ]
    },
    {
      "cell_type": "code",
      "execution_count": null,
      "id": "44f6e3e9",
      "metadata": {
        "id": "44f6e3e9"
      },
      "outputs": [],
      "source": [
        "coverage_xl = len(set(all_rec_xl))/len(set(data['item_id'].unique()))*100"
      ]
    },
    {
      "cell_type": "code",
      "execution_count": null,
      "id": "c6cfd764",
      "metadata": {
        "id": "c6cfd764",
        "outputId": "a08bfa9f-55f9-4aa9-bfce-a7aa40f3b73c"
      },
      "outputs": [
        {
          "name": "stdout",
          "output_type": "stream",
          "text": [
            "Покрытие : 50.69\n"
          ]
        }
      ],
      "source": [
        "print(f'Покрытие : {coverage_xl:.2f}')"
      ]
    },
    {
      "cell_type": "code",
      "execution_count": null,
      "id": "e1c014be",
      "metadata": {
        "id": "e1c014be",
        "outputId": "233f4783-d9c4-4595-b865-95041e5cca3b"
      },
      "outputs": [
        {
          "name": "stdout",
          "output_type": "stream",
          "text": [
            "Средняя точность : 0.01\n",
            "Средняя полнота : 0.14\n"
          ]
        }
      ],
      "source": [
        "print(f'Средняя точность : {np.mean(precisions_xl):.2f}')\n",
        "print(f'Средняя полнота : {np.mean(recalls_xl):.2f}')"
      ]
    },
    {
      "cell_type": "code",
      "execution_count": null,
      "id": "911a26fa",
      "metadata": {
        "id": "911a26fa",
        "outputId": "30cad450-2acc-4e40-f133-cd3bdddc0014"
      },
      "outputs": [
        {
          "data": {
            "image/png": "[encoded data removed]",
            "text/plain": [
              "<Figure size 640x480 with 1 Axes>"
            ]
          },
          "metadata": {},
          "output_type": "display_data"
        }
      ],
      "source": [
        "sns.boxplot(data=pd.DataFrame({'recall': recalls_xl, 'precision': precisions_xl}))\n",
        "plt.title('Метрики @200')\n",
        "plt.show()"
      ]
    },
    {
      "cell_type": "code",
      "execution_count": null,
      "id": "325fc5ab",
      "metadata": {
        "colab": {
          "referenced_widgets": [
            "a1b208a0926c4b2db4b351095d25917a"
          ]
        },
        "id": "325fc5ab",
        "outputId": "1c5a9756-8bd1-4760-d0a5-9485d1c9c949"
      },
      "outputs": [
        {
          "data": {
            "application/vnd.jupyter.widget-view+json": {
              "model_id": "a1b208a0926c4b2db4b351095d25917a",
              "version_major": 2,
              "version_minor": 0
            },
            "text/plain": [
              "  0%|          | 0/500 [00:00<?, ?it/s]"
            ]
          },
          "metadata": {},
          "output_type": "display_data"
        }
      ],
      "source": [
        "th = -5 # шаг для catboost\n",
        "n = 4_000_000 # размер батча\n",
        "vi = 10 # вектор эмбеддингов айтемов\n",
        "vu = 5 # вектор эмбеддингов юзеров\n",
        "nn = 25 # число ближайших соседей\n",
        "k_recovery = 15 # число извлеченных объектов\n",
        "users = random.sample(users_tt, 500)\n",
        "all_rec_cb, recalls_cb, precisions_cb = RRN_Cb(train_, test, users, n, nn, th, 200)\n",
        "\n",
        "coverage = len(set(all_rec_cb))/len(set(data['item_id'].unique()))*100"
      ]
    },
    {
      "cell_type": "code",
      "execution_count": null,
      "id": "c4a457b3",
      "metadata": {
        "id": "c4a457b3"
      },
      "outputs": [],
      "source": [
        "coverage_cb = len(set(all_rec_cb))/len(set(data['item_id'].unique()))*100"
      ]
    },
    {
      "cell_type": "code",
      "execution_count": null,
      "id": "0e16ac59",
      "metadata": {
        "id": "0e16ac59",
        "outputId": "4809c1f1-7e95-41d3-caa9-fcc1de06f5b7"
      },
      "outputs": [
        {
          "name": "stdout",
          "output_type": "stream",
          "text": [
            "Покрытие : 44.71\n"
          ]
        }
      ],
      "source": [
        "print(f'Покрытие : {coverage_cb:.2f}')"
      ]
    },
    {
      "cell_type": "code",
      "execution_count": null,
      "id": "7bf9b195",
      "metadata": {
        "id": "7bf9b195",
        "outputId": "fa9859a5-b897-408f-9aff-aa53d58c7d43"
      },
      "outputs": [
        {
          "name": "stdout",
          "output_type": "stream",
          "text": [
            "Средняя точность : 0.01\n",
            "Средняя полнота : 0.11\n"
          ]
        }
      ],
      "source": [
        "print(f'Средняя точность : {np.mean(precisions_cb):.2f}')\n",
        "print(f'Средняя полнота : {np.mean(recalls_cb):.2f}')"
      ]
    },
    {
      "cell_type": "code",
      "execution_count": null,
      "id": "32e9651d",
      "metadata": {
        "id": "32e9651d",
        "outputId": "59493d16-501d-4874-c3b3-0ba06d2a9ec2"
      },
      "outputs": [
        {
          "data": {
            "image/png": "[encoded data removed]",
            "text/plain": [
              "<Figure size 640x480 with 1 Axes>"
            ]
          },
          "metadata": {},
          "output_type": "display_data"
        }
      ],
      "source": [
        "sns.boxplot(data=pd.DataFrame({'recall': recalls_cb, 'precision': precisions_cb}))\n",
        "plt.title('Метрики @200')\n",
        "plt.show()"
      ]
    },
    {
      "cell_type": "markdown",
      "id": "6474a09e",
      "metadata": {
        "id": "6474a09e"
      },
      "source": [
        "### Структура пайплайна\n",
        "\n",
        "**1. Отчиска данных от выбросов критерием Граббса** <br>\n",
        "Параметры: `p1..p5` - коэффициенты для выбросов <br>\n",
        "\n",
        "**2. Формирование эмбеддингов для юзеров и айтемов** <br>\n",
        "Параметры: `mc_users`, `mc_items` - минимальное количество юзеров и айтемов в датасета для включения их в эмбеддинги; <br>\n",
        "`vector_users`, `vector_items` - величина векторов эмбеддингов <br>\n",
        "\n",
        "**3. Добавление признаков** <br>\n",
        "Формирование признаков для даты покупки, а именно время и месяц в трионометрическом представлении для учета возможной цикличности - `FeaturesAdd()` <br>\n",
        "\n",
        "**4. Извлечение** <br>\n",
        "Извлечение происходит хешированием (для быстрой работы) батчами из исходного датасаета. Происходит формирование эмбеддингов, похожих на эмбеддинг нужного юзера. Осуществляем с помощью библиотеки `faiss` - `Recovery()` <br>\n",
        "Параметры: `n` - величина батча, `k` - число извлеченных объектов <br>\n",
        "Если m - число товаров, купленных пользователем, то всего извлечено эмбеддингов будет $ i*m*k $, где i - количество иттераций (сколько батчей помещается в тренировочной выборке) <br>\n",
        "\n",
        "**5. Ранжирование** <br>\n",
        "Учет признаков дат и эмбеддингов для предварительного ранжирования <br>\n",
        "Коэффициенты дистанций для каждой из релевантных рекомендаций, а затем ранжирование с таргетом - расстоянием.\n",
        "Параметры могут быть разные в зависимости от модели.\n",
        "\n",
        "**6. Поиск наиболее релевантных рекомендаций** <br>\n",
        "На основе метода поиска ближайших соседей ищем наиболее релеванстные рекомендации <br>\n",
        "\n",
        "**7. Оценка модели** <br>\n",
        "Оценка на 1000 пользователей"
      ]
    },
    {
      "cell_type": "markdown",
      "id": "fe959907",
      "metadata": {
        "id": "fe959907"
      },
      "source": [
        "💡Проверить важность признаков"
      ]
    },
    {
      "cell_type": "markdown",
      "id": "546b69e0",
      "metadata": {
        "id": "546b69e0"
      },
      "source": [
        "Источники:\n",
        "1. <a href='https://habr.com/ru/companies/otus/articles/732842/'> Метрики </a>"
      ]
    }
  ],
  "metadata": {
    "accelerator": "GPU",
    "colab": {
      "collapsed_sections": [
        "c2a7081b"
      ],
      "gpuType": "T4",
      "provenance": [],
      "include_colab_link": true
    },
    "kernelspec": {
      "display_name": "Python 3",
      "name": "python3"
    },
    "language_info": {
      "codemirror_mode": {
        "name": "ipython",
        "version": 3
      },
      "file_extension": ".py",
      "mimetype": "text/x-python",
      "name": "python",
      "nbconvert_exporter": "python",
      "pygments_lexer": "ipython3",
      "version": "3.9.13"
    },
    "widgets": {
      "application/vnd.jupyter.widget-state+json": {
        "9c78a388a8a4404db5c798ae9ed6767f": {
          "model_module": "@jupyter-widgets/controls",
          "model_name": "HBoxModel",
          "model_module_version": "1.5.0",
          "state": {
            "_dom_classes": [],
            "_model_module": "@jupyter-widgets/controls",
            "_model_module_version": "1.5.0",
            "_model_name": "HBoxModel",
            "_view_count": null,
            "_view_module": "@jupyter-widgets/controls",
            "_view_module_version": "1.5.0",
            "_view_name": "HBoxView",
            "box_style": "",
            "children": [
              "IPY_MODEL_8223b67352974c1b8a27c8ad7544a20f",
              "IPY_MODEL_b53af9d16db444b797a3f47292ee4a43",
              "IPY_MODEL_3fdf5d2d2cb448a2a30bf1885514750f"
            ],
            "layout": "IPY_MODEL_430a8fe301b146d88fc1892effb98369"
          }
        },
        "8223b67352974c1b8a27c8ad7544a20f": {
          "model_module": "@jupyter-widgets/controls",
          "model_name": "HTMLModel",
          "model_module_version": "1.5.0",
          "state": {
            "_dom_classes": [],
            "_model_module": "@jupyter-widgets/controls",
            "_model_module_version": "1.5.0",
            "_model_name": "HTMLModel",
            "_view_count": null,
            "_view_module": "@jupyter-widgets/controls",
            "_view_module_version": "1.5.0",
            "_view_name": "HTMLView",
            "description": "",
            "description_tooltip": null,
            "layout": "IPY_MODEL_8cdeca8cfd2a4673988f3d964a6c52b7",
            "placeholder": "​",
            "style": "IPY_MODEL_594d465896b74008b68e83df1f026fe1",
            "value": "  0%"
          }
        },
        "b53af9d16db444b797a3f47292ee4a43": {
          "model_module": "@jupyter-widgets/controls",
          "model_name": "FloatProgressModel",
          "model_module_version": "1.5.0",
          "state": {
            "_dom_classes": [],
            "_model_module": "@jupyter-widgets/controls",
            "_model_module_version": "1.5.0",
            "_model_name": "FloatProgressModel",
            "_view_count": null,
            "_view_module": "@jupyter-widgets/controls",
            "_view_module_version": "1.5.0",
            "_view_name": "ProgressView",
            "bar_style": "",
            "description": "",
            "description_tooltip": null,
            "layout": "IPY_MODEL_6b68e67480624a3fa903b03340996fc7",
            "max": 5000,
            "min": 0,
            "orientation": "horizontal",
            "style": "IPY_MODEL_e8a8789314694285831ed27e366256f2",
            "value": 1
          }
        },
        "3fdf5d2d2cb448a2a30bf1885514750f": {
          "model_module": "@jupyter-widgets/controls",
          "model_name": "HTMLModel",
          "model_module_version": "1.5.0",
          "state": {
            "_dom_classes": [],
            "_model_module": "@jupyter-widgets/controls",
            "_model_module_version": "1.5.0",
            "_model_name": "HTMLModel",
            "_view_count": null,
            "_view_module": "@jupyter-widgets/controls",
            "_view_module_version": "1.5.0",
            "_view_name": "HTMLView",
            "description": "",
            "description_tooltip": null,
            "layout": "IPY_MODEL_035325384d4547228a6152594e261097",
            "placeholder": "​",
            "style": "IPY_MODEL_200436aad540461789369f408d6fa7b4",
            "value": " 1/5000 [00:44&lt;61:38:55, 44.40s/it]"
          }
        },
        "430a8fe301b146d88fc1892effb98369": {
          "model_module": "@jupyter-widgets/base",
          "model_name": "LayoutModel",
          "model_module_version": "1.2.0",
          "state": {
            "_model_module": "@jupyter-widgets/base",
            "_model_module_version": "1.2.0",
            "_model_name": "LayoutModel",
            "_view_count": null,
            "_view_module": "@jupyter-widgets/base",
            "_view_module_version": "1.2.0",
            "_view_name": "LayoutView",
            "align_content": null,
            "align_items": null,
            "align_self": null,
            "border": null,
            "bottom": null,
            "display": null,
            "flex": null,
            "flex_flow": null,
            "grid_area": null,
            "grid_auto_columns": null,
            "grid_auto_flow": null,
            "grid_auto_rows": null,
            "grid_column": null,
            "grid_gap": null,
            "grid_row": null,
            "grid_template_areas": null,
            "grid_template_columns": null,
            "grid_template_rows": null,
            "height": null,
            "justify_content": null,
            "justify_items": null,
            "left": null,
            "margin": null,
            "max_height": null,
            "max_width": null,
            "min_height": null,
            "min_width": null,
            "object_fit": null,
            "object_position": null,
            "order": null,
            "overflow": null,
            "overflow_x": null,
            "overflow_y": null,
            "padding": null,
            "right": null,
            "top": null,
            "visibility": null,
            "width": null
          }
        },
        "8cdeca8cfd2a4673988f3d964a6c52b7": {
          "model_module": "@jupyter-widgets/base",
          "model_name": "LayoutModel",
          "model_module_version": "1.2.0",
          "state": {
            "_model_module": "@jupyter-widgets/base",
            "_model_module_version": "1.2.0",
            "_model_name": "LayoutModel",
            "_view_count": null,
            "_view_module": "@jupyter-widgets/base",
            "_view_module_version": "1.2.0",
            "_view_name": "LayoutView",
            "align_content": null,
            "align_items": null,
            "align_self": null,
            "border": null,
            "bottom": null,
            "display": null,
            "flex": null,
            "flex_flow": null,
            "grid_area": null,
            "grid_auto_columns": null,
            "grid_auto_flow": null,
            "grid_auto_rows": null,
            "grid_column": null,
            "grid_gap": null,
            "grid_row": null,
            "grid_template_areas": null,
            "grid_template_columns": null,
            "grid_template_rows": null,
            "height": null,
            "justify_content": null,
            "justify_items": null,
            "left": null,
            "margin": null,
            "max_height": null,
            "max_width": null,
            "min_height": null,
            "min_width": null,
            "object_fit": null,
            "object_position": null,
            "order": null,
            "overflow": null,
            "overflow_x": null,
            "overflow_y": null,
            "padding": null,
            "right": null,
            "top": null,
            "visibility": null,
            "width": null
          }
        },
        "594d465896b74008b68e83df1f026fe1": {
          "model_module": "@jupyter-widgets/controls",
          "model_name": "DescriptionStyleModel",
          "model_module_version": "1.5.0",
          "state": {
            "_model_module": "@jupyter-widgets/controls",
            "_model_module_version": "1.5.0",
            "_model_name": "DescriptionStyleModel",
            "_view_count": null,
            "_view_module": "@jupyter-widgets/base",
            "_view_module_version": "1.2.0",
            "_view_name": "StyleView",
            "description_width": ""
          }
        },
        "6b68e67480624a3fa903b03340996fc7": {
          "model_module": "@jupyter-widgets/base",
          "model_name": "LayoutModel",
          "model_module_version": "1.2.0",
          "state": {
            "_model_module": "@jupyter-widgets/base",
            "_model_module_version": "1.2.0",
            "_model_name": "LayoutModel",
            "_view_count": null,
            "_view_module": "@jupyter-widgets/base",
            "_view_module_version": "1.2.0",
            "_view_name": "LayoutView",
            "align_content": null,
            "align_items": null,
            "align_self": null,
            "border": null,
            "bottom": null,
            "display": null,
            "flex": null,
            "flex_flow": null,
            "grid_area": null,
            "grid_auto_columns": null,
            "grid_auto_flow": null,
            "grid_auto_rows": null,
            "grid_column": null,
            "grid_gap": null,
            "grid_row": null,
            "grid_template_areas": null,
            "grid_template_columns": null,
            "grid_template_rows": null,
            "height": null,
            "justify_content": null,
            "justify_items": null,
            "left": null,
            "margin": null,
            "max_height": null,
            "max_width": null,
            "min_height": null,
            "min_width": null,
            "object_fit": null,
            "object_position": null,
            "order": null,
            "overflow": null,
            "overflow_x": null,
            "overflow_y": null,
            "padding": null,
            "right": null,
            "top": null,
            "visibility": null,
            "width": null
          }
        },
        "e8a8789314694285831ed27e366256f2": {
          "model_module": "@jupyter-widgets/controls",
          "model_name": "ProgressStyleModel",
          "model_module_version": "1.5.0",
          "state": {
            "_model_module": "@jupyter-widgets/controls",
            "_model_module_version": "1.5.0",
            "_model_name": "ProgressStyleModel",
            "_view_count": null,
            "_view_module": "@jupyter-widgets/base",
            "_view_module_version": "1.2.0",
            "_view_name": "StyleView",
            "bar_color": null,
            "description_width": ""
          }
        },
        "035325384d4547228a6152594e261097": {
          "model_module": "@jupyter-widgets/base",
          "model_name": "LayoutModel",
          "model_module_version": "1.2.0",
          "state": {
            "_model_module": "@jupyter-widgets/base",
            "_model_module_version": "1.2.0",
            "_model_name": "LayoutModel",
            "_view_count": null,
            "_view_module": "@jupyter-widgets/base",
            "_view_module_version": "1.2.0",
            "_view_name": "LayoutView",
            "align_content": null,
            "align_items": null,
            "align_self": null,
            "border": null,
            "bottom": null,
            "display": null,
            "flex": null,
            "flex_flow": null,
            "grid_area": null,
            "grid_auto_columns": null,
            "grid_auto_flow": null,
            "grid_auto_rows": null,
            "grid_column": null,
            "grid_gap": null,
            "grid_row": null,
            "grid_template_areas": null,
            "grid_template_columns": null,
            "grid_template_rows": null,
            "height": null,
            "justify_content": null,
            "justify_items": null,
            "left": null,
            "margin": null,
            "max_height": null,
            "max_width": null,
            "min_height": null,
            "min_width": null,
            "object_fit": null,
            "object_position": null,
            "order": null,
            "overflow": null,
            "overflow_x": null,
            "overflow_y": null,
            "padding": null,
            "right": null,
            "top": null,
            "visibility": null,
            "width": null
          }
        },
        "200436aad540461789369f408d6fa7b4": {
          "model_module": "@jupyter-widgets/controls",
          "model_name": "DescriptionStyleModel",
          "model_module_version": "1.5.0",
          "state": {
            "_model_module": "@jupyter-widgets/controls",
            "_model_module_version": "1.5.0",
            "_model_name": "DescriptionStyleModel",
            "_view_count": null,
            "_view_module": "@jupyter-widgets/base",
            "_view_module_version": "1.2.0",
            "_view_name": "StyleView",
            "description_width": ""
          }
        }
      }
    }
  },
  "nbformat": 4,
  "nbformat_minor": 5
}