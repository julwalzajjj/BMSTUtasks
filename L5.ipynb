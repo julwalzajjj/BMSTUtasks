{
  "cells": [
    {
      "cell_type": "markdown",
      "metadata": {
        "id": "view-in-github",
        "colab_type": "text"
      },
      "source": [
        "<a href=\"https://colab.research.google.com/github/julwalzajjj/BMSTUtasks/blob/main/L5.ipynb\" target=\"_parent\"><img src=\"https://colab.research.google.com/assets/colab-badge.svg\" alt=\"Open In Colab\"/></a>"
      ]
    },
    {
      "cell_type": "code",
      "execution_count": 1,
      "metadata": {
        "colab": {
          "base_uri": "https://localhost:8080/"
        },
        "id": "QVLktpbEZ7JJ",
        "outputId": "f63897fb-4bb5-4261-daca-9a3a157fbd8e"
      },
      "outputs": [
        {
          "output_type": "stream",
          "name": "stdout",
          "text": [
            "Requirement already satisfied: implicit in /usr/local/lib/python3.10/dist-packages (0.7.0)\n",
            "Requirement already satisfied: numpy in /usr/local/lib/python3.10/dist-packages (from implicit) (1.22.4)\n",
            "Requirement already satisfied: scipy>=0.16 in /usr/local/lib/python3.10/dist-packages (from implicit) (1.10.1)\n",
            "Requirement already satisfied: tqdm>=4.27 in /usr/local/lib/python3.10/dist-packages (from implicit) (4.65.0)\n"
          ]
        }
      ],
      "source": [
        "!pip install implicit"
      ]
    },
    {
      "cell_type": "code",
      "execution_count": 2,
      "metadata": {
        "colab": {
          "base_uri": "https://localhost:8080/"
        },
        "id": "iVXK9R3TZ-rL",
        "outputId": "524ad103-2894-4c4e-c2cf-6120d1506ea9"
      },
      "outputs": [
        {
          "output_type": "stream",
          "name": "stdout",
          "text": [
            "Requirement already satisfied: lightfm in /usr/local/lib/python3.10/dist-packages (1.17)\n",
            "Requirement already satisfied: numpy in /usr/local/lib/python3.10/dist-packages (from lightfm) (1.22.4)\n",
            "Requirement already satisfied: scipy>=0.17.0 in /usr/local/lib/python3.10/dist-packages (from lightfm) (1.10.1)\n",
            "Requirement already satisfied: requests in /usr/local/lib/python3.10/dist-packages (from lightfm) (2.27.1)\n",
            "Requirement already satisfied: scikit-learn in /usr/local/lib/python3.10/dist-packages (from lightfm) (1.2.2)\n",
            "Requirement already satisfied: urllib3<1.27,>=1.21.1 in /usr/local/lib/python3.10/dist-packages (from requests->lightfm) (1.26.16)\n",
            "Requirement already satisfied: certifi>=2017.4.17 in /usr/local/lib/python3.10/dist-packages (from requests->lightfm) (2023.7.22)\n",
            "Requirement already satisfied: charset-normalizer~=2.0.0 in /usr/local/lib/python3.10/dist-packages (from requests->lightfm) (2.0.12)\n",
            "Requirement already satisfied: idna<4,>=2.5 in /usr/local/lib/python3.10/dist-packages (from requests->lightfm) (3.4)\n",
            "Requirement already satisfied: joblib>=1.1.1 in /usr/local/lib/python3.10/dist-packages (from scikit-learn->lightfm) (1.3.1)\n",
            "Requirement already satisfied: threadpoolctl>=2.0.0 in /usr/local/lib/python3.10/dist-packages (from scikit-learn->lightfm) (3.2.0)\n"
          ]
        }
      ],
      "source": [
        "!pip install lightfm"
      ]
    },
    {
      "cell_type": "code",
      "execution_count": 3,
      "metadata": {
        "colab": {
          "base_uri": "https://localhost:8080/"
        },
        "id": "m0CfFEa2ruk_",
        "outputId": "64f2b225-78d1-407f-894e-1ad45808c5dc"
      },
      "outputs": [
        {
          "output_type": "stream",
          "name": "stdout",
          "text": [
            "Requirement already satisfied: tools in /usr/local/lib/python3.10/dist-packages (0.1.9)\n",
            "Requirement already satisfied: pytils in /usr/local/lib/python3.10/dist-packages (from tools) (0.4.1)\n",
            "Requirement already satisfied: six in /usr/local/lib/python3.10/dist-packages (from tools) (1.16.0)\n",
            "Requirement already satisfied: lxml in /usr/local/lib/python3.10/dist-packages (from tools) (4.9.3)\n"
          ]
        }
      ],
      "source": [
        "!pip install tools"
      ]
    },
    {
      "cell_type": "code",
      "execution_count": 4,
      "metadata": {
        "colab": {
          "base_uri": "https://localhost:8080/"
        },
        "id": "Hz0XOvUsZHW6",
        "outputId": "66798e92-4117-46b1-905e-6bfbba7c284c"
      },
      "outputs": [
        {
          "output_type": "stream",
          "name": "stdout",
          "text": [
            "Requirement already satisfied: catboost in /usr/local/lib/python3.10/dist-packages (1.2)\n",
            "Requirement already satisfied: graphviz in /usr/local/lib/python3.10/dist-packages (from catboost) (0.20.1)\n",
            "Requirement already satisfied: matplotlib in /usr/local/lib/python3.10/dist-packages (from catboost) (3.7.1)\n",
            "Requirement already satisfied: numpy>=1.16.0 in /usr/local/lib/python3.10/dist-packages (from catboost) (1.22.4)\n",
            "Requirement already satisfied: pandas>=0.24 in /usr/local/lib/python3.10/dist-packages (from catboost) (1.5.3)\n",
            "Requirement already satisfied: scipy in /usr/local/lib/python3.10/dist-packages (from catboost) (1.10.1)\n",
            "Requirement already satisfied: plotly in /usr/local/lib/python3.10/dist-packages (from catboost) (5.13.1)\n",
            "Requirement already satisfied: six in /usr/local/lib/python3.10/dist-packages (from catboost) (1.16.0)\n",
            "Requirement already satisfied: python-dateutil>=2.8.1 in /usr/local/lib/python3.10/dist-packages (from pandas>=0.24->catboost) (2.8.2)\n",
            "Requirement already satisfied: pytz>=2020.1 in /usr/local/lib/python3.10/dist-packages (from pandas>=0.24->catboost) (2022.7.1)\n",
            "Requirement already satisfied: contourpy>=1.0.1 in /usr/local/lib/python3.10/dist-packages (from matplotlib->catboost) (1.1.0)\n",
            "Requirement already satisfied: cycler>=0.10 in /usr/local/lib/python3.10/dist-packages (from matplotlib->catboost) (0.11.0)\n",
            "Requirement already satisfied: fonttools>=4.22.0 in /usr/local/lib/python3.10/dist-packages (from matplotlib->catboost) (4.41.1)\n",
            "Requirement already satisfied: kiwisolver>=1.0.1 in /usr/local/lib/python3.10/dist-packages (from matplotlib->catboost) (1.4.4)\n",
            "Requirement already satisfied: packaging>=20.0 in /usr/local/lib/python3.10/dist-packages (from matplotlib->catboost) (23.1)\n",
            "Requirement already satisfied: pillow>=6.2.0 in /usr/local/lib/python3.10/dist-packages (from matplotlib->catboost) (9.4.0)\n",
            "Requirement already satisfied: pyparsing>=2.3.1 in /usr/local/lib/python3.10/dist-packages (from matplotlib->catboost) (3.1.0)\n",
            "Requirement already satisfied: tenacity>=6.2.0 in /usr/local/lib/python3.10/dist-packages (from plotly->catboost) (8.2.2)\n"
          ]
        }
      ],
      "source": [
        "!pip install catboost"
      ]
    },
    {
      "cell_type": "code",
      "execution_count": 5,
      "metadata": {
        "colab": {
          "base_uri": "https://localhost:8080/"
        },
        "id": "ao9GtNuvaAaB",
        "outputId": "cae13c27-af7b-4ab0-bb01-3a88814b9fb1"
      },
      "outputs": [
        {
          "output_type": "stream",
          "name": "stderr",
          "text": [
            "/usr/local/lib/python3.10/dist-packages/implicit/gpu/__init__.py:13: UserWarning: CUDA extension is built, but disabling GPU support because of 'Cuda Error: CUDA driver version is insufficient for CUDA runtime version (/project/./implicit/gpu/utils.h:71)'\n",
            "  warnings.warn(\n"
          ]
        }
      ],
      "source": [
        "import pandas as pd\n",
        "import numpy as np\n",
        "# import faiss\n",
        "import random\n",
        "# import scann\n",
        "# import ngtpy\n",
        "\n",
        "from tqdm import notebook, tqdm\n",
        "\n",
        "import matplotlib.pyplot as plt\n",
        "\n",
        "from scipy.sparse import csr_matrix, coo_matrix\n",
        "# from lightfm import LightFM\n",
        "# from lightfm.evaluation import recall_at_k, precision_at_k, auc_score\n",
        "from datetime import datetime\n",
        "from sklearn.preprocessing import LabelEncoder\n",
        "from sklearn.model_selection import train_test_split\n",
        "from sklearn.metrics import ndcg_score\n",
        "from tqdm import tqdm\n",
        "from implicit.nearest_neighbours import BM25Recommender, CosineRecommender, TFIDFRecommender\n",
        "from implicit.evaluation import mean_average_precision_at_k, ndcg_at_k, AUC_at_k\n",
        "\n",
        "from sklearn.preprocessing import StandardScaler\n",
        "from sklearn.datasets import load_iris\n",
        "from sklearn.model_selection import train_test_split\n",
        "from sklearn.neighbors import NearestNeighbors\n",
        "\n",
        "# from feature_engine.creation import CyclicalFeatures\n",
        "\n",
        "from gensim.models import Word2Vec\n",
        "\n",
        "from sklearn.datasets import dump_svmlight_file\n",
        "\n",
        "import warnings\n",
        "warnings.filterwarnings('ignore')\n",
        "import implicit\n",
        "\n",
        "from scipy.stats import norm\n",
        "\n",
        "import tqdm"
      ]
    },
    {
      "cell_type": "code",
      "execution_count": 6,
      "metadata": {
        "id": "gTofs--Xarv4",
        "colab": {
          "base_uri": "https://localhost:8080/"
        },
        "outputId": "5972d251-5f6f-491b-d4d7-1fcca2104422"
      },
      "outputs": [
        {
          "output_type": "stream",
          "name": "stdout",
          "text": [
            "Mounted at /content/drive\n"
          ]
        }
      ],
      "source": [
        "try:\n",
        "    from google.colab import drive\n",
        "    drive.mount('/content/drive', force_remount=True)\n",
        "    data = pd.read_csv(r\"/content/drive/MyDrive/Colab Notebooks/wb_school_task_1.csv.gzip\", compression='gzip')\n",
        "except:\n",
        "    data = pd.read_csv(r\"C:\\Users\\User\\Documents\\wildberries\\wb_school_task_1.csv.gzip\", compression='gzip')"
      ]
    },
    {
      "cell_type": "code",
      "execution_count": 7,
      "metadata": {
        "id": "RSf29mQtUgzG"
      },
      "outputs": [],
      "source": [
        "def precision_at_k(recommendations, purchases, k):\n",
        "    recommended_list = np.array(recommendations)\n",
        "    flags = np.isin(purchases, recommended_list)\n",
        "\n",
        "    return flags.sum()/len(recommendations)\n",
        "\n",
        "def recall_at_k(recommendations, purchases, k):\n",
        "    recommended_list = np.array(recommendations)[:k]\n",
        "    purchases = np.array(purchases)\n",
        "    flags = np.isin(purchases, recommended_list)\n",
        "\n",
        "    return flags.sum()/len(purchases)\n",
        "\n",
        "def ndcg_metric(gt_items, predicted, at):\n",
        "    relevance = np.array([1 if x in predicted else 0 for x in gt_items])\n",
        "    rank_dcg = dcg(relevance)\n",
        "\n",
        "    if rank_dcg == 0.0:\n",
        "        return 0.0\n",
        "\n",
        "    ideal_dcg = dcg(np.sort(relevance)[::-1][:at])\n",
        "\n",
        "    if ideal_dcg == 0.0:\n",
        "        return 0.0\n",
        "\n",
        "    ndcg_ = rank_dcg / ideal_dcg\n",
        "\n",
        "    return ndcg_\n",
        "\n",
        "\n",
        "def dcg(scores):\n",
        "    return np.sum(np.divide(np.power(2, scores) - 1, np.log2(np.arange(scores.shape[0], dtype=np.float64) + 2)),\n",
        "                  dtype=np.float64)"
      ]
    },
    {
      "cell_type": "markdown",
      "metadata": {
        "id": "jU51gwsRbmbE"
      },
      "source": [
        "### Отчистка данных от выбросов"
      ]
    },
    {
      "cell_type": "code",
      "execution_count": 8,
      "metadata": {
        "id": "B2-DXECja1mU"
      },
      "outputs": [],
      "source": [
        "def outlinersGrubbs(data, column, percent):\n",
        "    df = data.copy()\n",
        "    df['g_score'] = np.abs(df[column] - df[column].mean()) / df[column].std()\n",
        "    df['p_value'] = 2 * norm.sf(abs(df['g_score']))\n",
        "    return df.sort_values(by='p_value', ascending=True).head(round(df.shape[0]*percent/100))\n",
        "\n",
        "def multiInd(x):\n",
        "    indexes = list(x.index)\n",
        "    first_col = []\n",
        "    second_col = []\n",
        "    for row in indexes:\n",
        "        first_col.append(row[1])\n",
        "        second_col.append(row[0])\n",
        "    return first_col, second_col\n",
        "\n",
        "# CleaningOutliners\n",
        "# input: data - датасет,\n",
        "#        p1 - процент выбросов для больших заказов,\n",
        "#        p2 - процент выбросов для количества заказов у пользователя,\n",
        "#        p3 - процент выбросов для заказов с одинаковыми товарами,\n",
        "#        p4 - процент выбросов для активных юзеров,\n",
        "#        p5 - процент выбросов для популярных товаров,\n",
        "# otput: df - отчищенный датасет\n",
        "\n",
        "def CleaningOutliners(data, p1=0.002, p2=0.005, p3=0.001, p4=0.02, p5=0.01):\n",
        "\n",
        "    df = data.copy()\n",
        "\n",
        "    orders = df.groupby(['order_ts', 'user_id']).count()\n",
        "    orders_out = outlinersGrubbs(orders, 'item_id', p1)\n",
        "    users_bg_orders, dates_bg_orders = multiInd(orders_out)\n",
        "    df = df[~(df['user_id'].isin(users_bg_orders) & df['order_ts'].isin(dates_bg_orders))]\n",
        "\n",
        "    cnt_orders = df.drop(['item_id'], axis=1).drop_duplicates().groupby(['user_id']).count()\n",
        "    cnt_orders_out = outlinersGrubbs(cnt_orders, 'order_ts', p2)\n",
        "    df = df[~(df['user_id'].isin(cnt_orders_out.index))]\n",
        "\n",
        "    duplicated_items = df[df.duplicated()].value_counts().sort_values(ascending=False)\n",
        "    duplicated_items = pd.DataFrame(duplicated_items, columns=['items_cnt'])\n",
        "    duplicated_items_out = outlinersGrubbs(duplicated_items, 'items_cnt', p3)\n",
        "    items_dup, users_dup = multiInd(duplicated_items_out)\n",
        "    df = df[~(df['user_id'].isin(users_dup) & df['item_id'].isin(items_dup))]\n",
        "\n",
        "    data_wo_date = df.drop(['order_ts'], axis = 1)\n",
        "    users_cnt_items = data_wo_date.groupby(['user_id']).count()\n",
        "    users_cnt_items_out = outlinersGrubbs(users_cnt_items, 'item_id', p4)\n",
        "    df = df[~(df['user_id'].isin(users_cnt_items_out.index))]\n",
        "\n",
        "    data_wo_date = df.drop(['order_ts'], axis = 1)\n",
        "    items_cnt_users = data_wo_date.groupby(['item_id']).count()\n",
        "    items_cnt_users_out = outlinersGrubbs(items_cnt_users, 'user_id', p5)\n",
        "    df = df[~(df['item_id'].isin(items_cnt_users_out.index) | df['item_id'].isin(\n",
        "        items_cnt_users[items_cnt_users['user_id'] == 1].index))]\n",
        "\n",
        "    return df"
      ]
    },
    {
      "cell_type": "code",
      "execution_count": 9,
      "metadata": {
        "id": "M4vVt_7pb9Ah"
      },
      "outputs": [],
      "source": [
        "data_clean = CleaningOutliners(data)"
      ]
    },
    {
      "cell_type": "code",
      "execution_count": 10,
      "metadata": {
        "id": "LlZ3JrHucCE7"
      },
      "outputs": [],
      "source": [
        "data_clean['order_ts'] = pd.to_datetime(data_clean['order_ts'])"
      ]
    },
    {
      "cell_type": "markdown",
      "metadata": {
        "id": "m00s4Ifnfppl"
      },
      "source": [
        "Оставим в тестовой выборке последние 2 недели:"
      ]
    },
    {
      "cell_type": "code",
      "execution_count": 11,
      "metadata": {
        "id": "N2jQUOAAfWbo"
      },
      "outputs": [],
      "source": [
        "max_date = data_clean['order_ts'].max()\n",
        "train = data_clean[data_clean['order_ts'] < max_date - pd.Timedelta(days=7)]\n",
        "test = data_clean[data_clean['order_ts'] >= max_date - pd.Timedelta(days=7)]"
      ]
    },
    {
      "cell_type": "code",
      "execution_count": 12,
      "metadata": {
        "id": "SSphDWTrfW8D",
        "colab": {
          "base_uri": "https://localhost:8080/"
        },
        "outputId": "f803615e-e551-44a7-c92b-1dafa61fe536"
      },
      "outputs": [
        {
          "output_type": "execute_result",
          "data": {
            "text/plain": [
              "(18918059, 3)"
            ]
          },
          "metadata": {},
          "execution_count": 12
        }
      ],
      "source": [
        "train.shape"
      ]
    },
    {
      "cell_type": "code",
      "execution_count": 13,
      "metadata": {
        "id": "JaZ1ea3lgCSa",
        "colab": {
          "base_uri": "https://localhost:8080/"
        },
        "outputId": "619c2637-9f9d-408f-efa5-405beec3969e"
      },
      "outputs": [
        {
          "output_type": "execute_result",
          "data": {
            "text/plain": [
              "(1669776, 3)"
            ]
          },
          "metadata": {},
          "execution_count": 13
        }
      ],
      "source": [
        "test.shape"
      ]
    },
    {
      "cell_type": "code",
      "execution_count": 14,
      "metadata": {
        "id": "Csqmhyeac7zt",
        "colab": {
          "base_uri": "https://localhost:8080/"
        },
        "outputId": "d7d4e41e-d2cf-47e9-985f-4aef4f9fc224"
      },
      "outputs": [
        {
          "output_type": "execute_result",
          "data": {
            "text/plain": [
              "Timestamp('2023-03-02 06:54:50.119791')"
            ]
          },
          "metadata": {},
          "execution_count": 14
        }
      ],
      "source": [
        "lfm_date_threshold = train['order_ts'].quantile(q=0.7, interpolation='nearest')\n",
        "lfm_date_threshold"
      ]
    },
    {
      "cell_type": "code",
      "execution_count": 15,
      "metadata": {
        "id": "W2qDbdXKdOO-"
      },
      "outputs": [],
      "source": [
        "lfm_train = train[(train['order_ts'] < lfm_date_threshold)]\n",
        "lfm_val = train[(train['order_ts'] >= lfm_date_threshold)]"
      ]
    },
    {
      "cell_type": "code",
      "execution_count": 16,
      "metadata": {
        "id": "I3pMBs0ldYcc",
        "colab": {
          "base_uri": "https://localhost:8080/"
        },
        "outputId": "4a08e51a-cb72-435d-8f26-eb3aa1bef000"
      },
      "outputs": [
        {
          "output_type": "stream",
          "name": "stdout",
          "text": [
            "lfm_train: (13242641, 3)\n",
            "lfm_val: (5675418, 3)\n"
          ]
        }
      ],
      "source": [
        "print(f\"lfm_train: {lfm_train.shape}\")\n",
        "print(f\"lfm_val: {lfm_val.shape}\")"
      ]
    },
    {
      "cell_type": "code",
      "execution_count": 17,
      "metadata": {
        "id": "_3W5Q3mFdifT"
      },
      "outputs": [],
      "source": [
        "lfm_val = lfm_val[lfm_val['user_id'].isin(lfm_train['user_id'].unique())]"
      ]
    },
    {
      "cell_type": "code",
      "execution_count": 18,
      "metadata": {
        "id": "aKaIuGpIdtUs",
        "colab": {
          "base_uri": "https://localhost:8080/",
          "height": 143
        },
        "outputId": "bf00af17-1dcb-4013-ac62-4469a7fb0a30"
      },
      "outputs": [
        {
          "output_type": "execute_result",
          "data": {
            "text/plain": [
              "   user_id  item_id            order_ts\n",
              "0   550614      264 2023-01-01 00:28:09\n",
              "3    47164     5135 2023-01-01 00:53:35\n",
              "4   219072     2668 2023-01-01 01:02:29"
            ],
            "text/html": [
              "\n",
              "\n",
              "  <div id=\"df-5e854f80-170d-4b7a-b3ec-37764681b784\">\n",
              "    <div class=\"colab-df-container\">\n",
              "      <div>\n",
              "<style scoped>\n",
              "    .dataframe tbody tr th:only-of-type {\n",
              "        vertical-align: middle;\n",
              "    }\n",
              "\n",
              "    .dataframe tbody tr th {\n",
              "        vertical-align: top;\n",
              "    }\n",
              "\n",
              "    .dataframe thead th {\n",
              "        text-align: right;\n",
              "    }\n",
              "</style>\n",
              "<table border=\"1\" class=\"dataframe\">\n",
              "  <thead>\n",
              "    <tr style=\"text-align: right;\">\n",
              "      <th></th>\n",
              "      <th>user_id</th>\n",
              "      <th>item_id</th>\n",
              "      <th>order_ts</th>\n",
              "    </tr>\n",
              "  </thead>\n",
              "  <tbody>\n",
              "    <tr>\n",
              "      <th>0</th>\n",
              "      <td>550614</td>\n",
              "      <td>264</td>\n",
              "      <td>2023-01-01 00:28:09</td>\n",
              "    </tr>\n",
              "    <tr>\n",
              "      <th>3</th>\n",
              "      <td>47164</td>\n",
              "      <td>5135</td>\n",
              "      <td>2023-01-01 00:53:35</td>\n",
              "    </tr>\n",
              "    <tr>\n",
              "      <th>4</th>\n",
              "      <td>219072</td>\n",
              "      <td>2668</td>\n",
              "      <td>2023-01-01 01:02:29</td>\n",
              "    </tr>\n",
              "  </tbody>\n",
              "</table>\n",
              "</div>\n",
              "      <button class=\"colab-df-convert\" onclick=\"convertToInteractive('df-5e854f80-170d-4b7a-b3ec-37764681b784')\"\n",
              "              title=\"Convert this dataframe to an interactive table.\"\n",
              "              style=\"display:none;\">\n",
              "\n",
              "  <svg xmlns=\"http://www.w3.org/2000/svg\" height=\"24px\"viewBox=\"0 0 24 24\"\n",
              "       width=\"24px\">\n",
              "    <path d=\"M0 0h24v24H0V0z\" fill=\"none\"/>\n",
              "    <path d=\"M18.56 5.44l.94 2.06.94-2.06 2.06-.94-2.06-.94-.94-2.06-.94 2.06-2.06.94zm-11 1L8.5 8.5l.94-2.06 2.06-.94-2.06-.94L8.5 2.5l-.94 2.06-2.06.94zm10 10l.94 2.06.94-2.06 2.06-.94-2.06-.94-.94-2.06-.94 2.06-2.06.94z\"/><path d=\"M17.41 7.96l-1.37-1.37c-.4-.4-.92-.59-1.43-.59-.52 0-1.04.2-1.43.59L10.3 9.45l-7.72 7.72c-.78.78-.78 2.05 0 2.83L4 21.41c.39.39.9.59 1.41.59.51 0 1.02-.2 1.41-.59l7.78-7.78 2.81-2.81c.8-.78.8-2.07 0-2.86zM5.41 20L4 18.59l7.72-7.72 1.47 1.35L5.41 20z\"/>\n",
              "  </svg>\n",
              "      </button>\n",
              "\n",
              "\n",
              "\n",
              "    <div id=\"df-a3283d71-d31c-4ad6-8893-8410aeca2c4f\">\n",
              "      <button class=\"colab-df-quickchart\" onclick=\"quickchart('df-a3283d71-d31c-4ad6-8893-8410aeca2c4f')\"\n",
              "              title=\"Suggest charts.\"\n",
              "              style=\"display:none;\">\n",
              "\n",
              "<svg xmlns=\"http://www.w3.org/2000/svg\" height=\"24px\"viewBox=\"0 0 24 24\"\n",
              "     width=\"24px\">\n",
              "    <g>\n",
              "        <path d=\"M19 3H5c-1.1 0-2 .9-2 2v14c0 1.1.9 2 2 2h14c1.1 0 2-.9 2-2V5c0-1.1-.9-2-2-2zM9 17H7v-7h2v7zm4 0h-2V7h2v10zm4 0h-2v-4h2v4z\"/>\n",
              "    </g>\n",
              "</svg>\n",
              "      </button>\n",
              "    </div>\n",
              "\n",
              "<style>\n",
              "  .colab-df-quickchart {\n",
              "    background-color: #E8F0FE;\n",
              "    border: none;\n",
              "    border-radius: 50%;\n",
              "    cursor: pointer;\n",
              "    display: none;\n",
              "    fill: #1967D2;\n",
              "    height: 32px;\n",
              "    padding: 0 0 0 0;\n",
              "    width: 32px;\n",
              "  }\n",
              "\n",
              "  .colab-df-quickchart:hover {\n",
              "    background-color: #E2EBFA;\n",
              "    box-shadow: 0px 1px 2px rgba(60, 64, 67, 0.3), 0px 1px 3px 1px rgba(60, 64, 67, 0.15);\n",
              "    fill: #174EA6;\n",
              "  }\n",
              "\n",
              "  [theme=dark] .colab-df-quickchart {\n",
              "    background-color: #3B4455;\n",
              "    fill: #D2E3FC;\n",
              "  }\n",
              "\n",
              "  [theme=dark] .colab-df-quickchart:hover {\n",
              "    background-color: #434B5C;\n",
              "    box-shadow: 0px 1px 3px 1px rgba(0, 0, 0, 0.15);\n",
              "    filter: drop-shadow(0px 1px 2px rgba(0, 0, 0, 0.3));\n",
              "    fill: #FFFFFF;\n",
              "  }\n",
              "</style>\n",
              "\n",
              "    <script>\n",
              "      async function quickchart(key) {\n",
              "        const containerElement = document.querySelector('#' + key);\n",
              "        const charts = await google.colab.kernel.invokeFunction(\n",
              "            'suggestCharts', [key], {});\n",
              "      }\n",
              "    </script>\n",
              "\n",
              "      <script>\n",
              "\n",
              "function displayQuickchartButton(domScope) {\n",
              "  let quickchartButtonEl =\n",
              "    domScope.querySelector('#df-a3283d71-d31c-4ad6-8893-8410aeca2c4f button.colab-df-quickchart');\n",
              "  quickchartButtonEl.style.display =\n",
              "    google.colab.kernel.accessAllowed ? 'block' : 'none';\n",
              "}\n",
              "\n",
              "        displayQuickchartButton(document);\n",
              "      </script>\n",
              "      <style>\n",
              "    .colab-df-container {\n",
              "      display:flex;\n",
              "      flex-wrap:wrap;\n",
              "      gap: 12px;\n",
              "    }\n",
              "\n",
              "    .colab-df-convert {\n",
              "      background-color: #E8F0FE;\n",
              "      border: none;\n",
              "      border-radius: 50%;\n",
              "      cursor: pointer;\n",
              "      display: none;\n",
              "      fill: #1967D2;\n",
              "      height: 32px;\n",
              "      padding: 0 0 0 0;\n",
              "      width: 32px;\n",
              "    }\n",
              "\n",
              "    .colab-df-convert:hover {\n",
              "      background-color: #E2EBFA;\n",
              "      box-shadow: 0px 1px 2px rgba(60, 64, 67, 0.3), 0px 1px 3px 1px rgba(60, 64, 67, 0.15);\n",
              "      fill: #174EA6;\n",
              "    }\n",
              "\n",
              "    [theme=dark] .colab-df-convert {\n",
              "      background-color: #3B4455;\n",
              "      fill: #D2E3FC;\n",
              "    }\n",
              "\n",
              "    [theme=dark] .colab-df-convert:hover {\n",
              "      background-color: #434B5C;\n",
              "      box-shadow: 0px 1px 3px 1px rgba(0, 0, 0, 0.15);\n",
              "      filter: drop-shadow(0px 1px 2px rgba(0, 0, 0, 0.3));\n",
              "      fill: #FFFFFF;\n",
              "    }\n",
              "  </style>\n",
              "\n",
              "      <script>\n",
              "        const buttonEl =\n",
              "          document.querySelector('#df-5e854f80-170d-4b7a-b3ec-37764681b784 button.colab-df-convert');\n",
              "        buttonEl.style.display =\n",
              "          google.colab.kernel.accessAllowed ? 'block' : 'none';\n",
              "\n",
              "        async function convertToInteractive(key) {\n",
              "          const element = document.querySelector('#df-5e854f80-170d-4b7a-b3ec-37764681b784');\n",
              "          const dataTable =\n",
              "            await google.colab.kernel.invokeFunction('convertToInteractive',\n",
              "                                                     [key], {});\n",
              "          if (!dataTable) return;\n",
              "\n",
              "          const docLinkHtml = 'Like what you see? Visit the ' +\n",
              "            '<a target=\"_blank\" href=https://colab.research.google.com/notebooks/data_table.ipynb>data table notebook</a>'\n",
              "            + ' to learn more about interactive tables.';\n",
              "          element.innerHTML = '';\n",
              "          dataTable['output_type'] = 'display_data';\n",
              "          await google.colab.output.renderOutput(dataTable, element);\n",
              "          const docLink = document.createElement('div');\n",
              "          docLink.innerHTML = docLinkHtml;\n",
              "          element.appendChild(docLink);\n",
              "        }\n",
              "      </script>\n",
              "    </div>\n",
              "  </div>\n"
            ]
          },
          "metadata": {},
          "execution_count": 18
        }
      ],
      "source": [
        "lfm_train.head(3)"
      ]
    },
    {
      "cell_type": "code",
      "execution_count": 19,
      "metadata": {
        "id": "NEynLVm3eiCq"
      },
      "outputs": [],
      "source": [
        "lfm_train = lfm_train.groupby(['user_id', 'item_id']).count().astype(int).reset_index().rename(columns={\"order_ts\": \"purchase\"})\n",
        "lfm_val = lfm_val.groupby(['user_id', 'item_id']).count().astype(int).reset_index().rename(columns={\"order_ts\": \"purchase\"})"
      ]
    },
    {
      "cell_type": "code",
      "execution_count": 20,
      "metadata": {
        "id": "DqJcYmIxd0Pb"
      },
      "outputs": [],
      "source": [
        "from lightfm.data import Dataset\n",
        "from lightfm import LightFM"
      ]
    },
    {
      "cell_type": "code",
      "execution_count": 21,
      "metadata": {
        "id": "Xnwnk5Pxd3Vh"
      },
      "outputs": [],
      "source": [
        "dataset = Dataset()\n",
        "dataset.fit(lfm_train['user_id'].unique(), lfm_train['item_id'].unique())"
      ]
    },
    {
      "cell_type": "code",
      "execution_count": 22,
      "metadata": {
        "id": "EbhGdL2Ud_Ir"
      },
      "outputs": [],
      "source": [
        "interactions_matrix, weights_matrix = dataset.build_interactions(\n",
        "    zip(*lfm_train[['user_id', 'item_id', 'purchase']].values.T)\n",
        ")\n",
        "\n",
        "weights_matrix_csr = weights_matrix.tocsr()"
      ]
    },
    {
      "cell_type": "code",
      "execution_count": 23,
      "metadata": {
        "id": "w5fIxH92fC7H",
        "colab": {
          "base_uri": "https://localhost:8080/"
        },
        "outputId": "4a0e0062-390a-43b5-d094-3137a1851252"
      },
      "outputs": [
        {
          "output_type": "execute_result",
          "data": {
            "text/plain": [
              "<944888x6301 sparse matrix of type '<class 'numpy.float32'>'\n",
              "\twith 9293067 stored elements in Compressed Sparse Row format>"
            ]
          },
          "metadata": {},
          "execution_count": 23
        }
      ],
      "source": [
        "weights_matrix_csr"
      ]
    },
    {
      "cell_type": "code",
      "execution_count": 24,
      "metadata": {
        "id": "aun_zhHtfFK4",
        "colab": {
          "base_uri": "https://localhost:8080/"
        },
        "outputId": "c182d987-00bd-41d4-d638-e01262947785"
      },
      "outputs": [
        {
          "output_type": "stream",
          "name": "stdout",
          "text": [
            "users_mapping amount: 944888\n",
            "items_mapping amount: 6301\n"
          ]
        }
      ],
      "source": [
        "lightfm_mapping = dataset.mapping()\n",
        "lightfm_mapping = {\n",
        "    'users_mapping': lightfm_mapping[0],\n",
        "    'items_mapping': lightfm_mapping[2],\n",
        "}\n",
        "\n",
        "lightfm_mapping['users_inv_mapping'] = {v: k for k, v in lightfm_mapping['users_mapping'].items()}\n",
        "lightfm_mapping['items_inv_mapping'] = {v: k for k, v in lightfm_mapping['items_mapping'].items()}\n",
        "\n",
        "print(f\"users_mapping amount: {len(lightfm_mapping['users_mapping'])}\")\n",
        "print(f\"items_mapping amount: {len(lightfm_mapping['items_mapping'])}\")"
      ]
    },
    {
      "cell_type": "markdown",
      "metadata": {
        "id": "22xvq39hjNZh"
      },
      "source": [
        "### LightFM Logistic"
      ]
    },
    {
      "cell_type": "code",
      "execution_count": null,
      "metadata": {
        "id": "2dQErKZyfFWA"
      },
      "outputs": [],
      "source": [
        "model_lfm = LightFM(loss='logistic',\n",
        "                    max_sampled=4,\n",
        "                    no_components=7,\n",
        "                    learning_rate=0.1,\n",
        "                    item_alpha=0.001,\n",
        "                    user_alpha=0.0001,\n",
        "                    random_state=12345)"
      ]
    },
    {
      "cell_type": "code",
      "execution_count": null,
      "metadata": {
        "colab": {
          "base_uri": "https://localhost:8080/",
          "height": 49,
          "referenced_widgets": [
            "4f4f4eaab55947af9d39eefbf4e63192",
            "047ee5ae187f4c0fa79c93818c5c027a",
            "a46b6eead6a64163ae9a0bd13f83029c",
            "d1bb77ef74624fc29338fe14d9a9ccba",
            "9c2c9b0788e841fab4a6a41b523d0036",
            "7b919a8da8694b80b30fd5c7d0284526",
            "79b441cbe5e145cbab51db51e7554bc3",
            "309aa1c8ee4c483294d0f7f2bd971ea4",
            "ec1ef8532a1e40cc8fe19317fd410559",
            "f10b5277875b4609a2e543c2139b62ce",
            "7e98cf2f63d44dbaa8cc50e5d196533a"
          ]
        },
        "id": "ru-fcws_fFd8",
        "outputId": "678101f9-83f8-46c8-b851-183e1ecdcb65"
      },
      "outputs": [
        {
          "data": {
            "application/vnd.jupyter.widget-view+json": {
              "model_id": "4f4f4eaab55947af9d39eefbf4e63192",
              "version_major": 2,
              "version_minor": 0
            },
            "text/plain": [
              "  0%|          | 0/25 [00:00<?, ?it/s]"
            ]
          },
          "metadata": {},
          "output_type": "display_data"
        }
      ],
      "source": [
        "num_epochs = 25\n",
        "\n",
        "for _ in notebook.tqdm(range(num_epochs)):\n",
        "    model_lfm.fit_partial(\n",
        "        weights_matrix_csr\n",
        "    )"
      ]
    },
    {
      "cell_type": "code",
      "execution_count": null,
      "metadata": {
        "id": "IepbPkEzFg9W"
      },
      "outputs": [],
      "source": [
        "model_lfm.item_biases = np.zeros_like(model_lfm.item_biases)"
      ]
    },
    {
      "cell_type": "code",
      "execution_count": null,
      "metadata": {
        "colab": {
          "base_uri": "https://localhost:8080/"
        },
        "id": "-FgZtB7rlNCp",
        "outputId": "c33a4070-f344-4319-abd2-f7835b678b55"
      },
      "outputs": [
        {
          "data": {
            "text/plain": [
              "25"
            ]
          },
          "execution_count": 28,
          "metadata": {},
          "output_type": "execute_result"
        }
      ],
      "source": [
        "num_epochs"
      ]
    },
    {
      "cell_type": "code",
      "execution_count": null,
      "metadata": {
        "colab": {
          "base_uri": "https://localhost:8080/",
          "height": 143
        },
        "id": "XMGPJ8EIhLxz",
        "outputId": "94b20005-a471-497b-91c5-48e9da3c2746"
      },
      "outputs": [
        {
          "data": {
            "text/html": [
              "\n",
              "\n",
              "  <div id=\"df-f7e31be8-5d90-4d68-a23d-f483bc30f021\">\n",
              "    <div class=\"colab-df-container\">\n",
              "      <div>\n",
              "<style scoped>\n",
              "    .dataframe tbody tr th:only-of-type {\n",
              "        vertical-align: middle;\n",
              "    }\n",
              "\n",
              "    .dataframe tbody tr th {\n",
              "        vertical-align: top;\n",
              "    }\n",
              "\n",
              "    .dataframe thead th {\n",
              "        text-align: right;\n",
              "    }\n",
              "</style>\n",
              "<table border=\"1\" class=\"dataframe\">\n",
              "  <thead>\n",
              "    <tr style=\"text-align: right;\">\n",
              "      <th></th>\n",
              "      <th>user_id</th>\n",
              "    </tr>\n",
              "  </thead>\n",
              "  <tbody>\n",
              "    <tr>\n",
              "      <th>0</th>\n",
              "      <td>3</td>\n",
              "    </tr>\n",
              "    <tr>\n",
              "      <th>1</th>\n",
              "      <td>4</td>\n",
              "    </tr>\n",
              "    <tr>\n",
              "      <th>2</th>\n",
              "      <td>8</td>\n",
              "    </tr>\n",
              "  </tbody>\n",
              "</table>\n",
              "</div>\n",
              "      <button class=\"colab-df-convert\" onclick=\"convertToInteractive('df-f7e31be8-5d90-4d68-a23d-f483bc30f021')\"\n",
              "              title=\"Convert this dataframe to an interactive table.\"\n",
              "              style=\"display:none;\">\n",
              "\n",
              "  <svg xmlns=\"http://www.w3.org/2000/svg\" height=\"24px\"viewBox=\"0 0 24 24\"\n",
              "       width=\"24px\">\n",
              "    <path d=\"M0 0h24v24H0V0z\" fill=\"none\"/>\n",
              "    <path d=\"M18.56 5.44l.94 2.06.94-2.06 2.06-.94-2.06-.94-.94-2.06-.94 2.06-2.06.94zm-11 1L8.5 8.5l.94-2.06 2.06-.94-2.06-.94L8.5 2.5l-.94 2.06-2.06.94zm10 10l.94 2.06.94-2.06 2.06-.94-2.06-.94-.94-2.06-.94 2.06-2.06.94z\"/><path d=\"M17.41 7.96l-1.37-1.37c-.4-.4-.92-.59-1.43-.59-.52 0-1.04.2-1.43.59L10.3 9.45l-7.72 7.72c-.78.78-.78 2.05 0 2.83L4 21.41c.39.39.9.59 1.41.59.51 0 1.02-.2 1.41-.59l7.78-7.78 2.81-2.81c.8-.78.8-2.07 0-2.86zM5.41 20L4 18.59l7.72-7.72 1.47 1.35L5.41 20z\"/>\n",
              "  </svg>\n",
              "      </button>\n",
              "\n",
              "\n",
              "\n",
              "    <div id=\"df-6637290c-6178-4631-b799-97752cd7f091\">\n",
              "      <button class=\"colab-df-quickchart\" onclick=\"quickchart('df-6637290c-6178-4631-b799-97752cd7f091')\"\n",
              "              title=\"Suggest charts.\"\n",
              "              style=\"display:none;\">\n",
              "\n",
              "<svg xmlns=\"http://www.w3.org/2000/svg\" height=\"24px\"viewBox=\"0 0 24 24\"\n",
              "     width=\"24px\">\n",
              "    <g>\n",
              "        <path d=\"M19 3H5c-1.1 0-2 .9-2 2v14c0 1.1.9 2 2 2h14c1.1 0 2-.9 2-2V5c0-1.1-.9-2-2-2zM9 17H7v-7h2v7zm4 0h-2V7h2v10zm4 0h-2v-4h2v4z\"/>\n",
              "    </g>\n",
              "</svg>\n",
              "      </button>\n",
              "    </div>\n",
              "\n",
              "<style>\n",
              "  .colab-df-quickchart {\n",
              "    background-color: #E8F0FE;\n",
              "    border: none;\n",
              "    border-radius: 50%;\n",
              "    cursor: pointer;\n",
              "    display: none;\n",
              "    fill: #1967D2;\n",
              "    height: 32px;\n",
              "    padding: 0 0 0 0;\n",
              "    width: 32px;\n",
              "  }\n",
              "\n",
              "  .colab-df-quickchart:hover {\n",
              "    background-color: #E2EBFA;\n",
              "    box-shadow: 0px 1px 2px rgba(60, 64, 67, 0.3), 0px 1px 3px 1px rgba(60, 64, 67, 0.15);\n",
              "    fill: #174EA6;\n",
              "  }\n",
              "\n",
              "  [theme=dark] .colab-df-quickchart {\n",
              "    background-color: #3B4455;\n",
              "    fill: #D2E3FC;\n",
              "  }\n",
              "\n",
              "  [theme=dark] .colab-df-quickchart:hover {\n",
              "    background-color: #434B5C;\n",
              "    box-shadow: 0px 1px 3px 1px rgba(0, 0, 0, 0.15);\n",
              "    filter: drop-shadow(0px 1px 2px rgba(0, 0, 0, 0.3));\n",
              "    fill: #FFFFFF;\n",
              "  }\n",
              "</style>\n",
              "\n",
              "    <script>\n",
              "      async function quickchart(key) {\n",
              "        const containerElement = document.querySelector('#' + key);\n",
              "        const charts = await google.colab.kernel.invokeFunction(\n",
              "            'suggestCharts', [key], {});\n",
              "      }\n",
              "    </script>\n",
              "\n",
              "      <script>\n",
              "\n",
              "function displayQuickchartButton(domScope) {\n",
              "  let quickchartButtonEl =\n",
              "    domScope.querySelector('#df-6637290c-6178-4631-b799-97752cd7f091 button.colab-df-quickchart');\n",
              "  quickchartButtonEl.style.display =\n",
              "    google.colab.kernel.accessAllowed ? 'block' : 'none';\n",
              "}\n",
              "\n",
              "        displayQuickchartButton(document);\n",
              "      </script>\n",
              "      <style>\n",
              "    .colab-df-container {\n",
              "      display:flex;\n",
              "      flex-wrap:wrap;\n",
              "      gap: 12px;\n",
              "    }\n",
              "\n",
              "    .colab-df-convert {\n",
              "      background-color: #E8F0FE;\n",
              "      border: none;\n",
              "      border-radius: 50%;\n",
              "      cursor: pointer;\n",
              "      display: none;\n",
              "      fill: #1967D2;\n",
              "      height: 32px;\n",
              "      padding: 0 0 0 0;\n",
              "      width: 32px;\n",
              "    }\n",
              "\n",
              "    .colab-df-convert:hover {\n",
              "      background-color: #E2EBFA;\n",
              "      box-shadow: 0px 1px 2px rgba(60, 64, 67, 0.3), 0px 1px 3px 1px rgba(60, 64, 67, 0.15);\n",
              "      fill: #174EA6;\n",
              "    }\n",
              "\n",
              "    [theme=dark] .colab-df-convert {\n",
              "      background-color: #3B4455;\n",
              "      fill: #D2E3FC;\n",
              "    }\n",
              "\n",
              "    [theme=dark] .colab-df-convert:hover {\n",
              "      background-color: #434B5C;\n",
              "      box-shadow: 0px 1px 3px 1px rgba(0, 0, 0, 0.15);\n",
              "      filter: drop-shadow(0px 1px 2px rgba(0, 0, 0, 0.3));\n",
              "      fill: #FFFFFF;\n",
              "    }\n",
              "  </style>\n",
              "\n",
              "      <script>\n",
              "        const buttonEl =\n",
              "          document.querySelector('#df-f7e31be8-5d90-4d68-a23d-f483bc30f021 button.colab-df-convert');\n",
              "        buttonEl.style.display =\n",
              "          google.colab.kernel.accessAllowed ? 'block' : 'none';\n",
              "\n",
              "        async function convertToInteractive(key) {\n",
              "          const element = document.querySelector('#df-f7e31be8-5d90-4d68-a23d-f483bc30f021');\n",
              "          const dataTable =\n",
              "            await google.colab.kernel.invokeFunction('convertToInteractive',\n",
              "                                                     [key], {});\n",
              "          if (!dataTable) return;\n",
              "\n",
              "          const docLinkHtml = 'Like what you see? Visit the ' +\n",
              "            '<a target=\"_blank\" href=https://colab.research.google.com/notebooks/data_table.ipynb>data table notebook</a>'\n",
              "            + ' to learn more about interactive tables.';\n",
              "          element.innerHTML = '';\n",
              "          dataTable['output_type'] = 'display_data';\n",
              "          await google.colab.output.renderOutput(dataTable, element);\n",
              "          const docLink = document.createElement('div');\n",
              "          docLink.innerHTML = docLinkHtml;\n",
              "          element.appendChild(docLink);\n",
              "        }\n",
              "      </script>\n",
              "    </div>\n",
              "  </div>\n"
            ],
            "text/plain": [
              "   user_id\n",
              "0        3\n",
              "1        4\n",
              "2        8"
            ]
          },
          "execution_count": 29,
          "metadata": {},
          "output_type": "execute_result"
        }
      ],
      "source": [
        "candidates = pd.DataFrame({\n",
        "    'user_id': lfm_val['user_id'].unique()\n",
        "})\n",
        "\n",
        "candidates.head(3)"
      ]
    },
    {
      "cell_type": "code",
      "execution_count": null,
      "metadata": {
        "id": "EzBU6WYou4Yz"
      },
      "outputs": [],
      "source": [
        "def generate_lightfm_recs_mapper(model, item_ids, known_items, user_features, item_features, N, user_mapping, item_inv_mapping, num_threads=4):\n",
        "    def _recs_mapper(user):\n",
        "        user_id = user_mapping[user]\n",
        "        recs = model.predict(user_id, item_ids, user_features=user_features, item_features=item_features, num_threads=num_threads)\n",
        "\n",
        "        additional_N = len(known_items[user_id]) if user_id in known_items else 0\n",
        "        total_N = N + additional_N\n",
        "        top_cols = np.argpartition(recs, -np.arange(total_N))[-total_N:][::-1]\n",
        "\n",
        "        final_recs = [item_inv_mapping[item] for item in top_cols]\n",
        "        if additional_N > 0:\n",
        "            filter_items = known_items[user_id]\n",
        "            final_recs = [item for item in final_recs if item not in filter_items]\n",
        "        return final_recs[:N]\n",
        "    return _recs_mapper"
      ]
    },
    {
      "cell_type": "code",
      "execution_count": null,
      "metadata": {
        "id": "RfRP73j6he7k"
      },
      "outputs": [],
      "source": [
        "# import tools\n",
        "# from tools import generate_lightfm_recs_mapper\n",
        "\n",
        "# кол-во кандидатов\n",
        "top_N = 50\n",
        "\n",
        "# вспомогательные данные\n",
        "all_cols = list(lightfm_mapping['items_mapping'].values())\n",
        "\n",
        "mapper = generate_lightfm_recs_mapper(\n",
        "    model_lfm,\n",
        "    item_ids=all_cols,\n",
        "    known_items=dict(),\n",
        "    N=top_N,\n",
        "    user_features=None,\n",
        "    item_features=None,\n",
        "    user_mapping=lightfm_mapping['users_mapping'],\n",
        "    item_inv_mapping=lightfm_mapping['items_inv_mapping'],\n",
        "    num_threads=8\n",
        ")"
      ]
    },
    {
      "cell_type": "code",
      "execution_count": null,
      "metadata": {
        "colab": {
          "base_uri": "https://localhost:8080/",
          "height": 206
        },
        "id": "0CJTVJSOhyG1",
        "outputId": "6a7bdd45-6ccb-4c9d-cb5f-ff9852164409"
      },
      "outputs": [
        {
          "data": {
            "text/html": [
              "\n",
              "\n",
              "  <div id=\"df-c0f1969c-e849-4177-9c39-2352d529fb8c\">\n",
              "    <div class=\"colab-df-container\">\n",
              "      <div>\n",
              "<style scoped>\n",
              "    .dataframe tbody tr th:only-of-type {\n",
              "        vertical-align: middle;\n",
              "    }\n",
              "\n",
              "    .dataframe tbody tr th {\n",
              "        vertical-align: top;\n",
              "    }\n",
              "\n",
              "    .dataframe thead th {\n",
              "        text-align: right;\n",
              "    }\n",
              "</style>\n",
              "<table border=\"1\" class=\"dataframe\">\n",
              "  <thead>\n",
              "    <tr style=\"text-align: right;\">\n",
              "      <th></th>\n",
              "      <th>user_id</th>\n",
              "      <th>item_id</th>\n",
              "      <th>rank</th>\n",
              "    </tr>\n",
              "  </thead>\n",
              "  <tbody>\n",
              "    <tr>\n",
              "      <th>0</th>\n",
              "      <td>3</td>\n",
              "      <td>7619</td>\n",
              "      <td>1</td>\n",
              "    </tr>\n",
              "    <tr>\n",
              "      <th>0</th>\n",
              "      <td>3</td>\n",
              "      <td>2292</td>\n",
              "      <td>2</td>\n",
              "    </tr>\n",
              "    <tr>\n",
              "      <th>0</th>\n",
              "      <td>3</td>\n",
              "      <td>2246</td>\n",
              "      <td>3</td>\n",
              "    </tr>\n",
              "    <tr>\n",
              "      <th>0</th>\n",
              "      <td>3</td>\n",
              "      <td>5617</td>\n",
              "      <td>4</td>\n",
              "    </tr>\n",
              "    <tr>\n",
              "      <th>0</th>\n",
              "      <td>3</td>\n",
              "      <td>7426</td>\n",
              "      <td>5</td>\n",
              "    </tr>\n",
              "  </tbody>\n",
              "</table>\n",
              "</div>\n",
              "      <button class=\"colab-df-convert\" onclick=\"convertToInteractive('df-c0f1969c-e849-4177-9c39-2352d529fb8c')\"\n",
              "              title=\"Convert this dataframe to an interactive table.\"\n",
              "              style=\"display:none;\">\n",
              "\n",
              "  <svg xmlns=\"http://www.w3.org/2000/svg\" height=\"24px\"viewBox=\"0 0 24 24\"\n",
              "       width=\"24px\">\n",
              "    <path d=\"M0 0h24v24H0V0z\" fill=\"none\"/>\n",
              "    <path d=\"M18.56 5.44l.94 2.06.94-2.06 2.06-.94-2.06-.94-.94-2.06-.94 2.06-2.06.94zm-11 1L8.5 8.5l.94-2.06 2.06-.94-2.06-.94L8.5 2.5l-.94 2.06-2.06.94zm10 10l.94 2.06.94-2.06 2.06-.94-2.06-.94-.94-2.06-.94 2.06-2.06.94z\"/><path d=\"M17.41 7.96l-1.37-1.37c-.4-.4-.92-.59-1.43-.59-.52 0-1.04.2-1.43.59L10.3 9.45l-7.72 7.72c-.78.78-.78 2.05 0 2.83L4 21.41c.39.39.9.59 1.41.59.51 0 1.02-.2 1.41-.59l7.78-7.78 2.81-2.81c.8-.78.8-2.07 0-2.86zM5.41 20L4 18.59l7.72-7.72 1.47 1.35L5.41 20z\"/>\n",
              "  </svg>\n",
              "      </button>\n",
              "\n",
              "\n",
              "\n",
              "    <div id=\"df-c789aa6f-58e5-4398-bfb3-01c7184d397a\">\n",
              "      <button class=\"colab-df-quickchart\" onclick=\"quickchart('df-c789aa6f-58e5-4398-bfb3-01c7184d397a')\"\n",
              "              title=\"Suggest charts.\"\n",
              "              style=\"display:none;\">\n",
              "\n",
              "<svg xmlns=\"http://www.w3.org/2000/svg\" height=\"24px\"viewBox=\"0 0 24 24\"\n",
              "     width=\"24px\">\n",
              "    <g>\n",
              "        <path d=\"M19 3H5c-1.1 0-2 .9-2 2v14c0 1.1.9 2 2 2h14c1.1 0 2-.9 2-2V5c0-1.1-.9-2-2-2zM9 17H7v-7h2v7zm4 0h-2V7h2v10zm4 0h-2v-4h2v4z\"/>\n",
              "    </g>\n",
              "</svg>\n",
              "      </button>\n",
              "    </div>\n",
              "\n",
              "<style>\n",
              "  .colab-df-quickchart {\n",
              "    background-color: #E8F0FE;\n",
              "    border: none;\n",
              "    border-radius: 50%;\n",
              "    cursor: pointer;\n",
              "    display: none;\n",
              "    fill: #1967D2;\n",
              "    height: 32px;\n",
              "    padding: 0 0 0 0;\n",
              "    width: 32px;\n",
              "  }\n",
              "\n",
              "  .colab-df-quickchart:hover {\n",
              "    background-color: #E2EBFA;\n",
              "    box-shadow: 0px 1px 2px rgba(60, 64, 67, 0.3), 0px 1px 3px 1px rgba(60, 64, 67, 0.15);\n",
              "    fill: #174EA6;\n",
              "  }\n",
              "\n",
              "  [theme=dark] .colab-df-quickchart {\n",
              "    background-color: #3B4455;\n",
              "    fill: #D2E3FC;\n",
              "  }\n",
              "\n",
              "  [theme=dark] .colab-df-quickchart:hover {\n",
              "    background-color: #434B5C;\n",
              "    box-shadow: 0px 1px 3px 1px rgba(0, 0, 0, 0.15);\n",
              "    filter: drop-shadow(0px 1px 2px rgba(0, 0, 0, 0.3));\n",
              "    fill: #FFFFFF;\n",
              "  }\n",
              "</style>\n",
              "\n",
              "    <script>\n",
              "      async function quickchart(key) {\n",
              "        const containerElement = document.querySelector('#' + key);\n",
              "        const charts = await google.colab.kernel.invokeFunction(\n",
              "            'suggestCharts', [key], {});\n",
              "      }\n",
              "    </script>\n",
              "\n",
              "      <script>\n",
              "\n",
              "function displayQuickchartButton(domScope) {\n",
              "  let quickchartButtonEl =\n",
              "    domScope.querySelector('#df-c789aa6f-58e5-4398-bfb3-01c7184d397a button.colab-df-quickchart');\n",
              "  quickchartButtonEl.style.display =\n",
              "    google.colab.kernel.accessAllowed ? 'block' : 'none';\n",
              "}\n",
              "\n",
              "        displayQuickchartButton(document);\n",
              "      </script>\n",
              "      <style>\n",
              "    .colab-df-container {\n",
              "      display:flex;\n",
              "      flex-wrap:wrap;\n",
              "      gap: 12px;\n",
              "    }\n",
              "\n",
              "    .colab-df-convert {\n",
              "      background-color: #E8F0FE;\n",
              "      border: none;\n",
              "      border-radius: 50%;\n",
              "      cursor: pointer;\n",
              "      display: none;\n",
              "      fill: #1967D2;\n",
              "      height: 32px;\n",
              "      padding: 0 0 0 0;\n",
              "      width: 32px;\n",
              "    }\n",
              "\n",
              "    .colab-df-convert:hover {\n",
              "      background-color: #E2EBFA;\n",
              "      box-shadow: 0px 1px 2px rgba(60, 64, 67, 0.3), 0px 1px 3px 1px rgba(60, 64, 67, 0.15);\n",
              "      fill: #174EA6;\n",
              "    }\n",
              "\n",
              "    [theme=dark] .colab-df-convert {\n",
              "      background-color: #3B4455;\n",
              "      fill: #D2E3FC;\n",
              "    }\n",
              "\n",
              "    [theme=dark] .colab-df-convert:hover {\n",
              "      background-color: #434B5C;\n",
              "      box-shadow: 0px 1px 3px 1px rgba(0, 0, 0, 0.15);\n",
              "      filter: drop-shadow(0px 1px 2px rgba(0, 0, 0, 0.3));\n",
              "      fill: #FFFFFF;\n",
              "    }\n",
              "  </style>\n",
              "\n",
              "      <script>\n",
              "        const buttonEl =\n",
              "          document.querySelector('#df-c0f1969c-e849-4177-9c39-2352d529fb8c button.colab-df-convert');\n",
              "        buttonEl.style.display =\n",
              "          google.colab.kernel.accessAllowed ? 'block' : 'none';\n",
              "\n",
              "        async function convertToInteractive(key) {\n",
              "          const element = document.querySelector('#df-c0f1969c-e849-4177-9c39-2352d529fb8c');\n",
              "          const dataTable =\n",
              "            await google.colab.kernel.invokeFunction('convertToInteractive',\n",
              "                                                     [key], {});\n",
              "          if (!dataTable) return;\n",
              "\n",
              "          const docLinkHtml = 'Like what you see? Visit the ' +\n",
              "            '<a target=\"_blank\" href=https://colab.research.google.com/notebooks/data_table.ipynb>data table notebook</a>'\n",
              "            + ' to learn more about interactive tables.';\n",
              "          element.innerHTML = '';\n",
              "          dataTable['output_type'] = 'display_data';\n",
              "          await google.colab.output.renderOutput(dataTable, element);\n",
              "          const docLink = document.createElement('div');\n",
              "          docLink.innerHTML = docLinkHtml;\n",
              "          element.appendChild(docLink);\n",
              "        }\n",
              "      </script>\n",
              "    </div>\n",
              "  </div>\n"
            ],
            "text/plain": [
              "   user_id item_id  rank\n",
              "0        3    7619     1\n",
              "0        3    2292     2\n",
              "0        3    2246     3\n",
              "0        3    5617     4\n",
              "0        3    7426     5"
            ]
          },
          "execution_count": 32,
          "metadata": {},
          "output_type": "execute_result"
        }
      ],
      "source": [
        "candidates['item_id'] = candidates['user_id'].map(mapper)\n",
        "candidates = candidates.explode('item_id')\n",
        "candidates['rank'] = candidates.groupby('user_id').cumcount() + 1\n",
        "\n",
        "candidates.head()"
      ]
    },
    {
      "cell_type": "code",
      "execution_count": null,
      "metadata": {
        "id": "-6xbfdPJQ77H"
      },
      "outputs": [],
      "source": [
        "candidates.to_csv(r\"/content/drive/MyDrive/Colab Notebooks/candidates_1.csv.gzip\", compression='gzip')"
      ]
    },
    {
      "cell_type": "code",
      "execution_count": null,
      "metadata": {
        "id": "0k65AsVl0oAH"
      },
      "outputs": [],
      "source": [
        "candidates = pd.read_csv(r\"/content/drive/MyDrive/Colab Notebooks/candidates_1.csv.gzip\", compression='gzip')"
      ]
    },
    {
      "cell_type": "code",
      "execution_count": null,
      "metadata": {
        "id": "tbSYiPzwW7Du"
      },
      "outputs": [],
      "source": [
        "pred_interactions = candidates.drop(['rank'], axis=1).groupby('user_id')['item_id'].agg(lambda x: list(set(x)))\n",
        "test_interactions = test.drop(['order_ts'], axis=1).groupby('user_id')['item_id'].agg(lambda x: list(set(x)))"
      ]
    },
    {
      "cell_type": "code",
      "execution_count": null,
      "metadata": {
        "id": "XPbXNTKkfy4o"
      },
      "outputs": [],
      "source": [
        "pred_interactions = pd.DataFrame(pred_interactions)\n",
        "pred_interactions.columns=['pred_items']\n",
        "test_interactions = pd.DataFrame(test_interactions)\n",
        "test_interactions.columns=['test_items']"
      ]
    },
    {
      "cell_type": "code",
      "execution_count": null,
      "metadata": {
        "id": "h0iDgP_M8CY7"
      },
      "outputs": [],
      "source": [
        "val_interactions = lfm_val.drop(['purchase'], axis=1).groupby('user_id')['item_id'].agg(lambda x: list(set(x)))\n",
        "\n",
        "val_interactions = pd.DataFrame(val_interactions)\n",
        "val_interactions.columns=['val_items']"
      ]
    },
    {
      "cell_type": "code",
      "execution_count": null,
      "metadata": {
        "id": "FnZRGcVaf6gM"
      },
      "outputs": [],
      "source": [
        "joined = pred_interactions.join(test_interactions, how='inner')"
      ]
    },
    {
      "cell_type": "code",
      "execution_count": null,
      "metadata": {
        "id": "eEuuDYubKsOo"
      },
      "outputs": [],
      "source": [
        "joined.to_csv(r\"/content/drive/MyDrive/Colab Notebooks/joined.csv.gzip\", compression='gzip')"
      ]
    },
    {
      "cell_type": "code",
      "execution_count": null,
      "metadata": {
        "id": "IhQzsQzJ8Uv9"
      },
      "outputs": [],
      "source": [
        "joined = joined.join(val_interactions, how='inner')"
      ]
    },
    {
      "cell_type": "code",
      "execution_count": null,
      "metadata": {
        "colab": {
          "base_uri": "https://localhost:8080/",
          "height": 237
        },
        "id": "Vph2IYgnVp0b",
        "outputId": "7ac610ce-34a8-44bc-cdcc-9540ab50411a"
      },
      "outputs": [
        {
          "data": {
            "text/html": [
              "\n",
              "\n",
              "  <div id=\"df-fa265407-4215-40c7-90df-d81376232e65\">\n",
              "    <div class=\"colab-df-container\">\n",
              "      <div>\n",
              "<style scoped>\n",
              "    .dataframe tbody tr th:only-of-type {\n",
              "        vertical-align: middle;\n",
              "    }\n",
              "\n",
              "    .dataframe tbody tr th {\n",
              "        vertical-align: top;\n",
              "    }\n",
              "\n",
              "    .dataframe thead th {\n",
              "        text-align: right;\n",
              "    }\n",
              "</style>\n",
              "<table border=\"1\" class=\"dataframe\">\n",
              "  <thead>\n",
              "    <tr style=\"text-align: right;\">\n",
              "      <th></th>\n",
              "      <th>pred_items</th>\n",
              "      <th>test_items</th>\n",
              "    </tr>\n",
              "    <tr>\n",
              "      <th>user_id</th>\n",
              "      <th></th>\n",
              "      <th></th>\n",
              "    </tr>\n",
              "  </thead>\n",
              "  <tbody>\n",
              "    <tr>\n",
              "      <th>3</th>\n",
              "      <td>[640, 7426, 1923, 1285, 1803, 2831, 4498, 531,...</td>\n",
              "      <td>[163, 1635, 50, 180, 343, 184, 217]</td>\n",
              "    </tr>\n",
              "    <tr>\n",
              "      <th>8</th>\n",
              "      <td>[640, 7426, 1923, 1285, 1803, 2831, 4498, 531,...</td>\n",
              "      <td>[712]</td>\n",
              "    </tr>\n",
              "    <tr>\n",
              "      <th>15</th>\n",
              "      <td>[640, 7426, 1923, 1285, 1803, 2831, 4498, 531,...</td>\n",
              "      <td>[3180]</td>\n",
              "    </tr>\n",
              "    <tr>\n",
              "      <th>20</th>\n",
              "      <td>[640, 7426, 1923, 1285, 1803, 2831, 4498, 531,...</td>\n",
              "      <td>[249, 212, 390]</td>\n",
              "    </tr>\n",
              "    <tr>\n",
              "      <th>25</th>\n",
              "      <td>[640, 7426, 1923, 1285, 1803, 2831, 4498, 531,...</td>\n",
              "      <td>[7704, 1294, 1939, 435, 438, 440, 1116]</td>\n",
              "    </tr>\n",
              "  </tbody>\n",
              "</table>\n",
              "</div>\n",
              "      <button class=\"colab-df-convert\" onclick=\"convertToInteractive('df-fa265407-4215-40c7-90df-d81376232e65')\"\n",
              "              title=\"Convert this dataframe to an interactive table.\"\n",
              "              style=\"display:none;\">\n",
              "\n",
              "  <svg xmlns=\"http://www.w3.org/2000/svg\" height=\"24px\"viewBox=\"0 0 24 24\"\n",
              "       width=\"24px\">\n",
              "    <path d=\"M0 0h24v24H0V0z\" fill=\"none\"/>\n",
              "    <path d=\"M18.56 5.44l.94 2.06.94-2.06 2.06-.94-2.06-.94-.94-2.06-.94 2.06-2.06.94zm-11 1L8.5 8.5l.94-2.06 2.06-.94-2.06-.94L8.5 2.5l-.94 2.06-2.06.94zm10 10l.94 2.06.94-2.06 2.06-.94-2.06-.94-.94-2.06-.94 2.06-2.06.94z\"/><path d=\"M17.41 7.96l-1.37-1.37c-.4-.4-.92-.59-1.43-.59-.52 0-1.04.2-1.43.59L10.3 9.45l-7.72 7.72c-.78.78-.78 2.05 0 2.83L4 21.41c.39.39.9.59 1.41.59.51 0 1.02-.2 1.41-.59l7.78-7.78 2.81-2.81c.8-.78.8-2.07 0-2.86zM5.41 20L4 18.59l7.72-7.72 1.47 1.35L5.41 20z\"/>\n",
              "  </svg>\n",
              "      </button>\n",
              "\n",
              "\n",
              "\n",
              "    <div id=\"df-4499cd32-13d5-4e59-ab47-3addc6b19574\">\n",
              "      <button class=\"colab-df-quickchart\" onclick=\"quickchart('df-4499cd32-13d5-4e59-ab47-3addc6b19574')\"\n",
              "              title=\"Suggest charts.\"\n",
              "              style=\"display:none;\">\n",
              "\n",
              "<svg xmlns=\"http://www.w3.org/2000/svg\" height=\"24px\"viewBox=\"0 0 24 24\"\n",
              "     width=\"24px\">\n",
              "    <g>\n",
              "        <path d=\"M19 3H5c-1.1 0-2 .9-2 2v14c0 1.1.9 2 2 2h14c1.1 0 2-.9 2-2V5c0-1.1-.9-2-2-2zM9 17H7v-7h2v7zm4 0h-2V7h2v10zm4 0h-2v-4h2v4z\"/>\n",
              "    </g>\n",
              "</svg>\n",
              "      </button>\n",
              "    </div>\n",
              "\n",
              "<style>\n",
              "  .colab-df-quickchart {\n",
              "    background-color: #E8F0FE;\n",
              "    border: none;\n",
              "    border-radius: 50%;\n",
              "    cursor: pointer;\n",
              "    display: none;\n",
              "    fill: #1967D2;\n",
              "    height: 32px;\n",
              "    padding: 0 0 0 0;\n",
              "    width: 32px;\n",
              "  }\n",
              "\n",
              "  .colab-df-quickchart:hover {\n",
              "    background-color: #E2EBFA;\n",
              "    box-shadow: 0px 1px 2px rgba(60, 64, 67, 0.3), 0px 1px 3px 1px rgba(60, 64, 67, 0.15);\n",
              "    fill: #174EA6;\n",
              "  }\n",
              "\n",
              "  [theme=dark] .colab-df-quickchart {\n",
              "    background-color: #3B4455;\n",
              "    fill: #D2E3FC;\n",
              "  }\n",
              "\n",
              "  [theme=dark] .colab-df-quickchart:hover {\n",
              "    background-color: #434B5C;\n",
              "    box-shadow: 0px 1px 3px 1px rgba(0, 0, 0, 0.15);\n",
              "    filter: drop-shadow(0px 1px 2px rgba(0, 0, 0, 0.3));\n",
              "    fill: #FFFFFF;\n",
              "  }\n",
              "</style>\n",
              "\n",
              "    <script>\n",
              "      async function quickchart(key) {\n",
              "        const containerElement = document.querySelector('#' + key);\n",
              "        const charts = await google.colab.kernel.invokeFunction(\n",
              "            'suggestCharts', [key], {});\n",
              "      }\n",
              "    </script>\n",
              "\n",
              "      <script>\n",
              "\n",
              "function displayQuickchartButton(domScope) {\n",
              "  let quickchartButtonEl =\n",
              "    domScope.querySelector('#df-4499cd32-13d5-4e59-ab47-3addc6b19574 button.colab-df-quickchart');\n",
              "  quickchartButtonEl.style.display =\n",
              "    google.colab.kernel.accessAllowed ? 'block' : 'none';\n",
              "}\n",
              "\n",
              "        displayQuickchartButton(document);\n",
              "      </script>\n",
              "      <style>\n",
              "    .colab-df-container {\n",
              "      display:flex;\n",
              "      flex-wrap:wrap;\n",
              "      gap: 12px;\n",
              "    }\n",
              "\n",
              "    .colab-df-convert {\n",
              "      background-color: #E8F0FE;\n",
              "      border: none;\n",
              "      border-radius: 50%;\n",
              "      cursor: pointer;\n",
              "      display: none;\n",
              "      fill: #1967D2;\n",
              "      height: 32px;\n",
              "      padding: 0 0 0 0;\n",
              "      width: 32px;\n",
              "    }\n",
              "\n",
              "    .colab-df-convert:hover {\n",
              "      background-color: #E2EBFA;\n",
              "      box-shadow: 0px 1px 2px rgba(60, 64, 67, 0.3), 0px 1px 3px 1px rgba(60, 64, 67, 0.15);\n",
              "      fill: #174EA6;\n",
              "    }\n",
              "\n",
              "    [theme=dark] .colab-df-convert {\n",
              "      background-color: #3B4455;\n",
              "      fill: #D2E3FC;\n",
              "    }\n",
              "\n",
              "    [theme=dark] .colab-df-convert:hover {\n",
              "      background-color: #434B5C;\n",
              "      box-shadow: 0px 1px 3px 1px rgba(0, 0, 0, 0.15);\n",
              "      filter: drop-shadow(0px 1px 2px rgba(0, 0, 0, 0.3));\n",
              "      fill: #FFFFFF;\n",
              "    }\n",
              "  </style>\n",
              "\n",
              "      <script>\n",
              "        const buttonEl =\n",
              "          document.querySelector('#df-fa265407-4215-40c7-90df-d81376232e65 button.colab-df-convert');\n",
              "        buttonEl.style.display =\n",
              "          google.colab.kernel.accessAllowed ? 'block' : 'none';\n",
              "\n",
              "        async function convertToInteractive(key) {\n",
              "          const element = document.querySelector('#df-fa265407-4215-40c7-90df-d81376232e65');\n",
              "          const dataTable =\n",
              "            await google.colab.kernel.invokeFunction('convertToInteractive',\n",
              "                                                     [key], {});\n",
              "          if (!dataTable) return;\n",
              "\n",
              "          const docLinkHtml = 'Like what you see? Visit the ' +\n",
              "            '<a target=\"_blank\" href=https://colab.research.google.com/notebooks/data_table.ipynb>data table notebook</a>'\n",
              "            + ' to learn more about interactive tables.';\n",
              "          element.innerHTML = '';\n",
              "          dataTable['output_type'] = 'display_data';\n",
              "          await google.colab.output.renderOutput(dataTable, element);\n",
              "          const docLink = document.createElement('div');\n",
              "          docLink.innerHTML = docLinkHtml;\n",
              "          element.appendChild(docLink);\n",
              "        }\n",
              "      </script>\n",
              "    </div>\n",
              "  </div>\n"
            ],
            "text/plain": [
              "                                                pred_items  \\\n",
              "user_id                                                      \n",
              "3        [640, 7426, 1923, 1285, 1803, 2831, 4498, 531,...   \n",
              "8        [640, 7426, 1923, 1285, 1803, 2831, 4498, 531,...   \n",
              "15       [640, 7426, 1923, 1285, 1803, 2831, 4498, 531,...   \n",
              "20       [640, 7426, 1923, 1285, 1803, 2831, 4498, 531,...   \n",
              "25       [640, 7426, 1923, 1285, 1803, 2831, 4498, 531,...   \n",
              "\n",
              "                                      test_items  \n",
              "user_id                                           \n",
              "3            [163, 1635, 50, 180, 343, 184, 217]  \n",
              "8                                          [712]  \n",
              "15                                        [3180]  \n",
              "20                               [249, 212, 390]  \n",
              "25       [7704, 1294, 1939, 435, 438, 440, 1116]  "
            ]
          },
          "execution_count": 36,
          "metadata": {},
          "output_type": "execute_result"
        }
      ],
      "source": [
        "joined.head()"
      ]
    },
    {
      "cell_type": "code",
      "execution_count": null,
      "metadata": {
        "id": "FsdBV_jKf9-e"
      },
      "outputs": [],
      "source": [
        "joined['recall@20'] = joined.apply(lambda row: recall_at_k(row['pred_items'], row['test_items'], 20), axis=1)"
      ]
    },
    {
      "cell_type": "code",
      "execution_count": null,
      "metadata": {
        "id": "ghw-0gx88oGc"
      },
      "outputs": [],
      "source": [
        "joined['recall@20_val'] = joined.apply(lambda row: recall_at_k(row['pred_items'], row['val_items'], 20), axis=1)"
      ]
    },
    {
      "cell_type": "code",
      "execution_count": null,
      "metadata": {
        "id": "ZBbq9rmV3-MN"
      },
      "outputs": [],
      "source": [
        "joined['recall@10'] = joined.apply(lambda row: recall_at_k(row['pred_items'], row['test_items'], 10), axis=1)"
      ]
    },
    {
      "cell_type": "code",
      "execution_count": null,
      "metadata": {
        "id": "e6PCd5S2kotL"
      },
      "outputs": [],
      "source": [
        "joined['precision@20'] = joined.apply(lambda row: precision_at_k(row['pred_items'], row['test_items'], 20), axis=1)"
      ]
    },
    {
      "cell_type": "code",
      "execution_count": null,
      "metadata": {
        "colab": {
          "base_uri": "https://localhost:8080/"
        },
        "id": "kgKH--N0hRfL",
        "outputId": "8ff9394c-2ff3-4847-bae1-8c73f955fa3c"
      },
      "outputs": [
        {
          "data": {
            "text/plain": [
              "0.0"
            ]
          },
          "execution_count": 38,
          "metadata": {},
          "output_type": "execute_result"
        }
      ],
      "source": [
        "round(joined['recall@20'].mean(), 2)"
      ]
    },
    {
      "cell_type": "code",
      "execution_count": null,
      "metadata": {
        "id": "W737dQ3EBOWR"
      },
      "outputs": [],
      "source": [
        "joined['ndcg@20'] = joined.apply(lambda row: ndcg_metric(row['test_items'], row['pred_items'], 20), axis=1)"
      ]
    },
    {
      "cell_type": "code",
      "execution_count": null,
      "metadata": {
        "colab": {
          "base_uri": "https://localhost:8080/"
        },
        "id": "DnxQs9BmW9KZ",
        "outputId": "76c2c637-a4bc-4bdc-9491-1c210d1ac086"
      },
      "outputs": [
        {
          "data": {
            "text/plain": [
              "0.79"
            ]
          },
          "execution_count": 40,
          "metadata": {},
          "output_type": "execute_result"
        }
      ],
      "source": [
        "round(joined['ndcg@20'].mean()*100, 2)"
      ]
    },
    {
      "cell_type": "code",
      "execution_count": null,
      "metadata": {
        "id": "I7xwGA9Rk28m"
      },
      "outputs": [],
      "source": [
        "joined['recall@50'] = joined.apply(lambda row: recall_at_k(row['pred_items'], row['test_items'], 50), axis=1)"
      ]
    },
    {
      "cell_type": "code",
      "execution_count": null,
      "metadata": {
        "colab": {
          "base_uri": "https://localhost:8080/"
        },
        "id": "tjTURkemk7by",
        "outputId": "7b60d745-d025-49db-8be0-03a2a649a60c"
      },
      "outputs": [
        {
          "data": {
            "text/plain": [
              "0.0"
            ]
          },
          "execution_count": 42,
          "metadata": {},
          "output_type": "execute_result"
        }
      ],
      "source": [
        "round(joined['recall@50'].mean(), 2)"
      ]
    },
    {
      "cell_type": "code",
      "execution_count": null,
      "metadata": {
        "colab": {
          "base_uri": "https://localhost:8080/"
        },
        "id": "kCIoOhXmh1AS",
        "outputId": "794a97d5-aa26-487b-fade-94778b6a60d8"
      },
      "outputs": [
        {
          "data": {
            "text/plain": [
              "468253"
            ]
          },
          "execution_count": 55,
          "metadata": {},
          "output_type": "execute_result"
        }
      ],
      "source": [
        "len(joined.index)"
      ]
    },
    {
      "cell_type": "code",
      "execution_count": null,
      "metadata": {
        "colab": {
          "base_uri": "https://localhost:8080/"
        },
        "id": "Fscymp9XWRtn",
        "outputId": "093cb73b-73d7-4200-b4ac-7e5cced97545"
      },
      "outputs": [
        {
          "name": "stdout",
          "output_type": "stream",
          "text": [
            "Уникальность 0.00\n"
          ]
        }
      ],
      "source": [
        "uniq_recs = len(joined['pred_items'].astype(str).unique())\n",
        "users_1 = len(joined.index)\n",
        "\n",
        "print(f'Уникальность {uniq_recs/users_1*100:.2f}')"
      ]
    },
    {
      "cell_type": "code",
      "execution_count": null,
      "metadata": {
        "colab": {
          "base_uri": "https://localhost:8080/"
        },
        "id": "TKURy9JTGxv3",
        "outputId": "4249577c-d07e-4661-812c-be9c9788c933"
      },
      "outputs": [
        {
          "name": "stdout",
          "output_type": "stream",
          "text": [
            "50\n"
          ]
        }
      ],
      "source": [
        "combined = []\n",
        "for list in joined['pred_items']:\n",
        "    combined += list\n",
        "\n",
        "# считаем количество уникальных элементов\n",
        "unique_elements = len(set(combined))\n",
        "\n",
        "print(unique_elements)"
      ]
    },
    {
      "cell_type": "markdown",
      "metadata": {
        "id": "G-_3ByiGG5Py"
      },
      "source": [
        "Было: 0.13\n",
        "ndcg 43,67\n",
        "уник 0\n",
        "\n",
        "50 айтемов"
      ]
    },
    {
      "cell_type": "markdown",
      "metadata": {
        "id": "4m1Ix_Oqjg7s"
      },
      "source": [
        "### LightFM Warp\n"
      ]
    },
    {
      "cell_type": "code",
      "execution_count": 25,
      "metadata": {
        "id": "w4bzC05hj-S9"
      },
      "outputs": [],
      "source": [
        "model_lfm = LightFM(loss='warp',\n",
        "                    max_sampled=4,\n",
        "                    no_components=5,\n",
        "                    learning_rate=0.1,\n",
        "                    item_alpha=0.001,\n",
        "                    user_alpha=0.0001,\n",
        "                    random_state=12345)"
      ]
    },
    {
      "cell_type": "code",
      "execution_count": 26,
      "metadata": {
        "id": "ORKpZCcnj-S9",
        "colab": {
          "base_uri": "https://localhost:8080/",
          "height": 49,
          "referenced_widgets": [
            "a362c637756640c69b755a3241d18384",
            "e959cfad67af4932bef42f2fc502bb46",
            "21f3d8b6e5114fcea49bc16261423933",
            "0007dd6505da46fea41efae90e38b3a5",
            "da0a2b6c775d4a67aa94e9bebb4d17e6",
            "5e610a616b234a6fbd721b06ac39f2c7",
            "460db75fdc8e457f91c193867ed8cb8d",
            "a66dd79d9352452bb2133b3ac6138cb1",
            "9ee4e68ff19e4e48a8a89de409d00119",
            "185898c4a87d44e2a773a078da3da969",
            "652390924da3441f9b922f78ea3b9d65"
          ]
        },
        "outputId": "51c134de-33af-4c1a-8f0b-59af4de0f305"
      },
      "outputs": [
        {
          "output_type": "display_data",
          "data": {
            "text/plain": [
              "  0%|          | 0/25 [00:00<?, ?it/s]"
            ],
            "application/vnd.jupyter.widget-view+json": {
              "version_major": 2,
              "version_minor": 0,
              "model_id": "a362c637756640c69b755a3241d18384"
            }
          },
          "metadata": {}
        }
      ],
      "source": [
        "num_epochs = 25\n",
        "\n",
        "for _ in notebook.tqdm(range(num_epochs)):\n",
        "    model_lfm.fit_partial(\n",
        "        weights_matrix_csr\n",
        "    )"
      ]
    },
    {
      "cell_type": "code",
      "execution_count": 27,
      "metadata": {
        "id": "zF0aeZDxS7tE"
      },
      "outputs": [],
      "source": [
        "# model_lfm.item_biases = np.zeros_like(model_lfm.item_biases)"
      ]
    },
    {
      "cell_type": "code",
      "execution_count": 28,
      "metadata": {
        "id": "HFS3S6bxj-S-",
        "colab": {
          "base_uri": "https://localhost:8080/"
        },
        "outputId": "9e0a60d1-4ab7-4261-a760-4c9d2065ccba"
      },
      "outputs": [
        {
          "output_type": "execute_result",
          "data": {
            "text/plain": [
              "25"
            ]
          },
          "metadata": {},
          "execution_count": 28
        }
      ],
      "source": [
        "num_epochs"
      ]
    },
    {
      "cell_type": "code",
      "execution_count": 29,
      "metadata": {
        "id": "I9-_kQGlj-S-",
        "colab": {
          "base_uri": "https://localhost:8080/",
          "height": 143
        },
        "outputId": "0ec702f6-0324-47a9-cd1c-88fe09a7877d"
      },
      "outputs": [
        {
          "output_type": "execute_result",
          "data": {
            "text/plain": [
              "   user_id\n",
              "0        3\n",
              "1        4\n",
              "2        8"
            ],
            "text/html": [
              "\n",
              "\n",
              "  <div id=\"df-fd42a600-859f-4bf2-9346-55e6e9017db5\">\n",
              "    <div class=\"colab-df-container\">\n",
              "      <div>\n",
              "<style scoped>\n",
              "    .dataframe tbody tr th:only-of-type {\n",
              "        vertical-align: middle;\n",
              "    }\n",
              "\n",
              "    .dataframe tbody tr th {\n",
              "        vertical-align: top;\n",
              "    }\n",
              "\n",
              "    .dataframe thead th {\n",
              "        text-align: right;\n",
              "    }\n",
              "</style>\n",
              "<table border=\"1\" class=\"dataframe\">\n",
              "  <thead>\n",
              "    <tr style=\"text-align: right;\">\n",
              "      <th></th>\n",
              "      <th>user_id</th>\n",
              "    </tr>\n",
              "  </thead>\n",
              "  <tbody>\n",
              "    <tr>\n",
              "      <th>0</th>\n",
              "      <td>3</td>\n",
              "    </tr>\n",
              "    <tr>\n",
              "      <th>1</th>\n",
              "      <td>4</td>\n",
              "    </tr>\n",
              "    <tr>\n",
              "      <th>2</th>\n",
              "      <td>8</td>\n",
              "    </tr>\n",
              "  </tbody>\n",
              "</table>\n",
              "</div>\n",
              "      <button class=\"colab-df-convert\" onclick=\"convertToInteractive('df-fd42a600-859f-4bf2-9346-55e6e9017db5')\"\n",
              "              title=\"Convert this dataframe to an interactive table.\"\n",
              "              style=\"display:none;\">\n",
              "\n",
              "  <svg xmlns=\"http://www.w3.org/2000/svg\" height=\"24px\"viewBox=\"0 0 24 24\"\n",
              "       width=\"24px\">\n",
              "    <path d=\"M0 0h24v24H0V0z\" fill=\"none\"/>\n",
              "    <path d=\"M18.56 5.44l.94 2.06.94-2.06 2.06-.94-2.06-.94-.94-2.06-.94 2.06-2.06.94zm-11 1L8.5 8.5l.94-2.06 2.06-.94-2.06-.94L8.5 2.5l-.94 2.06-2.06.94zm10 10l.94 2.06.94-2.06 2.06-.94-2.06-.94-.94-2.06-.94 2.06-2.06.94z\"/><path d=\"M17.41 7.96l-1.37-1.37c-.4-.4-.92-.59-1.43-.59-.52 0-1.04.2-1.43.59L10.3 9.45l-7.72 7.72c-.78.78-.78 2.05 0 2.83L4 21.41c.39.39.9.59 1.41.59.51 0 1.02-.2 1.41-.59l7.78-7.78 2.81-2.81c.8-.78.8-2.07 0-2.86zM5.41 20L4 18.59l7.72-7.72 1.47 1.35L5.41 20z\"/>\n",
              "  </svg>\n",
              "      </button>\n",
              "\n",
              "\n",
              "\n",
              "    <div id=\"df-a81ae6cb-6788-4987-8e8e-bd434adaa866\">\n",
              "      <button class=\"colab-df-quickchart\" onclick=\"quickchart('df-a81ae6cb-6788-4987-8e8e-bd434adaa866')\"\n",
              "              title=\"Suggest charts.\"\n",
              "              style=\"display:none;\">\n",
              "\n",
              "<svg xmlns=\"http://www.w3.org/2000/svg\" height=\"24px\"viewBox=\"0 0 24 24\"\n",
              "     width=\"24px\">\n",
              "    <g>\n",
              "        <path d=\"M19 3H5c-1.1 0-2 .9-2 2v14c0 1.1.9 2 2 2h14c1.1 0 2-.9 2-2V5c0-1.1-.9-2-2-2zM9 17H7v-7h2v7zm4 0h-2V7h2v10zm4 0h-2v-4h2v4z\"/>\n",
              "    </g>\n",
              "</svg>\n",
              "      </button>\n",
              "    </div>\n",
              "\n",
              "<style>\n",
              "  .colab-df-quickchart {\n",
              "    background-color: #E8F0FE;\n",
              "    border: none;\n",
              "    border-radius: 50%;\n",
              "    cursor: pointer;\n",
              "    display: none;\n",
              "    fill: #1967D2;\n",
              "    height: 32px;\n",
              "    padding: 0 0 0 0;\n",
              "    width: 32px;\n",
              "  }\n",
              "\n",
              "  .colab-df-quickchart:hover {\n",
              "    background-color: #E2EBFA;\n",
              "    box-shadow: 0px 1px 2px rgba(60, 64, 67, 0.3), 0px 1px 3px 1px rgba(60, 64, 67, 0.15);\n",
              "    fill: #174EA6;\n",
              "  }\n",
              "\n",
              "  [theme=dark] .colab-df-quickchart {\n",
              "    background-color: #3B4455;\n",
              "    fill: #D2E3FC;\n",
              "  }\n",
              "\n",
              "  [theme=dark] .colab-df-quickchart:hover {\n",
              "    background-color: #434B5C;\n",
              "    box-shadow: 0px 1px 3px 1px rgba(0, 0, 0, 0.15);\n",
              "    filter: drop-shadow(0px 1px 2px rgba(0, 0, 0, 0.3));\n",
              "    fill: #FFFFFF;\n",
              "  }\n",
              "</style>\n",
              "\n",
              "    <script>\n",
              "      async function quickchart(key) {\n",
              "        const containerElement = document.querySelector('#' + key);\n",
              "        const charts = await google.colab.kernel.invokeFunction(\n",
              "            'suggestCharts', [key], {});\n",
              "      }\n",
              "    </script>\n",
              "\n",
              "      <script>\n",
              "\n",
              "function displayQuickchartButton(domScope) {\n",
              "  let quickchartButtonEl =\n",
              "    domScope.querySelector('#df-a81ae6cb-6788-4987-8e8e-bd434adaa866 button.colab-df-quickchart');\n",
              "  quickchartButtonEl.style.display =\n",
              "    google.colab.kernel.accessAllowed ? 'block' : 'none';\n",
              "}\n",
              "\n",
              "        displayQuickchartButton(document);\n",
              "      </script>\n",
              "      <style>\n",
              "    .colab-df-container {\n",
              "      display:flex;\n",
              "      flex-wrap:wrap;\n",
              "      gap: 12px;\n",
              "    }\n",
              "\n",
              "    .colab-df-convert {\n",
              "      background-color: #E8F0FE;\n",
              "      border: none;\n",
              "      border-radius: 50%;\n",
              "      cursor: pointer;\n",
              "      display: none;\n",
              "      fill: #1967D2;\n",
              "      height: 32px;\n",
              "      padding: 0 0 0 0;\n",
              "      width: 32px;\n",
              "    }\n",
              "\n",
              "    .colab-df-convert:hover {\n",
              "      background-color: #E2EBFA;\n",
              "      box-shadow: 0px 1px 2px rgba(60, 64, 67, 0.3), 0px 1px 3px 1px rgba(60, 64, 67, 0.15);\n",
              "      fill: #174EA6;\n",
              "    }\n",
              "\n",
              "    [theme=dark] .colab-df-convert {\n",
              "      background-color: #3B4455;\n",
              "      fill: #D2E3FC;\n",
              "    }\n",
              "\n",
              "    [theme=dark] .colab-df-convert:hover {\n",
              "      background-color: #434B5C;\n",
              "      box-shadow: 0px 1px 3px 1px rgba(0, 0, 0, 0.15);\n",
              "      filter: drop-shadow(0px 1px 2px rgba(0, 0, 0, 0.3));\n",
              "      fill: #FFFFFF;\n",
              "    }\n",
              "  </style>\n",
              "\n",
              "      <script>\n",
              "        const buttonEl =\n",
              "          document.querySelector('#df-fd42a600-859f-4bf2-9346-55e6e9017db5 button.colab-df-convert');\n",
              "        buttonEl.style.display =\n",
              "          google.colab.kernel.accessAllowed ? 'block' : 'none';\n",
              "\n",
              "        async function convertToInteractive(key) {\n",
              "          const element = document.querySelector('#df-fd42a600-859f-4bf2-9346-55e6e9017db5');\n",
              "          const dataTable =\n",
              "            await google.colab.kernel.invokeFunction('convertToInteractive',\n",
              "                                                     [key], {});\n",
              "          if (!dataTable) return;\n",
              "\n",
              "          const docLinkHtml = 'Like what you see? Visit the ' +\n",
              "            '<a target=\"_blank\" href=https://colab.research.google.com/notebooks/data_table.ipynb>data table notebook</a>'\n",
              "            + ' to learn more about interactive tables.';\n",
              "          element.innerHTML = '';\n",
              "          dataTable['output_type'] = 'display_data';\n",
              "          await google.colab.output.renderOutput(dataTable, element);\n",
              "          const docLink = document.createElement('div');\n",
              "          docLink.innerHTML = docLinkHtml;\n",
              "          element.appendChild(docLink);\n",
              "        }\n",
              "      </script>\n",
              "    </div>\n",
              "  </div>\n"
            ]
          },
          "metadata": {},
          "execution_count": 29
        }
      ],
      "source": [
        "candidates = pd.DataFrame({\n",
        "    'user_id': lfm_val['user_id'].unique()\n",
        "})\n",
        "\n",
        "candidates.head(3)"
      ]
    },
    {
      "cell_type": "code",
      "execution_count": 30,
      "metadata": {
        "id": "3eg9yAMRj-S-"
      },
      "outputs": [],
      "source": [
        "def generate_lightfm_recs_mapper(model, item_ids, known_items, user_features, item_features, N, user_mapping, item_inv_mapping, num_threads=4):\n",
        "    def _recs_mapper(user):\n",
        "        user_id = user_mapping[user]\n",
        "        recs = model.predict(user_id, item_ids, user_features=user_features, item_features=item_features, num_threads=num_threads)\n",
        "\n",
        "        additional_N = len(known_items[user_id]) if user_id in known_items else 0\n",
        "        total_N = N + additional_N\n",
        "        top_cols = np.argpartition(recs, -np.arange(total_N))[-total_N:][::-1]\n",
        "\n",
        "        final_recs = [item_inv_mapping[item] for item in top_cols]\n",
        "        if additional_N > 0:\n",
        "            filter_items = known_items[user_id]\n",
        "            final_recs = [item for item in final_recs if item not in filter_items]\n",
        "        return final_recs[:N]\n",
        "    return _recs_mapper"
      ]
    },
    {
      "cell_type": "code",
      "execution_count": 31,
      "metadata": {
        "id": "_M900KBQj-S-"
      },
      "outputs": [],
      "source": [
        "top_N = 50\n",
        "\n",
        "all_cols = list(lightfm_mapping['items_mapping'].values())\n",
        "\n",
        "mapper = generate_lightfm_recs_mapper(\n",
        "    model_lfm,\n",
        "    item_ids=all_cols,\n",
        "    known_items=dict(),\n",
        "    N=top_N,\n",
        "    user_features=None,\n",
        "    item_features=None,\n",
        "    user_mapping=lightfm_mapping['users_mapping'],\n",
        "    item_inv_mapping=lightfm_mapping['items_inv_mapping'],\n",
        "    num_threads=8\n",
        ")"
      ]
    },
    {
      "cell_type": "code",
      "execution_count": 32,
      "metadata": {
        "id": "ZC0rdjV5j-S-"
      },
      "outputs": [],
      "source": [
        "candidates['item_id'] = candidates['user_id'].map(mapper)\n",
        "candidates = candidates.explode('item_id')\n",
        "candidates['rank'] = candidates.groupby('user_id').cumcount() + 1"
      ]
    },
    {
      "cell_type": "code",
      "execution_count": 33,
      "metadata": {
        "id": "i1-5I_kLSeP9",
        "colab": {
          "base_uri": "https://localhost:8080/",
          "height": 206
        },
        "outputId": "2f714ba8-4d3c-4e73-80cc-35e02aa18f98"
      },
      "outputs": [
        {
          "output_type": "execute_result",
          "data": {
            "text/plain": [
              "   user_id item_id  rank\n",
              "0        3     390     1\n",
              "0        3     357     2\n",
              "0        3     133     3\n",
              "0        3      69     4\n",
              "0        3      11     5"
            ],
            "text/html": [
              "\n",
              "\n",
              "  <div id=\"df-39dc84d5-146a-4f87-8d8e-29f7f4afd30b\">\n",
              "    <div class=\"colab-df-container\">\n",
              "      <div>\n",
              "<style scoped>\n",
              "    .dataframe tbody tr th:only-of-type {\n",
              "        vertical-align: middle;\n",
              "    }\n",
              "\n",
              "    .dataframe tbody tr th {\n",
              "        vertical-align: top;\n",
              "    }\n",
              "\n",
              "    .dataframe thead th {\n",
              "        text-align: right;\n",
              "    }\n",
              "</style>\n",
              "<table border=\"1\" class=\"dataframe\">\n",
              "  <thead>\n",
              "    <tr style=\"text-align: right;\">\n",
              "      <th></th>\n",
              "      <th>user_id</th>\n",
              "      <th>item_id</th>\n",
              "      <th>rank</th>\n",
              "    </tr>\n",
              "  </thead>\n",
              "  <tbody>\n",
              "    <tr>\n",
              "      <th>0</th>\n",
              "      <td>3</td>\n",
              "      <td>390</td>\n",
              "      <td>1</td>\n",
              "    </tr>\n",
              "    <tr>\n",
              "      <th>0</th>\n",
              "      <td>3</td>\n",
              "      <td>357</td>\n",
              "      <td>2</td>\n",
              "    </tr>\n",
              "    <tr>\n",
              "      <th>0</th>\n",
              "      <td>3</td>\n",
              "      <td>133</td>\n",
              "      <td>3</td>\n",
              "    </tr>\n",
              "    <tr>\n",
              "      <th>0</th>\n",
              "      <td>3</td>\n",
              "      <td>69</td>\n",
              "      <td>4</td>\n",
              "    </tr>\n",
              "    <tr>\n",
              "      <th>0</th>\n",
              "      <td>3</td>\n",
              "      <td>11</td>\n",
              "      <td>5</td>\n",
              "    </tr>\n",
              "  </tbody>\n",
              "</table>\n",
              "</div>\n",
              "      <button class=\"colab-df-convert\" onclick=\"convertToInteractive('df-39dc84d5-146a-4f87-8d8e-29f7f4afd30b')\"\n",
              "              title=\"Convert this dataframe to an interactive table.\"\n",
              "              style=\"display:none;\">\n",
              "\n",
              "  <svg xmlns=\"http://www.w3.org/2000/svg\" height=\"24px\"viewBox=\"0 0 24 24\"\n",
              "       width=\"24px\">\n",
              "    <path d=\"M0 0h24v24H0V0z\" fill=\"none\"/>\n",
              "    <path d=\"M18.56 5.44l.94 2.06.94-2.06 2.06-.94-2.06-.94-.94-2.06-.94 2.06-2.06.94zm-11 1L8.5 8.5l.94-2.06 2.06-.94-2.06-.94L8.5 2.5l-.94 2.06-2.06.94zm10 10l.94 2.06.94-2.06 2.06-.94-2.06-.94-.94-2.06-.94 2.06-2.06.94z\"/><path d=\"M17.41 7.96l-1.37-1.37c-.4-.4-.92-.59-1.43-.59-.52 0-1.04.2-1.43.59L10.3 9.45l-7.72 7.72c-.78.78-.78 2.05 0 2.83L4 21.41c.39.39.9.59 1.41.59.51 0 1.02-.2 1.41-.59l7.78-7.78 2.81-2.81c.8-.78.8-2.07 0-2.86zM5.41 20L4 18.59l7.72-7.72 1.47 1.35L5.41 20z\"/>\n",
              "  </svg>\n",
              "      </button>\n",
              "\n",
              "\n",
              "\n",
              "    <div id=\"df-1aa5fc58-1539-40e9-8638-d95f1c206a01\">\n",
              "      <button class=\"colab-df-quickchart\" onclick=\"quickchart('df-1aa5fc58-1539-40e9-8638-d95f1c206a01')\"\n",
              "              title=\"Suggest charts.\"\n",
              "              style=\"display:none;\">\n",
              "\n",
              "<svg xmlns=\"http://www.w3.org/2000/svg\" height=\"24px\"viewBox=\"0 0 24 24\"\n",
              "     width=\"24px\">\n",
              "    <g>\n",
              "        <path d=\"M19 3H5c-1.1 0-2 .9-2 2v14c0 1.1.9 2 2 2h14c1.1 0 2-.9 2-2V5c0-1.1-.9-2-2-2zM9 17H7v-7h2v7zm4 0h-2V7h2v10zm4 0h-2v-4h2v4z\"/>\n",
              "    </g>\n",
              "</svg>\n",
              "      </button>\n",
              "    </div>\n",
              "\n",
              "<style>\n",
              "  .colab-df-quickchart {\n",
              "    background-color: #E8F0FE;\n",
              "    border: none;\n",
              "    border-radius: 50%;\n",
              "    cursor: pointer;\n",
              "    display: none;\n",
              "    fill: #1967D2;\n",
              "    height: 32px;\n",
              "    padding: 0 0 0 0;\n",
              "    width: 32px;\n",
              "  }\n",
              "\n",
              "  .colab-df-quickchart:hover {\n",
              "    background-color: #E2EBFA;\n",
              "    box-shadow: 0px 1px 2px rgba(60, 64, 67, 0.3), 0px 1px 3px 1px rgba(60, 64, 67, 0.15);\n",
              "    fill: #174EA6;\n",
              "  }\n",
              "\n",
              "  [theme=dark] .colab-df-quickchart {\n",
              "    background-color: #3B4455;\n",
              "    fill: #D2E3FC;\n",
              "  }\n",
              "\n",
              "  [theme=dark] .colab-df-quickchart:hover {\n",
              "    background-color: #434B5C;\n",
              "    box-shadow: 0px 1px 3px 1px rgba(0, 0, 0, 0.15);\n",
              "    filter: drop-shadow(0px 1px 2px rgba(0, 0, 0, 0.3));\n",
              "    fill: #FFFFFF;\n",
              "  }\n",
              "</style>\n",
              "\n",
              "    <script>\n",
              "      async function quickchart(key) {\n",
              "        const containerElement = document.querySelector('#' + key);\n",
              "        const charts = await google.colab.kernel.invokeFunction(\n",
              "            'suggestCharts', [key], {});\n",
              "      }\n",
              "    </script>\n",
              "\n",
              "      <script>\n",
              "\n",
              "function displayQuickchartButton(domScope) {\n",
              "  let quickchartButtonEl =\n",
              "    domScope.querySelector('#df-1aa5fc58-1539-40e9-8638-d95f1c206a01 button.colab-df-quickchart');\n",
              "  quickchartButtonEl.style.display =\n",
              "    google.colab.kernel.accessAllowed ? 'block' : 'none';\n",
              "}\n",
              "\n",
              "        displayQuickchartButton(document);\n",
              "      </script>\n",
              "      <style>\n",
              "    .colab-df-container {\n",
              "      display:flex;\n",
              "      flex-wrap:wrap;\n",
              "      gap: 12px;\n",
              "    }\n",
              "\n",
              "    .colab-df-convert {\n",
              "      background-color: #E8F0FE;\n",
              "      border: none;\n",
              "      border-radius: 50%;\n",
              "      cursor: pointer;\n",
              "      display: none;\n",
              "      fill: #1967D2;\n",
              "      height: 32px;\n",
              "      padding: 0 0 0 0;\n",
              "      width: 32px;\n",
              "    }\n",
              "\n",
              "    .colab-df-convert:hover {\n",
              "      background-color: #E2EBFA;\n",
              "      box-shadow: 0px 1px 2px rgba(60, 64, 67, 0.3), 0px 1px 3px 1px rgba(60, 64, 67, 0.15);\n",
              "      fill: #174EA6;\n",
              "    }\n",
              "\n",
              "    [theme=dark] .colab-df-convert {\n",
              "      background-color: #3B4455;\n",
              "      fill: #D2E3FC;\n",
              "    }\n",
              "\n",
              "    [theme=dark] .colab-df-convert:hover {\n",
              "      background-color: #434B5C;\n",
              "      box-shadow: 0px 1px 3px 1px rgba(0, 0, 0, 0.15);\n",
              "      filter: drop-shadow(0px 1px 2px rgba(0, 0, 0, 0.3));\n",
              "      fill: #FFFFFF;\n",
              "    }\n",
              "  </style>\n",
              "\n",
              "      <script>\n",
              "        const buttonEl =\n",
              "          document.querySelector('#df-39dc84d5-146a-4f87-8d8e-29f7f4afd30b button.colab-df-convert');\n",
              "        buttonEl.style.display =\n",
              "          google.colab.kernel.accessAllowed ? 'block' : 'none';\n",
              "\n",
              "        async function convertToInteractive(key) {\n",
              "          const element = document.querySelector('#df-39dc84d5-146a-4f87-8d8e-29f7f4afd30b');\n",
              "          const dataTable =\n",
              "            await google.colab.kernel.invokeFunction('convertToInteractive',\n",
              "                                                     [key], {});\n",
              "          if (!dataTable) return;\n",
              "\n",
              "          const docLinkHtml = 'Like what you see? Visit the ' +\n",
              "            '<a target=\"_blank\" href=https://colab.research.google.com/notebooks/data_table.ipynb>data table notebook</a>'\n",
              "            + ' to learn more about interactive tables.';\n",
              "          element.innerHTML = '';\n",
              "          dataTable['output_type'] = 'display_data';\n",
              "          await google.colab.output.renderOutput(dataTable, element);\n",
              "          const docLink = document.createElement('div');\n",
              "          docLink.innerHTML = docLinkHtml;\n",
              "          element.appendChild(docLink);\n",
              "        }\n",
              "      </script>\n",
              "    </div>\n",
              "  </div>\n"
            ]
          },
          "metadata": {},
          "execution_count": 33
        }
      ],
      "source": [
        "candidates.head()"
      ]
    },
    {
      "cell_type": "code",
      "execution_count": null,
      "metadata": {
        "id": "1vGTAa0iSk1O"
      },
      "outputs": [],
      "source": [
        "# candidates = candidates.drop(['index', 'Unnamed: 0'], axis=1)"
      ]
    },
    {
      "cell_type": "code",
      "execution_count": 34,
      "metadata": {
        "id": "443xnPzTSX_K"
      },
      "outputs": [],
      "source": [
        "candidates.reset_index(inplace=True, drop=True)"
      ]
    },
    {
      "cell_type": "markdown",
      "metadata": {
        "id": "AL0-x70d3ull"
      },
      "source": [
        "Сохранение в файл:"
      ]
    },
    {
      "cell_type": "code",
      "execution_count": null,
      "metadata": {
        "id": "d7nclzOI9YHs"
      },
      "outputs": [],
      "source": [
        "candidates.to_csv(r\"/content/drive/MyDrive/Colab Notebooks/candidates_1.csv.gzip\", compression='gzip')\n",
        "# candidates = pd.read_csv(r\"/content/drive/MyDrive/Colab Notebooks/candidates_1.csv.gzip\", compression='gzip')"
      ]
    },
    {
      "cell_type": "code",
      "execution_count": null,
      "metadata": {
        "id": "m4qVZeV8XS2l"
      },
      "outputs": [],
      "source": [
        "candidates = candidates.drop(['Unnamed: 0', 'rank'], axis=1)"
      ]
    },
    {
      "cell_type": "code",
      "execution_count": null,
      "metadata": {
        "id": "2FL0Im-KXPR1"
      },
      "outputs": [],
      "source": [
        "candidates['item_id'] = candidates['item_id'].astype(int)"
      ]
    },
    {
      "cell_type": "code",
      "execution_count": null,
      "metadata": {
        "id": "-dkBNqWXjEew"
      },
      "outputs": [],
      "source": [
        "items_category = pd.read_csv(r\"/content/drive/MyDrive/Colab Notebooks/wb_school_task_1_items_description.csv\")"
      ]
    },
    {
      "cell_type": "code",
      "execution_count": null,
      "metadata": {
        "colab": {
          "base_uri": "https://localhost:8080/"
        },
        "id": "lydEDptWford",
        "outputId": "bffad95b-b5eb-4847-98be-9540696712d9"
      },
      "outputs": [
        {
          "name": "stdout",
          "output_type": "stream",
          "text": [
            "<class 'pandas.core.frame.DataFrame'>\n",
            "RangeIndex: 6562 entries, 0 to 6561\n",
            "Data columns (total 2 columns):\n",
            " #   Column     Non-Null Count  Dtype \n",
            "---  ------     --------------  ----- \n",
            " 0   item_id    6562 non-null   int64 \n",
            " 1   item_name  6562 non-null   object\n",
            "dtypes: int64(1), object(1)\n",
            "memory usage: 102.7+ KB\n"
          ]
        }
      ],
      "source": [
        "items_category.info()"
      ]
    },
    {
      "cell_type": "code",
      "execution_count": null,
      "metadata": {
        "colab": {
          "base_uri": "https://localhost:8080/",
          "height": 423
        },
        "id": "LPldaJty2ljN",
        "outputId": "9856b57e-a0a1-4864-9bb5-f45da322c06d"
      },
      "outputs": [
        {
          "data": {
            "text/html": [
              "\n",
              "\n",
              "  <div id=\"df-2d6aabdf-739c-45ba-a798-cccdc917700a\">\n",
              "    <div class=\"colab-df-container\">\n",
              "      <div>\n",
              "<style scoped>\n",
              "    .dataframe tbody tr th:only-of-type {\n",
              "        vertical-align: middle;\n",
              "    }\n",
              "\n",
              "    .dataframe tbody tr th {\n",
              "        vertical-align: top;\n",
              "    }\n",
              "\n",
              "    .dataframe thead th {\n",
              "        text-align: right;\n",
              "    }\n",
              "</style>\n",
              "<table border=\"1\" class=\"dataframe\">\n",
              "  <thead>\n",
              "    <tr style=\"text-align: right;\">\n",
              "      <th></th>\n",
              "      <th>item_id</th>\n",
              "      <th>item_name</th>\n",
              "    </tr>\n",
              "  </thead>\n",
              "  <tbody>\n",
              "    <tr>\n",
              "      <th>0</th>\n",
              "      <td>847</td>\n",
              "      <td>Дозаторы для ванной</td>\n",
              "    </tr>\n",
              "    <tr>\n",
              "      <th>1</th>\n",
              "      <td>6036</td>\n",
              "      <td>Шпульки для швейных машин</td>\n",
              "    </tr>\n",
              "    <tr>\n",
              "      <th>2</th>\n",
              "      <td>6447</td>\n",
              "      <td>Наборы хирургические</td>\n",
              "    </tr>\n",
              "    <tr>\n",
              "      <th>3</th>\n",
              "      <td>8279</td>\n",
              "      <td>Лобзики</td>\n",
              "    </tr>\n",
              "    <tr>\n",
              "      <th>4</th>\n",
              "      <td>2416</td>\n",
              "      <td>Полотенца спортивные</td>\n",
              "    </tr>\n",
              "    <tr>\n",
              "      <th>...</th>\n",
              "      <td>...</td>\n",
              "      <td>...</td>\n",
              "    </tr>\n",
              "    <tr>\n",
              "      <th>6557</th>\n",
              "      <td>854</td>\n",
              "      <td>Емкости для выпечки</td>\n",
              "    </tr>\n",
              "    <tr>\n",
              "      <th>6558</th>\n",
              "      <td>350</td>\n",
              "      <td>Косметические карандаши</td>\n",
              "    </tr>\n",
              "    <tr>\n",
              "      <th>6559</th>\n",
              "      <td>517</td>\n",
              "      <td>Планшеты</td>\n",
              "    </tr>\n",
              "    <tr>\n",
              "      <th>6560</th>\n",
              "      <td>8239</td>\n",
              "      <td>Комбинезоны утепленные</td>\n",
              "    </tr>\n",
              "    <tr>\n",
              "      <th>6561</th>\n",
              "      <td>6591</td>\n",
              "      <td>Ювелирные шармы-подвески</td>\n",
              "    </tr>\n",
              "  </tbody>\n",
              "</table>\n",
              "<p>6562 rows × 2 columns</p>\n",
              "</div>\n",
              "      <button class=\"colab-df-convert\" onclick=\"convertToInteractive('df-2d6aabdf-739c-45ba-a798-cccdc917700a')\"\n",
              "              title=\"Convert this dataframe to an interactive table.\"\n",
              "              style=\"display:none;\">\n",
              "\n",
              "  <svg xmlns=\"http://www.w3.org/2000/svg\" height=\"24px\"viewBox=\"0 0 24 24\"\n",
              "       width=\"24px\">\n",
              "    <path d=\"M0 0h24v24H0V0z\" fill=\"none\"/>\n",
              "    <path d=\"M18.56 5.44l.94 2.06.94-2.06 2.06-.94-2.06-.94-.94-2.06-.94 2.06-2.06.94zm-11 1L8.5 8.5l.94-2.06 2.06-.94-2.06-.94L8.5 2.5l-.94 2.06-2.06.94zm10 10l.94 2.06.94-2.06 2.06-.94-2.06-.94-.94-2.06-.94 2.06-2.06.94z\"/><path d=\"M17.41 7.96l-1.37-1.37c-.4-.4-.92-.59-1.43-.59-.52 0-1.04.2-1.43.59L10.3 9.45l-7.72 7.72c-.78.78-.78 2.05 0 2.83L4 21.41c.39.39.9.59 1.41.59.51 0 1.02-.2 1.41-.59l7.78-7.78 2.81-2.81c.8-.78.8-2.07 0-2.86zM5.41 20L4 18.59l7.72-7.72 1.47 1.35L5.41 20z\"/>\n",
              "  </svg>\n",
              "      </button>\n",
              "\n",
              "\n",
              "\n",
              "    <div id=\"df-bc830fa6-5825-4f72-843f-78ee22d32898\">\n",
              "      <button class=\"colab-df-quickchart\" onclick=\"quickchart('df-bc830fa6-5825-4f72-843f-78ee22d32898')\"\n",
              "              title=\"Suggest charts.\"\n",
              "              style=\"display:none;\">\n",
              "\n",
              "<svg xmlns=\"http://www.w3.org/2000/svg\" height=\"24px\"viewBox=\"0 0 24 24\"\n",
              "     width=\"24px\">\n",
              "    <g>\n",
              "        <path d=\"M19 3H5c-1.1 0-2 .9-2 2v14c0 1.1.9 2 2 2h14c1.1 0 2-.9 2-2V5c0-1.1-.9-2-2-2zM9 17H7v-7h2v7zm4 0h-2V7h2v10zm4 0h-2v-4h2v4z\"/>\n",
              "    </g>\n",
              "</svg>\n",
              "      </button>\n",
              "    </div>\n",
              "\n",
              "<style>\n",
              "  .colab-df-quickchart {\n",
              "    background-color: #E8F0FE;\n",
              "    border: none;\n",
              "    border-radius: 50%;\n",
              "    cursor: pointer;\n",
              "    display: none;\n",
              "    fill: #1967D2;\n",
              "    height: 32px;\n",
              "    padding: 0 0 0 0;\n",
              "    width: 32px;\n",
              "  }\n",
              "\n",
              "  .colab-df-quickchart:hover {\n",
              "    background-color: #E2EBFA;\n",
              "    box-shadow: 0px 1px 2px rgba(60, 64, 67, 0.3), 0px 1px 3px 1px rgba(60, 64, 67, 0.15);\n",
              "    fill: #174EA6;\n",
              "  }\n",
              "\n",
              "  [theme=dark] .colab-df-quickchart {\n",
              "    background-color: #3B4455;\n",
              "    fill: #D2E3FC;\n",
              "  }\n",
              "\n",
              "  [theme=dark] .colab-df-quickchart:hover {\n",
              "    background-color: #434B5C;\n",
              "    box-shadow: 0px 1px 3px 1px rgba(0, 0, 0, 0.15);\n",
              "    filter: drop-shadow(0px 1px 2px rgba(0, 0, 0, 0.3));\n",
              "    fill: #FFFFFF;\n",
              "  }\n",
              "</style>\n",
              "\n",
              "    <script>\n",
              "      async function quickchart(key) {\n",
              "        const containerElement = document.querySelector('#' + key);\n",
              "        const charts = await google.colab.kernel.invokeFunction(\n",
              "            'suggestCharts', [key], {});\n",
              "      }\n",
              "    </script>\n",
              "\n",
              "      <script>\n",
              "\n",
              "function displayQuickchartButton(domScope) {\n",
              "  let quickchartButtonEl =\n",
              "    domScope.querySelector('#df-bc830fa6-5825-4f72-843f-78ee22d32898 button.colab-df-quickchart');\n",
              "  quickchartButtonEl.style.display =\n",
              "    google.colab.kernel.accessAllowed ? 'block' : 'none';\n",
              "}\n",
              "\n",
              "        displayQuickchartButton(document);\n",
              "      </script>\n",
              "      <style>\n",
              "    .colab-df-container {\n",
              "      display:flex;\n",
              "      flex-wrap:wrap;\n",
              "      gap: 12px;\n",
              "    }\n",
              "\n",
              "    .colab-df-convert {\n",
              "      background-color: #E8F0FE;\n",
              "      border: none;\n",
              "      border-radius: 50%;\n",
              "      cursor: pointer;\n",
              "      display: none;\n",
              "      fill: #1967D2;\n",
              "      height: 32px;\n",
              "      padding: 0 0 0 0;\n",
              "      width: 32px;\n",
              "    }\n",
              "\n",
              "    .colab-df-convert:hover {\n",
              "      background-color: #E2EBFA;\n",
              "      box-shadow: 0px 1px 2px rgba(60, 64, 67, 0.3), 0px 1px 3px 1px rgba(60, 64, 67, 0.15);\n",
              "      fill: #174EA6;\n",
              "    }\n",
              "\n",
              "    [theme=dark] .colab-df-convert {\n",
              "      background-color: #3B4455;\n",
              "      fill: #D2E3FC;\n",
              "    }\n",
              "\n",
              "    [theme=dark] .colab-df-convert:hover {\n",
              "      background-color: #434B5C;\n",
              "      box-shadow: 0px 1px 3px 1px rgba(0, 0, 0, 0.15);\n",
              "      filter: drop-shadow(0px 1px 2px rgba(0, 0, 0, 0.3));\n",
              "      fill: #FFFFFF;\n",
              "    }\n",
              "  </style>\n",
              "\n",
              "      <script>\n",
              "        const buttonEl =\n",
              "          document.querySelector('#df-2d6aabdf-739c-45ba-a798-cccdc917700a button.colab-df-convert');\n",
              "        buttonEl.style.display =\n",
              "          google.colab.kernel.accessAllowed ? 'block' : 'none';\n",
              "\n",
              "        async function convertToInteractive(key) {\n",
              "          const element = document.querySelector('#df-2d6aabdf-739c-45ba-a798-cccdc917700a');\n",
              "          const dataTable =\n",
              "            await google.colab.kernel.invokeFunction('convertToInteractive',\n",
              "                                                     [key], {});\n",
              "          if (!dataTable) return;\n",
              "\n",
              "          const docLinkHtml = 'Like what you see? Visit the ' +\n",
              "            '<a target=\"_blank\" href=https://colab.research.google.com/notebooks/data_table.ipynb>data table notebook</a>'\n",
              "            + ' to learn more about interactive tables.';\n",
              "          element.innerHTML = '';\n",
              "          dataTable['output_type'] = 'display_data';\n",
              "          await google.colab.output.renderOutput(dataTable, element);\n",
              "          const docLink = document.createElement('div');\n",
              "          docLink.innerHTML = docLinkHtml;\n",
              "          element.appendChild(docLink);\n",
              "        }\n",
              "      </script>\n",
              "    </div>\n",
              "  </div>\n"
            ],
            "text/plain": [
              "      item_id                  item_name\n",
              "0         847        Дозаторы для ванной\n",
              "1        6036  Шпульки для швейных машин\n",
              "2        6447       Наборы хирургические\n",
              "3        8279                    Лобзики\n",
              "4        2416       Полотенца спортивные\n",
              "...       ...                        ...\n",
              "6557      854        Емкости для выпечки\n",
              "6558      350    Косметические карандаши\n",
              "6559      517                   Планшеты\n",
              "6560     8239     Комбинезоны утепленные\n",
              "6561     6591   Ювелирные шармы-подвески\n",
              "\n",
              "[6562 rows x 2 columns]"
            ]
          },
          "execution_count": 37,
          "metadata": {},
          "output_type": "execute_result"
        }
      ],
      "source": [
        "items_category"
      ]
    },
    {
      "cell_type": "code",
      "execution_count": null,
      "metadata": {
        "colab": {
          "base_uri": "https://localhost:8080/",
          "height": 423
        },
        "id": "Q5fq_DLn21t2",
        "outputId": "070f0eb2-498f-47b4-b090-9bbf654b9652"
      },
      "outputs": [
        {
          "data": {
            "text/html": [
              "\n",
              "\n",
              "  <div id=\"df-2fd986da-4f8a-40f2-a672-fd9c57bb6314\">\n",
              "    <div class=\"colab-df-container\">\n",
              "      <div>\n",
              "<style scoped>\n",
              "    .dataframe tbody tr th:only-of-type {\n",
              "        vertical-align: middle;\n",
              "    }\n",
              "\n",
              "    .dataframe tbody tr th {\n",
              "        vertical-align: top;\n",
              "    }\n",
              "\n",
              "    .dataframe thead th {\n",
              "        text-align: right;\n",
              "    }\n",
              "</style>\n",
              "<table border=\"1\" class=\"dataframe\">\n",
              "  <thead>\n",
              "    <tr style=\"text-align: right;\">\n",
              "      <th></th>\n",
              "      <th>user_id</th>\n",
              "      <th>item_id</th>\n",
              "      <th>rank</th>\n",
              "    </tr>\n",
              "  </thead>\n",
              "  <tbody>\n",
              "    <tr>\n",
              "      <th>0</th>\n",
              "      <td>3</td>\n",
              "      <td>6218</td>\n",
              "      <td>1</td>\n",
              "    </tr>\n",
              "    <tr>\n",
              "      <th>1</th>\n",
              "      <td>3</td>\n",
              "      <td>5142</td>\n",
              "      <td>2</td>\n",
              "    </tr>\n",
              "    <tr>\n",
              "      <th>2</th>\n",
              "      <td>3</td>\n",
              "      <td>5546</td>\n",
              "      <td>3</td>\n",
              "    </tr>\n",
              "    <tr>\n",
              "      <th>3</th>\n",
              "      <td>3</td>\n",
              "      <td>2139</td>\n",
              "      <td>4</td>\n",
              "    </tr>\n",
              "    <tr>\n",
              "      <th>4</th>\n",
              "      <td>3</td>\n",
              "      <td>683</td>\n",
              "      <td>5</td>\n",
              "    </tr>\n",
              "    <tr>\n",
              "      <th>...</th>\n",
              "      <td>...</td>\n",
              "      <td>...</td>\n",
              "      <td>...</td>\n",
              "    </tr>\n",
              "    <tr>\n",
              "      <th>33572195</th>\n",
              "      <td>1057264</td>\n",
              "      <td>2550</td>\n",
              "      <td>46</td>\n",
              "    </tr>\n",
              "    <tr>\n",
              "      <th>33572196</th>\n",
              "      <td>1057264</td>\n",
              "      <td>2035</td>\n",
              "      <td>47</td>\n",
              "    </tr>\n",
              "    <tr>\n",
              "      <th>33572197</th>\n",
              "      <td>1057264</td>\n",
              "      <td>1325</td>\n",
              "      <td>48</td>\n",
              "    </tr>\n",
              "    <tr>\n",
              "      <th>33572198</th>\n",
              "      <td>1057264</td>\n",
              "      <td>696</td>\n",
              "      <td>49</td>\n",
              "    </tr>\n",
              "    <tr>\n",
              "      <th>33572199</th>\n",
              "      <td>1057264</td>\n",
              "      <td>2049</td>\n",
              "      <td>50</td>\n",
              "    </tr>\n",
              "  </tbody>\n",
              "</table>\n",
              "<p>33572200 rows × 3 columns</p>\n",
              "</div>\n",
              "      <button class=\"colab-df-convert\" onclick=\"convertToInteractive('df-2fd986da-4f8a-40f2-a672-fd9c57bb6314')\"\n",
              "              title=\"Convert this dataframe to an interactive table.\"\n",
              "              style=\"display:none;\">\n",
              "\n",
              "  <svg xmlns=\"http://www.w3.org/2000/svg\" height=\"24px\"viewBox=\"0 0 24 24\"\n",
              "       width=\"24px\">\n",
              "    <path d=\"M0 0h24v24H0V0z\" fill=\"none\"/>\n",
              "    <path d=\"M18.56 5.44l.94 2.06.94-2.06 2.06-.94-2.06-.94-.94-2.06-.94 2.06-2.06.94zm-11 1L8.5 8.5l.94-2.06 2.06-.94-2.06-.94L8.5 2.5l-.94 2.06-2.06.94zm10 10l.94 2.06.94-2.06 2.06-.94-2.06-.94-.94-2.06-.94 2.06-2.06.94z\"/><path d=\"M17.41 7.96l-1.37-1.37c-.4-.4-.92-.59-1.43-.59-.52 0-1.04.2-1.43.59L10.3 9.45l-7.72 7.72c-.78.78-.78 2.05 0 2.83L4 21.41c.39.39.9.59 1.41.59.51 0 1.02-.2 1.41-.59l7.78-7.78 2.81-2.81c.8-.78.8-2.07 0-2.86zM5.41 20L4 18.59l7.72-7.72 1.47 1.35L5.41 20z\"/>\n",
              "  </svg>\n",
              "      </button>\n",
              "\n",
              "\n",
              "\n",
              "    <div id=\"df-064ee74a-8ea4-4bcc-bc73-64a6650f2719\">\n",
              "      <button class=\"colab-df-quickchart\" onclick=\"quickchart('df-064ee74a-8ea4-4bcc-bc73-64a6650f2719')\"\n",
              "              title=\"Suggest charts.\"\n",
              "              style=\"display:none;\">\n",
              "\n",
              "<svg xmlns=\"http://www.w3.org/2000/svg\" height=\"24px\"viewBox=\"0 0 24 24\"\n",
              "     width=\"24px\">\n",
              "    <g>\n",
              "        <path d=\"M19 3H5c-1.1 0-2 .9-2 2v14c0 1.1.9 2 2 2h14c1.1 0 2-.9 2-2V5c0-1.1-.9-2-2-2zM9 17H7v-7h2v7zm4 0h-2V7h2v10zm4 0h-2v-4h2v4z\"/>\n",
              "    </g>\n",
              "</svg>\n",
              "      </button>\n",
              "    </div>\n",
              "\n",
              "<style>\n",
              "  .colab-df-quickchart {\n",
              "    background-color: #E8F0FE;\n",
              "    border: none;\n",
              "    border-radius: 50%;\n",
              "    cursor: pointer;\n",
              "    display: none;\n",
              "    fill: #1967D2;\n",
              "    height: 32px;\n",
              "    padding: 0 0 0 0;\n",
              "    width: 32px;\n",
              "  }\n",
              "\n",
              "  .colab-df-quickchart:hover {\n",
              "    background-color: #E2EBFA;\n",
              "    box-shadow: 0px 1px 2px rgba(60, 64, 67, 0.3), 0px 1px 3px 1px rgba(60, 64, 67, 0.15);\n",
              "    fill: #174EA6;\n",
              "  }\n",
              "\n",
              "  [theme=dark] .colab-df-quickchart {\n",
              "    background-color: #3B4455;\n",
              "    fill: #D2E3FC;\n",
              "  }\n",
              "\n",
              "  [theme=dark] .colab-df-quickchart:hover {\n",
              "    background-color: #434B5C;\n",
              "    box-shadow: 0px 1px 3px 1px rgba(0, 0, 0, 0.15);\n",
              "    filter: drop-shadow(0px 1px 2px rgba(0, 0, 0, 0.3));\n",
              "    fill: #FFFFFF;\n",
              "  }\n",
              "</style>\n",
              "\n",
              "    <script>\n",
              "      async function quickchart(key) {\n",
              "        const containerElement = document.querySelector('#' + key);\n",
              "        const charts = await google.colab.kernel.invokeFunction(\n",
              "            'suggestCharts', [key], {});\n",
              "      }\n",
              "    </script>\n",
              "\n",
              "      <script>\n",
              "\n",
              "function displayQuickchartButton(domScope) {\n",
              "  let quickchartButtonEl =\n",
              "    domScope.querySelector('#df-064ee74a-8ea4-4bcc-bc73-64a6650f2719 button.colab-df-quickchart');\n",
              "  quickchartButtonEl.style.display =\n",
              "    google.colab.kernel.accessAllowed ? 'block' : 'none';\n",
              "}\n",
              "\n",
              "        displayQuickchartButton(document);\n",
              "      </script>\n",
              "      <style>\n",
              "    .colab-df-container {\n",
              "      display:flex;\n",
              "      flex-wrap:wrap;\n",
              "      gap: 12px;\n",
              "    }\n",
              "\n",
              "    .colab-df-convert {\n",
              "      background-color: #E8F0FE;\n",
              "      border: none;\n",
              "      border-radius: 50%;\n",
              "      cursor: pointer;\n",
              "      display: none;\n",
              "      fill: #1967D2;\n",
              "      height: 32px;\n",
              "      padding: 0 0 0 0;\n",
              "      width: 32px;\n",
              "    }\n",
              "\n",
              "    .colab-df-convert:hover {\n",
              "      background-color: #E2EBFA;\n",
              "      box-shadow: 0px 1px 2px rgba(60, 64, 67, 0.3), 0px 1px 3px 1px rgba(60, 64, 67, 0.15);\n",
              "      fill: #174EA6;\n",
              "    }\n",
              "\n",
              "    [theme=dark] .colab-df-convert {\n",
              "      background-color: #3B4455;\n",
              "      fill: #D2E3FC;\n",
              "    }\n",
              "\n",
              "    [theme=dark] .colab-df-convert:hover {\n",
              "      background-color: #434B5C;\n",
              "      box-shadow: 0px 1px 3px 1px rgba(0, 0, 0, 0.15);\n",
              "      filter: drop-shadow(0px 1px 2px rgba(0, 0, 0, 0.3));\n",
              "      fill: #FFFFFF;\n",
              "    }\n",
              "  </style>\n",
              "\n",
              "      <script>\n",
              "        const buttonEl =\n",
              "          document.querySelector('#df-2fd986da-4f8a-40f2-a672-fd9c57bb6314 button.colab-df-convert');\n",
              "        buttonEl.style.display =\n",
              "          google.colab.kernel.accessAllowed ? 'block' : 'none';\n",
              "\n",
              "        async function convertToInteractive(key) {\n",
              "          const element = document.querySelector('#df-2fd986da-4f8a-40f2-a672-fd9c57bb6314');\n",
              "          const dataTable =\n",
              "            await google.colab.kernel.invokeFunction('convertToInteractive',\n",
              "                                                     [key], {});\n",
              "          if (!dataTable) return;\n",
              "\n",
              "          const docLinkHtml = 'Like what you see? Visit the ' +\n",
              "            '<a target=\"_blank\" href=https://colab.research.google.com/notebooks/data_table.ipynb>data table notebook</a>'\n",
              "            + ' to learn more about interactive tables.';\n",
              "          element.innerHTML = '';\n",
              "          dataTable['output_type'] = 'display_data';\n",
              "          await google.colab.output.renderOutput(dataTable, element);\n",
              "          const docLink = document.createElement('div');\n",
              "          docLink.innerHTML = docLinkHtml;\n",
              "          element.appendChild(docLink);\n",
              "        }\n",
              "      </script>\n",
              "    </div>\n",
              "  </div>\n"
            ],
            "text/plain": [
              "          user_id item_id  rank\n",
              "0               3    6218     1\n",
              "1               3    5142     2\n",
              "2               3    5546     3\n",
              "3               3    2139     4\n",
              "4               3     683     5\n",
              "...           ...     ...   ...\n",
              "33572195  1057264    2550    46\n",
              "33572196  1057264    2035    47\n",
              "33572197  1057264    1325    48\n",
              "33572198  1057264     696    49\n",
              "33572199  1057264    2049    50\n",
              "\n",
              "[33572200 rows x 3 columns]"
            ]
          },
          "execution_count": 38,
          "metadata": {},
          "output_type": "execute_result"
        }
      ],
      "source": [
        "candidates"
      ]
    },
    {
      "cell_type": "code",
      "execution_count": null,
      "metadata": {
        "id": "OI5_MZbifP2h"
      },
      "outputs": [],
      "source": [
        "result = pd.merge(candidates, items_category, on='item_id')"
      ]
    },
    {
      "cell_type": "code",
      "execution_count": null,
      "metadata": {
        "colab": {
          "base_uri": "https://localhost:8080/",
          "height": 206
        },
        "id": "akgi49rh3s_s",
        "outputId": "829b92c3-6523-4f96-b783-fca54bca97e6"
      },
      "outputs": [
        {
          "data": {
            "text/html": [
              "\n",
              "\n",
              "  <div id=\"df-d7a6ae46-5d3b-4267-9159-cdb1c6c546d7\">\n",
              "    <div class=\"colab-df-container\">\n",
              "      <div>\n",
              "<style scoped>\n",
              "    .dataframe tbody tr th:only-of-type {\n",
              "        vertical-align: middle;\n",
              "    }\n",
              "\n",
              "    .dataframe tbody tr th {\n",
              "        vertical-align: top;\n",
              "    }\n",
              "\n",
              "    .dataframe thead th {\n",
              "        text-align: right;\n",
              "    }\n",
              "</style>\n",
              "<table border=\"1\" class=\"dataframe\">\n",
              "  <thead>\n",
              "    <tr style=\"text-align: right;\">\n",
              "      <th></th>\n",
              "      <th>user_id</th>\n",
              "      <th>item_id</th>\n",
              "      <th>rank</th>\n",
              "      <th>item_name</th>\n",
              "    </tr>\n",
              "  </thead>\n",
              "  <tbody>\n",
              "    <tr>\n",
              "      <th>0</th>\n",
              "      <td>3</td>\n",
              "      <td>6218</td>\n",
              "      <td>1</td>\n",
              "      <td>Игрушечные мишени</td>\n",
              "    </tr>\n",
              "    <tr>\n",
              "      <th>1</th>\n",
              "      <td>4</td>\n",
              "      <td>6218</td>\n",
              "      <td>30</td>\n",
              "      <td>Игрушечные мишени</td>\n",
              "    </tr>\n",
              "    <tr>\n",
              "      <th>2</th>\n",
              "      <td>8</td>\n",
              "      <td>6218</td>\n",
              "      <td>15</td>\n",
              "      <td>Игрушечные мишени</td>\n",
              "    </tr>\n",
              "    <tr>\n",
              "      <th>3</th>\n",
              "      <td>11</td>\n",
              "      <td>6218</td>\n",
              "      <td>2</td>\n",
              "      <td>Игрушечные мишени</td>\n",
              "    </tr>\n",
              "    <tr>\n",
              "      <th>4</th>\n",
              "      <td>16</td>\n",
              "      <td>6218</td>\n",
              "      <td>3</td>\n",
              "      <td>Игрушечные мишени</td>\n",
              "    </tr>\n",
              "  </tbody>\n",
              "</table>\n",
              "</div>\n",
              "      <button class=\"colab-df-convert\" onclick=\"convertToInteractive('df-d7a6ae46-5d3b-4267-9159-cdb1c6c546d7')\"\n",
              "              title=\"Convert this dataframe to an interactive table.\"\n",
              "              style=\"display:none;\">\n",
              "\n",
              "  <svg xmlns=\"http://www.w3.org/2000/svg\" height=\"24px\"viewBox=\"0 0 24 24\"\n",
              "       width=\"24px\">\n",
              "    <path d=\"M0 0h24v24H0V0z\" fill=\"none\"/>\n",
              "    <path d=\"M18.56 5.44l.94 2.06.94-2.06 2.06-.94-2.06-.94-.94-2.06-.94 2.06-2.06.94zm-11 1L8.5 8.5l.94-2.06 2.06-.94-2.06-.94L8.5 2.5l-.94 2.06-2.06.94zm10 10l.94 2.06.94-2.06 2.06-.94-2.06-.94-.94-2.06-.94 2.06-2.06.94z\"/><path d=\"M17.41 7.96l-1.37-1.37c-.4-.4-.92-.59-1.43-.59-.52 0-1.04.2-1.43.59L10.3 9.45l-7.72 7.72c-.78.78-.78 2.05 0 2.83L4 21.41c.39.39.9.59 1.41.59.51 0 1.02-.2 1.41-.59l7.78-7.78 2.81-2.81c.8-.78.8-2.07 0-2.86zM5.41 20L4 18.59l7.72-7.72 1.47 1.35L5.41 20z\"/>\n",
              "  </svg>\n",
              "      </button>\n",
              "\n",
              "\n",
              "\n",
              "    <div id=\"df-7f43e2ef-3c66-477a-9a45-43c34b14030d\">\n",
              "      <button class=\"colab-df-quickchart\" onclick=\"quickchart('df-7f43e2ef-3c66-477a-9a45-43c34b14030d')\"\n",
              "              title=\"Suggest charts.\"\n",
              "              style=\"display:none;\">\n",
              "\n",
              "<svg xmlns=\"http://www.w3.org/2000/svg\" height=\"24px\"viewBox=\"0 0 24 24\"\n",
              "     width=\"24px\">\n",
              "    <g>\n",
              "        <path d=\"M19 3H5c-1.1 0-2 .9-2 2v14c0 1.1.9 2 2 2h14c1.1 0 2-.9 2-2V5c0-1.1-.9-2-2-2zM9 17H7v-7h2v7zm4 0h-2V7h2v10zm4 0h-2v-4h2v4z\"/>\n",
              "    </g>\n",
              "</svg>\n",
              "      </button>\n",
              "    </div>\n",
              "\n",
              "<style>\n",
              "  .colab-df-quickchart {\n",
              "    background-color: #E8F0FE;\n",
              "    border: none;\n",
              "    border-radius: 50%;\n",
              "    cursor: pointer;\n",
              "    display: none;\n",
              "    fill: #1967D2;\n",
              "    height: 32px;\n",
              "    padding: 0 0 0 0;\n",
              "    width: 32px;\n",
              "  }\n",
              "\n",
              "  .colab-df-quickchart:hover {\n",
              "    background-color: #E2EBFA;\n",
              "    box-shadow: 0px 1px 2px rgba(60, 64, 67, 0.3), 0px 1px 3px 1px rgba(60, 64, 67, 0.15);\n",
              "    fill: #174EA6;\n",
              "  }\n",
              "\n",
              "  [theme=dark] .colab-df-quickchart {\n",
              "    background-color: #3B4455;\n",
              "    fill: #D2E3FC;\n",
              "  }\n",
              "\n",
              "  [theme=dark] .colab-df-quickchart:hover {\n",
              "    background-color: #434B5C;\n",
              "    box-shadow: 0px 1px 3px 1px rgba(0, 0, 0, 0.15);\n",
              "    filter: drop-shadow(0px 1px 2px rgba(0, 0, 0, 0.3));\n",
              "    fill: #FFFFFF;\n",
              "  }\n",
              "</style>\n",
              "\n",
              "    <script>\n",
              "      async function quickchart(key) {\n",
              "        const containerElement = document.querySelector('#' + key);\n",
              "        const charts = await google.colab.kernel.invokeFunction(\n",
              "            'suggestCharts', [key], {});\n",
              "      }\n",
              "    </script>\n",
              "\n",
              "      <script>\n",
              "\n",
              "function displayQuickchartButton(domScope) {\n",
              "  let quickchartButtonEl =\n",
              "    domScope.querySelector('#df-7f43e2ef-3c66-477a-9a45-43c34b14030d button.colab-df-quickchart');\n",
              "  quickchartButtonEl.style.display =\n",
              "    google.colab.kernel.accessAllowed ? 'block' : 'none';\n",
              "}\n",
              "\n",
              "        displayQuickchartButton(document);\n",
              "      </script>\n",
              "      <style>\n",
              "    .colab-df-container {\n",
              "      display:flex;\n",
              "      flex-wrap:wrap;\n",
              "      gap: 12px;\n",
              "    }\n",
              "\n",
              "    .colab-df-convert {\n",
              "      background-color: #E8F0FE;\n",
              "      border: none;\n",
              "      border-radius: 50%;\n",
              "      cursor: pointer;\n",
              "      display: none;\n",
              "      fill: #1967D2;\n",
              "      height: 32px;\n",
              "      padding: 0 0 0 0;\n",
              "      width: 32px;\n",
              "    }\n",
              "\n",
              "    .colab-df-convert:hover {\n",
              "      background-color: #E2EBFA;\n",
              "      box-shadow: 0px 1px 2px rgba(60, 64, 67, 0.3), 0px 1px 3px 1px rgba(60, 64, 67, 0.15);\n",
              "      fill: #174EA6;\n",
              "    }\n",
              "\n",
              "    [theme=dark] .colab-df-convert {\n",
              "      background-color: #3B4455;\n",
              "      fill: #D2E3FC;\n",
              "    }\n",
              "\n",
              "    [theme=dark] .colab-df-convert:hover {\n",
              "      background-color: #434B5C;\n",
              "      box-shadow: 0px 1px 3px 1px rgba(0, 0, 0, 0.15);\n",
              "      filter: drop-shadow(0px 1px 2px rgba(0, 0, 0, 0.3));\n",
              "      fill: #FFFFFF;\n",
              "    }\n",
              "  </style>\n",
              "\n",
              "      <script>\n",
              "        const buttonEl =\n",
              "          document.querySelector('#df-d7a6ae46-5d3b-4267-9159-cdb1c6c546d7 button.colab-df-convert');\n",
              "        buttonEl.style.display =\n",
              "          google.colab.kernel.accessAllowed ? 'block' : 'none';\n",
              "\n",
              "        async function convertToInteractive(key) {\n",
              "          const element = document.querySelector('#df-d7a6ae46-5d3b-4267-9159-cdb1c6c546d7');\n",
              "          const dataTable =\n",
              "            await google.colab.kernel.invokeFunction('convertToInteractive',\n",
              "                                                     [key], {});\n",
              "          if (!dataTable) return;\n",
              "\n",
              "          const docLinkHtml = 'Like what you see? Visit the ' +\n",
              "            '<a target=\"_blank\" href=https://colab.research.google.com/notebooks/data_table.ipynb>data table notebook</a>'\n",
              "            + ' to learn more about interactive tables.';\n",
              "          element.innerHTML = '';\n",
              "          dataTable['output_type'] = 'display_data';\n",
              "          await google.colab.output.renderOutput(dataTable, element);\n",
              "          const docLink = document.createElement('div');\n",
              "          docLink.innerHTML = docLinkHtml;\n",
              "          element.appendChild(docLink);\n",
              "        }\n",
              "      </script>\n",
              "    </div>\n",
              "  </div>\n"
            ],
            "text/plain": [
              "   user_id item_id  rank          item_name\n",
              "0        3    6218     1  Игрушечные мишени\n",
              "1        4    6218    30  Игрушечные мишени\n",
              "2        8    6218    15  Игрушечные мишени\n",
              "3       11    6218     2  Игрушечные мишени\n",
              "4       16    6218     3  Игрушечные мишени"
            ]
          },
          "execution_count": 40,
          "metadata": {},
          "output_type": "execute_result"
        }
      ],
      "source": [
        "result.head()"
      ]
    },
    {
      "cell_type": "code",
      "execution_count": null,
      "metadata": {
        "id": "WJWNEW345Sl4"
      },
      "outputs": [],
      "source": [
        "result.to_csv(r\"/content/drive/MyDrive/Colab Notebooks/result.gzip\", compression='gzip')"
      ]
    },
    {
      "cell_type": "code",
      "execution_count": null,
      "metadata": {
        "id": "L_B9HihG39pl"
      },
      "outputs": [],
      "source": [
        "categories_items = result.groupby('user_id').agg({\n",
        "    'item_id': lambda x: list(set(x)),\n",
        "    'item_name': lambda x: list(set(x)),\n",
        "    'rank': lambda x: list(set(x))\n",
        "})"
      ]
    },
    {
      "cell_type": "code",
      "execution_count": null,
      "metadata": {
        "id": "KlcC_l5BnKxM"
      },
      "outputs": [],
      "source": [
        "categories_test = pd.read_csv(r\"/content/drive/MyDrive/Colab Notebooks/categories_test.csv\")"
      ]
    },
    {
      "cell_type": "code",
      "execution_count": null,
      "metadata": {
        "id": "tdv3HKLC2OIl"
      },
      "outputs": [],
      "source": [
        "categories_test.colmns = ['user_id', 'items_test', 'item_name_test']"
      ]
    },
    {
      "cell_type": "code",
      "execution_count": null,
      "metadata": {
        "id": "LkEmyty53NDS"
      },
      "outputs": [],
      "source": [
        "joined = pd.merge(categories_items, categories_test, on='user_id')"
      ]
    },
    {
      "cell_type": "markdown",
      "metadata": {
        "id": "INzbfSTfnsKa"
      },
      "source": [
        "Привести к нужным типам"
      ]
    },
    {
      "cell_type": "code",
      "execution_count": 35,
      "metadata": {
        "id": "hyIeUonej-S_"
      },
      "outputs": [],
      "source": [
        "pred_interactions = candidates.groupby('user_id')['item_id'].agg(lambda x: list(set(x)))\n",
        "test_interactions = test.drop(['order_ts'], axis=1).groupby('user_id')['item_id'].agg(lambda x: list(set(x)))"
      ]
    },
    {
      "cell_type": "code",
      "execution_count": 36,
      "metadata": {
        "id": "iZVvYZRRj-S_"
      },
      "outputs": [],
      "source": [
        "pred_interactions = pd.DataFrame(pred_interactions)\n",
        "pred_interactions.columns=['pred_items']\n",
        "test_interactions = pd.DataFrame(test_interactions)\n",
        "test_interactions.columns=['test_items']"
      ]
    },
    {
      "cell_type": "code",
      "execution_count": 37,
      "metadata": {
        "id": "__IDElrLjj6y"
      },
      "outputs": [],
      "source": [
        "# val_interactions = lfm_val.drop(['purchase'], axis=1).groupby('user_id')['item_id'].agg(lambda x: list(set(x)))\n",
        "\n",
        "# val_interactions = pd.DataFrame(val_interactions)\n",
        "# val_interactions.columns=['val_items']"
      ]
    },
    {
      "cell_type": "code",
      "execution_count": 38,
      "metadata": {
        "id": "jS2UWFjHjj6y"
      },
      "outputs": [],
      "source": [
        "joined = pred_interactions.join(test_interactions, how='inner')"
      ]
    },
    {
      "cell_type": "code",
      "execution_count": 39,
      "metadata": {
        "id": "4_UekEZ9qHGR",
        "colab": {
          "base_uri": "https://localhost:8080/"
        },
        "outputId": "320d604e-314a-4c9e-e2ae-dc1e86d3cf6c"
      },
      "outputs": [
        {
          "output_type": "stream",
          "name": "stdout",
          "text": [
            "Уникальность 14.08\n"
          ]
        }
      ],
      "source": [
        "uniq_recs = len(joined['pred_items'].astype(str).unique())\n",
        "users_1 = len(joined.index)\n",
        "\n",
        "print(f'Уникальность {uniq_recs/users_1*100:.2f}')"
      ]
    },
    {
      "cell_type": "code",
      "execution_count": null,
      "metadata": {
        "id": "jFuosW4d3bew"
      },
      "outputs": [],
      "source": [
        "joined.head()"
      ]
    },
    {
      "cell_type": "code",
      "execution_count": null,
      "metadata": {
        "id": "fWr-Jx0S4KnS"
      },
      "outputs": [],
      "source": [
        "categories_train = pd.read_csv(r\"/content/drive/MyDrive/Colab Notebooks/categories_train.csv\")"
      ]
    },
    {
      "cell_type": "code",
      "execution_count": null,
      "metadata": {
        "colab": {
          "base_uri": "https://localhost:8080/"
        },
        "id": "Hv9U56nE4NMh",
        "outputId": "4f8ccf91-e0b5-481c-d0cc-16f1bf85c37b"
      },
      "outputs": [
        {
          "data": {
            "text/plain": [
              "2     ['Брюки', 'Беруши', 'Лубриканты', 'Портупеи', ...\n",
              "3     ['Масла', 'Косметика для ванн', 'Полотенца бан...\n",
              "7     ['Мягкие игрушки', 'Перчатки', 'Бисер', 'Време...\n",
              "10    ['Наклейки на авто', 'Ламбрекены', 'Коврики ав...\n",
              "13    ['Скотч для наращивания ресниц', 'Водоросли мо...\n",
              "Name: item_name, dtype: object"
            ]
          },
          "execution_count": 50,
          "metadata": {},
          "output_type": "execute_result"
        }
      ],
      "source": [
        "categories_train[categories_train['user_id'].isin([3,4,8,11,15])]['item_name']"
      ]
    },
    {
      "cell_type": "code",
      "execution_count": null,
      "metadata": {
        "id": "0pJigicC4m6g"
      },
      "outputs": [],
      "source": [
        "import ast\n",
        "\n",
        "joined['item_id_y'] = joined['item_id_y'].apply(lambda x: ast.literal_eval(x))"
      ]
    },
    {
      "cell_type": "code",
      "execution_count": 40,
      "metadata": {
        "id": "e6wd433VqBJf"
      },
      "outputs": [],
      "source": [
        "joined['recall@20'] = joined.apply(lambda row: recall_at_k(row['pred_items'], row['test_items'], 20), axis=1)"
      ]
    },
    {
      "cell_type": "code",
      "execution_count": 41,
      "metadata": {
        "id": "BtUSLInRqBJf",
        "colab": {
          "base_uri": "https://localhost:8080/"
        },
        "outputId": "1d9e4845-2698-4218-999b-09ca5e73aac9"
      },
      "outputs": [
        {
          "output_type": "execute_result",
          "data": {
            "text/plain": [
              "0.11"
            ]
          },
          "metadata": {},
          "execution_count": 41
        }
      ],
      "source": [
        "round(joined['recall@20'].mean(), 2)"
      ]
    },
    {
      "cell_type": "code",
      "execution_count": 43,
      "metadata": {
        "id": "yfsh_Iv4d5M6"
      },
      "outputs": [],
      "source": [
        "joined['recall@50'] = joined.apply(lambda row: recall_at_k(row['pred_items'], row['test_items'], 50), axis=1)"
      ]
    },
    {
      "cell_type": "code",
      "execution_count": 44,
      "metadata": {
        "colab": {
          "base_uri": "https://localhost:8080/"
        },
        "outputId": "c8db25e9-c07d-4721-9155-2c8b078b849f",
        "id": "NvbSrVNEd5M7"
      },
      "outputs": [
        {
          "output_type": "execute_result",
          "data": {
            "text/plain": [
              "0.26"
            ]
          },
          "metadata": {},
          "execution_count": 44
        }
      ],
      "source": [
        "round(joined['recall@50'].mean(), 2)"
      ]
    },
    {
      "cell_type": "code",
      "execution_count": 42,
      "metadata": {
        "id": "I380HEztFrLG",
        "colab": {
          "base_uri": "https://localhost:8080/"
        },
        "outputId": "3ace0daf-316c-41a2-922a-1c16ba3fe89d"
      },
      "outputs": [
        {
          "output_type": "stream",
          "name": "stdout",
          "text": [
            "780\n"
          ]
        }
      ],
      "source": [
        "combined = []\n",
        "for list_ in joined['pred_items']:\n",
        "    combined += list_\n",
        "\n",
        "# считаем количество уникальных элементов\n",
        "unique_elements = len(set(combined))\n",
        "\n",
        "print(unique_elements)"
      ]
    },
    {
      "cell_type": "markdown",
      "metadata": {
        "id": "ToT3PLPMGEHh"
      },
      "source": [
        "![image.png](data:image/png;base64,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)"
      ]
    },
    {
      "cell_type": "markdown",
      "source": [
        "Чем больше полнота, тем меньше уникальность"
      ],
      "metadata": {
        "id": "oMLg4NEu2N2U"
      }
    },
    {
      "cell_type": "code",
      "execution_count": null,
      "metadata": {
        "id": "nWmMk_CFGC8O"
      },
      "outputs": [],
      "source": []
    },
    {
      "cell_type": "code",
      "execution_count": null,
      "metadata": {
        "id": "SfWWg25rjsQ7"
      },
      "outputs": [],
      "source": [
        "joined.to_csv(r\"/content/drive/MyDrive/Colab Notebooks/lightfm_result.csv\")"
      ]
    },
    {
      "cell_type": "markdown",
      "metadata": {
        "id": "_VxZ7xSHgKpY"
      },
      "source": [
        "### Бустинг"
      ]
    },
    {
      "cell_type": "code",
      "execution_count": null,
      "metadata": {
        "id": "3jj1tAfPAKpz"
      },
      "outputs": [],
      "source": [
        "def EmbeddingsW2V(data, vector_users=2, vector_items=2, mc_users=1, mc_items=2):\n",
        "  df = data.copy()\n",
        "\n",
        "  features = df\n",
        "  df = df[['user_id', 'item_id']]\n",
        "  for_items = df.groupby('user_id')['item_id'].apply(list)\n",
        "  for_users = df.groupby('item_id')['user_id'].apply(list)\n",
        "  for_users_list = for_users.values.tolist()\n",
        "  for_items_list = for_items.values.tolist()\n",
        "\n",
        "  model_users = Word2Vec(sentences=for_users_list, vector_size=vector_users, min_count=mc_users)\n",
        "  model_items = Word2Vec(sentences=for_items_list, vector_size=vector_items, min_count=mc_items)\n",
        "\n",
        "  item_vectors = {item: model_items.wv[item] for item in model_items.wv.index_to_key}\n",
        "  user_vectors = {user: model_users.wv[user] for user in model_users.wv.index_to_key}\n",
        "\n",
        "  item_embeddings = pd.DataFrame(item_vectors).T\n",
        "  user_embeddings = pd.DataFrame(user_vectors).T\n",
        "\n",
        "  user_embeddings.columns = [f'u_ebd_{i}' for i in range(user_embeddings.shape[1])]\n",
        "  item_embeddings.columns = [f'i_ebd_{i}' for i in range(item_embeddings.shape[1])]\n",
        "\n",
        "  df = features.join(item_embeddings, on='item_id', how='left')\n",
        "  df = df.join(user_embeddings, on='user_id', how='left')\n",
        "  df.dropna(inplace=True)\n",
        "\n",
        "  return df"
      ]
    },
    {
      "cell_type": "code",
      "execution_count": null,
      "metadata": {
        "id": "EjWvVFjJAW8v"
      },
      "outputs": [],
      "source": [
        "lfm_val_emb = EmbeddingsW2V(lfm_val)"
      ]
    },
    {
      "cell_type": "code",
      "execution_count": null,
      "metadata": {
        "id": "Z_OTvZ03y_wc"
      },
      "outputs": [],
      "source": [
        "result = pd.read_csv(r\"/content/drive/MyDrive/Colab Notebooks/result.gzip\", compression='gzip')"
      ]
    },
    {
      "cell_type": "code",
      "execution_count": null,
      "metadata": {
        "id": "WnCdac0RzlmT"
      },
      "outputs": [],
      "source": [
        "result.info()"
      ]
    },
    {
      "cell_type": "code",
      "execution_count": null,
      "metadata": {
        "id": "eWwDDD4A0xdc"
      },
      "outputs": [],
      "source": [
        "lfm_val_emb.to_csv(r\"/content/drive/MyDrive/Colab Notebooks/lfm_val_emb.csv.gzip\", compression='gzip')"
      ]
    },
    {
      "cell_type": "code",
      "execution_count": null,
      "metadata": {
        "id": "BNLw4mZN6mtP"
      },
      "outputs": [],
      "source": [
        "lfm_val_emb = pd.read_csv(r\"/content/drive/MyDrive/Colab Notebooks/lfm_val_emb.csv.gzip\", compression='gzip')"
      ]
    },
    {
      "cell_type": "code",
      "execution_count": null,
      "metadata": {
        "colab": {
          "base_uri": "https://localhost:8080/",
          "height": 166
        },
        "id": "NBvAiImGTBfP",
        "outputId": "4e585c58-4131-4899-fc64-b9ffc7651c4e"
      },
      "outputs": [
        {
          "ename": "NameError",
          "evalue": "ignored",
          "output_type": "error",
          "traceback": [
            "\u001b[0;31m---------------------------------------------------------------------------\u001b[0m",
            "\u001b[0;31mNameError\u001b[0m                                 Traceback (most recent call last)",
            "\u001b[0;32m<ipython-input-25-922bb41d2d71>\u001b[0m in \u001b[0;36m<cell line: 1>\u001b[0;34m()\u001b[0m\n\u001b[0;32m----> 1\u001b[0;31m \u001b[0mlfm_val_emb\u001b[0m \u001b[0;34m=\u001b[0m \u001b[0mpd\u001b[0m\u001b[0;34m.\u001b[0m\u001b[0mmerge\u001b[0m\u001b[0;34m(\u001b[0m\u001b[0mlfm_val_emb\u001b[0m\u001b[0;34m,\u001b[0m \u001b[0mitems_category\u001b[0m\u001b[0;34m,\u001b[0m \u001b[0mon\u001b[0m\u001b[0;34m=\u001b[0m\u001b[0;34m'item_id'\u001b[0m\u001b[0;34m)\u001b[0m\u001b[0;34m\u001b[0m\u001b[0;34m\u001b[0m\u001b[0m\n\u001b[0m",
            "\u001b[0;31mNameError\u001b[0m: name 'items_category' is not defined"
          ]
        }
      ],
      "source": [
        "lfm_val_emb = pd.merge(lfm_val_emb, items_category, on='item_id')"
      ]
    },
    {
      "cell_type": "code",
      "execution_count": null,
      "metadata": {
        "id": "ttZUtPsCLJ-7"
      },
      "outputs": [],
      "source": [
        "result = result.drop(['Unnamed: 0'], axis=1)"
      ]
    },
    {
      "cell_type": "code",
      "execution_count": null,
      "metadata": {
        "id": "_opqvtTPTi9f"
      },
      "outputs": [],
      "source": [
        "lfm_val_emb = lfm_val_emb.drop(['Unnamed: 0', 'purchase'], axis=1)"
      ]
    },
    {
      "cell_type": "code",
      "execution_count": null,
      "metadata": {
        "id": "jKHDXcwaR9FB"
      },
      "outputs": [],
      "source": [
        "candidates = result"
      ]
    },
    {
      "cell_type": "code",
      "execution_count": null,
      "metadata": {
        "id": "Rh0bfhCmLMGL"
      },
      "outputs": [],
      "source": [
        "candidates_test = candidates[candidates['user_id'].isin(test['user_id'].unique())]"
      ]
    },
    {
      "cell_type": "code",
      "execution_count": null,
      "metadata": {
        "id": "3fKVR8fIT0NP"
      },
      "outputs": [],
      "source": [
        "candidates_test = candidates_test.drop(['rank'], axis=1)"
      ]
    },
    {
      "cell_type": "code",
      "execution_count": null,
      "metadata": {
        "id": "onIOaS1KJ7fA"
      },
      "outputs": [],
      "source": [
        "candidates_test_emb = EmbeddingsW2V(candidates_test)"
      ]
    },
    {
      "cell_type": "code",
      "execution_count": null,
      "metadata": {
        "id": "Nc4thV6Z64lp"
      },
      "outputs": [],
      "source": [
        "candidates_test_emb.to_csv(r\"/content/drive/MyDrive/Colab Notebooks/candidates_test_emb.csv.gzip\", compression='gzip')"
      ]
    },
    {
      "cell_type": "code",
      "execution_count": null,
      "metadata": {
        "id": "7LMSZQuT7Bpc"
      },
      "outputs": [],
      "source": [
        "candidates_test_emb = pd.read_csv(r\"/content/drive/MyDrive/Colab Notebooks/candidates_test_emb.csv.gzip\", compression='gzip')"
      ]
    },
    {
      "cell_type": "code",
      "execution_count": null,
      "metadata": {
        "colab": {
          "base_uri": "https://localhost:8080/",
          "height": 206
        },
        "id": "46Q_BLa5mqlv",
        "outputId": "e92e663d-4172-480c-a256-1619ee391285"
      },
      "outputs": [
        {
          "data": {
            "text/html": [
              "\n",
              "\n",
              "  <div id=\"df-6f3dfdaa-9b19-4b51-83a1-24fc43988f6a\">\n",
              "    <div class=\"colab-df-container\">\n",
              "      <div>\n",
              "<style scoped>\n",
              "    .dataframe tbody tr th:only-of-type {\n",
              "        vertical-align: middle;\n",
              "    }\n",
              "\n",
              "    .dataframe tbody tr th {\n",
              "        vertical-align: top;\n",
              "    }\n",
              "\n",
              "    .dataframe thead th {\n",
              "        text-align: right;\n",
              "    }\n",
              "</style>\n",
              "<table border=\"1\" class=\"dataframe\">\n",
              "  <thead>\n",
              "    <tr style=\"text-align: right;\">\n",
              "      <th></th>\n",
              "      <th>Unnamed: 0</th>\n",
              "      <th>user_id</th>\n",
              "      <th>item_id</th>\n",
              "      <th>rank</th>\n",
              "      <th>i_ebd_0</th>\n",
              "      <th>i_ebd_1</th>\n",
              "      <th>u_ebd_0</th>\n",
              "      <th>u_ebd_1</th>\n",
              "    </tr>\n",
              "  </thead>\n",
              "  <tbody>\n",
              "    <tr>\n",
              "      <th>0</th>\n",
              "      <td>0</td>\n",
              "      <td>3</td>\n",
              "      <td>390</td>\n",
              "      <td>1</td>\n",
              "      <td>11.843787</td>\n",
              "      <td>-18.704586</td>\n",
              "      <td>-0.785285</td>\n",
              "      <td>0.548839</td>\n",
              "    </tr>\n",
              "    <tr>\n",
              "      <th>1</th>\n",
              "      <td>0</td>\n",
              "      <td>3</td>\n",
              "      <td>357</td>\n",
              "      <td>2</td>\n",
              "      <td>10.892907</td>\n",
              "      <td>-17.208872</td>\n",
              "      <td>-0.785285</td>\n",
              "      <td>0.548839</td>\n",
              "    </tr>\n",
              "    <tr>\n",
              "      <th>2</th>\n",
              "      <td>0</td>\n",
              "      <td>3</td>\n",
              "      <td>11</td>\n",
              "      <td>3</td>\n",
              "      <td>9.962773</td>\n",
              "      <td>-15.739751</td>\n",
              "      <td>-0.785285</td>\n",
              "      <td>0.548839</td>\n",
              "    </tr>\n",
              "    <tr>\n",
              "      <th>3</th>\n",
              "      <td>0</td>\n",
              "      <td>3</td>\n",
              "      <td>133</td>\n",
              "      <td>4</td>\n",
              "      <td>9.208667</td>\n",
              "      <td>-14.572268</td>\n",
              "      <td>-0.785285</td>\n",
              "      <td>0.548839</td>\n",
              "    </tr>\n",
              "    <tr>\n",
              "      <th>4</th>\n",
              "      <td>0</td>\n",
              "      <td>3</td>\n",
              "      <td>69</td>\n",
              "      <td>5</td>\n",
              "      <td>8.409226</td>\n",
              "      <td>-13.336022</td>\n",
              "      <td>-0.785285</td>\n",
              "      <td>0.548839</td>\n",
              "    </tr>\n",
              "  </tbody>\n",
              "</table>\n",
              "</div>\n",
              "      <button class=\"colab-df-convert\" onclick=\"convertToInteractive('df-6f3dfdaa-9b19-4b51-83a1-24fc43988f6a')\"\n",
              "              title=\"Convert this dataframe to an interactive table.\"\n",
              "              style=\"display:none;\">\n",
              "\n",
              "  <svg xmlns=\"http://www.w3.org/2000/svg\" height=\"24px\"viewBox=\"0 0 24 24\"\n",
              "       width=\"24px\">\n",
              "    <path d=\"M0 0h24v24H0V0z\" fill=\"none\"/>\n",
              "    <path d=\"M18.56 5.44l.94 2.06.94-2.06 2.06-.94-2.06-.94-.94-2.06-.94 2.06-2.06.94zm-11 1L8.5 8.5l.94-2.06 2.06-.94-2.06-.94L8.5 2.5l-.94 2.06-2.06.94zm10 10l.94 2.06.94-2.06 2.06-.94-2.06-.94-.94-2.06-.94 2.06-2.06.94z\"/><path d=\"M17.41 7.96l-1.37-1.37c-.4-.4-.92-.59-1.43-.59-.52 0-1.04.2-1.43.59L10.3 9.45l-7.72 7.72c-.78.78-.78 2.05 0 2.83L4 21.41c.39.39.9.59 1.41.59.51 0 1.02-.2 1.41-.59l7.78-7.78 2.81-2.81c.8-.78.8-2.07 0-2.86zM5.41 20L4 18.59l7.72-7.72 1.47 1.35L5.41 20z\"/>\n",
              "  </svg>\n",
              "      </button>\n",
              "\n",
              "\n",
              "\n",
              "    <div id=\"df-f406b63e-6916-4fe7-afad-54d9ba05e02a\">\n",
              "      <button class=\"colab-df-quickchart\" onclick=\"quickchart('df-f406b63e-6916-4fe7-afad-54d9ba05e02a')\"\n",
              "              title=\"Suggest charts.\"\n",
              "              style=\"display:none;\">\n",
              "\n",
              "<svg xmlns=\"http://www.w3.org/2000/svg\" height=\"24px\"viewBox=\"0 0 24 24\"\n",
              "     width=\"24px\">\n",
              "    <g>\n",
              "        <path d=\"M19 3H5c-1.1 0-2 .9-2 2v14c0 1.1.9 2 2 2h14c1.1 0 2-.9 2-2V5c0-1.1-.9-2-2-2zM9 17H7v-7h2v7zm4 0h-2V7h2v10zm4 0h-2v-4h2v4z\"/>\n",
              "    </g>\n",
              "</svg>\n",
              "      </button>\n",
              "    </div>\n",
              "\n",
              "<style>\n",
              "  .colab-df-quickchart {\n",
              "    background-color: #E8F0FE;\n",
              "    border: none;\n",
              "    border-radius: 50%;\n",
              "    cursor: pointer;\n",
              "    display: none;\n",
              "    fill: #1967D2;\n",
              "    height: 32px;\n",
              "    padding: 0 0 0 0;\n",
              "    width: 32px;\n",
              "  }\n",
              "\n",
              "  .colab-df-quickchart:hover {\n",
              "    background-color: #E2EBFA;\n",
              "    box-shadow: 0px 1px 2px rgba(60, 64, 67, 0.3), 0px 1px 3px 1px rgba(60, 64, 67, 0.15);\n",
              "    fill: #174EA6;\n",
              "  }\n",
              "\n",
              "  [theme=dark] .colab-df-quickchart {\n",
              "    background-color: #3B4455;\n",
              "    fill: #D2E3FC;\n",
              "  }\n",
              "\n",
              "  [theme=dark] .colab-df-quickchart:hover {\n",
              "    background-color: #434B5C;\n",
              "    box-shadow: 0px 1px 3px 1px rgba(0, 0, 0, 0.15);\n",
              "    filter: drop-shadow(0px 1px 2px rgba(0, 0, 0, 0.3));\n",
              "    fill: #FFFFFF;\n",
              "  }\n",
              "</style>\n",
              "\n",
              "    <script>\n",
              "      async function quickchart(key) {\n",
              "        const containerElement = document.querySelector('#' + key);\n",
              "        const charts = await google.colab.kernel.invokeFunction(\n",
              "            'suggestCharts', [key], {});\n",
              "      }\n",
              "    </script>\n",
              "\n",
              "      <script>\n",
              "\n",
              "function displayQuickchartButton(domScope) {\n",
              "  let quickchartButtonEl =\n",
              "    domScope.querySelector('#df-f406b63e-6916-4fe7-afad-54d9ba05e02a button.colab-df-quickchart');\n",
              "  quickchartButtonEl.style.display =\n",
              "    google.colab.kernel.accessAllowed ? 'block' : 'none';\n",
              "}\n",
              "\n",
              "        displayQuickchartButton(document);\n",
              "      </script>\n",
              "      <style>\n",
              "    .colab-df-container {\n",
              "      display:flex;\n",
              "      flex-wrap:wrap;\n",
              "      gap: 12px;\n",
              "    }\n",
              "\n",
              "    .colab-df-convert {\n",
              "      background-color: #E8F0FE;\n",
              "      border: none;\n",
              "      border-radius: 50%;\n",
              "      cursor: pointer;\n",
              "      display: none;\n",
              "      fill: #1967D2;\n",
              "      height: 32px;\n",
              "      padding: 0 0 0 0;\n",
              "      width: 32px;\n",
              "    }\n",
              "\n",
              "    .colab-df-convert:hover {\n",
              "      background-color: #E2EBFA;\n",
              "      box-shadow: 0px 1px 2px rgba(60, 64, 67, 0.3), 0px 1px 3px 1px rgba(60, 64, 67, 0.15);\n",
              "      fill: #174EA6;\n",
              "    }\n",
              "\n",
              "    [theme=dark] .colab-df-convert {\n",
              "      background-color: #3B4455;\n",
              "      fill: #D2E3FC;\n",
              "    }\n",
              "\n",
              "    [theme=dark] .colab-df-convert:hover {\n",
              "      background-color: #434B5C;\n",
              "      box-shadow: 0px 1px 3px 1px rgba(0, 0, 0, 0.15);\n",
              "      filter: drop-shadow(0px 1px 2px rgba(0, 0, 0, 0.3));\n",
              "      fill: #FFFFFF;\n",
              "    }\n",
              "  </style>\n",
              "\n",
              "      <script>\n",
              "        const buttonEl =\n",
              "          document.querySelector('#df-6f3dfdaa-9b19-4b51-83a1-24fc43988f6a button.colab-df-convert');\n",
              "        buttonEl.style.display =\n",
              "          google.colab.kernel.accessAllowed ? 'block' : 'none';\n",
              "\n",
              "        async function convertToInteractive(key) {\n",
              "          const element = document.querySelector('#df-6f3dfdaa-9b19-4b51-83a1-24fc43988f6a');\n",
              "          const dataTable =\n",
              "            await google.colab.kernel.invokeFunction('convertToInteractive',\n",
              "                                                     [key], {});\n",
              "          if (!dataTable) return;\n",
              "\n",
              "          const docLinkHtml = 'Like what you see? Visit the ' +\n",
              "            '<a target=\"_blank\" href=https://colab.research.google.com/notebooks/data_table.ipynb>data table notebook</a>'\n",
              "            + ' to learn more about interactive tables.';\n",
              "          element.innerHTML = '';\n",
              "          dataTable['output_type'] = 'display_data';\n",
              "          await google.colab.output.renderOutput(dataTable, element);\n",
              "          const docLink = document.createElement('div');\n",
              "          docLink.innerHTML = docLinkHtml;\n",
              "          element.appendChild(docLink);\n",
              "        }\n",
              "      </script>\n",
              "    </div>\n",
              "  </div>\n"
            ],
            "text/plain": [
              "   Unnamed: 0  user_id  item_id  rank    i_ebd_0    i_ebd_1   u_ebd_0  \\\n",
              "0           0        3      390     1  11.843787 -18.704586 -0.785285   \n",
              "1           0        3      357     2  10.892907 -17.208872 -0.785285   \n",
              "2           0        3       11     3   9.962773 -15.739751 -0.785285   \n",
              "3           0        3      133     4   9.208667 -14.572268 -0.785285   \n",
              "4           0        3       69     5   8.409226 -13.336022 -0.785285   \n",
              "\n",
              "    u_ebd_1  \n",
              "0  0.548839  \n",
              "1  0.548839  \n",
              "2  0.548839  \n",
              "3  0.548839  \n",
              "4  0.548839  "
            ]
          },
          "execution_count": 15,
          "metadata": {},
          "output_type": "execute_result"
        }
      ],
      "source": [
        "candidates_test_emb.head()"
      ]
    },
    {
      "cell_type": "code",
      "execution_count": null,
      "metadata": {
        "id": "WakgEiM5W9mW"
      },
      "outputs": [],
      "source": [
        "candidates_test_emb = candidates_test_emb.drop(['Unnamed: 0', 'rank'], axis=1)"
      ]
    },
    {
      "cell_type": "code",
      "execution_count": null,
      "metadata": {
        "colab": {
          "base_uri": "https://localhost:8080/"
        },
        "id": "Tt5g5cTV04av",
        "outputId": "a8561525-5573-4f2f-c7fc-558a139ce165"
      },
      "outputs": [
        {
          "name": "stdout",
          "output_type": "stream",
          "text": [
            "<class 'pandas.core.frame.DataFrame'>\n",
            "RangeIndex: 18168578 entries, 0 to 18168577\n",
            "Data columns (total 8 columns):\n",
            " #   Column      Dtype  \n",
            "---  ------      -----  \n",
            " 0   Unnamed: 0  int64  \n",
            " 1   user_id     int64  \n",
            " 2   item_id     int64  \n",
            " 3   item_name   object \n",
            " 4   i_ebd_0     float64\n",
            " 5   i_ebd_1     float64\n",
            " 6   u_ebd_0     float64\n",
            " 7   u_ebd_1     float64\n",
            "dtypes: float64(4), int64(3), object(1)\n",
            "memory usage: 1.1+ GB\n"
          ]
        }
      ],
      "source": [
        "candidates_test_emb.info()"
      ]
    },
    {
      "cell_type": "code",
      "execution_count": null,
      "metadata": {
        "id": "Uyat_vgcJI1-"
      },
      "outputs": [],
      "source": [
        "test_interactions.shape"
      ]
    },
    {
      "cell_type": "code",
      "execution_count": null,
      "metadata": {
        "colab": {
          "base_uri": "https://localhost:8080/",
          "height": 206
        },
        "id": "2DWK31K_AfXl",
        "outputId": "417365e9-b043-454d-99e5-5a6804b51ebf"
      },
      "outputs": [
        {
          "data": {
            "text/html": [
              "\n",
              "\n",
              "  <div id=\"df-2ab13310-1e5a-4e47-b996-b186ffd4b3cc\">\n",
              "    <div class=\"colab-df-container\">\n",
              "      <div>\n",
              "<style scoped>\n",
              "    .dataframe tbody tr th:only-of-type {\n",
              "        vertical-align: middle;\n",
              "    }\n",
              "\n",
              "    .dataframe tbody tr th {\n",
              "        vertical-align: top;\n",
              "    }\n",
              "\n",
              "    .dataframe thead th {\n",
              "        text-align: right;\n",
              "    }\n",
              "</style>\n",
              "<table border=\"1\" class=\"dataframe\">\n",
              "  <thead>\n",
              "    <tr style=\"text-align: right;\">\n",
              "      <th></th>\n",
              "      <th>user_id</th>\n",
              "      <th>item_id</th>\n",
              "      <th>purchase</th>\n",
              "      <th>i_ebd_0</th>\n",
              "      <th>i_ebd_1</th>\n",
              "      <th>u_ebd_0</th>\n",
              "      <th>u_ebd_1</th>\n",
              "      <th>item_name</th>\n",
              "    </tr>\n",
              "  </thead>\n",
              "  <tbody>\n",
              "    <tr>\n",
              "      <th>0</th>\n",
              "      <td>3</td>\n",
              "      <td>38</td>\n",
              "      <td>1</td>\n",
              "      <td>-3.084565</td>\n",
              "      <td>11.171661</td>\n",
              "      <td>-0.315501</td>\n",
              "      <td>0.500832</td>\n",
              "      <td>Юбки</td>\n",
              "    </tr>\n",
              "    <tr>\n",
              "      <th>1</th>\n",
              "      <td>26</td>\n",
              "      <td>38</td>\n",
              "      <td>1</td>\n",
              "      <td>-3.084565</td>\n",
              "      <td>11.171661</td>\n",
              "      <td>-0.217416</td>\n",
              "      <td>0.448336</td>\n",
              "      <td>Юбки</td>\n",
              "    </tr>\n",
              "    <tr>\n",
              "      <th>2</th>\n",
              "      <td>68</td>\n",
              "      <td>38</td>\n",
              "      <td>1</td>\n",
              "      <td>-3.084565</td>\n",
              "      <td>11.171661</td>\n",
              "      <td>0.407163</td>\n",
              "      <td>0.312010</td>\n",
              "      <td>Юбки</td>\n",
              "    </tr>\n",
              "    <tr>\n",
              "      <th>3</th>\n",
              "      <td>174</td>\n",
              "      <td>38</td>\n",
              "      <td>1</td>\n",
              "      <td>-3.084565</td>\n",
              "      <td>11.171661</td>\n",
              "      <td>0.060715</td>\n",
              "      <td>0.503782</td>\n",
              "      <td>Юбки</td>\n",
              "    </tr>\n",
              "    <tr>\n",
              "      <th>4</th>\n",
              "      <td>212</td>\n",
              "      <td>38</td>\n",
              "      <td>1</td>\n",
              "      <td>-3.084565</td>\n",
              "      <td>11.171661</td>\n",
              "      <td>0.391577</td>\n",
              "      <td>0.145613</td>\n",
              "      <td>Юбки</td>\n",
              "    </tr>\n",
              "  </tbody>\n",
              "</table>\n",
              "</div>\n",
              "      <button class=\"colab-df-convert\" onclick=\"convertToInteractive('df-2ab13310-1e5a-4e47-b996-b186ffd4b3cc')\"\n",
              "              title=\"Convert this dataframe to an interactive table.\"\n",
              "              style=\"display:none;\">\n",
              "\n",
              "  <svg xmlns=\"http://www.w3.org/2000/svg\" height=\"24px\"viewBox=\"0 0 24 24\"\n",
              "       width=\"24px\">\n",
              "    <path d=\"M0 0h24v24H0V0z\" fill=\"none\"/>\n",
              "    <path d=\"M18.56 5.44l.94 2.06.94-2.06 2.06-.94-2.06-.94-.94-2.06-.94 2.06-2.06.94zm-11 1L8.5 8.5l.94-2.06 2.06-.94-2.06-.94L8.5 2.5l-.94 2.06-2.06.94zm10 10l.94 2.06.94-2.06 2.06-.94-2.06-.94-.94-2.06-.94 2.06-2.06.94z\"/><path d=\"M17.41 7.96l-1.37-1.37c-.4-.4-.92-.59-1.43-.59-.52 0-1.04.2-1.43.59L10.3 9.45l-7.72 7.72c-.78.78-.78 2.05 0 2.83L4 21.41c.39.39.9.59 1.41.59.51 0 1.02-.2 1.41-.59l7.78-7.78 2.81-2.81c.8-.78.8-2.07 0-2.86zM5.41 20L4 18.59l7.72-7.72 1.47 1.35L5.41 20z\"/>\n",
              "  </svg>\n",
              "      </button>\n",
              "\n",
              "\n",
              "\n",
              "    <div id=\"df-24a197f6-f581-424d-8aa2-0ce8bf8e33c7\">\n",
              "      <button class=\"colab-df-quickchart\" onclick=\"quickchart('df-24a197f6-f581-424d-8aa2-0ce8bf8e33c7')\"\n",
              "              title=\"Suggest charts.\"\n",
              "              style=\"display:none;\">\n",
              "\n",
              "<svg xmlns=\"http://www.w3.org/2000/svg\" height=\"24px\"viewBox=\"0 0 24 24\"\n",
              "     width=\"24px\">\n",
              "    <g>\n",
              "        <path d=\"M19 3H5c-1.1 0-2 .9-2 2v14c0 1.1.9 2 2 2h14c1.1 0 2-.9 2-2V5c0-1.1-.9-2-2-2zM9 17H7v-7h2v7zm4 0h-2V7h2v10zm4 0h-2v-4h2v4z\"/>\n",
              "    </g>\n",
              "</svg>\n",
              "      </button>\n",
              "    </div>\n",
              "\n",
              "<style>\n",
              "  .colab-df-quickchart {\n",
              "    background-color: #E8F0FE;\n",
              "    border: none;\n",
              "    border-radius: 50%;\n",
              "    cursor: pointer;\n",
              "    display: none;\n",
              "    fill: #1967D2;\n",
              "    height: 32px;\n",
              "    padding: 0 0 0 0;\n",
              "    width: 32px;\n",
              "  }\n",
              "\n",
              "  .colab-df-quickchart:hover {\n",
              "    background-color: #E2EBFA;\n",
              "    box-shadow: 0px 1px 2px rgba(60, 64, 67, 0.3), 0px 1px 3px 1px rgba(60, 64, 67, 0.15);\n",
              "    fill: #174EA6;\n",
              "  }\n",
              "\n",
              "  [theme=dark] .colab-df-quickchart {\n",
              "    background-color: #3B4455;\n",
              "    fill: #D2E3FC;\n",
              "  }\n",
              "\n",
              "  [theme=dark] .colab-df-quickchart:hover {\n",
              "    background-color: #434B5C;\n",
              "    box-shadow: 0px 1px 3px 1px rgba(0, 0, 0, 0.15);\n",
              "    filter: drop-shadow(0px 1px 2px rgba(0, 0, 0, 0.3));\n",
              "    fill: #FFFFFF;\n",
              "  }\n",
              "</style>\n",
              "\n",
              "    <script>\n",
              "      async function quickchart(key) {\n",
              "        const containerElement = document.querySelector('#' + key);\n",
              "        const charts = await google.colab.kernel.invokeFunction(\n",
              "            'suggestCharts', [key], {});\n",
              "      }\n",
              "    </script>\n",
              "\n",
              "      <script>\n",
              "\n",
              "function displayQuickchartButton(domScope) {\n",
              "  let quickchartButtonEl =\n",
              "    domScope.querySelector('#df-24a197f6-f581-424d-8aa2-0ce8bf8e33c7 button.colab-df-quickchart');\n",
              "  quickchartButtonEl.style.display =\n",
              "    google.colab.kernel.accessAllowed ? 'block' : 'none';\n",
              "}\n",
              "\n",
              "        displayQuickchartButton(document);\n",
              "      </script>\n",
              "      <style>\n",
              "    .colab-df-container {\n",
              "      display:flex;\n",
              "      flex-wrap:wrap;\n",
              "      gap: 12px;\n",
              "    }\n",
              "\n",
              "    .colab-df-convert {\n",
              "      background-color: #E8F0FE;\n",
              "      border: none;\n",
              "      border-radius: 50%;\n",
              "      cursor: pointer;\n",
              "      display: none;\n",
              "      fill: #1967D2;\n",
              "      height: 32px;\n",
              "      padding: 0 0 0 0;\n",
              "      width: 32px;\n",
              "    }\n",
              "\n",
              "    .colab-df-convert:hover {\n",
              "      background-color: #E2EBFA;\n",
              "      box-shadow: 0px 1px 2px rgba(60, 64, 67, 0.3), 0px 1px 3px 1px rgba(60, 64, 67, 0.15);\n",
              "      fill: #174EA6;\n",
              "    }\n",
              "\n",
              "    [theme=dark] .colab-df-convert {\n",
              "      background-color: #3B4455;\n",
              "      fill: #D2E3FC;\n",
              "    }\n",
              "\n",
              "    [theme=dark] .colab-df-convert:hover {\n",
              "      background-color: #434B5C;\n",
              "      box-shadow: 0px 1px 3px 1px rgba(0, 0, 0, 0.15);\n",
              "      filter: drop-shadow(0px 1px 2px rgba(0, 0, 0, 0.3));\n",
              "      fill: #FFFFFF;\n",
              "    }\n",
              "  </style>\n",
              "\n",
              "      <script>\n",
              "        const buttonEl =\n",
              "          document.querySelector('#df-2ab13310-1e5a-4e47-b996-b186ffd4b3cc button.colab-df-convert');\n",
              "        buttonEl.style.display =\n",
              "          google.colab.kernel.accessAllowed ? 'block' : 'none';\n",
              "\n",
              "        async function convertToInteractive(key) {\n",
              "          const element = document.querySelector('#df-2ab13310-1e5a-4e47-b996-b186ffd4b3cc');\n",
              "          const dataTable =\n",
              "            await google.colab.kernel.invokeFunction('convertToInteractive',\n",
              "                                                     [key], {});\n",
              "          if (!dataTable) return;\n",
              "\n",
              "          const docLinkHtml = 'Like what you see? Visit the ' +\n",
              "            '<a target=\"_blank\" href=https://colab.research.google.com/notebooks/data_table.ipynb>data table notebook</a>'\n",
              "            + ' to learn more about interactive tables.';\n",
              "          element.innerHTML = '';\n",
              "          dataTable['output_type'] = 'display_data';\n",
              "          await google.colab.output.renderOutput(dataTable, element);\n",
              "          const docLink = document.createElement('div');\n",
              "          docLink.innerHTML = docLinkHtml;\n",
              "          element.appendChild(docLink);\n",
              "        }\n",
              "      </script>\n",
              "    </div>\n",
              "  </div>\n"
            ],
            "text/plain": [
              "   user_id  item_id  purchase   i_ebd_0    i_ebd_1   u_ebd_0   u_ebd_1  \\\n",
              "0        3       38         1 -3.084565  11.171661 -0.315501  0.500832   \n",
              "1       26       38         1 -3.084565  11.171661 -0.217416  0.448336   \n",
              "2       68       38         1 -3.084565  11.171661  0.407163  0.312010   \n",
              "3      174       38         1 -3.084565  11.171661  0.060715  0.503782   \n",
              "4      212       38         1 -3.084565  11.171661  0.391577  0.145613   \n",
              "\n",
              "  item_name  \n",
              "0      Юбки  \n",
              "1      Юбки  \n",
              "2      Юбки  \n",
              "3      Юбки  \n",
              "4      Юбки  "
            ]
          },
          "execution_count": 30,
          "metadata": {},
          "output_type": "execute_result"
        }
      ],
      "source": [
        "lfm_val_emb.head()"
      ]
    },
    {
      "cell_type": "code",
      "execution_count": null,
      "metadata": {
        "colab": {
          "base_uri": "https://localhost:8080/",
          "height": 374
        },
        "id": "eD5VyPcNhzLF",
        "outputId": "c7ddb4a2-5b8d-490d-b572-760d505a7565"
      },
      "outputs": [
        {
          "name": "stdout",
          "output_type": "stream",
          "text": [
            "(29028, 11)\n"
          ]
        },
        {
          "data": {
            "text/html": [
              "\n",
              "\n",
              "  <div id=\"df-e74dd81f-0f7d-4c87-b7da-35f1ebf97318\">\n",
              "    <div class=\"colab-df-container\">\n",
              "      <div>\n",
              "<style scoped>\n",
              "    .dataframe tbody tr th:only-of-type {\n",
              "        vertical-align: middle;\n",
              "    }\n",
              "\n",
              "    .dataframe tbody tr th {\n",
              "        vertical-align: top;\n",
              "    }\n",
              "\n",
              "    .dataframe thead th {\n",
              "        text-align: right;\n",
              "    }\n",
              "</style>\n",
              "<table border=\"1\" class=\"dataframe\">\n",
              "  <thead>\n",
              "    <tr style=\"text-align: right;\">\n",
              "      <th></th>\n",
              "      <th>user_id</th>\n",
              "      <th>item_id</th>\n",
              "      <th>rank</th>\n",
              "      <th>item_name_x</th>\n",
              "      <th>purchase</th>\n",
              "      <th>i_ebd_0</th>\n",
              "      <th>i_ebd_1</th>\n",
              "      <th>u_ebd_0</th>\n",
              "      <th>u_ebd_1</th>\n",
              "      <th>item_name_y</th>\n",
              "      <th>target</th>\n",
              "    </tr>\n",
              "  </thead>\n",
              "  <tbody>\n",
              "    <tr>\n",
              "      <th>0</th>\n",
              "      <td>720561</td>\n",
              "      <td>3222</td>\n",
              "      <td>32</td>\n",
              "      <td>Удобрения для аквариумных растений</td>\n",
              "      <td>1</td>\n",
              "      <td>1.733437</td>\n",
              "      <td>-0.881681</td>\n",
              "      <td>0.128592</td>\n",
              "      <td>0.477462</td>\n",
              "      <td>Удобрения для аквариумных растений</td>\n",
              "      <td>1</td>\n",
              "    </tr>\n",
              "    <tr>\n",
              "      <th>1</th>\n",
              "      <td>228073</td>\n",
              "      <td>5923</td>\n",
              "      <td>3</td>\n",
              "      <td>Запчасти для игровых консолей</td>\n",
              "      <td>2</td>\n",
              "      <td>1.179034</td>\n",
              "      <td>-0.226879</td>\n",
              "      <td>-0.309348</td>\n",
              "      <td>-0.165779</td>\n",
              "      <td>Запчасти для игровых консолей</td>\n",
              "      <td>1</td>\n",
              "    </tr>\n",
              "    <tr>\n",
              "      <th>2</th>\n",
              "      <td>232201</td>\n",
              "      <td>1906</td>\n",
              "      <td>25</td>\n",
              "      <td>Фотобумага</td>\n",
              "      <td>2</td>\n",
              "      <td>2.365415</td>\n",
              "      <td>-1.627509</td>\n",
              "      <td>0.160548</td>\n",
              "      <td>-0.163572</td>\n",
              "      <td>Фотобумага</td>\n",
              "      <td>1</td>\n",
              "    </tr>\n",
              "    <tr>\n",
              "      <th>3</th>\n",
              "      <td>554280</td>\n",
              "      <td>1906</td>\n",
              "      <td>42</td>\n",
              "      <td>Фотобумага</td>\n",
              "      <td>1</td>\n",
              "      <td>2.365415</td>\n",
              "      <td>-1.627509</td>\n",
              "      <td>-0.000836</td>\n",
              "      <td>0.255449</td>\n",
              "      <td>Фотобумага</td>\n",
              "      <td>1</td>\n",
              "    </tr>\n",
              "    <tr>\n",
              "      <th>4</th>\n",
              "      <td>324628</td>\n",
              "      <td>1075</td>\n",
              "      <td>28</td>\n",
              "      <td>Флаги</td>\n",
              "      <td>1</td>\n",
              "      <td>1.209918</td>\n",
              "      <td>0.338230</td>\n",
              "      <td>0.061545</td>\n",
              "      <td>-0.209604</td>\n",
              "      <td>Флаги</td>\n",
              "      <td>1</td>\n",
              "    </tr>\n",
              "  </tbody>\n",
              "</table>\n",
              "</div>\n",
              "      <button class=\"colab-df-convert\" onclick=\"convertToInteractive('df-e74dd81f-0f7d-4c87-b7da-35f1ebf97318')\"\n",
              "              title=\"Convert this dataframe to an interactive table.\"\n",
              "              style=\"display:none;\">\n",
              "\n",
              "  <svg xmlns=\"http://www.w3.org/2000/svg\" height=\"24px\"viewBox=\"0 0 24 24\"\n",
              "       width=\"24px\">\n",
              "    <path d=\"M0 0h24v24H0V0z\" fill=\"none\"/>\n",
              "    <path d=\"M18.56 5.44l.94 2.06.94-2.06 2.06-.94-2.06-.94-.94-2.06-.94 2.06-2.06.94zm-11 1L8.5 8.5l.94-2.06 2.06-.94-2.06-.94L8.5 2.5l-.94 2.06-2.06.94zm10 10l.94 2.06.94-2.06 2.06-.94-2.06-.94-.94-2.06-.94 2.06-2.06.94z\"/><path d=\"M17.41 7.96l-1.37-1.37c-.4-.4-.92-.59-1.43-.59-.52 0-1.04.2-1.43.59L10.3 9.45l-7.72 7.72c-.78.78-.78 2.05 0 2.83L4 21.41c.39.39.9.59 1.41.59.51 0 1.02-.2 1.41-.59l7.78-7.78 2.81-2.81c.8-.78.8-2.07 0-2.86zM5.41 20L4 18.59l7.72-7.72 1.47 1.35L5.41 20z\"/>\n",
              "  </svg>\n",
              "      </button>\n",
              "\n",
              "\n",
              "\n",
              "    <div id=\"df-cce3c8ee-3c71-4a73-ac1a-b044e854ed04\">\n",
              "      <button class=\"colab-df-quickchart\" onclick=\"quickchart('df-cce3c8ee-3c71-4a73-ac1a-b044e854ed04')\"\n",
              "              title=\"Suggest charts.\"\n",
              "              style=\"display:none;\">\n",
              "\n",
              "<svg xmlns=\"http://www.w3.org/2000/svg\" height=\"24px\"viewBox=\"0 0 24 24\"\n",
              "     width=\"24px\">\n",
              "    <g>\n",
              "        <path d=\"M19 3H5c-1.1 0-2 .9-2 2v14c0 1.1.9 2 2 2h14c1.1 0 2-.9 2-2V5c0-1.1-.9-2-2-2zM9 17H7v-7h2v7zm4 0h-2V7h2v10zm4 0h-2v-4h2v4z\"/>\n",
              "    </g>\n",
              "</svg>\n",
              "      </button>\n",
              "    </div>\n",
              "\n",
              "<style>\n",
              "  .colab-df-quickchart {\n",
              "    background-color: #E8F0FE;\n",
              "    border: none;\n",
              "    border-radius: 50%;\n",
              "    cursor: pointer;\n",
              "    display: none;\n",
              "    fill: #1967D2;\n",
              "    height: 32px;\n",
              "    padding: 0 0 0 0;\n",
              "    width: 32px;\n",
              "  }\n",
              "\n",
              "  .colab-df-quickchart:hover {\n",
              "    background-color: #E2EBFA;\n",
              "    box-shadow: 0px 1px 2px rgba(60, 64, 67, 0.3), 0px 1px 3px 1px rgba(60, 64, 67, 0.15);\n",
              "    fill: #174EA6;\n",
              "  }\n",
              "\n",
              "  [theme=dark] .colab-df-quickchart {\n",
              "    background-color: #3B4455;\n",
              "    fill: #D2E3FC;\n",
              "  }\n",
              "\n",
              "  [theme=dark] .colab-df-quickchart:hover {\n",
              "    background-color: #434B5C;\n",
              "    box-shadow: 0px 1px 3px 1px rgba(0, 0, 0, 0.15);\n",
              "    filter: drop-shadow(0px 1px 2px rgba(0, 0, 0, 0.3));\n",
              "    fill: #FFFFFF;\n",
              "  }\n",
              "</style>\n",
              "\n",
              "    <script>\n",
              "      async function quickchart(key) {\n",
              "        const containerElement = document.querySelector('#' + key);\n",
              "        const charts = await google.colab.kernel.invokeFunction(\n",
              "            'suggestCharts', [key], {});\n",
              "      }\n",
              "    </script>\n",
              "\n",
              "      <script>\n",
              "\n",
              "function displayQuickchartButton(domScope) {\n",
              "  let quickchartButtonEl =\n",
              "    domScope.querySelector('#df-cce3c8ee-3c71-4a73-ac1a-b044e854ed04 button.colab-df-quickchart');\n",
              "  quickchartButtonEl.style.display =\n",
              "    google.colab.kernel.accessAllowed ? 'block' : 'none';\n",
              "}\n",
              "\n",
              "        displayQuickchartButton(document);\n",
              "      </script>\n",
              "      <style>\n",
              "    .colab-df-container {\n",
              "      display:flex;\n",
              "      flex-wrap:wrap;\n",
              "      gap: 12px;\n",
              "    }\n",
              "\n",
              "    .colab-df-convert {\n",
              "      background-color: #E8F0FE;\n",
              "      border: none;\n",
              "      border-radius: 50%;\n",
              "      cursor: pointer;\n",
              "      display: none;\n",
              "      fill: #1967D2;\n",
              "      height: 32px;\n",
              "      padding: 0 0 0 0;\n",
              "      width: 32px;\n",
              "    }\n",
              "\n",
              "    .colab-df-convert:hover {\n",
              "      background-color: #E2EBFA;\n",
              "      box-shadow: 0px 1px 2px rgba(60, 64, 67, 0.3), 0px 1px 3px 1px rgba(60, 64, 67, 0.15);\n",
              "      fill: #174EA6;\n",
              "    }\n",
              "\n",
              "    [theme=dark] .colab-df-convert {\n",
              "      background-color: #3B4455;\n",
              "      fill: #D2E3FC;\n",
              "    }\n",
              "\n",
              "    [theme=dark] .colab-df-convert:hover {\n",
              "      background-color: #434B5C;\n",
              "      box-shadow: 0px 1px 3px 1px rgba(0, 0, 0, 0.15);\n",
              "      filter: drop-shadow(0px 1px 2px rgba(0, 0, 0, 0.3));\n",
              "      fill: #FFFFFF;\n",
              "    }\n",
              "  </style>\n",
              "\n",
              "      <script>\n",
              "        const buttonEl =\n",
              "          document.querySelector('#df-e74dd81f-0f7d-4c87-b7da-35f1ebf97318 button.colab-df-convert');\n",
              "        buttonEl.style.display =\n",
              "          google.colab.kernel.accessAllowed ? 'block' : 'none';\n",
              "\n",
              "        async function convertToInteractive(key) {\n",
              "          const element = document.querySelector('#df-e74dd81f-0f7d-4c87-b7da-35f1ebf97318');\n",
              "          const dataTable =\n",
              "            await google.colab.kernel.invokeFunction('convertToInteractive',\n",
              "                                                     [key], {});\n",
              "          if (!dataTable) return;\n",
              "\n",
              "          const docLinkHtml = 'Like what you see? Visit the ' +\n",
              "            '<a target=\"_blank\" href=https://colab.research.google.com/notebooks/data_table.ipynb>data table notebook</a>'\n",
              "            + ' to learn more about interactive tables.';\n",
              "          element.innerHTML = '';\n",
              "          dataTable['output_type'] = 'display_data';\n",
              "          await google.colab.output.renderOutput(dataTable, element);\n",
              "          const docLink = document.createElement('div');\n",
              "          docLink.innerHTML = docLinkHtml;\n",
              "          element.appendChild(docLink);\n",
              "        }\n",
              "      </script>\n",
              "    </div>\n",
              "  </div>\n"
            ],
            "text/plain": [
              "   user_id  item_id  rank                         item_name_x  purchase  \\\n",
              "0   720561     3222    32  Удобрения для аквариумных растений         1   \n",
              "1   228073     5923     3       Запчасти для игровых консолей         2   \n",
              "2   232201     1906    25                          Фотобумага         2   \n",
              "3   554280     1906    42                          Фотобумага         1   \n",
              "4   324628     1075    28                               Флаги         1   \n",
              "\n",
              "    i_ebd_0   i_ebd_1   u_ebd_0   u_ebd_1                         item_name_y  \\\n",
              "0  1.733437 -0.881681  0.128592  0.477462  Удобрения для аквариумных растений   \n",
              "1  1.179034 -0.226879 -0.309348 -0.165779       Запчасти для игровых консолей   \n",
              "2  2.365415 -1.627509  0.160548 -0.163572                          Фотобумага   \n",
              "3  2.365415 -1.627509 -0.000836  0.255449                          Фотобумага   \n",
              "4  1.209918  0.338230  0.061545 -0.209604                               Флаги   \n",
              "\n",
              "   target  \n",
              "0       1  \n",
              "1       1  \n",
              "2       1  \n",
              "3       1  \n",
              "4       1  "
            ]
          },
          "execution_count": 31,
          "metadata": {},
          "output_type": "execute_result"
        }
      ],
      "source": [
        "pos = candidates.merge(lfm_val_emb.sample(frac=0.03).reset_index(drop=True),\n",
        "                        on=['user_id', 'item_id'],\n",
        "                        how='inner')\n",
        "\n",
        "pos['target'] = 1\n",
        "print(pos.shape)\n",
        "pos.head()"
      ]
    },
    {
      "cell_type": "code",
      "execution_count": null,
      "metadata": {
        "colab": {
          "base_uri": "https://localhost:8080/",
          "height": 339
        },
        "id": "CZst2zYQ5Qdl",
        "outputId": "6a4fa7e7-32eb-4b01-cadb-ca949ea3a640"
      },
      "outputs": [
        {
          "name": "stdout",
          "output_type": "stream",
          "text": [
            "(28912, 11)\n"
          ]
        },
        {
          "data": {
            "text/html": [
              "\n",
              "\n",
              "  <div id=\"df-a511d8b9-33e7-4f15-a9cd-c3cbedf5bf3d\">\n",
              "    <div class=\"colab-df-container\">\n",
              "      <div>\n",
              "<style scoped>\n",
              "    .dataframe tbody tr th:only-of-type {\n",
              "        vertical-align: middle;\n",
              "    }\n",
              "\n",
              "    .dataframe tbody tr th {\n",
              "        vertical-align: top;\n",
              "    }\n",
              "\n",
              "    .dataframe thead th {\n",
              "        text-align: right;\n",
              "    }\n",
              "</style>\n",
              "<table border=\"1\" class=\"dataframe\">\n",
              "  <thead>\n",
              "    <tr style=\"text-align: right;\">\n",
              "      <th></th>\n",
              "      <th>user_id</th>\n",
              "      <th>item_id</th>\n",
              "      <th>rank</th>\n",
              "      <th>item_name_x</th>\n",
              "      <th>purchase</th>\n",
              "      <th>i_ebd_0</th>\n",
              "      <th>i_ebd_1</th>\n",
              "      <th>u_ebd_0</th>\n",
              "      <th>u_ebd_1</th>\n",
              "      <th>item_name_y</th>\n",
              "      <th>target</th>\n",
              "    </tr>\n",
              "  </thead>\n",
              "  <tbody>\n",
              "    <tr>\n",
              "      <th>0</th>\n",
              "      <td>824195</td>\n",
              "      <td>180</td>\n",
              "      <td>12</td>\n",
              "      <td>Джинсы</td>\n",
              "      <td>4</td>\n",
              "      <td>-2.046568</td>\n",
              "      <td>8.219639</td>\n",
              "      <td>-0.268414</td>\n",
              "      <td>-0.343818</td>\n",
              "      <td>Джинсы</td>\n",
              "      <td>0</td>\n",
              "    </tr>\n",
              "    <tr>\n",
              "      <th>1</th>\n",
              "      <td>716564</td>\n",
              "      <td>357</td>\n",
              "      <td>2</td>\n",
              "      <td>Кремы</td>\n",
              "      <td>2</td>\n",
              "      <td>-1.085922</td>\n",
              "      <td>5.582368</td>\n",
              "      <td>0.202822</td>\n",
              "      <td>-0.068086</td>\n",
              "      <td>Кремы</td>\n",
              "      <td>0</td>\n",
              "    </tr>\n",
              "    <tr>\n",
              "      <th>2</th>\n",
              "      <td>452228</td>\n",
              "      <td>358</td>\n",
              "      <td>8</td>\n",
              "      <td>Шампуни</td>\n",
              "      <td>1</td>\n",
              "      <td>-1.136565</td>\n",
              "      <td>5.571000</td>\n",
              "      <td>0.125763</td>\n",
              "      <td>0.467073</td>\n",
              "      <td>Шампуни</td>\n",
              "      <td>0</td>\n",
              "    </tr>\n",
              "    <tr>\n",
              "      <th>3</th>\n",
              "      <td>121537</td>\n",
              "      <td>403</td>\n",
              "      <td>49</td>\n",
              "      <td>Косметические наборы для ухода</td>\n",
              "      <td>1</td>\n",
              "      <td>-0.344597</td>\n",
              "      <td>3.871610</td>\n",
              "      <td>0.351176</td>\n",
              "      <td>0.119002</td>\n",
              "      <td>Косметические наборы для ухода</td>\n",
              "      <td>0</td>\n",
              "    </tr>\n",
              "    <tr>\n",
              "      <th>4</th>\n",
              "      <td>502672</td>\n",
              "      <td>360</td>\n",
              "      <td>23</td>\n",
              "      <td>Маски косметические</td>\n",
              "      <td>2</td>\n",
              "      <td>-0.997153</td>\n",
              "      <td>5.540823</td>\n",
              "      <td>0.489206</td>\n",
              "      <td>0.011115</td>\n",
              "      <td>Маски косметические</td>\n",
              "      <td>0</td>\n",
              "    </tr>\n",
              "  </tbody>\n",
              "</table>\n",
              "</div>\n",
              "      <button class=\"colab-df-convert\" onclick=\"convertToInteractive('df-a511d8b9-33e7-4f15-a9cd-c3cbedf5bf3d')\"\n",
              "              title=\"Convert this dataframe to an interactive table.\"\n",
              "              style=\"display:none;\">\n",
              "\n",
              "  <svg xmlns=\"http://www.w3.org/2000/svg\" height=\"24px\"viewBox=\"0 0 24 24\"\n",
              "       width=\"24px\">\n",
              "    <path d=\"M0 0h24v24H0V0z\" fill=\"none\"/>\n",
              "    <path d=\"M18.56 5.44l.94 2.06.94-2.06 2.06-.94-2.06-.94-.94-2.06-.94 2.06-2.06.94zm-11 1L8.5 8.5l.94-2.06 2.06-.94-2.06-.94L8.5 2.5l-.94 2.06-2.06.94zm10 10l.94 2.06.94-2.06 2.06-.94-2.06-.94-.94-2.06-.94 2.06-2.06.94z\"/><path d=\"M17.41 7.96l-1.37-1.37c-.4-.4-.92-.59-1.43-.59-.52 0-1.04.2-1.43.59L10.3 9.45l-7.72 7.72c-.78.78-.78 2.05 0 2.83L4 21.41c.39.39.9.59 1.41.59.51 0 1.02-.2 1.41-.59l7.78-7.78 2.81-2.81c.8-.78.8-2.07 0-2.86zM5.41 20L4 18.59l7.72-7.72 1.47 1.35L5.41 20z\"/>\n",
              "  </svg>\n",
              "      </button>\n",
              "\n",
              "\n",
              "\n",
              "    <div id=\"df-e06d5e9e-0eb2-4b01-9628-7ffd88e08e0b\">\n",
              "      <button class=\"colab-df-quickchart\" onclick=\"quickchart('df-e06d5e9e-0eb2-4b01-9628-7ffd88e08e0b')\"\n",
              "              title=\"Suggest charts.\"\n",
              "              style=\"display:none;\">\n",
              "\n",
              "<svg xmlns=\"http://www.w3.org/2000/svg\" height=\"24px\"viewBox=\"0 0 24 24\"\n",
              "     width=\"24px\">\n",
              "    <g>\n",
              "        <path d=\"M19 3H5c-1.1 0-2 .9-2 2v14c0 1.1.9 2 2 2h14c1.1 0 2-.9 2-2V5c0-1.1-.9-2-2-2zM9 17H7v-7h2v7zm4 0h-2V7h2v10zm4 0h-2v-4h2v4z\"/>\n",
              "    </g>\n",
              "</svg>\n",
              "      </button>\n",
              "    </div>\n",
              "\n",
              "<style>\n",
              "  .colab-df-quickchart {\n",
              "    background-color: #E8F0FE;\n",
              "    border: none;\n",
              "    border-radius: 50%;\n",
              "    cursor: pointer;\n",
              "    display: none;\n",
              "    fill: #1967D2;\n",
              "    height: 32px;\n",
              "    padding: 0 0 0 0;\n",
              "    width: 32px;\n",
              "  }\n",
              "\n",
              "  .colab-df-quickchart:hover {\n",
              "    background-color: #E2EBFA;\n",
              "    box-shadow: 0px 1px 2px rgba(60, 64, 67, 0.3), 0px 1px 3px 1px rgba(60, 64, 67, 0.15);\n",
              "    fill: #174EA6;\n",
              "  }\n",
              "\n",
              "  [theme=dark] .colab-df-quickchart {\n",
              "    background-color: #3B4455;\n",
              "    fill: #D2E3FC;\n",
              "  }\n",
              "\n",
              "  [theme=dark] .colab-df-quickchart:hover {\n",
              "    background-color: #434B5C;\n",
              "    box-shadow: 0px 1px 3px 1px rgba(0, 0, 0, 0.15);\n",
              "    filter: drop-shadow(0px 1px 2px rgba(0, 0, 0, 0.3));\n",
              "    fill: #FFFFFF;\n",
              "  }\n",
              "</style>\n",
              "\n",
              "    <script>\n",
              "      async function quickchart(key) {\n",
              "        const containerElement = document.querySelector('#' + key);\n",
              "        const charts = await google.colab.kernel.invokeFunction(\n",
              "            'suggestCharts', [key], {});\n",
              "      }\n",
              "    </script>\n",
              "\n",
              "      <script>\n",
              "\n",
              "function displayQuickchartButton(domScope) {\n",
              "  let quickchartButtonEl =\n",
              "    domScope.querySelector('#df-e06d5e9e-0eb2-4b01-9628-7ffd88e08e0b button.colab-df-quickchart');\n",
              "  quickchartButtonEl.style.display =\n",
              "    google.colab.kernel.accessAllowed ? 'block' : 'none';\n",
              "}\n",
              "\n",
              "        displayQuickchartButton(document);\n",
              "      </script>\n",
              "      <style>\n",
              "    .colab-df-container {\n",
              "      display:flex;\n",
              "      flex-wrap:wrap;\n",
              "      gap: 12px;\n",
              "    }\n",
              "\n",
              "    .colab-df-convert {\n",
              "      background-color: #E8F0FE;\n",
              "      border: none;\n",
              "      border-radius: 50%;\n",
              "      cursor: pointer;\n",
              "      display: none;\n",
              "      fill: #1967D2;\n",
              "      height: 32px;\n",
              "      padding: 0 0 0 0;\n",
              "      width: 32px;\n",
              "    }\n",
              "\n",
              "    .colab-df-convert:hover {\n",
              "      background-color: #E2EBFA;\n",
              "      box-shadow: 0px 1px 2px rgba(60, 64, 67, 0.3), 0px 1px 3px 1px rgba(60, 64, 67, 0.15);\n",
              "      fill: #174EA6;\n",
              "    }\n",
              "\n",
              "    [theme=dark] .colab-df-convert {\n",
              "      background-color: #3B4455;\n",
              "      fill: #D2E3FC;\n",
              "    }\n",
              "\n",
              "    [theme=dark] .colab-df-convert:hover {\n",
              "      background-color: #434B5C;\n",
              "      box-shadow: 0px 1px 3px 1px rgba(0, 0, 0, 0.15);\n",
              "      filter: drop-shadow(0px 1px 2px rgba(0, 0, 0, 0.3));\n",
              "      fill: #FFFFFF;\n",
              "    }\n",
              "  </style>\n",
              "\n",
              "      <script>\n",
              "        const buttonEl =\n",
              "          document.querySelector('#df-a511d8b9-33e7-4f15-a9cd-c3cbedf5bf3d button.colab-df-convert');\n",
              "        buttonEl.style.display =\n",
              "          google.colab.kernel.accessAllowed ? 'block' : 'none';\n",
              "\n",
              "        async function convertToInteractive(key) {\n",
              "          const element = document.querySelector('#df-a511d8b9-33e7-4f15-a9cd-c3cbedf5bf3d');\n",
              "          const dataTable =\n",
              "            await google.colab.kernel.invokeFunction('convertToInteractive',\n",
              "                                                     [key], {});\n",
              "          if (!dataTable) return;\n",
              "\n",
              "          const docLinkHtml = 'Like what you see? Visit the ' +\n",
              "            '<a target=\"_blank\" href=https://colab.research.google.com/notebooks/data_table.ipynb>data table notebook</a>'\n",
              "            + ' to learn more about interactive tables.';\n",
              "          element.innerHTML = '';\n",
              "          dataTable['output_type'] = 'display_data';\n",
              "          await google.colab.output.renderOutput(dataTable, element);\n",
              "          const docLink = document.createElement('div');\n",
              "          docLink.innerHTML = docLinkHtml;\n",
              "          element.appendChild(docLink);\n",
              "        }\n",
              "      </script>\n",
              "    </div>\n",
              "  </div>\n"
            ],
            "text/plain": [
              "   user_id  item_id  rank                     item_name_x  purchase   i_ebd_0  \\\n",
              "0   824195      180    12                          Джинсы         4 -2.046568   \n",
              "1   716564      357     2                           Кремы         2 -1.085922   \n",
              "2   452228      358     8                         Шампуни         1 -1.136565   \n",
              "3   121537      403    49  Косметические наборы для ухода         1 -0.344597   \n",
              "4   502672      360    23             Маски косметические         2 -0.997153   \n",
              "\n",
              "    i_ebd_1   u_ebd_0   u_ebd_1                     item_name_y  target  \n",
              "0  8.219639 -0.268414 -0.343818                          Джинсы       0  \n",
              "1  5.582368  0.202822 -0.068086                           Кремы       0  \n",
              "2  5.571000  0.125763  0.467073                         Шампуни       0  \n",
              "3  3.871610  0.351176  0.119002  Косметические наборы для ухода       0  \n",
              "4  5.540823  0.489206  0.011115             Маски косметические       0  "
            ]
          },
          "execution_count": 32,
          "metadata": {},
          "output_type": "execute_result"
        }
      ],
      "source": [
        "neg = candidates.merge(lfm_val_emb.sample(frac=0.03).reset_index(drop=True),\n",
        "                        on=['user_id', 'item_id'],\n",
        "                        how='inner')\n",
        "\n",
        "original_user_id = neg['user_id'].copy()\n",
        "\n",
        "# перемешиваю 10 раз\n",
        "for i in range(10):\n",
        "  neg = neg.sample(frac=1).reset_index(drop=True)\n",
        "\n",
        "neg['target'] = 0\n",
        "\n",
        "neg['user_id'] = original_user_id\n",
        "print(neg.shape)\n",
        "neg.head()"
      ]
    },
    {
      "cell_type": "code",
      "execution_count": null,
      "metadata": {
        "id": "SiWGQFgVdUcU"
      },
      "outputs": [],
      "source": [
        "users_neg_list = list(neg['user_id'].unique())\n",
        "users_pos_list = list(pos['user_id'].unique())\n",
        "users_list = users_neg_list + users_pos_list"
      ]
    },
    {
      "cell_type": "code",
      "execution_count": null,
      "metadata": {
        "colab": {
          "base_uri": "https://localhost:8080/"
        },
        "id": "XKfmFPcJd00s",
        "outputId": "27814261-b4e6-45f3-b1ca-416ab5205a6a"
      },
      "outputs": [
        {
          "data": {
            "text/plain": [
              "55299"
            ]
          },
          "execution_count": 34,
          "metadata": {},
          "output_type": "execute_result"
        }
      ],
      "source": [
        "len(users_list)"
      ]
    },
    {
      "cell_type": "code",
      "execution_count": null,
      "metadata": {
        "id": "uv90ZyIMJMQ2"
      },
      "outputs": [],
      "source": [
        "boost_train_users, boost_eval_users = train_test_split(users_list,\n",
        "                                                  random_state=12345,\n",
        "                                                  test_size=0.2)"
      ]
    },
    {
      "cell_type": "code",
      "execution_count": null,
      "metadata": {
        "id": "kz76GMb5YXzP"
      },
      "outputs": [],
      "source": [
        "from sklearn.utils import shuffle"
      ]
    },
    {
      "cell_type": "code",
      "execution_count": null,
      "metadata": {
        "id": "wO1eI2SmJl8Q"
      },
      "outputs": [],
      "source": [
        "select_col = ['user_id', 'item_id', 'i_ebd_0', 'i_ebd_1',\t'u_ebd_0', 'u_ebd_1', 'target']\n",
        "\n",
        "boost_train = shuffle(\n",
        "    pd.concat([\n",
        "        pos[pos['user_id'].isin(boost_train_users)],\n",
        "        neg[neg['user_id'].isin(boost_train_users)]\n",
        "])[select_col]\n",
        ")\n",
        "boost_eval = shuffle(\n",
        "    pd.concat([\n",
        "        pos[pos['user_id'].isin(boost_eval_users)],\n",
        "        neg[neg['user_id'].isin(boost_eval_users)]\n",
        "])[select_col]\n",
        ")"
      ]
    },
    {
      "cell_type": "code",
      "execution_count": null,
      "metadata": {
        "id": "yBoBW4C9lh_Z"
      },
      "outputs": [],
      "source": [
        "boost_train.to_csv(r\"/content/drive/MyDrive/Colab Notebooks/boost_train.csv.gzip\", compression='gzip')\n",
        "boost_eval.to_csv(r\"/content/drive/MyDrive/Colab Notebooks/boost_eval.csv.gzip\", compression='gzip')"
      ]
    },
    {
      "cell_type": "code",
      "execution_count": null,
      "metadata": {
        "id": "X4mC_7U_oM3D"
      },
      "outputs": [],
      "source": [
        "boost_train = pd.read_csv(r\"/content/drive/MyDrive/Colab Notebooks/boost_train.csv.gzip\", compression='gzip')\n",
        "boost_eval = pd.read_csv(r\"/content/drive/MyDrive/Colab Notebooks/boost_eval.csv.gzip\", compression='gzip')"
      ]
    },
    {
      "cell_type": "code",
      "execution_count": null,
      "metadata": {
        "colab": {
          "base_uri": "https://localhost:8080/",
          "height": 206
        },
        "id": "TLAckwZoX3AB",
        "outputId": "981bc9f8-e335-4c5e-bdbe-d043f252301f"
      },
      "outputs": [
        {
          "data": {
            "text/html": [
              "\n",
              "\n",
              "  <div id=\"df-6acaa775-128a-4867-a5ca-8969e9a8dd29\">\n",
              "    <div class=\"colab-df-container\">\n",
              "      <div>\n",
              "<style scoped>\n",
              "    .dataframe tbody tr th:only-of-type {\n",
              "        vertical-align: middle;\n",
              "    }\n",
              "\n",
              "    .dataframe tbody tr th {\n",
              "        vertical-align: top;\n",
              "    }\n",
              "\n",
              "    .dataframe thead th {\n",
              "        text-align: right;\n",
              "    }\n",
              "</style>\n",
              "<table border=\"1\" class=\"dataframe\">\n",
              "  <thead>\n",
              "    <tr style=\"text-align: right;\">\n",
              "      <th></th>\n",
              "      <th>Unnamed: 0</th>\n",
              "      <th>user_id</th>\n",
              "      <th>item_id</th>\n",
              "      <th>i_ebd_0</th>\n",
              "      <th>i_ebd_1</th>\n",
              "      <th>u_ebd_0</th>\n",
              "      <th>u_ebd_1</th>\n",
              "      <th>target</th>\n",
              "    </tr>\n",
              "  </thead>\n",
              "  <tbody>\n",
              "    <tr>\n",
              "      <th>0</th>\n",
              "      <td>23541</td>\n",
              "      <td>415856</td>\n",
              "      <td>347</td>\n",
              "      <td>-1.315949</td>\n",
              "      <td>6.640485</td>\n",
              "      <td>-0.062888</td>\n",
              "      <td>-0.057413</td>\n",
              "      <td>0</td>\n",
              "    </tr>\n",
              "    <tr>\n",
              "      <th>1</th>\n",
              "      <td>15590</td>\n",
              "      <td>143883</td>\n",
              "      <td>390</td>\n",
              "      <td>-0.322670</td>\n",
              "      <td>3.687626</td>\n",
              "      <td>-0.161314</td>\n",
              "      <td>0.218592</td>\n",
              "      <td>0</td>\n",
              "    </tr>\n",
              "    <tr>\n",
              "      <th>2</th>\n",
              "      <td>21193</td>\n",
              "      <td>145398</td>\n",
              "      <td>358</td>\n",
              "      <td>-1.136565</td>\n",
              "      <td>5.571000</td>\n",
              "      <td>0.473498</td>\n",
              "      <td>0.269192</td>\n",
              "      <td>0</td>\n",
              "    </tr>\n",
              "    <tr>\n",
              "      <th>3</th>\n",
              "      <td>25770</td>\n",
              "      <td>451067</td>\n",
              "      <td>212</td>\n",
              "      <td>-1.728919</td>\n",
              "      <td>7.275840</td>\n",
              "      <td>-0.141487</td>\n",
              "      <td>0.304016</td>\n",
              "      <td>0</td>\n",
              "    </tr>\n",
              "    <tr>\n",
              "      <th>4</th>\n",
              "      <td>16621</td>\n",
              "      <td>775142</td>\n",
              "      <td>357</td>\n",
              "      <td>-1.085922</td>\n",
              "      <td>5.582368</td>\n",
              "      <td>0.129260</td>\n",
              "      <td>-0.446478</td>\n",
              "      <td>0</td>\n",
              "    </tr>\n",
              "  </tbody>\n",
              "</table>\n",
              "</div>\n",
              "      <button class=\"colab-df-convert\" onclick=\"convertToInteractive('df-6acaa775-128a-4867-a5ca-8969e9a8dd29')\"\n",
              "              title=\"Convert this dataframe to an interactive table.\"\n",
              "              style=\"display:none;\">\n",
              "\n",
              "  <svg xmlns=\"http://www.w3.org/2000/svg\" height=\"24px\"viewBox=\"0 0 24 24\"\n",
              "       width=\"24px\">\n",
              "    <path d=\"M0 0h24v24H0V0z\" fill=\"none\"/>\n",
              "    <path d=\"M18.56 5.44l.94 2.06.94-2.06 2.06-.94-2.06-.94-.94-2.06-.94 2.06-2.06.94zm-11 1L8.5 8.5l.94-2.06 2.06-.94-2.06-.94L8.5 2.5l-.94 2.06-2.06.94zm10 10l.94 2.06.94-2.06 2.06-.94-2.06-.94-.94-2.06-.94 2.06-2.06.94z\"/><path d=\"M17.41 7.96l-1.37-1.37c-.4-.4-.92-.59-1.43-.59-.52 0-1.04.2-1.43.59L10.3 9.45l-7.72 7.72c-.78.78-.78 2.05 0 2.83L4 21.41c.39.39.9.59 1.41.59.51 0 1.02-.2 1.41-.59l7.78-7.78 2.81-2.81c.8-.78.8-2.07 0-2.86zM5.41 20L4 18.59l7.72-7.72 1.47 1.35L5.41 20z\"/>\n",
              "  </svg>\n",
              "      </button>\n",
              "\n",
              "\n",
              "\n",
              "    <div id=\"df-00d23ed8-a08c-4abd-9d74-e2bad4a4512e\">\n",
              "      <button class=\"colab-df-quickchart\" onclick=\"quickchart('df-00d23ed8-a08c-4abd-9d74-e2bad4a4512e')\"\n",
              "              title=\"Suggest charts.\"\n",
              "              style=\"display:none;\">\n",
              "\n",
              "<svg xmlns=\"http://www.w3.org/2000/svg\" height=\"24px\"viewBox=\"0 0 24 24\"\n",
              "     width=\"24px\">\n",
              "    <g>\n",
              "        <path d=\"M19 3H5c-1.1 0-2 .9-2 2v14c0 1.1.9 2 2 2h14c1.1 0 2-.9 2-2V5c0-1.1-.9-2-2-2zM9 17H7v-7h2v7zm4 0h-2V7h2v10zm4 0h-2v-4h2v4z\"/>\n",
              "    </g>\n",
              "</svg>\n",
              "      </button>\n",
              "    </div>\n",
              "\n",
              "<style>\n",
              "  .colab-df-quickchart {\n",
              "    background-color: #E8F0FE;\n",
              "    border: none;\n",
              "    border-radius: 50%;\n",
              "    cursor: pointer;\n",
              "    display: none;\n",
              "    fill: #1967D2;\n",
              "    height: 32px;\n",
              "    padding: 0 0 0 0;\n",
              "    width: 32px;\n",
              "  }\n",
              "\n",
              "  .colab-df-quickchart:hover {\n",
              "    background-color: #E2EBFA;\n",
              "    box-shadow: 0px 1px 2px rgba(60, 64, 67, 0.3), 0px 1px 3px 1px rgba(60, 64, 67, 0.15);\n",
              "    fill: #174EA6;\n",
              "  }\n",
              "\n",
              "  [theme=dark] .colab-df-quickchart {\n",
              "    background-color: #3B4455;\n",
              "    fill: #D2E3FC;\n",
              "  }\n",
              "\n",
              "  [theme=dark] .colab-df-quickchart:hover {\n",
              "    background-color: #434B5C;\n",
              "    box-shadow: 0px 1px 3px 1px rgba(0, 0, 0, 0.15);\n",
              "    filter: drop-shadow(0px 1px 2px rgba(0, 0, 0, 0.3));\n",
              "    fill: #FFFFFF;\n",
              "  }\n",
              "</style>\n",
              "\n",
              "    <script>\n",
              "      async function quickchart(key) {\n",
              "        const containerElement = document.querySelector('#' + key);\n",
              "        const charts = await google.colab.kernel.invokeFunction(\n",
              "            'suggestCharts', [key], {});\n",
              "      }\n",
              "    </script>\n",
              "\n",
              "      <script>\n",
              "\n",
              "function displayQuickchartButton(domScope) {\n",
              "  let quickchartButtonEl =\n",
              "    domScope.querySelector('#df-00d23ed8-a08c-4abd-9d74-e2bad4a4512e button.colab-df-quickchart');\n",
              "  quickchartButtonEl.style.display =\n",
              "    google.colab.kernel.accessAllowed ? 'block' : 'none';\n",
              "}\n",
              "\n",
              "        displayQuickchartButton(document);\n",
              "      </script>\n",
              "      <style>\n",
              "    .colab-df-container {\n",
              "      display:flex;\n",
              "      flex-wrap:wrap;\n",
              "      gap: 12px;\n",
              "    }\n",
              "\n",
              "    .colab-df-convert {\n",
              "      background-color: #E8F0FE;\n",
              "      border: none;\n",
              "      border-radius: 50%;\n",
              "      cursor: pointer;\n",
              "      display: none;\n",
              "      fill: #1967D2;\n",
              "      height: 32px;\n",
              "      padding: 0 0 0 0;\n",
              "      width: 32px;\n",
              "    }\n",
              "\n",
              "    .colab-df-convert:hover {\n",
              "      background-color: #E2EBFA;\n",
              "      box-shadow: 0px 1px 2px rgba(60, 64, 67, 0.3), 0px 1px 3px 1px rgba(60, 64, 67, 0.15);\n",
              "      fill: #174EA6;\n",
              "    }\n",
              "\n",
              "    [theme=dark] .colab-df-convert {\n",
              "      background-color: #3B4455;\n",
              "      fill: #D2E3FC;\n",
              "    }\n",
              "\n",
              "    [theme=dark] .colab-df-convert:hover {\n",
              "      background-color: #434B5C;\n",
              "      box-shadow: 0px 1px 3px 1px rgba(0, 0, 0, 0.15);\n",
              "      filter: drop-shadow(0px 1px 2px rgba(0, 0, 0, 0.3));\n",
              "      fill: #FFFFFF;\n",
              "    }\n",
              "  </style>\n",
              "\n",
              "      <script>\n",
              "        const buttonEl =\n",
              "          document.querySelector('#df-6acaa775-128a-4867-a5ca-8969e9a8dd29 button.colab-df-convert');\n",
              "        buttonEl.style.display =\n",
              "          google.colab.kernel.accessAllowed ? 'block' : 'none';\n",
              "\n",
              "        async function convertToInteractive(key) {\n",
              "          const element = document.querySelector('#df-6acaa775-128a-4867-a5ca-8969e9a8dd29');\n",
              "          const dataTable =\n",
              "            await google.colab.kernel.invokeFunction('convertToInteractive',\n",
              "                                                     [key], {});\n",
              "          if (!dataTable) return;\n",
              "\n",
              "          const docLinkHtml = 'Like what you see? Visit the ' +\n",
              "            '<a target=\"_blank\" href=https://colab.research.google.com/notebooks/data_table.ipynb>data table notebook</a>'\n",
              "            + ' to learn more about interactive tables.';\n",
              "          element.innerHTML = '';\n",
              "          dataTable['output_type'] = 'display_data';\n",
              "          await google.colab.output.renderOutput(dataTable, element);\n",
              "          const docLink = document.createElement('div');\n",
              "          docLink.innerHTML = docLinkHtml;\n",
              "          element.appendChild(docLink);\n",
              "        }\n",
              "      </script>\n",
              "    </div>\n",
              "  </div>\n"
            ],
            "text/plain": [
              "   Unnamed: 0  user_id  item_id   i_ebd_0   i_ebd_1   u_ebd_0   u_ebd_1  \\\n",
              "0       23541   415856      347 -1.315949  6.640485 -0.062888 -0.057413   \n",
              "1       15590   143883      390 -0.322670  3.687626 -0.161314  0.218592   \n",
              "2       21193   145398      358 -1.136565  5.571000  0.473498  0.269192   \n",
              "3       25770   451067      212 -1.728919  7.275840 -0.141487  0.304016   \n",
              "4       16621   775142      357 -1.085922  5.582368  0.129260 -0.446478   \n",
              "\n",
              "   target  \n",
              "0       0  \n",
              "1       0  \n",
              "2       0  \n",
              "3       0  \n",
              "4       0  "
            ]
          },
          "execution_count": 9,
          "metadata": {},
          "output_type": "execute_result"
        }
      ],
      "source": [
        "boost_train.head()"
      ]
    },
    {
      "cell_type": "code",
      "execution_count": null,
      "metadata": {
        "colab": {
          "base_uri": "https://localhost:8080/",
          "height": 218
        },
        "id": "Non3VhS-YD77",
        "outputId": "db11cd23-6522-4422-f478-809698ccbb8c"
      },
      "outputs": [
        {
          "ename": "NameError",
          "evalue": "ignored",
          "output_type": "error",
          "traceback": [
            "\u001b[0;31m---------------------------------------------------------------------------\u001b[0m",
            "\u001b[0;31mNameError\u001b[0m                                 Traceback (most recent call last)",
            "\u001b[0;32m<ipython-input-1-d4a57d5646e7>\u001b[0m in \u001b[0;36m<cell line: 5>\u001b[0;34m()\u001b[0m\n\u001b[1;32m      3\u001b[0m \u001b[0mscaler\u001b[0m \u001b[0;34m=\u001b[0m \u001b[0mStandardScaler\u001b[0m\u001b[0;34m(\u001b[0m\u001b[0;34m)\u001b[0m\u001b[0;34m\u001b[0m\u001b[0;34m\u001b[0m\u001b[0m\n\u001b[1;32m      4\u001b[0m \u001b[0;34m\u001b[0m\u001b[0m\n\u001b[0;32m----> 5\u001b[0;31m \u001b[0mboost_train\u001b[0m\u001b[0;34m[\u001b[0m\u001b[0;34m[\u001b[0m\u001b[0;34m'user_id'\u001b[0m\u001b[0;34m,\u001b[0m \u001b[0;34m'item_id'\u001b[0m\u001b[0;34m]\u001b[0m\u001b[0;34m]\u001b[0m \u001b[0;34m=\u001b[0m \u001b[0mscaler\u001b[0m\u001b[0;34m.\u001b[0m\u001b[0mfit_transform\u001b[0m\u001b[0;34m(\u001b[0m\u001b[0mboost_train\u001b[0m\u001b[0;34m[\u001b[0m\u001b[0;34m[\u001b[0m\u001b[0;34m'user_id'\u001b[0m\u001b[0;34m,\u001b[0m \u001b[0;34m'item_id'\u001b[0m\u001b[0;34m]\u001b[0m\u001b[0;34m]\u001b[0m\u001b[0;34m)\u001b[0m\u001b[0;34m\u001b[0m\u001b[0;34m\u001b[0m\u001b[0m\n\u001b[0m\u001b[1;32m      6\u001b[0m \u001b[0mboost_eval\u001b[0m\u001b[0;34m[\u001b[0m\u001b[0;34m[\u001b[0m\u001b[0;34m'user_id'\u001b[0m\u001b[0;34m,\u001b[0m \u001b[0;34m'item_id'\u001b[0m\u001b[0;34m]\u001b[0m\u001b[0;34m]\u001b[0m \u001b[0;34m=\u001b[0m \u001b[0mscaler\u001b[0m\u001b[0;34m.\u001b[0m\u001b[0mtransform\u001b[0m\u001b[0;34m(\u001b[0m\u001b[0mboost_eval\u001b[0m\u001b[0;34m[\u001b[0m\u001b[0;34m[\u001b[0m\u001b[0;34m'user_id'\u001b[0m\u001b[0;34m,\u001b[0m \u001b[0;34m'item_id'\u001b[0m\u001b[0;34m]\u001b[0m\u001b[0;34m]\u001b[0m\u001b[0;34m)\u001b[0m\u001b[0;34m\u001b[0m\u001b[0;34m\u001b[0m\u001b[0m\n",
            "\u001b[0;31mNameError\u001b[0m: name 'boost_train' is not defined"
          ]
        }
      ],
      "source": [
        "from sklearn.preprocessing import StandardScaler\n",
        "\n",
        "scaler = StandardScaler()\n",
        "\n",
        "boost_train[['user_id', 'item_id']] = scaler.fit_transform(boost_train[['user_id', 'item_id']])\n",
        "boost_eval[['user_id', 'item_id']] = scaler.transform(boost_eval[['user_id', 'item_id']])"
      ]
    },
    {
      "cell_type": "code",
      "execution_count": null,
      "metadata": {
        "colab": {
          "base_uri": "https://localhost:8080/",
          "height": 206
        },
        "id": "3gavoQhuZH3G",
        "outputId": "ee94e462-e35b-473e-fa3f-b85dc2c777e3"
      },
      "outputs": [
        {
          "data": {
            "text/html": [
              "\n",
              "\n",
              "  <div id=\"df-634f7f4b-a910-48dc-9c99-d888b01084ac\">\n",
              "    <div class=\"colab-df-container\">\n",
              "      <div>\n",
              "<style scoped>\n",
              "    .dataframe tbody tr th:only-of-type {\n",
              "        vertical-align: middle;\n",
              "    }\n",
              "\n",
              "    .dataframe tbody tr th {\n",
              "        vertical-align: top;\n",
              "    }\n",
              "\n",
              "    .dataframe thead th {\n",
              "        text-align: right;\n",
              "    }\n",
              "</style>\n",
              "<table border=\"1\" class=\"dataframe\">\n",
              "  <thead>\n",
              "    <tr style=\"text-align: right;\">\n",
              "      <th></th>\n",
              "      <th>Unnamed: 0</th>\n",
              "      <th>user_id</th>\n",
              "      <th>item_id</th>\n",
              "      <th>i_ebd_0</th>\n",
              "      <th>i_ebd_1</th>\n",
              "      <th>u_ebd_0</th>\n",
              "      <th>u_ebd_1</th>\n",
              "      <th>target</th>\n",
              "    </tr>\n",
              "  </thead>\n",
              "  <tbody>\n",
              "    <tr>\n",
              "      <th>0</th>\n",
              "      <td>23541</td>\n",
              "      <td>-0.371696</td>\n",
              "      <td>-0.080453</td>\n",
              "      <td>-1.315949</td>\n",
              "      <td>6.640485</td>\n",
              "      <td>-0.062888</td>\n",
              "      <td>-0.057413</td>\n",
              "      <td>0</td>\n",
              "    </tr>\n",
              "    <tr>\n",
              "      <th>1</th>\n",
              "      <td>15590</td>\n",
              "      <td>-1.263366</td>\n",
              "      <td>-0.025406</td>\n",
              "      <td>-0.322670</td>\n",
              "      <td>3.687626</td>\n",
              "      <td>-0.161314</td>\n",
              "      <td>0.218592</td>\n",
              "      <td>0</td>\n",
              "    </tr>\n",
              "    <tr>\n",
              "      <th>2</th>\n",
              "      <td>21193</td>\n",
              "      <td>-1.258399</td>\n",
              "      <td>-0.066371</td>\n",
              "      <td>-1.136565</td>\n",
              "      <td>5.571000</td>\n",
              "      <td>0.473498</td>\n",
              "      <td>0.269192</td>\n",
              "      <td>0</td>\n",
              "    </tr>\n",
              "    <tr>\n",
              "      <th>3</th>\n",
              "      <td>25770</td>\n",
              "      <td>-0.256255</td>\n",
              "      <td>-0.253277</td>\n",
              "      <td>-1.728919</td>\n",
              "      <td>7.275840</td>\n",
              "      <td>-0.141487</td>\n",
              "      <td>0.304016</td>\n",
              "      <td>0</td>\n",
              "    </tr>\n",
              "    <tr>\n",
              "      <th>4</th>\n",
              "      <td>16621</td>\n",
              "      <td>0.806233</td>\n",
              "      <td>-0.067652</td>\n",
              "      <td>-1.085922</td>\n",
              "      <td>5.582368</td>\n",
              "      <td>0.129260</td>\n",
              "      <td>-0.446478</td>\n",
              "      <td>0</td>\n",
              "    </tr>\n",
              "  </tbody>\n",
              "</table>\n",
              "</div>\n",
              "      <button class=\"colab-df-convert\" onclick=\"convertToInteractive('df-634f7f4b-a910-48dc-9c99-d888b01084ac')\"\n",
              "              title=\"Convert this dataframe to an interactive table.\"\n",
              "              style=\"display:none;\">\n",
              "\n",
              "  <svg xmlns=\"http://www.w3.org/2000/svg\" height=\"24px\"viewBox=\"0 0 24 24\"\n",
              "       width=\"24px\">\n",
              "    <path d=\"M0 0h24v24H0V0z\" fill=\"none\"/>\n",
              "    <path d=\"M18.56 5.44l.94 2.06.94-2.06 2.06-.94-2.06-.94-.94-2.06-.94 2.06-2.06.94zm-11 1L8.5 8.5l.94-2.06 2.06-.94-2.06-.94L8.5 2.5l-.94 2.06-2.06.94zm10 10l.94 2.06.94-2.06 2.06-.94-2.06-.94-.94-2.06-.94 2.06-2.06.94z\"/><path d=\"M17.41 7.96l-1.37-1.37c-.4-.4-.92-.59-1.43-.59-.52 0-1.04.2-1.43.59L10.3 9.45l-7.72 7.72c-.78.78-.78 2.05 0 2.83L4 21.41c.39.39.9.59 1.41.59.51 0 1.02-.2 1.41-.59l7.78-7.78 2.81-2.81c.8-.78.8-2.07 0-2.86zM5.41 20L4 18.59l7.72-7.72 1.47 1.35L5.41 20z\"/>\n",
              "  </svg>\n",
              "      </button>\n",
              "\n",
              "\n",
              "\n",
              "    <div id=\"df-c46dd38e-edf5-48a3-aeb9-33a87a74890c\">\n",
              "      <button class=\"colab-df-quickchart\" onclick=\"quickchart('df-c46dd38e-edf5-48a3-aeb9-33a87a74890c')\"\n",
              "              title=\"Suggest charts.\"\n",
              "              style=\"display:none;\">\n",
              "\n",
              "<svg xmlns=\"http://www.w3.org/2000/svg\" height=\"24px\"viewBox=\"0 0 24 24\"\n",
              "     width=\"24px\">\n",
              "    <g>\n",
              "        <path d=\"M19 3H5c-1.1 0-2 .9-2 2v14c0 1.1.9 2 2 2h14c1.1 0 2-.9 2-2V5c0-1.1-.9-2-2-2zM9 17H7v-7h2v7zm4 0h-2V7h2v10zm4 0h-2v-4h2v4z\"/>\n",
              "    </g>\n",
              "</svg>\n",
              "      </button>\n",
              "    </div>\n",
              "\n",
              "<style>\n",
              "  .colab-df-quickchart {\n",
              "    background-color: #E8F0FE;\n",
              "    border: none;\n",
              "    border-radius: 50%;\n",
              "    cursor: pointer;\n",
              "    display: none;\n",
              "    fill: #1967D2;\n",
              "    height: 32px;\n",
              "    padding: 0 0 0 0;\n",
              "    width: 32px;\n",
              "  }\n",
              "\n",
              "  .colab-df-quickchart:hover {\n",
              "    background-color: #E2EBFA;\n",
              "    box-shadow: 0px 1px 2px rgba(60, 64, 67, 0.3), 0px 1px 3px 1px rgba(60, 64, 67, 0.15);\n",
              "    fill: #174EA6;\n",
              "  }\n",
              "\n",
              "  [theme=dark] .colab-df-quickchart {\n",
              "    background-color: #3B4455;\n",
              "    fill: #D2E3FC;\n",
              "  }\n",
              "\n",
              "  [theme=dark] .colab-df-quickchart:hover {\n",
              "    background-color: #434B5C;\n",
              "    box-shadow: 0px 1px 3px 1px rgba(0, 0, 0, 0.15);\n",
              "    filter: drop-shadow(0px 1px 2px rgba(0, 0, 0, 0.3));\n",
              "    fill: #FFFFFF;\n",
              "  }\n",
              "</style>\n",
              "\n",
              "    <script>\n",
              "      async function quickchart(key) {\n",
              "        const containerElement = document.querySelector('#' + key);\n",
              "        const charts = await google.colab.kernel.invokeFunction(\n",
              "            'suggestCharts', [key], {});\n",
              "      }\n",
              "    </script>\n",
              "\n",
              "      <script>\n",
              "\n",
              "function displayQuickchartButton(domScope) {\n",
              "  let quickchartButtonEl =\n",
              "    domScope.querySelector('#df-c46dd38e-edf5-48a3-aeb9-33a87a74890c button.colab-df-quickchart');\n",
              "  quickchartButtonEl.style.display =\n",
              "    google.colab.kernel.accessAllowed ? 'block' : 'none';\n",
              "}\n",
              "\n",
              "        displayQuickchartButton(document);\n",
              "      </script>\n",
              "      <style>\n",
              "    .colab-df-container {\n",
              "      display:flex;\n",
              "      flex-wrap:wrap;\n",
              "      gap: 12px;\n",
              "    }\n",
              "\n",
              "    .colab-df-convert {\n",
              "      background-color: #E8F0FE;\n",
              "      border: none;\n",
              "      border-radius: 50%;\n",
              "      cursor: pointer;\n",
              "      display: none;\n",
              "      fill: #1967D2;\n",
              "      height: 32px;\n",
              "      padding: 0 0 0 0;\n",
              "      width: 32px;\n",
              "    }\n",
              "\n",
              "    .colab-df-convert:hover {\n",
              "      background-color: #E2EBFA;\n",
              "      box-shadow: 0px 1px 2px rgba(60, 64, 67, 0.3), 0px 1px 3px 1px rgba(60, 64, 67, 0.15);\n",
              "      fill: #174EA6;\n",
              "    }\n",
              "\n",
              "    [theme=dark] .colab-df-convert {\n",
              "      background-color: #3B4455;\n",
              "      fill: #D2E3FC;\n",
              "    }\n",
              "\n",
              "    [theme=dark] .colab-df-convert:hover {\n",
              "      background-color: #434B5C;\n",
              "      box-shadow: 0px 1px 3px 1px rgba(0, 0, 0, 0.15);\n",
              "      filter: drop-shadow(0px 1px 2px rgba(0, 0, 0, 0.3));\n",
              "      fill: #FFFFFF;\n",
              "    }\n",
              "  </style>\n",
              "\n",
              "      <script>\n",
              "        const buttonEl =\n",
              "          document.querySelector('#df-634f7f4b-a910-48dc-9c99-d888b01084ac button.colab-df-convert');\n",
              "        buttonEl.style.display =\n",
              "          google.colab.kernel.accessAllowed ? 'block' : 'none';\n",
              "\n",
              "        async function convertToInteractive(key) {\n",
              "          const element = document.querySelector('#df-634f7f4b-a910-48dc-9c99-d888b01084ac');\n",
              "          const dataTable =\n",
              "            await google.colab.kernel.invokeFunction('convertToInteractive',\n",
              "                                                     [key], {});\n",
              "          if (!dataTable) return;\n",
              "\n",
              "          const docLinkHtml = 'Like what you see? Visit the ' +\n",
              "            '<a target=\"_blank\" href=https://colab.research.google.com/notebooks/data_table.ipynb>data table notebook</a>'\n",
              "            + ' to learn more about interactive tables.';\n",
              "          element.innerHTML = '';\n",
              "          dataTable['output_type'] = 'display_data';\n",
              "          await google.colab.output.renderOutput(dataTable, element);\n",
              "          const docLink = document.createElement('div');\n",
              "          docLink.innerHTML = docLinkHtml;\n",
              "          element.appendChild(docLink);\n",
              "        }\n",
              "      </script>\n",
              "    </div>\n",
              "  </div>\n"
            ],
            "text/plain": [
              "   Unnamed: 0   user_id   item_id   i_ebd_0   i_ebd_1   u_ebd_0   u_ebd_1  \\\n",
              "0       23541 -0.371696 -0.080453 -1.315949  6.640485 -0.062888 -0.057413   \n",
              "1       15590 -1.263366 -0.025406 -0.322670  3.687626 -0.161314  0.218592   \n",
              "2       21193 -1.258399 -0.066371 -1.136565  5.571000  0.473498  0.269192   \n",
              "3       25770 -0.256255 -0.253277 -1.728919  7.275840 -0.141487  0.304016   \n",
              "4       16621  0.806233 -0.067652 -1.085922  5.582368  0.129260 -0.446478   \n",
              "\n",
              "   target  \n",
              "0       0  \n",
              "1       0  \n",
              "2       0  \n",
              "3       0  \n",
              "4       0  "
            ]
          },
          "execution_count": 11,
          "metadata": {},
          "output_type": "execute_result"
        }
      ],
      "source": [
        "boost_train.head()"
      ]
    },
    {
      "cell_type": "code",
      "execution_count": null,
      "metadata": {
        "id": "I9yPMi9-7SbB"
      },
      "outputs": [],
      "source": [
        "boost_train = boost_train.drop(['Unnamed: 0'], axis=1)"
      ]
    },
    {
      "cell_type": "code",
      "execution_count": null,
      "metadata": {
        "id": "fLJSvxlU7-rs"
      },
      "outputs": [],
      "source": [
        "boost_eval = boost_eval.drop(['Unnamed: 0'], axis=1)"
      ]
    },
    {
      "cell_type": "code",
      "execution_count": null,
      "metadata": {
        "colab": {
          "base_uri": "https://localhost:8080/"
        },
        "id": "QHwdonCZKUzA",
        "outputId": "353c4116-7633-4462-aa87-7d6a71e77d89"
      },
      "outputs": [
        {
          "data": {
            "text/plain": [
              "1    0.50058\n",
              "0    0.49942\n",
              "Name: target, dtype: float64"
            ]
          },
          "execution_count": 13,
          "metadata": {},
          "output_type": "execute_result"
        }
      ],
      "source": [
        "boost_train['target'].value_counts(normalize=True)"
      ]
    },
    {
      "cell_type": "code",
      "execution_count": null,
      "metadata": {
        "id": "KGBeSWxoaToD"
      },
      "outputs": [],
      "source": [
        "boost_train.reset_index(drop=True, inplace=True)\n",
        "boost_eval.reset_index(drop=True, inplace=True)"
      ]
    },
    {
      "cell_type": "code",
      "execution_count": null,
      "metadata": {
        "colab": {
          "base_uri": "https://localhost:8080/"
        },
        "id": "_Mke9-2FKzBR",
        "outputId": "ee1630f9-dcf4-4183-c577-59ad352ee322"
      },
      "outputs": [
        {
          "data": {
            "text/plain": [
              "((47411, 6), (47411, 1), (12632, 6), (12632, 1))"
            ]
          },
          "execution_count": 19,
          "metadata": {},
          "output_type": "execute_result"
        }
      ],
      "source": [
        "target_col = ['target']\n",
        "cat_col = ['user_id', 'item_id', 'i_ebd_0',\t'i_ebd_1',\t'u_ebd_0',\t'u_ebd_1']\n",
        "\n",
        "X_train, y_train = boost_train.drop(target_col, axis=1), boost_train[target_col]\n",
        "X_val, y_val = boost_eval.drop(target_col, axis=1), boost_eval[target_col]\n",
        "X_train.shape, y_train.shape, X_val.shape, y_val.shape"
      ]
    },
    {
      "cell_type": "code",
      "execution_count": null,
      "metadata": {
        "colab": {
          "base_uri": "https://localhost:8080/",
          "height": 206
        },
        "id": "tEagemR-R192",
        "outputId": "9bd35ef7-8334-4d77-f94b-65f037b844cb"
      },
      "outputs": [
        {
          "data": {
            "text/html": [
              "\n",
              "\n",
              "  <div id=\"df-87a8173a-c89d-4c03-9e97-f4506b114dcb\">\n",
              "    <div class=\"colab-df-container\">\n",
              "      <div>\n",
              "<style scoped>\n",
              "    .dataframe tbody tr th:only-of-type {\n",
              "        vertical-align: middle;\n",
              "    }\n",
              "\n",
              "    .dataframe tbody tr th {\n",
              "        vertical-align: top;\n",
              "    }\n",
              "\n",
              "    .dataframe thead th {\n",
              "        text-align: right;\n",
              "    }\n",
              "</style>\n",
              "<table border=\"1\" class=\"dataframe\">\n",
              "  <thead>\n",
              "    <tr style=\"text-align: right;\">\n",
              "      <th></th>\n",
              "      <th>user_id</th>\n",
              "      <th>item_id</th>\n",
              "      <th>i_ebd_0</th>\n",
              "      <th>i_ebd_1</th>\n",
              "      <th>u_ebd_0</th>\n",
              "      <th>u_ebd_1</th>\n",
              "    </tr>\n",
              "  </thead>\n",
              "  <tbody>\n",
              "    <tr>\n",
              "      <th>0</th>\n",
              "      <td>-0.371696</td>\n",
              "      <td>-0.080453</td>\n",
              "      <td>-1.315949</td>\n",
              "      <td>6.640485</td>\n",
              "      <td>-0.062888</td>\n",
              "      <td>-0.057413</td>\n",
              "    </tr>\n",
              "    <tr>\n",
              "      <th>1</th>\n",
              "      <td>-1.263366</td>\n",
              "      <td>-0.025406</td>\n",
              "      <td>-0.322670</td>\n",
              "      <td>3.687626</td>\n",
              "      <td>-0.161314</td>\n",
              "      <td>0.218592</td>\n",
              "    </tr>\n",
              "    <tr>\n",
              "      <th>2</th>\n",
              "      <td>-1.258399</td>\n",
              "      <td>-0.066371</td>\n",
              "      <td>-1.136565</td>\n",
              "      <td>5.571000</td>\n",
              "      <td>0.473498</td>\n",
              "      <td>0.269192</td>\n",
              "    </tr>\n",
              "    <tr>\n",
              "      <th>3</th>\n",
              "      <td>-0.256255</td>\n",
              "      <td>-0.253277</td>\n",
              "      <td>-1.728919</td>\n",
              "      <td>7.275840</td>\n",
              "      <td>-0.141487</td>\n",
              "      <td>0.304016</td>\n",
              "    </tr>\n",
              "    <tr>\n",
              "      <th>4</th>\n",
              "      <td>0.806233</td>\n",
              "      <td>-0.067652</td>\n",
              "      <td>-1.085922</td>\n",
              "      <td>5.582368</td>\n",
              "      <td>0.129260</td>\n",
              "      <td>-0.446478</td>\n",
              "    </tr>\n",
              "  </tbody>\n",
              "</table>\n",
              "</div>\n",
              "      <button class=\"colab-df-convert\" onclick=\"convertToInteractive('df-87a8173a-c89d-4c03-9e97-f4506b114dcb')\"\n",
              "              title=\"Convert this dataframe to an interactive table.\"\n",
              "              style=\"display:none;\">\n",
              "\n",
              "  <svg xmlns=\"http://www.w3.org/2000/svg\" height=\"24px\"viewBox=\"0 0 24 24\"\n",
              "       width=\"24px\">\n",
              "    <path d=\"M0 0h24v24H0V0z\" fill=\"none\"/>\n",
              "    <path d=\"M18.56 5.44l.94 2.06.94-2.06 2.06-.94-2.06-.94-.94-2.06-.94 2.06-2.06.94zm-11 1L8.5 8.5l.94-2.06 2.06-.94-2.06-.94L8.5 2.5l-.94 2.06-2.06.94zm10 10l.94 2.06.94-2.06 2.06-.94-2.06-.94-.94-2.06-.94 2.06-2.06.94z\"/><path d=\"M17.41 7.96l-1.37-1.37c-.4-.4-.92-.59-1.43-.59-.52 0-1.04.2-1.43.59L10.3 9.45l-7.72 7.72c-.78.78-.78 2.05 0 2.83L4 21.41c.39.39.9.59 1.41.59.51 0 1.02-.2 1.41-.59l7.78-7.78 2.81-2.81c.8-.78.8-2.07 0-2.86zM5.41 20L4 18.59l7.72-7.72 1.47 1.35L5.41 20z\"/>\n",
              "  </svg>\n",
              "      </button>\n",
              "\n",
              "\n",
              "\n",
              "    <div id=\"df-154e7646-cea2-469c-aab1-afd413e628b8\">\n",
              "      <button class=\"colab-df-quickchart\" onclick=\"quickchart('df-154e7646-cea2-469c-aab1-afd413e628b8')\"\n",
              "              title=\"Suggest charts.\"\n",
              "              style=\"display:none;\">\n",
              "\n",
              "<svg xmlns=\"http://www.w3.org/2000/svg\" height=\"24px\"viewBox=\"0 0 24 24\"\n",
              "     width=\"24px\">\n",
              "    <g>\n",
              "        <path d=\"M19 3H5c-1.1 0-2 .9-2 2v14c0 1.1.9 2 2 2h14c1.1 0 2-.9 2-2V5c0-1.1-.9-2-2-2zM9 17H7v-7h2v7zm4 0h-2V7h2v10zm4 0h-2v-4h2v4z\"/>\n",
              "    </g>\n",
              "</svg>\n",
              "      </button>\n",
              "    </div>\n",
              "\n",
              "<style>\n",
              "  .colab-df-quickchart {\n",
              "    background-color: #E8F0FE;\n",
              "    border: none;\n",
              "    border-radius: 50%;\n",
              "    cursor: pointer;\n",
              "    display: none;\n",
              "    fill: #1967D2;\n",
              "    height: 32px;\n",
              "    padding: 0 0 0 0;\n",
              "    width: 32px;\n",
              "  }\n",
              "\n",
              "  .colab-df-quickchart:hover {\n",
              "    background-color: #E2EBFA;\n",
              "    box-shadow: 0px 1px 2px rgba(60, 64, 67, 0.3), 0px 1px 3px 1px rgba(60, 64, 67, 0.15);\n",
              "    fill: #174EA6;\n",
              "  }\n",
              "\n",
              "  [theme=dark] .colab-df-quickchart {\n",
              "    background-color: #3B4455;\n",
              "    fill: #D2E3FC;\n",
              "  }\n",
              "\n",
              "  [theme=dark] .colab-df-quickchart:hover {\n",
              "    background-color: #434B5C;\n",
              "    box-shadow: 0px 1px 3px 1px rgba(0, 0, 0, 0.15);\n",
              "    filter: drop-shadow(0px 1px 2px rgba(0, 0, 0, 0.3));\n",
              "    fill: #FFFFFF;\n",
              "  }\n",
              "</style>\n",
              "\n",
              "    <script>\n",
              "      async function quickchart(key) {\n",
              "        const containerElement = document.querySelector('#' + key);\n",
              "        const charts = await google.colab.kernel.invokeFunction(\n",
              "            'suggestCharts', [key], {});\n",
              "      }\n",
              "    </script>\n",
              "\n",
              "      <script>\n",
              "\n",
              "function displayQuickchartButton(domScope) {\n",
              "  let quickchartButtonEl =\n",
              "    domScope.querySelector('#df-154e7646-cea2-469c-aab1-afd413e628b8 button.colab-df-quickchart');\n",
              "  quickchartButtonEl.style.display =\n",
              "    google.colab.kernel.accessAllowed ? 'block' : 'none';\n",
              "}\n",
              "\n",
              "        displayQuickchartButton(document);\n",
              "      </script>\n",
              "      <style>\n",
              "    .colab-df-container {\n",
              "      display:flex;\n",
              "      flex-wrap:wrap;\n",
              "      gap: 12px;\n",
              "    }\n",
              "\n",
              "    .colab-df-convert {\n",
              "      background-color: #E8F0FE;\n",
              "      border: none;\n",
              "      border-radius: 50%;\n",
              "      cursor: pointer;\n",
              "      display: none;\n",
              "      fill: #1967D2;\n",
              "      height: 32px;\n",
              "      padding: 0 0 0 0;\n",
              "      width: 32px;\n",
              "    }\n",
              "\n",
              "    .colab-df-convert:hover {\n",
              "      background-color: #E2EBFA;\n",
              "      box-shadow: 0px 1px 2px rgba(60, 64, 67, 0.3), 0px 1px 3px 1px rgba(60, 64, 67, 0.15);\n",
              "      fill: #174EA6;\n",
              "    }\n",
              "\n",
              "    [theme=dark] .colab-df-convert {\n",
              "      background-color: #3B4455;\n",
              "      fill: #D2E3FC;\n",
              "    }\n",
              "\n",
              "    [theme=dark] .colab-df-convert:hover {\n",
              "      background-color: #434B5C;\n",
              "      box-shadow: 0px 1px 3px 1px rgba(0, 0, 0, 0.15);\n",
              "      filter: drop-shadow(0px 1px 2px rgba(0, 0, 0, 0.3));\n",
              "      fill: #FFFFFF;\n",
              "    }\n",
              "  </style>\n",
              "\n",
              "      <script>\n",
              "        const buttonEl =\n",
              "          document.querySelector('#df-87a8173a-c89d-4c03-9e97-f4506b114dcb button.colab-df-convert');\n",
              "        buttonEl.style.display =\n",
              "          google.colab.kernel.accessAllowed ? 'block' : 'none';\n",
              "\n",
              "        async function convertToInteractive(key) {\n",
              "          const element = document.querySelector('#df-87a8173a-c89d-4c03-9e97-f4506b114dcb');\n",
              "          const dataTable =\n",
              "            await google.colab.kernel.invokeFunction('convertToInteractive',\n",
              "                                                     [key], {});\n",
              "          if (!dataTable) return;\n",
              "\n",
              "          const docLinkHtml = 'Like what you see? Visit the ' +\n",
              "            '<a target=\"_blank\" href=https://colab.research.google.com/notebooks/data_table.ipynb>data table notebook</a>'\n",
              "            + ' to learn more about interactive tables.';\n",
              "          element.innerHTML = '';\n",
              "          dataTable['output_type'] = 'display_data';\n",
              "          await google.colab.output.renderOutput(dataTable, element);\n",
              "          const docLink = document.createElement('div');\n",
              "          docLink.innerHTML = docLinkHtml;\n",
              "          element.appendChild(docLink);\n",
              "        }\n",
              "      </script>\n",
              "    </div>\n",
              "  </div>\n"
            ],
            "text/plain": [
              "    user_id   item_id   i_ebd_0   i_ebd_1   u_ebd_0   u_ebd_1\n",
              "0 -0.371696 -0.080453 -1.315949  6.640485 -0.062888 -0.057413\n",
              "1 -1.263366 -0.025406 -0.322670  3.687626 -0.161314  0.218592\n",
              "2 -1.258399 -0.066371 -1.136565  5.571000  0.473498  0.269192\n",
              "3 -0.256255 -0.253277 -1.728919  7.275840 -0.141487  0.304016\n",
              "4  0.806233 -0.067652 -1.085922  5.582368  0.129260 -0.446478"
            ]
          },
          "execution_count": 20,
          "metadata": {},
          "output_type": "execute_result"
        }
      ],
      "source": [
        "X_train = X_train.fillna(X_train.mode().iloc[0])\n",
        "\n",
        "X_val = X_val.fillna(X_train.mode().iloc[0])\n",
        "X_train.head()"
      ]
    },
    {
      "cell_type": "code",
      "execution_count": null,
      "metadata": {
        "colab": {
          "base_uri": "https://localhost:8080/",
          "height": 206
        },
        "id": "qpMkJrVQaorc",
        "outputId": "deb55758-aeba-4fd3-d7aa-778d49835939"
      },
      "outputs": [
        {
          "data": {
            "text/html": [
              "\n",
              "\n",
              "  <div id=\"df-2e1665d6-a21d-4634-b2d1-136c1cf3fb94\">\n",
              "    <div class=\"colab-df-container\">\n",
              "      <div>\n",
              "<style scoped>\n",
              "    .dataframe tbody tr th:only-of-type {\n",
              "        vertical-align: middle;\n",
              "    }\n",
              "\n",
              "    .dataframe tbody tr th {\n",
              "        vertical-align: top;\n",
              "    }\n",
              "\n",
              "    .dataframe thead th {\n",
              "        text-align: right;\n",
              "    }\n",
              "</style>\n",
              "<table border=\"1\" class=\"dataframe\">\n",
              "  <thead>\n",
              "    <tr style=\"text-align: right;\">\n",
              "      <th></th>\n",
              "      <th>user_id</th>\n",
              "      <th>item_id</th>\n",
              "      <th>i_ebd_0</th>\n",
              "      <th>i_ebd_1</th>\n",
              "      <th>u_ebd_0</th>\n",
              "      <th>u_ebd_1</th>\n",
              "    </tr>\n",
              "  </thead>\n",
              "  <tbody>\n",
              "    <tr>\n",
              "      <th>0</th>\n",
              "      <td>0.937000</td>\n",
              "      <td>-0.272479</td>\n",
              "      <td>-1.599215</td>\n",
              "      <td>6.712908</td>\n",
              "      <td>0.197403</td>\n",
              "      <td>-0.057009</td>\n",
              "    </tr>\n",
              "    <tr>\n",
              "      <th>1</th>\n",
              "      <td>0.145816</td>\n",
              "      <td>-0.071492</td>\n",
              "      <td>-1.048928</td>\n",
              "      <td>5.893210</td>\n",
              "      <td>0.219863</td>\n",
              "      <td>-0.360629</td>\n",
              "    </tr>\n",
              "    <tr>\n",
              "      <th>2</th>\n",
              "      <td>1.431359</td>\n",
              "      <td>0.033482</td>\n",
              "      <td>-0.352188</td>\n",
              "      <td>3.829090</td>\n",
              "      <td>0.261424</td>\n",
              "      <td>-0.174876</td>\n",
              "    </tr>\n",
              "    <tr>\n",
              "      <th>3</th>\n",
              "      <td>-0.587478</td>\n",
              "      <td>-0.246876</td>\n",
              "      <td>-1.764114</td>\n",
              "      <td>7.382505</td>\n",
              "      <td>-0.235980</td>\n",
              "      <td>0.100309</td>\n",
              "    </tr>\n",
              "    <tr>\n",
              "      <th>4</th>\n",
              "      <td>1.046021</td>\n",
              "      <td>-0.264798</td>\n",
              "      <td>-1.931937</td>\n",
              "      <td>7.760610</td>\n",
              "      <td>-0.176201</td>\n",
              "      <td>0.425440</td>\n",
              "    </tr>\n",
              "  </tbody>\n",
              "</table>\n",
              "</div>\n",
              "      <button class=\"colab-df-convert\" onclick=\"convertToInteractive('df-2e1665d6-a21d-4634-b2d1-136c1cf3fb94')\"\n",
              "              title=\"Convert this dataframe to an interactive table.\"\n",
              "              style=\"display:none;\">\n",
              "\n",
              "  <svg xmlns=\"http://www.w3.org/2000/svg\" height=\"24px\"viewBox=\"0 0 24 24\"\n",
              "       width=\"24px\">\n",
              "    <path d=\"M0 0h24v24H0V0z\" fill=\"none\"/>\n",
              "    <path d=\"M18.56 5.44l.94 2.06.94-2.06 2.06-.94-2.06-.94-.94-2.06-.94 2.06-2.06.94zm-11 1L8.5 8.5l.94-2.06 2.06-.94-2.06-.94L8.5 2.5l-.94 2.06-2.06.94zm10 10l.94 2.06.94-2.06 2.06-.94-2.06-.94-.94-2.06-.94 2.06-2.06.94z\"/><path d=\"M17.41 7.96l-1.37-1.37c-.4-.4-.92-.59-1.43-.59-.52 0-1.04.2-1.43.59L10.3 9.45l-7.72 7.72c-.78.78-.78 2.05 0 2.83L4 21.41c.39.39.9.59 1.41.59.51 0 1.02-.2 1.41-.59l7.78-7.78 2.81-2.81c.8-.78.8-2.07 0-2.86zM5.41 20L4 18.59l7.72-7.72 1.47 1.35L5.41 20z\"/>\n",
              "  </svg>\n",
              "      </button>\n",
              "\n",
              "\n",
              "\n",
              "    <div id=\"df-90cbbff1-bd56-4957-b574-a9af68b48319\">\n",
              "      <button class=\"colab-df-quickchart\" onclick=\"quickchart('df-90cbbff1-bd56-4957-b574-a9af68b48319')\"\n",
              "              title=\"Suggest charts.\"\n",
              "              style=\"display:none;\">\n",
              "\n",
              "<svg xmlns=\"http://www.w3.org/2000/svg\" height=\"24px\"viewBox=\"0 0 24 24\"\n",
              "     width=\"24px\">\n",
              "    <g>\n",
              "        <path d=\"M19 3H5c-1.1 0-2 .9-2 2v14c0 1.1.9 2 2 2h14c1.1 0 2-.9 2-2V5c0-1.1-.9-2-2-2zM9 17H7v-7h2v7zm4 0h-2V7h2v10zm4 0h-2v-4h2v4z\"/>\n",
              "    </g>\n",
              "</svg>\n",
              "      </button>\n",
              "    </div>\n",
              "\n",
              "<style>\n",
              "  .colab-df-quickchart {\n",
              "    background-color: #E8F0FE;\n",
              "    border: none;\n",
              "    border-radius: 50%;\n",
              "    cursor: pointer;\n",
              "    display: none;\n",
              "    fill: #1967D2;\n",
              "    height: 32px;\n",
              "    padding: 0 0 0 0;\n",
              "    width: 32px;\n",
              "  }\n",
              "\n",
              "  .colab-df-quickchart:hover {\n",
              "    background-color: #E2EBFA;\n",
              "    box-shadow: 0px 1px 2px rgba(60, 64, 67, 0.3), 0px 1px 3px 1px rgba(60, 64, 67, 0.15);\n",
              "    fill: #174EA6;\n",
              "  }\n",
              "\n",
              "  [theme=dark] .colab-df-quickchart {\n",
              "    background-color: #3B4455;\n",
              "    fill: #D2E3FC;\n",
              "  }\n",
              "\n",
              "  [theme=dark] .colab-df-quickchart:hover {\n",
              "    background-color: #434B5C;\n",
              "    box-shadow: 0px 1px 3px 1px rgba(0, 0, 0, 0.15);\n",
              "    filter: drop-shadow(0px 1px 2px rgba(0, 0, 0, 0.3));\n",
              "    fill: #FFFFFF;\n",
              "  }\n",
              "</style>\n",
              "\n",
              "    <script>\n",
              "      async function quickchart(key) {\n",
              "        const containerElement = document.querySelector('#' + key);\n",
              "        const charts = await google.colab.kernel.invokeFunction(\n",
              "            'suggestCharts', [key], {});\n",
              "      }\n",
              "    </script>\n",
              "\n",
              "      <script>\n",
              "\n",
              "function displayQuickchartButton(domScope) {\n",
              "  let quickchartButtonEl =\n",
              "    domScope.querySelector('#df-90cbbff1-bd56-4957-b574-a9af68b48319 button.colab-df-quickchart');\n",
              "  quickchartButtonEl.style.display =\n",
              "    google.colab.kernel.accessAllowed ? 'block' : 'none';\n",
              "}\n",
              "\n",
              "        displayQuickchartButton(document);\n",
              "      </script>\n",
              "      <style>\n",
              "    .colab-df-container {\n",
              "      display:flex;\n",
              "      flex-wrap:wrap;\n",
              "      gap: 12px;\n",
              "    }\n",
              "\n",
              "    .colab-df-convert {\n",
              "      background-color: #E8F0FE;\n",
              "      border: none;\n",
              "      border-radius: 50%;\n",
              "      cursor: pointer;\n",
              "      display: none;\n",
              "      fill: #1967D2;\n",
              "      height: 32px;\n",
              "      padding: 0 0 0 0;\n",
              "      width: 32px;\n",
              "    }\n",
              "\n",
              "    .colab-df-convert:hover {\n",
              "      background-color: #E2EBFA;\n",
              "      box-shadow: 0px 1px 2px rgba(60, 64, 67, 0.3), 0px 1px 3px 1px rgba(60, 64, 67, 0.15);\n",
              "      fill: #174EA6;\n",
              "    }\n",
              "\n",
              "    [theme=dark] .colab-df-convert {\n",
              "      background-color: #3B4455;\n",
              "      fill: #D2E3FC;\n",
              "    }\n",
              "\n",
              "    [theme=dark] .colab-df-convert:hover {\n",
              "      background-color: #434B5C;\n",
              "      box-shadow: 0px 1px 3px 1px rgba(0, 0, 0, 0.15);\n",
              "      filter: drop-shadow(0px 1px 2px rgba(0, 0, 0, 0.3));\n",
              "      fill: #FFFFFF;\n",
              "    }\n",
              "  </style>\n",
              "\n",
              "      <script>\n",
              "        const buttonEl =\n",
              "          document.querySelector('#df-2e1665d6-a21d-4634-b2d1-136c1cf3fb94 button.colab-df-convert');\n",
              "        buttonEl.style.display =\n",
              "          google.colab.kernel.accessAllowed ? 'block' : 'none';\n",
              "\n",
              "        async function convertToInteractive(key) {\n",
              "          const element = document.querySelector('#df-2e1665d6-a21d-4634-b2d1-136c1cf3fb94');\n",
              "          const dataTable =\n",
              "            await google.colab.kernel.invokeFunction('convertToInteractive',\n",
              "                                                     [key], {});\n",
              "          if (!dataTable) return;\n",
              "\n",
              "          const docLinkHtml = 'Like what you see? Visit the ' +\n",
              "            '<a target=\"_blank\" href=https://colab.research.google.com/notebooks/data_table.ipynb>data table notebook</a>'\n",
              "            + ' to learn more about interactive tables.';\n",
              "          element.innerHTML = '';\n",
              "          dataTable['output_type'] = 'display_data';\n",
              "          await google.colab.output.renderOutput(dataTable, element);\n",
              "          const docLink = document.createElement('div');\n",
              "          docLink.innerHTML = docLinkHtml;\n",
              "          element.appendChild(docLink);\n",
              "        }\n",
              "      </script>\n",
              "    </div>\n",
              "  </div>\n"
            ],
            "text/plain": [
              "    user_id   item_id   i_ebd_0   i_ebd_1   u_ebd_0   u_ebd_1\n",
              "0  0.937000 -0.272479 -1.599215  6.712908  0.197403 -0.057009\n",
              "1  0.145816 -0.071492 -1.048928  5.893210  0.219863 -0.360629\n",
              "2  1.431359  0.033482 -0.352188  3.829090  0.261424 -0.174876\n",
              "3 -0.587478 -0.246876 -1.764114  7.382505 -0.235980  0.100309\n",
              "4  1.046021 -0.264798 -1.931937  7.760610 -0.176201  0.425440"
            ]
          },
          "execution_count": 21,
          "metadata": {},
          "output_type": "execute_result"
        }
      ],
      "source": [
        "X_val.head()"
      ]
    },
    {
      "cell_type": "code",
      "execution_count": null,
      "metadata": {
        "id": "N4FK19eTi5_5"
      },
      "outputs": [],
      "source": [
        "import catboost as cb"
      ]
    },
    {
      "cell_type": "code",
      "execution_count": null,
      "metadata": {
        "colab": {
          "base_uri": "https://localhost:8080/",
          "height": 382,
          "referenced_widgets": [
            "fb26d0beaf2d4dbd85ea62b67d304594"
          ]
        },
        "id": "Wvoe-xnmfEjI",
        "outputId": "9b874ec8-3808-45a5-9e03-9fdff3804f1c"
      },
      "outputs": [
        {
          "data": {
            "application/vnd.jupyter.widget-view+json": {
              "model_id": "fb26d0beaf2d4dbd85ea62b67d304594",
              "version_major": 2,
              "version_minor": 0
            },
            "text/plain": [
              "MetricVisualizer(layout=Layout(align_self='stretch', height='500px'))"
            ]
          },
          "metadata": {},
          "output_type": "display_data"
        },
        {
          "name": "stdout",
          "output_type": "stream",
          "text": [
            "0:\ttest: 0.0015023\tbest: 0.0015023 (0)\ttotal: 37.8s\tremaining: 8m 48s\n",
            "1:\ttest: 0.6141250\tbest: 0.6141250 (1)\ttotal: 54.8s\tremaining: 5m 56s\n",
            "2:\ttest: 0.8500000\tbest: 0.8500000 (2)\ttotal: 1m 10s\tremaining: 4m 43s\n",
            "3:\ttest: 1.0000000\tbest: 1.0000000 (3)\ttotal: 1m 27s\tremaining: 4m\n",
            "4:\ttest: 0.8500000\tbest: 1.0000000 (3)\ttotal: 1m 43s\tremaining: 3m 27s\n",
            "5:\ttest: 1.0000000\tbest: 1.0000000 (3)\ttotal: 2m 1s\tremaining: 3m 1s\n",
            "6:\ttest: 1.0000000\tbest: 1.0000000 (3)\ttotal: 2m 16s\tremaining: 2m 36s\n",
            "7:\ttest: 0.8500000\tbest: 1.0000000 (3)\ttotal: 2m 33s\tremaining: 2m 14s\n",
            "8:\ttest: 1.0000000\tbest: 1.0000000 (3)\ttotal: 2m 49s\tremaining: 1m 52s\n",
            "9:\ttest: 1.0000000\tbest: 1.0000000 (3)\ttotal: 3m 6s\tremaining: 1m 33s\n",
            "10:\ttest: 1.0000000\tbest: 1.0000000 (3)\ttotal: 3m 23s\tremaining: 1m 13s\n",
            "11:\ttest: 0.8500000\tbest: 1.0000000 (3)\ttotal: 3m 39s\tremaining: 54.9s\n",
            "12:\ttest: 1.0000000\tbest: 1.0000000 (3)\ttotal: 3m 55s\tremaining: 36.2s\n",
            "13:\ttest: 0.6141250\tbest: 1.0000000 (3)\ttotal: 4m 13s\tremaining: 18.1s\n",
            "14:\ttest: 0.5220062\tbest: 1.0000000 (3)\ttotal: 4m 30s\tremaining: 0us\n",
            "\n",
            "bestTest = 1\n",
            "bestIteration = 3\n",
            "\n",
            "Shrink model to first 4 iterations.\n"
          ]
        },
        {
          "data": {
            "text/plain": [
              "<catboost.core.CatBoost at 0x78d4b2729870>"
            ]
          },
          "execution_count": 23,
          "metadata": {},
          "output_type": "execute_result"
        }
      ],
      "source": [
        "group_id_train = np.repeat(0, y_train.shape[0])\n",
        "group_id_val = np.repeat(0, y_val.shape[0])\n",
        "\n",
        "train_data = cb.Pool(data=X_train, label=y_train, group_id=group_id_train)\n",
        "val_data = cb.Pool(data=X_val, label=y_val, group_id=group_id_val)\n",
        "\n",
        "catboost_params = {'iterations': 15,\n",
        "                  'custom_metric': ['NDCG'],\n",
        "                  'verbose': True,\n",
        "                  'random_seed': 12345,\n",
        "                  'loss_function' : 'YetiRank',\n",
        "                  'depth' : 10,\n",
        "                  'learning_rate' : 0.001\n",
        "                  }\n",
        "\n",
        "model = cb.CatBoost(catboost_params)\n",
        "model.fit(train_data,\n",
        "        eval_set=val_data,\n",
        "        early_stopping_rounds=100,\n",
        "        plot=True,\n",
        "        verbose=True)"
      ]
    },
    {
      "cell_type": "code",
      "execution_count": null,
      "metadata": {
        "id": "48EsC_c5x1U0"
      },
      "outputs": [],
      "source": [
        "model.save_model(r\"/content/drive/MyDrive/Colab Notebooks/model_cb.cbm\")"
      ]
    },
    {
      "cell_type": "markdown",
      "metadata": {
        "id": "sr7hZ5XFfSuu"
      },
      "source": [
        "### Метрики моделей"
      ]
    },
    {
      "cell_type": "code",
      "execution_count": null,
      "metadata": {
        "id": "rKzXIjOnG1Gy"
      },
      "outputs": [],
      "source": [
        "candidates_test_emb = pd.read_csv(r\"/content/drive/MyDrive/Colab Notebooks/candidates_test_emb.csv.gzip\", compression='gzip')"
      ]
    },
    {
      "cell_type": "code",
      "execution_count": null,
      "metadata": {
        "colab": {
          "base_uri": "https://localhost:8080/"
        },
        "id": "zyv4Ue2jM5gP",
        "outputId": "6ee56782-ac21-4d5b-e15f-df9670da4352"
      },
      "outputs": [
        {
          "name": "stdout",
          "output_type": "stream",
          "text": [
            "<class 'pandas.core.frame.DataFrame'>\n",
            "RangeIndex: 18168700 entries, 0 to 18168699\n",
            "Data columns (total 8 columns):\n",
            " #   Column      Dtype  \n",
            "---  ------      -----  \n",
            " 0   Unnamed: 0  int64  \n",
            " 1   user_id     int64  \n",
            " 2   item_id     int64  \n",
            " 3   rank        int64  \n",
            " 4   i_ebd_0     float64\n",
            " 5   i_ebd_1     float64\n",
            " 6   u_ebd_0     float64\n",
            " 7   u_ebd_1     float64\n",
            "dtypes: float64(4), int64(4)\n",
            "memory usage: 1.1 GB\n"
          ]
        }
      ],
      "source": [
        "candidates_test_emb.info()"
      ]
    },
    {
      "cell_type": "code",
      "execution_count": null,
      "metadata": {
        "colab": {
          "base_uri": "https://localhost:8080/"
        },
        "id": "i_gNq2Re_q6x",
        "outputId": "0b2ccf0a-6163-4b12-8ab2-32e3f307c126"
      },
      "outputs": [
        {
          "data": {
            "text/plain": [
              "<catboost.core.CatBoost at 0x7fe74d6c2b30>"
            ]
          },
          "execution_count": 19,
          "metadata": {},
          "output_type": "execute_result"
        }
      ],
      "source": [
        "boost_train = pd.read_csv(r\"/content/drive/MyDrive/Colab Notebooks/boost_train.csv.gzip\", compression='gzip')\n",
        "\n",
        "catboost_params = {'iterations': 15,\n",
        "                  'custom_metric': ['NDCG'],\n",
        "                  'verbose': True,\n",
        "                  'random_seed': 12345,\n",
        "                  'loss_function' : 'YetiRank',\n",
        "                  'depth' : 10,\n",
        "                  'learning_rate' : 0.001\n",
        "                  }\n",
        "\n",
        "model = cb.CatBoost(catboost_params)\n",
        "\n",
        "model.load_model(r\"/content/drive/MyDrive/Colab Notebooks/model_cb.cbm\")"
      ]
    },
    {
      "cell_type": "code",
      "execution_count": null,
      "metadata": {
        "id": "7hCypF274gMW"
      },
      "outputs": [],
      "source": [
        "candidates_test_emb_scaled = candidates_test_emb.copy()"
      ]
    },
    {
      "cell_type": "code",
      "execution_count": null,
      "metadata": {
        "id": "ppBYk5054l1E"
      },
      "outputs": [],
      "source": [
        "from sklearn.preprocessing import StandardScaler\n",
        "\n",
        "scaler = StandardScaler()\n",
        "boost_train[['user_id', 'item_id']] = scaler.fit_transform(boost_train[['user_id', 'item_id']])\n",
        "\n",
        "candidates_test_emb_scaled[['user_id', 'item_id']] = scaler.transform(candidates_test_emb[['user_id', 'item_id']])"
      ]
    },
    {
      "cell_type": "code",
      "execution_count": null,
      "metadata": {
        "id": "i6fJTNqCnKSn"
      },
      "outputs": [],
      "source": [
        "predictions = model.predict(candidates_test_emb_scaled)\n",
        "candidates_test_emb['rank_cb'] = predictions"
      ]
    },
    {
      "cell_type": "code",
      "execution_count": null,
      "metadata": {
        "id": "IWcKe5fQtwih"
      },
      "outputs": [],
      "source": [
        "items_category = pd.read_csv(r\"/content/drive/MyDrive/Colab Notebooks/wb_school_task_1_items_description.csv\")"
      ]
    },
    {
      "cell_type": "code",
      "execution_count": null,
      "metadata": {
        "id": "9Ro5x9lrvPZ3"
      },
      "outputs": [],
      "source": [
        "candidates_test_emb = pd.merge(candidates_test_emb, items_category, on='item_id')"
      ]
    },
    {
      "cell_type": "code",
      "execution_count": null,
      "metadata": {
        "colab": {
          "base_uri": "https://localhost:8080/",
          "height": 206
        },
        "id": "I_UCNzfHvYfP",
        "outputId": "db4682f8-fb4a-4000-a783-cc0a7f152a24"
      },
      "outputs": [
        {
          "data": {
            "text/html": [
              "\n",
              "\n",
              "  <div id=\"df-7a47d335-9fb4-4f9c-bc99-f503a104b013\">\n",
              "    <div class=\"colab-df-container\">\n",
              "      <div>\n",
              "<style scoped>\n",
              "    .dataframe tbody tr th:only-of-type {\n",
              "        vertical-align: middle;\n",
              "    }\n",
              "\n",
              "    .dataframe tbody tr th {\n",
              "        vertical-align: top;\n",
              "    }\n",
              "\n",
              "    .dataframe thead th {\n",
              "        text-align: right;\n",
              "    }\n",
              "</style>\n",
              "<table border=\"1\" class=\"dataframe\">\n",
              "  <thead>\n",
              "    <tr style=\"text-align: right;\">\n",
              "      <th></th>\n",
              "      <th>user_id</th>\n",
              "      <th>item_id</th>\n",
              "      <th>i_ebd_0</th>\n",
              "      <th>i_ebd_1</th>\n",
              "      <th>u_ebd_0</th>\n",
              "      <th>u_ebd_1</th>\n",
              "      <th>rank_cb</th>\n",
              "      <th>item_name</th>\n",
              "    </tr>\n",
              "  </thead>\n",
              "  <tbody>\n",
              "    <tr>\n",
              "      <th>0</th>\n",
              "      <td>3</td>\n",
              "      <td>390</td>\n",
              "      <td>11.843787</td>\n",
              "      <td>-18.704586</td>\n",
              "      <td>-0.785285</td>\n",
              "      <td>0.548839</td>\n",
              "      <td>0.006183</td>\n",
              "      <td>Чехлы для телефонов</td>\n",
              "    </tr>\n",
              "    <tr>\n",
              "      <th>1</th>\n",
              "      <td>8</td>\n",
              "      <td>390</td>\n",
              "      <td>11.843787</td>\n",
              "      <td>-18.704586</td>\n",
              "      <td>-1.293664</td>\n",
              "      <td>1.254832</td>\n",
              "      <td>0.006183</td>\n",
              "      <td>Чехлы для телефонов</td>\n",
              "    </tr>\n",
              "    <tr>\n",
              "      <th>2</th>\n",
              "      <td>15</td>\n",
              "      <td>390</td>\n",
              "      <td>11.843787</td>\n",
              "      <td>-18.704586</td>\n",
              "      <td>-0.416988</td>\n",
              "      <td>1.558553</td>\n",
              "      <td>0.002281</td>\n",
              "      <td>Чехлы для телефонов</td>\n",
              "    </tr>\n",
              "    <tr>\n",
              "      <th>3</th>\n",
              "      <td>20</td>\n",
              "      <td>390</td>\n",
              "      <td>11.843787</td>\n",
              "      <td>-18.704586</td>\n",
              "      <td>-1.058058</td>\n",
              "      <td>1.166776</td>\n",
              "      <td>0.006183</td>\n",
              "      <td>Чехлы для телефонов</td>\n",
              "    </tr>\n",
              "    <tr>\n",
              "      <th>4</th>\n",
              "      <td>25</td>\n",
              "      <td>390</td>\n",
              "      <td>11.843787</td>\n",
              "      <td>-18.704586</td>\n",
              "      <td>-0.980047</td>\n",
              "      <td>1.990257</td>\n",
              "      <td>0.006183</td>\n",
              "      <td>Чехлы для телефонов</td>\n",
              "    </tr>\n",
              "  </tbody>\n",
              "</table>\n",
              "</div>\n",
              "      <button class=\"colab-df-convert\" onclick=\"convertToInteractive('df-7a47d335-9fb4-4f9c-bc99-f503a104b013')\"\n",
              "              title=\"Convert this dataframe to an interactive table.\"\n",
              "              style=\"display:none;\">\n",
              "\n",
              "  <svg xmlns=\"http://www.w3.org/2000/svg\" height=\"24px\"viewBox=\"0 0 24 24\"\n",
              "       width=\"24px\">\n",
              "    <path d=\"M0 0h24v24H0V0z\" fill=\"none\"/>\n",
              "    <path d=\"M18.56 5.44l.94 2.06.94-2.06 2.06-.94-2.06-.94-.94-2.06-.94 2.06-2.06.94zm-11 1L8.5 8.5l.94-2.06 2.06-.94-2.06-.94L8.5 2.5l-.94 2.06-2.06.94zm10 10l.94 2.06.94-2.06 2.06-.94-2.06-.94-.94-2.06-.94 2.06-2.06.94z\"/><path d=\"M17.41 7.96l-1.37-1.37c-.4-.4-.92-.59-1.43-.59-.52 0-1.04.2-1.43.59L10.3 9.45l-7.72 7.72c-.78.78-.78 2.05 0 2.83L4 21.41c.39.39.9.59 1.41.59.51 0 1.02-.2 1.41-.59l7.78-7.78 2.81-2.81c.8-.78.8-2.07 0-2.86zM5.41 20L4 18.59l7.72-7.72 1.47 1.35L5.41 20z\"/>\n",
              "  </svg>\n",
              "      </button>\n",
              "\n",
              "\n",
              "\n",
              "    <div id=\"df-3d772865-b638-4de2-aea0-9eac80994c42\">\n",
              "      <button class=\"colab-df-quickchart\" onclick=\"quickchart('df-3d772865-b638-4de2-aea0-9eac80994c42')\"\n",
              "              title=\"Suggest charts.\"\n",
              "              style=\"display:none;\">\n",
              "\n",
              "<svg xmlns=\"http://www.w3.org/2000/svg\" height=\"24px\"viewBox=\"0 0 24 24\"\n",
              "     width=\"24px\">\n",
              "    <g>\n",
              "        <path d=\"M19 3H5c-1.1 0-2 .9-2 2v14c0 1.1.9 2 2 2h14c1.1 0 2-.9 2-2V5c0-1.1-.9-2-2-2zM9 17H7v-7h2v7zm4 0h-2V7h2v10zm4 0h-2v-4h2v4z\"/>\n",
              "    </g>\n",
              "</svg>\n",
              "      </button>\n",
              "    </div>\n",
              "\n",
              "<style>\n",
              "  .colab-df-quickchart {\n",
              "    background-color: #E8F0FE;\n",
              "    border: none;\n",
              "    border-radius: 50%;\n",
              "    cursor: pointer;\n",
              "    display: none;\n",
              "    fill: #1967D2;\n",
              "    height: 32px;\n",
              "    padding: 0 0 0 0;\n",
              "    width: 32px;\n",
              "  }\n",
              "\n",
              "  .colab-df-quickchart:hover {\n",
              "    background-color: #E2EBFA;\n",
              "    box-shadow: 0px 1px 2px rgba(60, 64, 67, 0.3), 0px 1px 3px 1px rgba(60, 64, 67, 0.15);\n",
              "    fill: #174EA6;\n",
              "  }\n",
              "\n",
              "  [theme=dark] .colab-df-quickchart {\n",
              "    background-color: #3B4455;\n",
              "    fill: #D2E3FC;\n",
              "  }\n",
              "\n",
              "  [theme=dark] .colab-df-quickchart:hover {\n",
              "    background-color: #434B5C;\n",
              "    box-shadow: 0px 1px 3px 1px rgba(0, 0, 0, 0.15);\n",
              "    filter: drop-shadow(0px 1px 2px rgba(0, 0, 0, 0.3));\n",
              "    fill: #FFFFFF;\n",
              "  }\n",
              "</style>\n",
              "\n",
              "    <script>\n",
              "      async function quickchart(key) {\n",
              "        const containerElement = document.querySelector('#' + key);\n",
              "        const charts = await google.colab.kernel.invokeFunction(\n",
              "            'suggestCharts', [key], {});\n",
              "      }\n",
              "    </script>\n",
              "\n",
              "      <script>\n",
              "\n",
              "function displayQuickchartButton(domScope) {\n",
              "  let quickchartButtonEl =\n",
              "    domScope.querySelector('#df-3d772865-b638-4de2-aea0-9eac80994c42 button.colab-df-quickchart');\n",
              "  quickchartButtonEl.style.display =\n",
              "    google.colab.kernel.accessAllowed ? 'block' : 'none';\n",
              "}\n",
              "\n",
              "        displayQuickchartButton(document);\n",
              "      </script>\n",
              "      <style>\n",
              "    .colab-df-container {\n",
              "      display:flex;\n",
              "      flex-wrap:wrap;\n",
              "      gap: 12px;\n",
              "    }\n",
              "\n",
              "    .colab-df-convert {\n",
              "      background-color: #E8F0FE;\n",
              "      border: none;\n",
              "      border-radius: 50%;\n",
              "      cursor: pointer;\n",
              "      display: none;\n",
              "      fill: #1967D2;\n",
              "      height: 32px;\n",
              "      padding: 0 0 0 0;\n",
              "      width: 32px;\n",
              "    }\n",
              "\n",
              "    .colab-df-convert:hover {\n",
              "      background-color: #E2EBFA;\n",
              "      box-shadow: 0px 1px 2px rgba(60, 64, 67, 0.3), 0px 1px 3px 1px rgba(60, 64, 67, 0.15);\n",
              "      fill: #174EA6;\n",
              "    }\n",
              "\n",
              "    [theme=dark] .colab-df-convert {\n",
              "      background-color: #3B4455;\n",
              "      fill: #D2E3FC;\n",
              "    }\n",
              "\n",
              "    [theme=dark] .colab-df-convert:hover {\n",
              "      background-color: #434B5C;\n",
              "      box-shadow: 0px 1px 3px 1px rgba(0, 0, 0, 0.15);\n",
              "      filter: drop-shadow(0px 1px 2px rgba(0, 0, 0, 0.3));\n",
              "      fill: #FFFFFF;\n",
              "    }\n",
              "  </style>\n",
              "\n",
              "      <script>\n",
              "        const buttonEl =\n",
              "          document.querySelector('#df-7a47d335-9fb4-4f9c-bc99-f503a104b013 button.colab-df-convert');\n",
              "        buttonEl.style.display =\n",
              "          google.colab.kernel.accessAllowed ? 'block' : 'none';\n",
              "\n",
              "        async function convertToInteractive(key) {\n",
              "          const element = document.querySelector('#df-7a47d335-9fb4-4f9c-bc99-f503a104b013');\n",
              "          const dataTable =\n",
              "            await google.colab.kernel.invokeFunction('convertToInteractive',\n",
              "                                                     [key], {});\n",
              "          if (!dataTable) return;\n",
              "\n",
              "          const docLinkHtml = 'Like what you see? Visit the ' +\n",
              "            '<a target=\"_blank\" href=https://colab.research.google.com/notebooks/data_table.ipynb>data table notebook</a>'\n",
              "            + ' to learn more about interactive tables.';\n",
              "          element.innerHTML = '';\n",
              "          dataTable['output_type'] = 'display_data';\n",
              "          await google.colab.output.renderOutput(dataTable, element);\n",
              "          const docLink = document.createElement('div');\n",
              "          docLink.innerHTML = docLinkHtml;\n",
              "          element.appendChild(docLink);\n",
              "        }\n",
              "      </script>\n",
              "    </div>\n",
              "  </div>\n"
            ],
            "text/plain": [
              "   user_id  item_id    i_ebd_0    i_ebd_1   u_ebd_0   u_ebd_1   rank_cb  \\\n",
              "0        3      390  11.843787 -18.704586 -0.785285  0.548839  0.006183   \n",
              "1        8      390  11.843787 -18.704586 -1.293664  1.254832  0.006183   \n",
              "2       15      390  11.843787 -18.704586 -0.416988  1.558553  0.002281   \n",
              "3       20      390  11.843787 -18.704586 -1.058058  1.166776  0.006183   \n",
              "4       25      390  11.843787 -18.704586 -0.980047  1.990257  0.006183   \n",
              "\n",
              "             item_name  \n",
              "0  Чехлы для телефонов  \n",
              "1  Чехлы для телефонов  \n",
              "2  Чехлы для телефонов  \n",
              "3  Чехлы для телефонов  \n",
              "4  Чехлы для телефонов  "
            ]
          },
          "execution_count": 27,
          "metadata": {},
          "output_type": "execute_result"
        }
      ],
      "source": [
        "candidates_test_emb.head()"
      ]
    },
    {
      "cell_type": "code",
      "execution_count": null,
      "metadata": {
        "id": "eF-QmfaYOW_X"
      },
      "outputs": [],
      "source": [
        "pred_interactions = candidates_test_emb.groupby('user_id')['item_id'].agg(lambda x: list(x))\n",
        "rankes = candidates_test_emb.groupby('user_id')['rank_cb'].agg(lambda x: list(x))"
      ]
    },
    {
      "cell_type": "code",
      "execution_count": null,
      "metadata": {
        "id": "Awkei34Pvj9q"
      },
      "outputs": [],
      "source": [
        "item_groups = candidates_test_emb.groupby('user_id')['item_name'].agg(lambda x: list(x))"
      ]
    },
    {
      "cell_type": "code",
      "execution_count": null,
      "metadata": {
        "id": "zeGhnZ4bGLV9"
      },
      "outputs": [],
      "source": [
        "test_data = cb.Pool(data=candidates_test_emb_scaled)"
      ]
    },
    {
      "cell_type": "code",
      "execution_count": null,
      "metadata": {
        "id": "y5OAY5n2O1gQ"
      },
      "outputs": [],
      "source": [
        "predictions = model.predict(test_data)"
      ]
    },
    {
      "cell_type": "code",
      "execution_count": null,
      "metadata": {
        "id": "AeFjm2uUPPmw"
      },
      "outputs": [],
      "source": [
        "candidates_test_emb['rank_cb'] = predictions"
      ]
    },
    {
      "cell_type": "code",
      "execution_count": null,
      "metadata": {
        "id": "rFcFGQN9PPGC"
      },
      "outputs": [],
      "source": [
        "pred_interactions = candidates_test_emb.groupby('user_id')['item_id'].agg(lambda x: list(x))\n",
        "rankes = candidates_test_emb.groupby('user_id')['rank_cb'].agg(lambda x: list(x))\n",
        "item_groups = candidates.groupby('user_id')['item_name'].agg(lambda x: list(x))"
      ]
    },
    {
      "cell_type": "code",
      "execution_count": null,
      "metadata": {
        "id": "DOv8aCpiPQcP"
      },
      "outputs": [],
      "source": [
        "result_rank = pd.DataFrame(pred_interactions).join(pd.DataFrame(rankes), how='inner')\n",
        "result_rank = pd.DataFrame(result_rank).join(pd.DataFrame(item_groups), how='inner')"
      ]
    },
    {
      "cell_type": "code",
      "execution_count": null,
      "metadata": {
        "id": "yiRVRqCsDZnO"
      },
      "outputs": [],
      "source": [
        "test_ = test.groupby('user_id').agg({\n",
        "    'item_id': lambda x: list(set(x))\n",
        "})"
      ]
    },
    {
      "cell_type": "code",
      "execution_count": null,
      "metadata": {
        "id": "wZ0vh4xIFLYx"
      },
      "outputs": [],
      "source": [
        "test_.columns = ['item_id_test']"
      ]
    },
    {
      "cell_type": "code",
      "execution_count": null,
      "metadata": {
        "id": "joa7Zd5NE-Dj"
      },
      "outputs": [],
      "source": [
        "joined = result_rank.join(test_, how='inner')"
      ]
    },
    {
      "cell_type": "code",
      "execution_count": null,
      "metadata": {
        "id": "eAPs37OzFUQj"
      },
      "outputs": [],
      "source": [
        "joined.to_csv(r\"/content/drive/MyDrive/Colab Notebooks/ranked_items.csv.gzip\", compression='gzip')"
      ]
    },
    {
      "cell_type": "code",
      "execution_count": null,
      "metadata": {
        "id": "6hD0zunxYgCU"
      },
      "outputs": [],
      "source": [
        "joined['sorted_items'] = joined.apply(lambda row: [value for _, value in sorted(zip(row['rank_cb'], row['item_id']))], axis=1)"
      ]
    },
    {
      "cell_type": "code",
      "execution_count": null,
      "metadata": {
        "id": "8g3ceGAmcNVK"
      },
      "outputs": [],
      "source": [
        "joined['recall@20'] = joined.apply(lambda row: recall_at_k(row['sorted_items'], row['item_id_test'], 20), axis=1)"
      ]
    },
    {
      "cell_type": "code",
      "execution_count": null,
      "metadata": {
        "colab": {
          "base_uri": "https://localhost:8080/"
        },
        "id": "26xYVXZ5cNVK",
        "outputId": "2b52e3ab-2601-4057-c3c6-1df757a542c3"
      },
      "outputs": [
        {
          "data": {
            "text/plain": [
              "0.12"
            ]
          },
          "execution_count": 38,
          "metadata": {},
          "output_type": "execute_result"
        }
      ],
      "source": [
        "round(joined['recall@20'].mean(), 2)"
      ]
    },
    {
      "cell_type": "code",
      "execution_count": null,
      "metadata": {
        "colab": {
          "base_uri": "https://localhost:8080/",
          "height": 368
        },
        "id": "WM9iSmks40Tb",
        "outputId": "3cb8c368-e93f-4c38-e233-6a726bbb0904"
      },
      "outputs": [
        {
          "data": {
            "text/html": [
              "\n",
              "\n",
              "  <div id=\"df-e6fa4bca-5e16-4205-aeea-f54b04c901a6\">\n",
              "    <div class=\"colab-df-container\">\n",
              "      <div>\n",
              "<style scoped>\n",
              "    .dataframe tbody tr th:only-of-type {\n",
              "        vertical-align: middle;\n",
              "    }\n",
              "\n",
              "    .dataframe tbody tr th {\n",
              "        vertical-align: top;\n",
              "    }\n",
              "\n",
              "    .dataframe thead th {\n",
              "        text-align: right;\n",
              "    }\n",
              "</style>\n",
              "<table border=\"1\" class=\"dataframe\">\n",
              "  <thead>\n",
              "    <tr style=\"text-align: right;\">\n",
              "      <th></th>\n",
              "      <th>item_id</th>\n",
              "      <th>rank_cb</th>\n",
              "      <th>item_name</th>\n",
              "      <th>item_id_test</th>\n",
              "      <th>sorted_items</th>\n",
              "      <th>recall@20</th>\n",
              "      <th>ndcg@20</th>\n",
              "    </tr>\n",
              "    <tr>\n",
              "      <th>user_id</th>\n",
              "      <th></th>\n",
              "      <th></th>\n",
              "      <th></th>\n",
              "      <th></th>\n",
              "      <th></th>\n",
              "      <th></th>\n",
              "      <th></th>\n",
              "    </tr>\n",
              "  </thead>\n",
              "  <tbody>\n",
              "    <tr>\n",
              "      <th>3</th>\n",
              "      <td>[390, 357, 11, 133, 69, 212, 381, 358, 1571, 3...</td>\n",
              "      <td>[0.006183249749881193, 0.002572115208327814, 0...</td>\n",
              "      <td>[Чехлы для телефонов, Кремы, Брюки, Трусы, Пла...</td>\n",
              "      <td>[163, 1635, 50, 180, 343, 184, 217]</td>\n",
              "      <td>[106, 151, 153, 165, 403, 406, 105, 353, 354, ...</td>\n",
              "      <td>0.285714</td>\n",
              "      <td>0.888673</td>\n",
              "    </tr>\n",
              "    <tr>\n",
              "      <th>8</th>\n",
              "      <td>[390, 357, 11, 133, 69, 212, 381, 358, 1571, 3...</td>\n",
              "      <td>[0.006183249749881193, 0.002572115208327814, 0...</td>\n",
              "      <td>[Чехлы для телефонов, Кремы, Брюки, Трусы, Пла...</td>\n",
              "      <td>[712]</td>\n",
              "      <td>[106, 151, 153, 165, 403, 406, 105, 353, 354, ...</td>\n",
              "      <td>0.000000</td>\n",
              "      <td>0.000000</td>\n",
              "    </tr>\n",
              "    <tr>\n",
              "      <th>15</th>\n",
              "      <td>[390, 357, 11, 133, 69, 212, 381, 358, 1571, 3...</td>\n",
              "      <td>[0.002280954912153121, -0.0013301796294002573,...</td>\n",
              "      <td>[Чехлы для телефонов, Кремы, Брюки, Трусы, Пла...</td>\n",
              "      <td>[3180]</td>\n",
              "      <td>[11, 38, 41, 50, 69, 76, 82, 94, 133, 148, 162...</td>\n",
              "      <td>0.000000</td>\n",
              "      <td>0.000000</td>\n",
              "    </tr>\n",
              "    <tr>\n",
              "      <th>20</th>\n",
              "      <td>[390, 357, 11, 133, 69, 212, 381, 358, 1571, 3...</td>\n",
              "      <td>[0.006183249749881193, 0.002572115208327814, 0...</td>\n",
              "      <td>[Чехлы для телефонов, Кремы, Брюки, Трусы, Пла...</td>\n",
              "      <td>[249, 212, 390]</td>\n",
              "      <td>[106, 151, 153, 165, 403, 406, 105, 353, 354, ...</td>\n",
              "      <td>0.000000</td>\n",
              "      <td>0.693426</td>\n",
              "    </tr>\n",
              "    <tr>\n",
              "      <th>25</th>\n",
              "      <td>[390, 357, 11, 133, 69, 212, 381, 358, 1571, 3...</td>\n",
              "      <td>[0.006183249749881193, 0.002572115208327814, 0...</td>\n",
              "      <td>[Чехлы для телефонов, Кремы, Брюки, Трусы, Пла...</td>\n",
              "      <td>[7704, 1294, 1939, 435, 438, 440, 1116]</td>\n",
              "      <td>[106, 151, 153, 165, 403, 406, 105, 353, 354, ...</td>\n",
              "      <td>0.000000</td>\n",
              "      <td>0.000000</td>\n",
              "    </tr>\n",
              "  </tbody>\n",
              "</table>\n",
              "</div>\n",
              "      <button class=\"colab-df-convert\" onclick=\"convertToInteractive('df-e6fa4bca-5e16-4205-aeea-f54b04c901a6')\"\n",
              "              title=\"Convert this dataframe to an interactive table.\"\n",
              "              style=\"display:none;\">\n",
              "\n",
              "  <svg xmlns=\"http://www.w3.org/2000/svg\" height=\"24px\"viewBox=\"0 0 24 24\"\n",
              "       width=\"24px\">\n",
              "    <path d=\"M0 0h24v24H0V0z\" fill=\"none\"/>\n",
              "    <path d=\"M18.56 5.44l.94 2.06.94-2.06 2.06-.94-2.06-.94-.94-2.06-.94 2.06-2.06.94zm-11 1L8.5 8.5l.94-2.06 2.06-.94-2.06-.94L8.5 2.5l-.94 2.06-2.06.94zm10 10l.94 2.06.94-2.06 2.06-.94-2.06-.94-.94-2.06-.94 2.06-2.06.94z\"/><path d=\"M17.41 7.96l-1.37-1.37c-.4-.4-.92-.59-1.43-.59-.52 0-1.04.2-1.43.59L10.3 9.45l-7.72 7.72c-.78.78-.78 2.05 0 2.83L4 21.41c.39.39.9.59 1.41.59.51 0 1.02-.2 1.41-.59l7.78-7.78 2.81-2.81c.8-.78.8-2.07 0-2.86zM5.41 20L4 18.59l7.72-7.72 1.47 1.35L5.41 20z\"/>\n",
              "  </svg>\n",
              "      </button>\n",
              "\n",
              "\n",
              "\n",
              "    <div id=\"df-4d3f156d-8128-4fa8-a090-63bf366d002b\">\n",
              "      <button class=\"colab-df-quickchart\" onclick=\"quickchart('df-4d3f156d-8128-4fa8-a090-63bf366d002b')\"\n",
              "              title=\"Suggest charts.\"\n",
              "              style=\"display:none;\">\n",
              "\n",
              "<svg xmlns=\"http://www.w3.org/2000/svg\" height=\"24px\"viewBox=\"0 0 24 24\"\n",
              "     width=\"24px\">\n",
              "    <g>\n",
              "        <path d=\"M19 3H5c-1.1 0-2 .9-2 2v14c0 1.1.9 2 2 2h14c1.1 0 2-.9 2-2V5c0-1.1-.9-2-2-2zM9 17H7v-7h2v7zm4 0h-2V7h2v10zm4 0h-2v-4h2v4z\"/>\n",
              "    </g>\n",
              "</svg>\n",
              "      </button>\n",
              "    </div>\n",
              "\n",
              "<style>\n",
              "  .colab-df-quickchart {\n",
              "    background-color: #E8F0FE;\n",
              "    border: none;\n",
              "    border-radius: 50%;\n",
              "    cursor: pointer;\n",
              "    display: none;\n",
              "    fill: #1967D2;\n",
              "    height: 32px;\n",
              "    padding: 0 0 0 0;\n",
              "    width: 32px;\n",
              "  }\n",
              "\n",
              "  .colab-df-quickchart:hover {\n",
              "    background-color: #E2EBFA;\n",
              "    box-shadow: 0px 1px 2px rgba(60, 64, 67, 0.3), 0px 1px 3px 1px rgba(60, 64, 67, 0.15);\n",
              "    fill: #174EA6;\n",
              "  }\n",
              "\n",
              "  [theme=dark] .colab-df-quickchart {\n",
              "    background-color: #3B4455;\n",
              "    fill: #D2E3FC;\n",
              "  }\n",
              "\n",
              "  [theme=dark] .colab-df-quickchart:hover {\n",
              "    background-color: #434B5C;\n",
              "    box-shadow: 0px 1px 3px 1px rgba(0, 0, 0, 0.15);\n",
              "    filter: drop-shadow(0px 1px 2px rgba(0, 0, 0, 0.3));\n",
              "    fill: #FFFFFF;\n",
              "  }\n",
              "</style>\n",
              "\n",
              "    <script>\n",
              "      async function quickchart(key) {\n",
              "        const containerElement = document.querySelector('#' + key);\n",
              "        const charts = await google.colab.kernel.invokeFunction(\n",
              "            'suggestCharts', [key], {});\n",
              "      }\n",
              "    </script>\n",
              "\n",
              "      <script>\n",
              "\n",
              "function displayQuickchartButton(domScope) {\n",
              "  let quickchartButtonEl =\n",
              "    domScope.querySelector('#df-4d3f156d-8128-4fa8-a090-63bf366d002b button.colab-df-quickchart');\n",
              "  quickchartButtonEl.style.display =\n",
              "    google.colab.kernel.accessAllowed ? 'block' : 'none';\n",
              "}\n",
              "\n",
              "        displayQuickchartButton(document);\n",
              "      </script>\n",
              "      <style>\n",
              "    .colab-df-container {\n",
              "      display:flex;\n",
              "      flex-wrap:wrap;\n",
              "      gap: 12px;\n",
              "    }\n",
              "\n",
              "    .colab-df-convert {\n",
              "      background-color: #E8F0FE;\n",
              "      border: none;\n",
              "      border-radius: 50%;\n",
              "      cursor: pointer;\n",
              "      display: none;\n",
              "      fill: #1967D2;\n",
              "      height: 32px;\n",
              "      padding: 0 0 0 0;\n",
              "      width: 32px;\n",
              "    }\n",
              "\n",
              "    .colab-df-convert:hover {\n",
              "      background-color: #E2EBFA;\n",
              "      box-shadow: 0px 1px 2px rgba(60, 64, 67, 0.3), 0px 1px 3px 1px rgba(60, 64, 67, 0.15);\n",
              "      fill: #174EA6;\n",
              "    }\n",
              "\n",
              "    [theme=dark] .colab-df-convert {\n",
              "      background-color: #3B4455;\n",
              "      fill: #D2E3FC;\n",
              "    }\n",
              "\n",
              "    [theme=dark] .colab-df-convert:hover {\n",
              "      background-color: #434B5C;\n",
              "      box-shadow: 0px 1px 3px 1px rgba(0, 0, 0, 0.15);\n",
              "      filter: drop-shadow(0px 1px 2px rgba(0, 0, 0, 0.3));\n",
              "      fill: #FFFFFF;\n",
              "    }\n",
              "  </style>\n",
              "\n",
              "      <script>\n",
              "        const buttonEl =\n",
              "          document.querySelector('#df-e6fa4bca-5e16-4205-aeea-f54b04c901a6 button.colab-df-convert');\n",
              "        buttonEl.style.display =\n",
              "          google.colab.kernel.accessAllowed ? 'block' : 'none';\n",
              "\n",
              "        async function convertToInteractive(key) {\n",
              "          const element = document.querySelector('#df-e6fa4bca-5e16-4205-aeea-f54b04c901a6');\n",
              "          const dataTable =\n",
              "            await google.colab.kernel.invokeFunction('convertToInteractive',\n",
              "                                                     [key], {});\n",
              "          if (!dataTable) return;\n",
              "\n",
              "          const docLinkHtml = 'Like what you see? Visit the ' +\n",
              "            '<a target=\"_blank\" href=https://colab.research.google.com/notebooks/data_table.ipynb>data table notebook</a>'\n",
              "            + ' to learn more about interactive tables.';\n",
              "          element.innerHTML = '';\n",
              "          dataTable['output_type'] = 'display_data';\n",
              "          await google.colab.output.renderOutput(dataTable, element);\n",
              "          const docLink = document.createElement('div');\n",
              "          docLink.innerHTML = docLinkHtml;\n",
              "          element.appendChild(docLink);\n",
              "        }\n",
              "      </script>\n",
              "    </div>\n",
              "  </div>\n"
            ],
            "text/plain": [
              "                                                   item_id  \\\n",
              "user_id                                                      \n",
              "3        [390, 357, 11, 133, 69, 212, 381, 358, 1571, 3...   \n",
              "8        [390, 357, 11, 133, 69, 212, 381, 358, 1571, 3...   \n",
              "15       [390, 357, 11, 133, 69, 212, 381, 358, 1571, 3...   \n",
              "20       [390, 357, 11, 133, 69, 212, 381, 358, 1571, 3...   \n",
              "25       [390, 357, 11, 133, 69, 212, 381, 358, 1571, 3...   \n",
              "\n",
              "                                                   rank_cb  \\\n",
              "user_id                                                      \n",
              "3        [0.006183249749881193, 0.002572115208327814, 0...   \n",
              "8        [0.006183249749881193, 0.002572115208327814, 0...   \n",
              "15       [0.002280954912153121, -0.0013301796294002573,...   \n",
              "20       [0.006183249749881193, 0.002572115208327814, 0...   \n",
              "25       [0.006183249749881193, 0.002572115208327814, 0...   \n",
              "\n",
              "                                                 item_name  \\\n",
              "user_id                                                      \n",
              "3        [Чехлы для телефонов, Кремы, Брюки, Трусы, Пла...   \n",
              "8        [Чехлы для телефонов, Кремы, Брюки, Трусы, Пла...   \n",
              "15       [Чехлы для телефонов, Кремы, Брюки, Трусы, Пла...   \n",
              "20       [Чехлы для телефонов, Кремы, Брюки, Трусы, Пла...   \n",
              "25       [Чехлы для телефонов, Кремы, Брюки, Трусы, Пла...   \n",
              "\n",
              "                                    item_id_test  \\\n",
              "user_id                                            \n",
              "3            [163, 1635, 50, 180, 343, 184, 217]   \n",
              "8                                          [712]   \n",
              "15                                        [3180]   \n",
              "20                               [249, 212, 390]   \n",
              "25       [7704, 1294, 1939, 435, 438, 440, 1116]   \n",
              "\n",
              "                                              sorted_items  recall@20  \\\n",
              "user_id                                                                 \n",
              "3        [106, 151, 153, 165, 403, 406, 105, 353, 354, ...   0.285714   \n",
              "8        [106, 151, 153, 165, 403, 406, 105, 353, 354, ...   0.000000   \n",
              "15       [11, 38, 41, 50, 69, 76, 82, 94, 133, 148, 162...   0.000000   \n",
              "20       [106, 151, 153, 165, 403, 406, 105, 353, 354, ...   0.000000   \n",
              "25       [106, 151, 153, 165, 403, 406, 105, 353, 354, ...   0.000000   \n",
              "\n",
              "          ndcg@20  \n",
              "user_id            \n",
              "3        0.888673  \n",
              "8        0.000000  \n",
              "15       0.000000  \n",
              "20       0.693426  \n",
              "25       0.000000  "
            ]
          },
          "execution_count": 54,
          "metadata": {},
          "output_type": "execute_result"
        }
      ],
      "source": [
        "joined.head()"
      ]
    },
    {
      "cell_type": "code",
      "execution_count": null,
      "metadata": {
        "id": "UkfyFfu168Mo"
      },
      "outputs": [],
      "source": [
        "categories_test = pd.read_csv(r\"/content/drive/MyDrive/Colab Notebooks/categories_test.csv\")"
      ]
    },
    {
      "cell_type": "markdown",
      "metadata": {
        "id": "OeuO3mfm6QTa"
      },
      "source": [
        "3 юзер:"
      ]
    },
    {
      "cell_type": "code",
      "execution_count": null,
      "metadata": {
        "colab": {
          "base_uri": "https://localhost:8080/"
        },
        "id": "q4xifTrV4vbV",
        "outputId": "425a364f-3328-4677-b0aa-0828457f08f4"
      },
      "outputs": [
        {
          "data": {
            "text/plain": [
              "array(['Кружки', 'Сумки', 'Комплекты белья', 'Бюстгальтеры', 'Топы',\n",
              "       'Патчи', 'Куртки', 'Платья', 'Наушники', 'Блузки',\n",
              "       'Постельное белье', 'Бальзамы', 'Трусы', 'Масла', 'Кремы', 'Книги',\n",
              "       'Шапки', 'Кроссовки', 'Рубашки', 'Лонгсливы', 'Чай', 'Серьги',\n",
              "       'Ботинки', 'Костюмы', 'Джинсы', 'Костюмы спортивные', 'Гели',\n",
              "       'Свитеры', 'Пижамы', 'Носки', 'Тапочки', 'Шорты', 'Леггинсы',\n",
              "       'Дезодоранты', 'Шампуни', 'Спреи', 'Корректоры', 'Защитные стекла',\n",
              "       'Чехлы для телефонов', 'Маски косметические', 'Духи', 'Юбки',\n",
              "       'Косметические наборы для ухода', 'Сыворотки', 'Основы под макияж',\n",
              "       'Водолазки', 'Туши', 'Колготки', 'Брюки',\n",
              "       'Косметические карандаши'], dtype=object)"
            ]
          },
          "execution_count": 64,
          "metadata": {},
          "output_type": "execute_result"
        }
      ],
      "source": [
        "items_category[items_category['item_id'].isin(joined.loc[3, 'sorted_items'])]['item_name'].values"
      ]
    },
    {
      "cell_type": "code",
      "execution_count": null,
      "metadata": {
        "colab": {
          "base_uri": "https://localhost:8080/"
        },
        "id": "pZbDWAtB4lOP",
        "outputId": "61d55ed9-c77d-409f-a1f7-07a30c915ddd"
      },
      "outputs": [
        {
          "data": {
            "text/plain": [
              "array([\"['Брюки', 'Беруши', 'Лубриканты', 'Портупеи', 'Пиджаки', 'Лотки для бумаг', 'Босоножки', 'Органайзеры для хранения', 'Кухонные весы', 'Комплекты белья', 'Блузки-боди', 'Блузки', 'Топы', 'Гели', 'Сабо', 'Велосипедки', 'Юбки']\"],\n",
              "      dtype=object)"
            ]
          },
          "execution_count": 53,
          "metadata": {},
          "output_type": "execute_result"
        }
      ],
      "source": [
        "categories_train[categories_train['user_id'].isin([3])]['item_name'].values"
      ]
    },
    {
      "cell_type": "code",
      "execution_count": null,
      "metadata": {
        "colab": {
          "base_uri": "https://localhost:8080/"
        },
        "id": "-TzPF3Y_69r1",
        "outputId": "7a78ea12-f68e-41e5-8176-ab7bbfd97389"
      },
      "outputs": [
        {
          "data": {
            "text/plain": [
              "array([\"['Лонгсливы', 'Куртки', 'Джинсы', 'Сумки', 'Босоножки', 'Ботильоны', 'Рубашки', 'Свитеры', 'Ботфорты', 'Бомберы', 'Топы']\"],\n",
              "      dtype=object)"
            ]
          },
          "execution_count": 69,
          "metadata": {},
          "output_type": "execute_result"
        }
      ],
      "source": [
        "categories_test[categories_test['user_id'].isin([3])]['item_name'].values"
      ]
    },
    {
      "cell_type": "markdown",
      "metadata": {
        "id": "iXEbcKrO6S1B"
      },
      "source": [
        "15 юзер:"
      ]
    },
    {
      "cell_type": "code",
      "execution_count": null,
      "metadata": {
        "colab": {
          "base_uri": "https://localhost:8080/"
        },
        "id": "y6HIzFrp6L35",
        "outputId": "e01f0f9b-c312-4f2e-ab8b-06abceb52c46"
      },
      "outputs": [
        {
          "data": {
            "text/plain": [
              "array(['Кружки', 'Сумки', 'Комплекты белья', 'Бюстгальтеры', 'Топы',\n",
              "       'Патчи', 'Куртки', 'Платья', 'Наушники', 'Блузки',\n",
              "       'Постельное белье', 'Бальзамы', 'Трусы', 'Масла', 'Кремы', 'Книги',\n",
              "       'Шапки', 'Кроссовки', 'Рубашки', 'Лонгсливы', 'Чай', 'Серьги',\n",
              "       'Ботинки', 'Костюмы', 'Джинсы', 'Костюмы спортивные', 'Гели',\n",
              "       'Свитеры', 'Пижамы', 'Носки', 'Тапочки', 'Шорты', 'Леггинсы',\n",
              "       'Дезодоранты', 'Шампуни', 'Спреи', 'Корректоры', 'Защитные стекла',\n",
              "       'Чехлы для телефонов', 'Маски косметические', 'Духи', 'Юбки',\n",
              "       'Косметические наборы для ухода', 'Сыворотки', 'Основы под макияж',\n",
              "       'Водолазки', 'Туши', 'Колготки', 'Брюки',\n",
              "       'Косметические карандаши'], dtype=object)"
            ]
          },
          "execution_count": 65,
          "metadata": {},
          "output_type": "execute_result"
        }
      ],
      "source": [
        "items_category[items_category['item_id'].isin(joined.loc[15, 'sorted_items'])]['item_name'].values"
      ]
    },
    {
      "cell_type": "code",
      "execution_count": null,
      "metadata": {
        "colab": {
          "base_uri": "https://localhost:8080/"
        },
        "id": "iST0xJgC6Xld",
        "outputId": "b188bb09-fcbf-4395-900d-f41d7f95035c"
      },
      "outputs": [
        {
          "data": {
            "text/plain": [
              "array([\"['Скотч для наращивания ресниц', 'Водоросли морские', 'Носки', 'Пинцеты для наращивания ресниц', 'Наборы для наращивания ресниц', 'Патчи для наращивания ресниц', 'Зеркала косметические', 'Тени', 'Инструменты для чистки лица', 'Чехлы для наушников', 'Наушники', 'Кольцевые лампы', 'Клей для наращивания ресниц']\"],\n",
              "      dtype=object)"
            ]
          },
          "execution_count": 66,
          "metadata": {},
          "output_type": "execute_result"
        }
      ],
      "source": [
        "categories_train[categories_train['user_id'].isin([15])]['item_name'].values"
      ]
    },
    {
      "cell_type": "code",
      "execution_count": null,
      "metadata": {
        "colab": {
          "base_uri": "https://localhost:8080/"
        },
        "id": "8KtMDkBb6lR1",
        "outputId": "2b1d766f-e416-4206-e655-5c59920dbdf4"
      },
      "outputs": [
        {
          "data": {
            "text/plain": [
              "array([\"['Лакомства для животных', 'Миски для животных', 'Ошейники']\"],\n",
              "      dtype=object)"
            ]
          },
          "execution_count": 70,
          "metadata": {},
          "output_type": "execute_result"
        }
      ],
      "source": [
        "categories_test[categories_test['user_id'].isin([15])]['item_name'].values"
      ]
    },
    {
      "cell_type": "code",
      "execution_count": null,
      "metadata": {
        "id": "vx8w-BXocNVL"
      },
      "outputs": [],
      "source": [
        "joined['ndcg@20'] = joined.apply(lambda row: ndcg_metric(row['item_id_test'], row['sorted_items'], 20), axis=1)"
      ]
    },
    {
      "cell_type": "code",
      "execution_count": null,
      "metadata": {
        "colab": {
          "base_uri": "https://localhost:8080/"
        },
        "id": "S9dD5npfcNVL",
        "outputId": "e4bc8bad-016c-4eaf-bb24-fc239601be72"
      },
      "outputs": [
        {
          "data": {
            "text/plain": [
              "43.67"
            ]
          },
          "execution_count": 42,
          "metadata": {},
          "output_type": "execute_result"
        }
      ],
      "source": [
        "round(joined['ndcg@20'].mean()*100, 2)"
      ]
    },
    {
      "cell_type": "markdown",
      "metadata": {
        "id": "5de3m99Iiyel"
      },
      "source": [
        "### Другие модели"
      ]
    },
    {
      "cell_type": "markdown",
      "metadata": {
        "id": "kMMTjncOgswm"
      },
      "source": [
        "Оставим юзеров в обоих выборках"
      ]
    },
    {
      "cell_type": "code",
      "execution_count": null,
      "metadata": {
        "id": "HJJjntIimCUW"
      },
      "outputs": [],
      "source": [
        "def common_users(train, test):\n",
        "  users_test = list(test['user_id'].unique())\n",
        "  users_train = list(train['user_id'].unique())\n",
        "  users_tt = list(set(users_train) & set(users_test))\n",
        "  return users_tt"
      ]
    },
    {
      "cell_type": "code",
      "execution_count": null,
      "metadata": {
        "id": "F6KwrVWcwXKi"
      },
      "outputs": [],
      "source": [
        "def common_items(train, test):\n",
        "  items_test = list(test['item_id'].unique())\n",
        "  items_train = list(train['item_id'].unique())\n",
        "  items_tt = list(set(items_train) & set(items_test))\n",
        "  return items_tt"
      ]
    },
    {
      "cell_type": "code",
      "execution_count": null,
      "metadata": {
        "colab": {
          "base_uri": "https://localhost:8080/"
        },
        "id": "yKXeNUDkgE5F",
        "outputId": "2382ea15-9a39-43a4-f12e-db9e3bbb8bf8"
      },
      "outputs": [
        {
          "data": {
            "text/plain": [
              "348651"
            ]
          },
          "execution_count": 13,
          "metadata": {},
          "output_type": "execute_result"
        }
      ],
      "source": [
        "users_test = list(test['user_id'].unique())\n",
        "users_train = list(train['user_id'].unique())\n",
        "users_tt = list(set(users_train) & set(users_test))\n",
        "len(set(users_train) & set(users_test))"
      ]
    },
    {
      "cell_type": "code",
      "execution_count": null,
      "metadata": {
        "id": "kj8XahttmT-u"
      },
      "outputs": [],
      "source": [
        "def refresh(train, test):\n",
        "  users = common_users(train, test)\n",
        "  items = common_items(train, test)\n",
        "\n",
        "  train_new_1 = train[train['item_id'].isin(items)]\n",
        "  train_new = train_new_1[train_new_1['user_id'].isin(users)]\n",
        "\n",
        "  test_new_1 = test[test['item_id'].isin(items)]\n",
        "  test_new = test_new_1[test_new_1['user_id'].isin(users)]\n",
        "\n",
        "  return train_new, test_new, len(users), len(items)"
      ]
    },
    {
      "cell_type": "code",
      "execution_count": null,
      "metadata": {
        "id": "5pEWaPpVg9sF"
      },
      "outputs": [],
      "source": [
        "train_refresh, test_refresh, u, i = refresh(train, test)"
      ]
    },
    {
      "cell_type": "code",
      "execution_count": null,
      "metadata": {
        "colab": {
          "base_uri": "https://localhost:8080/"
        },
        "id": "6vdyFYRLiRyR",
        "outputId": "5e4ceec4-963f-4302-f288-e487916859d5"
      },
      "outputs": [
        {
          "data": {
            "text/plain": [
              "(11395917, 3)"
            ]
          },
          "execution_count": 16,
          "metadata": {},
          "output_type": "execute_result"
        }
      ],
      "source": [
        "train_refresh.shape"
      ]
    },
    {
      "cell_type": "code",
      "execution_count": null,
      "metadata": {
        "colab": {
          "base_uri": "https://localhost:8080/"
        },
        "id": "AD5YITHziTaZ",
        "outputId": "27dece11-ed2e-4302-a73c-944ebbec0a56"
      },
      "outputs": [
        {
          "data": {
            "text/plain": [
              "(1142486, 3)"
            ]
          },
          "execution_count": 17,
          "metadata": {},
          "output_type": "execute_result"
        }
      ],
      "source": [
        "test_refresh.shape"
      ]
    },
    {
      "cell_type": "code",
      "execution_count": null,
      "metadata": {
        "id": "atd2sOIfEARC"
      },
      "outputs": [],
      "source": [
        "train_refresh, test_refresh, u, i = refresh(train_refresh, test_refresh)"
      ]
    },
    {
      "cell_type": "code",
      "execution_count": null,
      "metadata": {
        "colab": {
          "base_uri": "https://localhost:8080/"
        },
        "id": "5utnXsPn5ylc",
        "outputId": "8874feb7-5e2f-4247-99b9-d58ea5f87e85"
      },
      "outputs": [
        {
          "name": "stdout",
          "output_type": "stream",
          "text": [
            "Пользователей :  348640\n",
            "Айтемов :  5458\n"
          ]
        }
      ],
      "source": [
        "print(f'Пользователей :  {u}')\n",
        "print(f'Айтемов :  {i}')"
      ]
    },
    {
      "cell_type": "code",
      "execution_count": null,
      "metadata": {
        "colab": {
          "base_uri": "https://localhost:8080/"
        },
        "id": "_r9OZcE49NHs",
        "outputId": "886eda97-ee45-471e-ac03-363286352eac"
      },
      "outputs": [
        {
          "data": {
            "text/plain": [
              "348640"
            ]
          },
          "execution_count": 20,
          "metadata": {},
          "output_type": "execute_result"
        }
      ],
      "source": [
        "train_refresh.user_id.nunique()"
      ]
    },
    {
      "cell_type": "code",
      "execution_count": null,
      "metadata": {
        "colab": {
          "base_uri": "https://localhost:8080/"
        },
        "id": "1A4314UnEGHt",
        "outputId": "6c820f8e-f140-49ff-ca6c-87755acc1c72"
      },
      "outputs": [
        {
          "data": {
            "text/plain": [
              "348638"
            ]
          },
          "execution_count": 21,
          "metadata": {},
          "output_type": "execute_result"
        }
      ],
      "source": [
        "test_refresh.user_id.nunique()"
      ]
    },
    {
      "cell_type": "markdown",
      "metadata": {
        "id": "zcLcslP7kPuH"
      },
      "source": [
        "Функции для создания csr-матриц user-item:"
      ]
    },
    {
      "cell_type": "code",
      "execution_count": null,
      "metadata": {
        "id": "2D7zprDWiVYv"
      },
      "outputs": [],
      "source": [
        "def get_coo_matrix(\n",
        "        df: pd.DataFrame,\n",
        "        user_col: str,\n",
        "        item_col: str,\n",
        "        users_mapping: dict,\n",
        "        items_mapping: dict,\n",
        "        weight_col: str = None\n",
        "        ):\n",
        "    if weight_col is None:\n",
        "        weights = np.ones(len(df), dtype=np.float32)\n",
        "    else:\n",
        "        weights = df[weight_col].astype(np.float32)\n",
        "    interaction_matrix = coo_matrix((\n",
        "        weights,\n",
        "        (\n",
        "            df[user_col].map(users_mapping.get),\n",
        "            df[item_col].map(items_mapping.get)\n",
        "        )\n",
        "    ))\n",
        "    return interaction_matrix"
      ]
    },
    {
      "cell_type": "code",
      "execution_count": null,
      "metadata": {
        "id": "S5WKsxVykk7T"
      },
      "outputs": [],
      "source": [
        "def get_user_item_matrix(data):\n",
        "  df = data.copy()\n",
        "\n",
        "  users_inv_mapping = dict(enumerate(df['user_id'].unique()))\n",
        "  users_mapping = {v: k for k, v in users_inv_mapping.items()}\n",
        "\n",
        "  items_inv_mapping = dict(enumerate(df['item_id'].unique()))\n",
        "  items_mapping = {v: k for k, v in items_inv_mapping.items()}\n",
        "\n",
        "  df = df.groupby(['user_id', 'item_id']).count().astype(int).reset_index().rename(columns={\"order_ts\": \"purchase\"})\n",
        "\n",
        "  matrix = get_coo_matrix(\n",
        "    df,\n",
        "    user_col='user_id',\n",
        "    item_col='item_id',\n",
        "    users_mapping=users_mapping,\n",
        "    items_mapping=items_mapping\n",
        "    ).tocsr()\n",
        "\n",
        "  return matrix"
      ]
    },
    {
      "cell_type": "markdown",
      "metadata": {
        "id": "vsLWgnwdqdGW"
      },
      "source": [
        "Выделим валидационную выборку из тренировочной:"
      ]
    },
    {
      "cell_type": "code",
      "execution_count": null,
      "metadata": {
        "id": "qp8lVHkHqctS"
      },
      "outputs": [],
      "source": [
        "val = train[train['order_ts'].dt.week == 12]\n",
        "train = train[train['order_ts'].dt.week != 12]"
      ]
    },
    {
      "cell_type": "code",
      "execution_count": null,
      "metadata": {
        "colab": {
          "base_uri": "https://localhost:8080/"
        },
        "id": "X8vt6TNNl70n",
        "outputId": "98149943-24f3-470d-c1c8-d137d94aab0c"
      },
      "outputs": [
        {
          "data": {
            "text/plain": [
              "(17694613, 3)"
            ]
          },
          "execution_count": 25,
          "metadata": {},
          "output_type": "execute_result"
        }
      ],
      "source": [
        "train.shape"
      ]
    },
    {
      "cell_type": "code",
      "execution_count": null,
      "metadata": {
        "colab": {
          "base_uri": "https://localhost:8080/"
        },
        "id": "sGLpeBuAq-eo",
        "outputId": "af493ae4-4295-4c8c-a88e-1e5dfdc3d774"
      },
      "outputs": [
        {
          "data": {
            "text/plain": [
              "(1720179, 3)"
            ]
          },
          "execution_count": 26,
          "metadata": {},
          "output_type": "execute_result"
        }
      ],
      "source": [
        "val.shape"
      ]
    },
    {
      "cell_type": "code",
      "execution_count": null,
      "metadata": {
        "id": "YvvBagK2q_V-"
      },
      "outputs": [],
      "source": [
        "train, val, u, i = refresh(train, val)"
      ]
    },
    {
      "cell_type": "code",
      "execution_count": null,
      "metadata": {
        "colab": {
          "base_uri": "https://localhost:8080/"
        },
        "id": "6HEwBEDyrPJi",
        "outputId": "2272e990-a6b5-4cd7-e560-08b39fbfe31e"
      },
      "outputs": [
        {
          "data": {
            "text/plain": [
              "429353"
            ]
          },
          "execution_count": 35,
          "metadata": {},
          "output_type": "execute_result"
        }
      ],
      "source": [
        "train.user_id.nunique()"
      ]
    },
    {
      "cell_type": "code",
      "execution_count": null,
      "metadata": {
        "colab": {
          "base_uri": "https://localhost:8080/"
        },
        "id": "S3T44nLgrQHt",
        "outputId": "8b05ceb3-18d5-4469-a2c0-876bc459b29f"
      },
      "outputs": [
        {
          "data": {
            "text/plain": [
              "429353"
            ]
          },
          "execution_count": 36,
          "metadata": {},
          "output_type": "execute_result"
        }
      ],
      "source": [
        "val.user_id.nunique()"
      ]
    },
    {
      "cell_type": "code",
      "execution_count": null,
      "metadata": {
        "colab": {
          "base_uri": "https://localhost:8080/"
        },
        "id": "ojkBLcmt2Xsh",
        "outputId": "7d00043b-ddad-4086-cc3a-19f51e4bb516"
      },
      "outputs": [
        {
          "name": "stdout",
          "output_type": "stream",
          "text": [
            "Пользователей :  429353\n",
            "Айтемов :  5637\n"
          ]
        }
      ],
      "source": [
        "print(f'Пользователей :  {u}')\n",
        "print(f'Айтемов :  {i}')"
      ]
    },
    {
      "cell_type": "code",
      "execution_count": null,
      "metadata": {
        "id": "lmZLbhG0rSIB"
      },
      "outputs": [],
      "source": [
        "train_user_item = get_user_item_matrix(train)\n",
        "val_user_item = get_user_item_matrix(val)"
      ]
    },
    {
      "cell_type": "code",
      "execution_count": null,
      "metadata": {
        "colab": {
          "base_uri": "https://localhost:8080/"
        },
        "id": "lr-3HvJls4Dp",
        "outputId": "3beeee28-7ff9-4027-8118-9fdc8a7e3801"
      },
      "outputs": [
        {
          "data": {
            "text/plain": [
              "<429353x5637 sparse matrix of type '<class 'numpy.float32'>'\n",
              "\twith 7976495 stored elements in Compressed Sparse Row format>"
            ]
          },
          "execution_count": 39,
          "metadata": {},
          "output_type": "execute_result"
        }
      ],
      "source": [
        "train_user_item"
      ]
    },
    {
      "cell_type": "code",
      "execution_count": null,
      "metadata": {
        "colab": {
          "base_uri": "https://localhost:8080/"
        },
        "id": "b61F_UvW2Otw",
        "outputId": "37d173ab-68b8-432f-af41-cd32f9729935"
      },
      "outputs": [
        {
          "data": {
            "text/plain": [
              "<429353x5637 sparse matrix of type '<class 'numpy.float32'>'\n",
              "\twith 1312899 stored elements in Compressed Sparse Row format>"
            ]
          },
          "execution_count": 40,
          "metadata": {},
          "output_type": "execute_result"
        }
      ],
      "source": [
        "val_user_item"
      ]
    },
    {
      "cell_type": "markdown",
      "metadata": {
        "id": "BgasZrCPtF5E"
      },
      "source": [
        "Обновим тестовую выборку с учетом изменения тренировочной под валидацонную:"
      ]
    },
    {
      "cell_type": "code",
      "execution_count": null,
      "metadata": {
        "id": "Ih0ZXWIRs6QK"
      },
      "outputs": [],
      "source": [
        "train, test, u, i = refresh(train, test)"
      ]
    },
    {
      "cell_type": "code",
      "execution_count": null,
      "metadata": {
        "id": "cle0O32wRKaA"
      },
      "outputs": [],
      "source": [
        "train, val, u, i = refresh(train, val)"
      ]
    },
    {
      "cell_type": "code",
      "execution_count": null,
      "metadata": {
        "colab": {
          "base_uri": "https://localhost:8080/"
        },
        "id": "_vgfPBBRRNDE",
        "outputId": "41654099-0f06-46c1-c00e-110c9d0608f9"
      },
      "outputs": [
        {
          "data": {
            "text/plain": [
              "229716"
            ]
          },
          "execution_count": 66,
          "metadata": {},
          "output_type": "execute_result"
        }
      ],
      "source": [
        "val.user_id.nunique()"
      ]
    },
    {
      "cell_type": "code",
      "execution_count": null,
      "metadata": {
        "colab": {
          "base_uri": "https://localhost:8080/"
        },
        "id": "iwDv56KzQ7Z9",
        "outputId": "8aa3ec12-6488-41d6-f66c-b417e9d5654f"
      },
      "outputs": [
        {
          "data": {
            "text/plain": [
              "229716"
            ]
          },
          "execution_count": 67,
          "metadata": {},
          "output_type": "execute_result"
        }
      ],
      "source": [
        "train.user_id.nunique()"
      ]
    },
    {
      "cell_type": "code",
      "execution_count": null,
      "metadata": {
        "colab": {
          "base_uri": "https://localhost:8080/"
        },
        "id": "ghSUgp4JRAsE",
        "outputId": "b725999f-0c6f-4e3f-97ff-a7ac6d2bf6f1"
      },
      "outputs": [
        {
          "data": {
            "text/plain": [
              "229716"
            ]
          },
          "execution_count": 68,
          "metadata": {},
          "output_type": "execute_result"
        }
      ],
      "source": [
        "test.user_id.nunique()"
      ]
    },
    {
      "cell_type": "code",
      "execution_count": null,
      "metadata": {
        "id": "XRD01L6eRIQm"
      },
      "outputs": [],
      "source": [
        "train_user_item = get_user_item_matrix(train)\n",
        "val_user_item = get_user_item_matrix(val)\n",
        "test_user_item = get_user_item_matrix(test)"
      ]
    },
    {
      "cell_type": "markdown",
      "metadata": {
        "id": "qfwLyg6JsHOY"
      },
      "source": [
        "LightFM"
      ]
    },
    {
      "cell_type": "markdown",
      "metadata": {
        "id": "7oWGMqdZJgLW"
      },
      "source": [
        "Для **233992** юзеров:"
      ]
    },
    {
      "cell_type": "code",
      "execution_count": null,
      "metadata": {
        "id": "csyJlekRSh7w"
      },
      "outputs": [],
      "source": [
        "from lightfm import LightFM"
      ]
    },
    {
      "cell_type": "code",
      "execution_count": null,
      "metadata": {
        "colab": {
          "base_uri": "https://localhost:8080/"
        },
        "id": "kgBDsOdnrnMQ",
        "outputId": "4df4937f-c8eb-421b-ad3d-43bbcc7e160f"
      },
      "outputs": [
        {
          "data": {
            "text/plain": [
              "<lightfm.lightfm.LightFM at 0x7f02dcca4520>"
            ]
          },
          "execution_count": 140,
          "metadata": {},
          "output_type": "execute_result"
        }
      ],
      "source": [
        "\n",
        "model_lfm = LightFM(loss='warp',\n",
        "                    no_components=60,\n",
        "                    learning_rate=0.1,\n",
        "                    item_alpha=0.005,\n",
        "                    user_alpha=0.001,\n",
        "                    max_sampled=5)\n",
        "\n",
        "model_lfm.fit(train_user_item,\n",
        "              epochs=20)"
      ]
    },
    {
      "cell_type": "code",
      "execution_count": null,
      "metadata": {
        "id": "rnAPvugDsSPD"
      },
      "outputs": [],
      "source": [
        "recall_at_20 = recall_at_k(model=model_lfm, test_interactions=val_user_item, k=20).mean()"
      ]
    },
    {
      "cell_type": "code",
      "execution_count": null,
      "metadata": {
        "colab": {
          "base_uri": "https://localhost:8080/"
        },
        "id": "Y-kUyRpYspMs",
        "outputId": "70c6cd48-a7fc-448e-e659-4bf73aa38c1a"
      },
      "outputs": [
        {
          "name": "stdout",
          "output_type": "stream",
          "text": [
            "0.0604011637022875\n"
          ]
        }
      ],
      "source": [
        "print(recall_at_20)"
      ]
    },
    {
      "cell_type": "code",
      "execution_count": null,
      "metadata": {
        "colab": {
          "base_uri": "https://localhost:8080/",
          "height": 49,
          "referenced_widgets": [
            "5938c2501b704377bcecb644ad01f6fa",
            "e22ed2132b954fa1b052df760c3b131a",
            "da2bff0a9b9b4b65983a8f4199dee900",
            "9db521cb6ed5477a9e788b38b57821c0",
            "986ebf643f3c4c97a136f7b0aa57f797",
            "1316929b02844da8bcc9011ad89f4dc4",
            "aa162201d7854e0fa77af97193d8a202",
            "eca201992662470e8f549f2540a7f6ca",
            "7f101fb37a9240a99a90b1760af2eead",
            "1ff6f8ffe0ae47d982b972d129346d88",
            "c69da4a7c9b04a4987ef1e1663b4c140"
          ]
        },
        "id": "wawh_0b2N_Ks",
        "outputId": "01a55596-9d35-4f85-87cd-17b679ddbb3a"
      },
      "outputs": [
        {
          "data": {
            "application/vnd.jupyter.widget-view+json": {
              "model_id": "5938c2501b704377bcecb644ad01f6fa",
              "version_major": 2,
              "version_minor": 0
            },
            "text/plain": [
              "  0%|          | 0/5 [00:00<?, ?it/s]"
            ]
          },
          "metadata": {},
          "output_type": "display_data"
        }
      ],
      "source": [
        "recalls_validate = validate(train, num=5)"
      ]
    },
    {
      "cell_type": "code",
      "execution_count": null,
      "metadata": {
        "colab": {
          "base_uri": "https://localhost:8080/"
        },
        "id": "iPKKNRutVDyC",
        "outputId": "9042b63b-22d5-4b94-dd72-c5c51a5648c0"
      },
      "outputs": [
        {
          "data": {
            "text/plain": [
              "0.03719583521364611"
            ]
          },
          "execution_count": 163,
          "metadata": {},
          "output_type": "execute_result"
        }
      ],
      "source": []
    },
    {
      "cell_type": "code",
      "execution_count": null,
      "metadata": {
        "id": "2vbR6OeCVRn4"
      },
      "outputs": [],
      "source": [
        "n = 1\n",
        "max_week = 12"
      ]
    },
    {
      "cell_type": "code",
      "execution_count": null,
      "metadata": {
        "id": "vh-G3D6ZVQYd"
      },
      "outputs": [],
      "source": [
        "weeks = [max_week - x for x in range(n)]"
      ]
    },
    {
      "cell_type": "code",
      "execution_count": null,
      "metadata": {
        "colab": {
          "base_uri": "https://localhost:8080/"
        },
        "id": "Nm3De6hgVUF6",
        "outputId": "55d7231b-fd73-4ac1-e288-98146bd987ae"
      },
      "outputs": [
        {
          "data": {
            "text/plain": [
              "[12]"
            ]
          },
          "execution_count": 158,
          "metadata": {},
          "output_type": "execute_result"
        }
      ],
      "source": [
        "weeks"
      ]
    },
    {
      "cell_type": "markdown",
      "metadata": {
        "id": "hr7puXWvJ6aC"
      },
      "source": [
        "Валидация модели"
      ]
    },
    {
      "cell_type": "code",
      "execution_count": null,
      "metadata": {
        "id": "9PvKWxovJlg1"
      },
      "outputs": [],
      "source": [
        "def validate(train, num=3):\n",
        "  max_week = 12\n",
        "  recalls_at_20 = []\n",
        "\n",
        "  for n in notebook.tqdm(range(1, num + 1)):\n",
        "    weeks = [max_week - x for x in range(n)]\n",
        "    val = train[train['order_ts'].dt.week.isin(weeks)]\n",
        "    train_new = train[~train['order_ts'].dt.week.isin(weeks)]\n",
        "\n",
        "    train_, val_, u, i = refresh(train_new, val)\n",
        "    train_refresh, val_refresh, u, i = refresh(train_, val_)\n",
        "\n",
        "    train_user_item = get_user_item_matrix(train_refresh)\n",
        "    val_user_item = get_user_item_matrix(val_refresh)\n",
        "\n",
        "    model_lfm = LightFM(loss='warp',\n",
        "                      no_components=25,\n",
        "                      learning_rate=0.03,\n",
        "                      item_alpha=0.0005,\n",
        "                      user_alpha=0.0001)\n",
        "\n",
        "    model_lfm.fit(train_user_item,\n",
        "                epochs=20)\n",
        "\n",
        "    recalls_at_20.append(recall_at_k(model=model_lfm, test_interactions=val_user_item, k=20).mean())\n",
        "\n",
        "  return recalls_at_20"
      ]
    },
    {
      "cell_type": "code",
      "execution_count": null,
      "metadata": {
        "id": "CLzi7j9hN99W"
      },
      "outputs": [],
      "source": [
        "def hyperparameters(train_user_item, val_user_item):\n",
        "  no_comp = [20, 30, 40]\n",
        "  loss = ['logistic', 'warp', 'bpr']\n",
        "  learn_rate = [0.05, 0.1]\n",
        "  item_alpha = [0.001, 0.01]\n",
        "  user_alpha = [0.0001]\n",
        "  epochs = [40]\n",
        "  best_recall = 0\n",
        "  for ech in epochs:\n",
        "    for n_c in no_comp:\n",
        "      for ls in loss:\n",
        "        for lr in learn_rate:\n",
        "          for ia in item_alpha:\n",
        "            for ua in user_alpha:\n",
        "              model_lfm = LightFM(loss=ls,\n",
        "                                  no_components=n_c,\n",
        "                                  learning_rate=lr,\n",
        "                                  item_alpha=ia,\n",
        "                                  user_alpha=ua)\n",
        "\n",
        "              model_lfm.fit(train_user_item,\n",
        "                            epochs=ech)\n",
        "\n",
        "              recall_20 = recall_at_k(model=model_lfm, test_interactions=val_user_item, k=20).mean()\n",
        "              parameters = [n_c, ls, lr, ia, ua, ech]\n",
        "              print(f'Параметры : {parameters} recall@20 : {recall_20}')\n",
        "\n",
        "              if recall_20 > best_recall:\n",
        "                best_recall = recall_20\n",
        "                best_parameters = parameters\n",
        "  return best_recall, best_parameters"
      ]
    },
    {
      "cell_type": "code",
      "execution_count": null,
      "metadata": {
        "colab": {
          "base_uri": "https://localhost:8080/"
        },
        "id": "rPBXJIn2foZl",
        "outputId": "293392a9-4ede-4a86-f11d-243170e6e7ba"
      },
      "outputs": [
        {
          "name": "stdout",
          "output_type": "stream",
          "text": [
            "Параметры : [20, 'logistic', 0.05, 0.001, 0.0001, 40] recall@20 : 0.06934942548631837\n",
            "Параметры : [20, 'logistic', 0.05, 0.01, 0.0001, 40] recall@20 : 0.019325171196304742\n",
            "Параметры : [20, 'logistic', 0.1, 0.001, 0.0001, 40] recall@20 : 0.06893232234061158\n",
            "Параметры : [20, 'logistic', 0.1, 0.01, 0.0001, 40] recall@20 : 0.07429658250279333\n",
            "Параметры : [20, 'warp', 0.05, 0.001, 0.0001, 40] recall@20 : 0.07064659029292909\n",
            "Параметры : [20, 'warp', 0.05, 0.01, 0.0001, 40] recall@20 : 0.0032409109512898495\n",
            "Параметры : [20, 'warp', 0.1, 0.001, 0.0001, 40] recall@20 : 0.00720315432152052\n",
            "Параметры : [20, 'warp', 0.1, 0.01, 0.0001, 40] recall@20 : 0.07302901172160502\n",
            "Параметры : [20, 'bpr', 0.05, 0.001, 0.0001, 40] recall@20 : 0.06845725586888667\n",
            "Параметры : [20, 'bpr', 0.05, 0.01, 0.0001, 40] recall@20 : 0.0011611231702981664\n",
            "Параметры : [20, 'bpr', 0.1, 0.001, 0.0001, 40] recall@20 : 0.0032048991223136286\n",
            "Параметры : [20, 'bpr', 0.1, 0.01, 0.0001, 40] recall@20 : 0.0013952113020037043\n",
            "Параметры : [30, 'logistic', 0.05, 0.001, 0.0001, 40] recall@20 : 0.0705171430054937\n",
            "Параметры : [30, 'logistic', 0.05, 0.01, 0.0001, 40] recall@20 : 0.07544610149049309\n",
            "Параметры : [30, 'logistic', 0.1, 0.001, 0.0001, 40] recall@20 : 0.0705171430054937\n",
            "Параметры : [30, 'logistic', 0.1, 0.01, 0.0001, 40] recall@20 : 0.06931961580434882\n"
          ]
        }
      ],
      "source": [
        "recall_at_20, parameters_lfm = hyperparameters(train_user_item, val_user_item)"
      ]
    },
    {
      "cell_type": "markdown",
      "metadata": {
        "id": "GSQ19WmiPA-S"
      },
      "source": [
        "Попробуем проверить на тестовой выборке:"
      ]
    },
    {
      "cell_type": "code",
      "execution_count": null,
      "metadata": {
        "colab": {
          "base_uri": "https://localhost:8080/"
        },
        "id": "ZFAhwsAFgRDg",
        "outputId": "c03b0a6b-bb85-46f6-e18f-b84c07476652"
      },
      "outputs": [
        {
          "data": {
            "text/plain": [
              "<lightfm.lightfm.LightFM at 0x7eaa5dd71f60>"
            ]
          },
          "execution_count": 91,
          "metadata": {},
          "output_type": "execute_result"
        }
      ],
      "source": [
        "model_lfm = LightFM(loss='logistic',\n",
        "                  no_components=60,\n",
        "                  learning_rate=0.1,\n",
        "                  item_alpha=0.01,\n",
        "                  user_alpha=0.001,\n",
        "                  max_sampled=5)\n",
        "\n",
        "model_lfm.fit(train_user_item,\n",
        "            epochs=40)"
      ]
    },
    {
      "cell_type": "code",
      "execution_count": null,
      "metadata": {
        "colab": {
          "base_uri": "https://localhost:8080/"
        },
        "id": "Bs5YaEOZQsYk",
        "outputId": "51752933-6c12-4619-f7a7-b0c2344e51fa"
      },
      "outputs": [
        {
          "name": "stdout",
          "output_type": "stream",
          "text": [
            "0.03785057958392625\n",
            "0.07003494742319788\n"
          ]
        }
      ],
      "source": [
        "recall_at_20 = recall_at_k(model=model_lfm, test_interactions=val_user_item, k=20).mean()\n",
        "recall_at_50 = recall_at_k(model=model_lfm, test_interactions=val_user_item, k=50).mean()\n",
        "\n",
        "print(recall_at_20)\n",
        "print(recall_at_50)"
      ]
    },
    {
      "cell_type": "code",
      "execution_count": null,
      "metadata": {
        "colab": {
          "base_uri": "https://localhost:8080/"
        },
        "id": "t9xBtL9FQzw4",
        "outputId": "b79c0274-d47d-4cd5-b950-ade831d2529f"
      },
      "outputs": [
        {
          "name": "stdout",
          "output_type": "stream",
          "text": [
            "0.025069562954633803\n",
            "0.08079578652053514\n"
          ]
        }
      ],
      "source": [
        "recall_at_20 = recall_at_k(model=model_lfm, test_interactions=test_user_item, k=20).mean()\n",
        "recall_at_50 = recall_at_k(model=model_lfm, test_interactions=test_user_item, k=50).mean()\n",
        "\n",
        "print(recall_at_20)\n",
        "print(recall_at_50)"
      ]
    }
  ],
  "metadata": {
    "colab": {
      "collapsed_sections": [
        "22xvq39hjNZh"
      ],
      "provenance": [],
      "mount_file_id": "1_CWHi6Ca7ULAkub4-sExSvB-HDKGreD3",
      "authorship_tag": "ABX9TyNbNPE5RDdvoGOiM0ybHswe",
      "include_colab_link": true
    },
    "kernelspec": {
      "display_name": "Python 3",
      "name": "python3"
    },
    "language_info": {
      "name": "python"
    },
    "widgets": {
      "application/vnd.jupyter.widget-state+json": {
        "047ee5ae187f4c0fa79c93818c5c027a": {
          "model_module": "@jupyter-widgets/controls",
          "model_module_version": "1.5.0",
          "model_name": "HTMLModel",
          "state": {
            "_dom_classes": [],
            "_model_module": "@jupyter-widgets/controls",
            "_model_module_version": "1.5.0",
            "_model_name": "HTMLModel",
            "_view_count": null,
            "_view_module": "@jupyter-widgets/controls",
            "_view_module_version": "1.5.0",
            "_view_name": "HTMLView",
            "description": "",
            "description_tooltip": null,
            "layout": "IPY_MODEL_7b919a8da8694b80b30fd5c7d0284526",
            "placeholder": "​",
            "style": "IPY_MODEL_79b441cbe5e145cbab51db51e7554bc3",
            "value": "100%"
          }
        },
        "1316929b02844da8bcc9011ad89f4dc4": {
          "model_module": "@jupyter-widgets/base",
          "model_module_version": "1.2.0",
          "model_name": "LayoutModel",
          "state": {
            "_model_module": "@jupyter-widgets/base",
            "_model_module_version": "1.2.0",
            "_model_name": "LayoutModel",
            "_view_count": null,
            "_view_module": "@jupyter-widgets/base",
            "_view_module_version": "1.2.0",
            "_view_name": "LayoutView",
            "align_content": null,
            "align_items": null,
            "align_self": null,
            "border": null,
            "bottom": null,
            "display": null,
            "flex": null,
            "flex_flow": null,
            "grid_area": null,
            "grid_auto_columns": null,
            "grid_auto_flow": null,
            "grid_auto_rows": null,
            "grid_column": null,
            "grid_gap": null,
            "grid_row": null,
            "grid_template_areas": null,
            "grid_template_columns": null,
            "grid_template_rows": null,
            "height": null,
            "justify_content": null,
            "justify_items": null,
            "left": null,
            "margin": null,
            "max_height": null,
            "max_width": null,
            "min_height": null,
            "min_width": null,
            "object_fit": null,
            "object_position": null,
            "order": null,
            "overflow": null,
            "overflow_x": null,
            "overflow_y": null,
            "padding": null,
            "right": null,
            "top": null,
            "visibility": null,
            "width": null
          }
        },
        "1ff6f8ffe0ae47d982b972d129346d88": {
          "model_module": "@jupyter-widgets/base",
          "model_module_version": "1.2.0",
          "model_name": "LayoutModel",
          "state": {
            "_model_module": "@jupyter-widgets/base",
            "_model_module_version": "1.2.0",
            "_model_name": "LayoutModel",
            "_view_count": null,
            "_view_module": "@jupyter-widgets/base",
            "_view_module_version": "1.2.0",
            "_view_name": "LayoutView",
            "align_content": null,
            "align_items": null,
            "align_self": null,
            "border": null,
            "bottom": null,
            "display": null,
            "flex": null,
            "flex_flow": null,
            "grid_area": null,
            "grid_auto_columns": null,
            "grid_auto_flow": null,
            "grid_auto_rows": null,
            "grid_column": null,
            "grid_gap": null,
            "grid_row": null,
            "grid_template_areas": null,
            "grid_template_columns": null,
            "grid_template_rows": null,
            "height": null,
            "justify_content": null,
            "justify_items": null,
            "left": null,
            "margin": null,
            "max_height": null,
            "max_width": null,
            "min_height": null,
            "min_width": null,
            "object_fit": null,
            "object_position": null,
            "order": null,
            "overflow": null,
            "overflow_x": null,
            "overflow_y": null,
            "padding": null,
            "right": null,
            "top": null,
            "visibility": null,
            "width": null
          }
        },
        "309aa1c8ee4c483294d0f7f2bd971ea4": {
          "model_module": "@jupyter-widgets/base",
          "model_module_version": "1.2.0",
          "model_name": "LayoutModel",
          "state": {
            "_model_module": "@jupyter-widgets/base",
            "_model_module_version": "1.2.0",
            "_model_name": "LayoutModel",
            "_view_count": null,
            "_view_module": "@jupyter-widgets/base",
            "_view_module_version": "1.2.0",
            "_view_name": "LayoutView",
            "align_content": null,
            "align_items": null,
            "align_self": null,
            "border": null,
            "bottom": null,
            "display": null,
            "flex": null,
            "flex_flow": null,
            "grid_area": null,
            "grid_auto_columns": null,
            "grid_auto_flow": null,
            "grid_auto_rows": null,
            "grid_column": null,
            "grid_gap": null,
            "grid_row": null,
            "grid_template_areas": null,
            "grid_template_columns": null,
            "grid_template_rows": null,
            "height": null,
            "justify_content": null,
            "justify_items": null,
            "left": null,
            "margin": null,
            "max_height": null,
            "max_width": null,
            "min_height": null,
            "min_width": null,
            "object_fit": null,
            "object_position": null,
            "order": null,
            "overflow": null,
            "overflow_x": null,
            "overflow_y": null,
            "padding": null,
            "right": null,
            "top": null,
            "visibility": null,
            "width": null
          }
        },
        "4f4f4eaab55947af9d39eefbf4e63192": {
          "model_module": "@jupyter-widgets/controls",
          "model_module_version": "1.5.0",
          "model_name": "HBoxModel",
          "state": {
            "_dom_classes": [],
            "_model_module": "@jupyter-widgets/controls",
            "_model_module_version": "1.5.0",
            "_model_name": "HBoxModel",
            "_view_count": null,
            "_view_module": "@jupyter-widgets/controls",
            "_view_module_version": "1.5.0",
            "_view_name": "HBoxView",
            "box_style": "",
            "children": [
              "IPY_MODEL_047ee5ae187f4c0fa79c93818c5c027a",
              "IPY_MODEL_a46b6eead6a64163ae9a0bd13f83029c",
              "IPY_MODEL_d1bb77ef74624fc29338fe14d9a9ccba"
            ],
            "layout": "IPY_MODEL_9c2c9b0788e841fab4a6a41b523d0036"
          }
        },
        "5938c2501b704377bcecb644ad01f6fa": {
          "model_module": "@jupyter-widgets/controls",
          "model_module_version": "1.5.0",
          "model_name": "HBoxModel",
          "state": {
            "_dom_classes": [],
            "_model_module": "@jupyter-widgets/controls",
            "_model_module_version": "1.5.0",
            "_model_name": "HBoxModel",
            "_view_count": null,
            "_view_module": "@jupyter-widgets/controls",
            "_view_module_version": "1.5.0",
            "_view_name": "HBoxView",
            "box_style": "",
            "children": [
              "IPY_MODEL_e22ed2132b954fa1b052df760c3b131a",
              "IPY_MODEL_da2bff0a9b9b4b65983a8f4199dee900",
              "IPY_MODEL_9db521cb6ed5477a9e788b38b57821c0"
            ],
            "layout": "IPY_MODEL_986ebf643f3c4c97a136f7b0aa57f797"
          }
        },
        "79b441cbe5e145cbab51db51e7554bc3": {
          "model_module": "@jupyter-widgets/controls",
          "model_module_version": "1.5.0",
          "model_name": "DescriptionStyleModel",
          "state": {
            "_model_module": "@jupyter-widgets/controls",
            "_model_module_version": "1.5.0",
            "_model_name": "DescriptionStyleModel",
            "_view_count": null,
            "_view_module": "@jupyter-widgets/base",
            "_view_module_version": "1.2.0",
            "_view_name": "StyleView",
            "description_width": ""
          }
        },
        "7b919a8da8694b80b30fd5c7d0284526": {
          "model_module": "@jupyter-widgets/base",
          "model_module_version": "1.2.0",
          "model_name": "LayoutModel",
          "state": {
            "_model_module": "@jupyter-widgets/base",
            "_model_module_version": "1.2.0",
            "_model_name": "LayoutModel",
            "_view_count": null,
            "_view_module": "@jupyter-widgets/base",
            "_view_module_version": "1.2.0",
            "_view_name": "LayoutView",
            "align_content": null,
            "align_items": null,
            "align_self": null,
            "border": null,
            "bottom": null,
            "display": null,
            "flex": null,
            "flex_flow": null,
            "grid_area": null,
            "grid_auto_columns": null,
            "grid_auto_flow": null,
            "grid_auto_rows": null,
            "grid_column": null,
            "grid_gap": null,
            "grid_row": null,
            "grid_template_areas": null,
            "grid_template_columns": null,
            "grid_template_rows": null,
            "height": null,
            "justify_content": null,
            "justify_items": null,
            "left": null,
            "margin": null,
            "max_height": null,
            "max_width": null,
            "min_height": null,
            "min_width": null,
            "object_fit": null,
            "object_position": null,
            "order": null,
            "overflow": null,
            "overflow_x": null,
            "overflow_y": null,
            "padding": null,
            "right": null,
            "top": null,
            "visibility": null,
            "width": null
          }
        },
        "7e98cf2f63d44dbaa8cc50e5d196533a": {
          "model_module": "@jupyter-widgets/controls",
          "model_module_version": "1.5.0",
          "model_name": "DescriptionStyleModel",
          "state": {
            "_model_module": "@jupyter-widgets/controls",
            "_model_module_version": "1.5.0",
            "_model_name": "DescriptionStyleModel",
            "_view_count": null,
            "_view_module": "@jupyter-widgets/base",
            "_view_module_version": "1.2.0",
            "_view_name": "StyleView",
            "description_width": ""
          }
        },
        "7f101fb37a9240a99a90b1760af2eead": {
          "model_module": "@jupyter-widgets/controls",
          "model_module_version": "1.5.0",
          "model_name": "ProgressStyleModel",
          "state": {
            "_model_module": "@jupyter-widgets/controls",
            "_model_module_version": "1.5.0",
            "_model_name": "ProgressStyleModel",
            "_view_count": null,
            "_view_module": "@jupyter-widgets/base",
            "_view_module_version": "1.2.0",
            "_view_name": "StyleView",
            "bar_color": null,
            "description_width": ""
          }
        },
        "986ebf643f3c4c97a136f7b0aa57f797": {
          "model_module": "@jupyter-widgets/base",
          "model_module_version": "1.2.0",
          "model_name": "LayoutModel",
          "state": {
            "_model_module": "@jupyter-widgets/base",
            "_model_module_version": "1.2.0",
            "_model_name": "LayoutModel",
            "_view_count": null,
            "_view_module": "@jupyter-widgets/base",
            "_view_module_version": "1.2.0",
            "_view_name": "LayoutView",
            "align_content": null,
            "align_items": null,
            "align_self": null,
            "border": null,
            "bottom": null,
            "display": null,
            "flex": null,
            "flex_flow": null,
            "grid_area": null,
            "grid_auto_columns": null,
            "grid_auto_flow": null,
            "grid_auto_rows": null,
            "grid_column": null,
            "grid_gap": null,
            "grid_row": null,
            "grid_template_areas": null,
            "grid_template_columns": null,
            "grid_template_rows": null,
            "height": null,
            "justify_content": null,
            "justify_items": null,
            "left": null,
            "margin": null,
            "max_height": null,
            "max_width": null,
            "min_height": null,
            "min_width": null,
            "object_fit": null,
            "object_position": null,
            "order": null,
            "overflow": null,
            "overflow_x": null,
            "overflow_y": null,
            "padding": null,
            "right": null,
            "top": null,
            "visibility": null,
            "width": null
          }
        },
        "9c2c9b0788e841fab4a6a41b523d0036": {
          "model_module": "@jupyter-widgets/base",
          "model_module_version": "1.2.0",
          "model_name": "LayoutModel",
          "state": {
            "_model_module": "@jupyter-widgets/base",
            "_model_module_version": "1.2.0",
            "_model_name": "LayoutModel",
            "_view_count": null,
            "_view_module": "@jupyter-widgets/base",
            "_view_module_version": "1.2.0",
            "_view_name": "LayoutView",
            "align_content": null,
            "align_items": null,
            "align_self": null,
            "border": null,
            "bottom": null,
            "display": null,
            "flex": null,
            "flex_flow": null,
            "grid_area": null,
            "grid_auto_columns": null,
            "grid_auto_flow": null,
            "grid_auto_rows": null,
            "grid_column": null,
            "grid_gap": null,
            "grid_row": null,
            "grid_template_areas": null,
            "grid_template_columns": null,
            "grid_template_rows": null,
            "height": null,
            "justify_content": null,
            "justify_items": null,
            "left": null,
            "margin": null,
            "max_height": null,
            "max_width": null,
            "min_height": null,
            "min_width": null,
            "object_fit": null,
            "object_position": null,
            "order": null,
            "overflow": null,
            "overflow_x": null,
            "overflow_y": null,
            "padding": null,
            "right": null,
            "top": null,
            "visibility": null,
            "width": null
          }
        },
        "9db521cb6ed5477a9e788b38b57821c0": {
          "model_module": "@jupyter-widgets/controls",
          "model_module_version": "1.5.0",
          "model_name": "HTMLModel",
          "state": {
            "_dom_classes": [],
            "_model_module": "@jupyter-widgets/controls",
            "_model_module_version": "1.5.0",
            "_model_name": "HTMLModel",
            "_view_count": null,
            "_view_module": "@jupyter-widgets/controls",
            "_view_module_version": "1.5.0",
            "_view_name": "HTMLView",
            "description": "",
            "description_tooltip": null,
            "layout": "IPY_MODEL_1ff6f8ffe0ae47d982b972d129346d88",
            "placeholder": "​",
            "style": "IPY_MODEL_c69da4a7c9b04a4987ef1e1663b4c140",
            "value": " 5/5 [28:47&lt;00:00, 332.49s/it]"
          }
        },
        "a46b6eead6a64163ae9a0bd13f83029c": {
          "model_module": "@jupyter-widgets/controls",
          "model_module_version": "1.5.0",
          "model_name": "FloatProgressModel",
          "state": {
            "_dom_classes": [],
            "_model_module": "@jupyter-widgets/controls",
            "_model_module_version": "1.5.0",
            "_model_name": "FloatProgressModel",
            "_view_count": null,
            "_view_module": "@jupyter-widgets/controls",
            "_view_module_version": "1.5.0",
            "_view_name": "ProgressView",
            "bar_style": "success",
            "description": "",
            "description_tooltip": null,
            "layout": "IPY_MODEL_309aa1c8ee4c483294d0f7f2bd971ea4",
            "max": 25,
            "min": 0,
            "orientation": "horizontal",
            "style": "IPY_MODEL_ec1ef8532a1e40cc8fe19317fd410559",
            "value": 25
          }
        },
        "aa162201d7854e0fa77af97193d8a202": {
          "model_module": "@jupyter-widgets/controls",
          "model_module_version": "1.5.0",
          "model_name": "DescriptionStyleModel",
          "state": {
            "_model_module": "@jupyter-widgets/controls",
            "_model_module_version": "1.5.0",
            "_model_name": "DescriptionStyleModel",
            "_view_count": null,
            "_view_module": "@jupyter-widgets/base",
            "_view_module_version": "1.2.0",
            "_view_name": "StyleView",
            "description_width": ""
          }
        },
        "c69da4a7c9b04a4987ef1e1663b4c140": {
          "model_module": "@jupyter-widgets/controls",
          "model_module_version": "1.5.0",
          "model_name": "DescriptionStyleModel",
          "state": {
            "_model_module": "@jupyter-widgets/controls",
            "_model_module_version": "1.5.0",
            "_model_name": "DescriptionStyleModel",
            "_view_count": null,
            "_view_module": "@jupyter-widgets/base",
            "_view_module_version": "1.2.0",
            "_view_name": "StyleView",
            "description_width": ""
          }
        },
        "d1bb77ef74624fc29338fe14d9a9ccba": {
          "model_module": "@jupyter-widgets/controls",
          "model_module_version": "1.5.0",
          "model_name": "HTMLModel",
          "state": {
            "_dom_classes": [],
            "_model_module": "@jupyter-widgets/controls",
            "_model_module_version": "1.5.0",
            "_model_name": "HTMLModel",
            "_view_count": null,
            "_view_module": "@jupyter-widgets/controls",
            "_view_module_version": "1.5.0",
            "_view_name": "HTMLView",
            "description": "",
            "description_tooltip": null,
            "layout": "IPY_MODEL_f10b5277875b4609a2e543c2139b62ce",
            "placeholder": "​",
            "style": "IPY_MODEL_7e98cf2f63d44dbaa8cc50e5d196533a",
            "value": " 25/25 [05:09&lt;00:00, 12.38s/it]"
          }
        },
        "da2bff0a9b9b4b65983a8f4199dee900": {
          "model_module": "@jupyter-widgets/controls",
          "model_module_version": "1.5.0",
          "model_name": "FloatProgressModel",
          "state": {
            "_dom_classes": [],
            "_model_module": "@jupyter-widgets/controls",
            "_model_module_version": "1.5.0",
            "_model_name": "FloatProgressModel",
            "_view_count": null,
            "_view_module": "@jupyter-widgets/controls",
            "_view_module_version": "1.5.0",
            "_view_name": "ProgressView",
            "bar_style": "success",
            "description": "",
            "description_tooltip": null,
            "layout": "IPY_MODEL_eca201992662470e8f549f2540a7f6ca",
            "max": 5,
            "min": 0,
            "orientation": "horizontal",
            "style": "IPY_MODEL_7f101fb37a9240a99a90b1760af2eead",
            "value": 5
          }
        },
        "e22ed2132b954fa1b052df760c3b131a": {
          "model_module": "@jupyter-widgets/controls",
          "model_module_version": "1.5.0",
          "model_name": "HTMLModel",
          "state": {
            "_dom_classes": [],
            "_model_module": "@jupyter-widgets/controls",
            "_model_module_version": "1.5.0",
            "_model_name": "HTMLModel",
            "_view_count": null,
            "_view_module": "@jupyter-widgets/controls",
            "_view_module_version": "1.5.0",
            "_view_name": "HTMLView",
            "description": "",
            "description_tooltip": null,
            "layout": "IPY_MODEL_1316929b02844da8bcc9011ad89f4dc4",
            "placeholder": "​",
            "style": "IPY_MODEL_aa162201d7854e0fa77af97193d8a202",
            "value": "100%"
          }
        },
        "ec1ef8532a1e40cc8fe19317fd410559": {
          "model_module": "@jupyter-widgets/controls",
          "model_module_version": "1.5.0",
          "model_name": "ProgressStyleModel",
          "state": {
            "_model_module": "@jupyter-widgets/controls",
            "_model_module_version": "1.5.0",
            "_model_name": "ProgressStyleModel",
            "_view_count": null,
            "_view_module": "@jupyter-widgets/base",
            "_view_module_version": "1.2.0",
            "_view_name": "StyleView",
            "bar_color": null,
            "description_width": ""
          }
        },
        "eca201992662470e8f549f2540a7f6ca": {
          "model_module": "@jupyter-widgets/base",
          "model_module_version": "1.2.0",
          "model_name": "LayoutModel",
          "state": {
            "_model_module": "@jupyter-widgets/base",
            "_model_module_version": "1.2.0",
            "_model_name": "LayoutModel",
            "_view_count": null,
            "_view_module": "@jupyter-widgets/base",
            "_view_module_version": "1.2.0",
            "_view_name": "LayoutView",
            "align_content": null,
            "align_items": null,
            "align_self": null,
            "border": null,
            "bottom": null,
            "display": null,
            "flex": null,
            "flex_flow": null,
            "grid_area": null,
            "grid_auto_columns": null,
            "grid_auto_flow": null,
            "grid_auto_rows": null,
            "grid_column": null,
            "grid_gap": null,
            "grid_row": null,
            "grid_template_areas": null,
            "grid_template_columns": null,
            "grid_template_rows": null,
            "height": null,
            "justify_content": null,
            "justify_items": null,
            "left": null,
            "margin": null,
            "max_height": null,
            "max_width": null,
            "min_height": null,
            "min_width": null,
            "object_fit": null,
            "object_position": null,
            "order": null,
            "overflow": null,
            "overflow_x": null,
            "overflow_y": null,
            "padding": null,
            "right": null,
            "top": null,
            "visibility": null,
            "width": null
          }
        },
        "f10b5277875b4609a2e543c2139b62ce": {
          "model_module": "@jupyter-widgets/base",
          "model_module_version": "1.2.0",
          "model_name": "LayoutModel",
          "state": {
            "_model_module": "@jupyter-widgets/base",
            "_model_module_version": "1.2.0",
            "_model_name": "LayoutModel",
            "_view_count": null,
            "_view_module": "@jupyter-widgets/base",
            "_view_module_version": "1.2.0",
            "_view_name": "LayoutView",
            "align_content": null,
            "align_items": null,
            "align_self": null,
            "border": null,
            "bottom": null,
            "display": null,
            "flex": null,
            "flex_flow": null,
            "grid_area": null,
            "grid_auto_columns": null,
            "grid_auto_flow": null,
            "grid_auto_rows": null,
            "grid_column": null,
            "grid_gap": null,
            "grid_row": null,
            "grid_template_areas": null,
            "grid_template_columns": null,
            "grid_template_rows": null,
            "height": null,
            "justify_content": null,
            "justify_items": null,
            "left": null,
            "margin": null,
            "max_height": null,
            "max_width": null,
            "min_height": null,
            "min_width": null,
            "object_fit": null,
            "object_position": null,
            "order": null,
            "overflow": null,
            "overflow_x": null,
            "overflow_y": null,
            "padding": null,
            "right": null,
            "top": null,
            "visibility": null,
            "width": null
          }
        },
        "fb26d0beaf2d4dbd85ea62b67d304594": {
          "model_module": "catboost-widget",
          "model_module_version": "^1.0.0",
          "model_name": "CatboostWidgetModel",
          "state": {
            "_dom_classes": [],
            "_model_module": "catboost-widget",
            "_model_module_version": "^1.0.0",
            "_model_name": "CatboostWidgetModel",
            "_view_count": null,
            "_view_module": "catboost-widget",
            "_view_module_version": "^1.0.0",
            "_view_name": "CatboostWidgetView",
            "data": {
              "catboost_info": {
                "content": {
                  "data": {
                    "iterations": [
                      {
                        "iteration": 0,
                        "passed_time": 37.76561447,
                        "remaining_time": 528.7186026,
                        "test": [
                          0.00150230125,
                          0.9091060658
                        ]
                      },
                      {
                        "iteration": 1,
                        "passed_time": 54.8025169,
                        "remaining_time": 356.2163599,
                        "test": [
                          0.614125,
                          0.9119572586
                        ]
                      },
                      {
                        "iteration": 2,
                        "passed_time": 70.87630557,
                        "remaining_time": 283.5052223,
                        "test": [
                          0.85,
                          0.9127369296
                        ]
                      },
                      {
                        "iteration": 3,
                        "passed_time": 87.32642124,
                        "remaining_time": 240.1476584,
                        "test": [
                          1,
                          0.9140487737
                        ]
                      },
                      {
                        "iteration": 4,
                        "passed_time": 103.5649754,
                        "remaining_time": 207.1299508,
                        "test": [
                          0.85,
                          0.9139484068
                        ]
                      },
                      {
                        "iteration": 5,
                        "passed_time": 121.0259751,
                        "remaining_time": 181.5389626,
                        "test": [
                          1,
                          0.9151714171
                        ]
                      },
                      {
                        "iteration": 6,
                        "passed_time": 136.9736,
                        "remaining_time": 156.5412572,
                        "test": [
                          1,
                          0.9135379825
                        ]
                      },
                      {
                        "iteration": 7,
                        "passed_time": 153.444743,
                        "remaining_time": 134.2641501,
                        "test": [
                          0.85,
                          0.9133216598
                        ]
                      },
                      {
                        "iteration": 8,
                        "passed_time": 169.3156462,
                        "remaining_time": 112.8770975,
                        "test": [
                          1,
                          0.9131095788
                        ]
                      },
                      {
                        "iteration": 9,
                        "passed_time": 186.5689175,
                        "remaining_time": 93.28445875,
                        "test": [
                          1,
                          0.9119986239
                        ]
                      },
                      {
                        "iteration": 10,
                        "passed_time": 203.0693323,
                        "remaining_time": 73.84339355,
                        "test": [
                          1,
                          0.9131187447
                        ]
                      },
                      {
                        "iteration": 11,
                        "passed_time": 219.4492027,
                        "remaining_time": 54.86230067,
                        "test": [
                          0.85,
                          0.9120707993
                        ]
                      },
                      {
                        "iteration": 12,
                        "passed_time": 235.4917874,
                        "remaining_time": 36.22950576,
                        "test": [
                          1,
                          0.9123568653
                        ]
                      },
                      {
                        "iteration": 13,
                        "passed_time": 253.0349267,
                        "remaining_time": 18.07392334,
                        "test": [
                          0.614125,
                          0.9115221176
                        ]
                      },
                      {
                        "iteration": 14,
                        "passed_time": 270.2997563,
                        "remaining_time": 0,
                        "test": [
                          0.52200625,
                          0.9111544009
                        ]
                      }
                    ],
                    "meta": {
                      "iteration_count": 15,
                      "launch_mode": "Train",
                      "learn_metrics": [],
                      "learn_sets": [
                        "learn"
                      ],
                      "name": "experiment",
                      "parameters": "",
                      "test_metrics": [
                        {
                          "best_value": "Max",
                          "name": "PFound"
                        },
                        {
                          "best_value": "Max",
                          "name": "NDCG:type=Base"
                        }
                      ],
                      "test_sets": [
                        "test"
                      ]
                    }
                  },
                  "passed_iterations": 14,
                  "total_iterations": 15
                },
                "name": "catboost_info",
                "path": "catboost_info"
              }
            },
            "layout": "IPY_MODEL_570b05cadd514c4584120c2a48473e46"
          }
        },
        "a362c637756640c69b755a3241d18384": {
          "model_module": "@jupyter-widgets/controls",
          "model_name": "HBoxModel",
          "model_module_version": "1.5.0",
          "state": {
            "_dom_classes": [],
            "_model_module": "@jupyter-widgets/controls",
            "_model_module_version": "1.5.0",
            "_model_name": "HBoxModel",
            "_view_count": null,
            "_view_module": "@jupyter-widgets/controls",
            "_view_module_version": "1.5.0",
            "_view_name": "HBoxView",
            "box_style": "",
            "children": [
              "IPY_MODEL_e959cfad67af4932bef42f2fc502bb46",
              "IPY_MODEL_21f3d8b6e5114fcea49bc16261423933",
              "IPY_MODEL_0007dd6505da46fea41efae90e38b3a5"
            ],
            "layout": "IPY_MODEL_da0a2b6c775d4a67aa94e9bebb4d17e6"
          }
        },
        "e959cfad67af4932bef42f2fc502bb46": {
          "model_module": "@jupyter-widgets/controls",
          "model_name": "HTMLModel",
          "model_module_version": "1.5.0",
          "state": {
            "_dom_classes": [],
            "_model_module": "@jupyter-widgets/controls",
            "_model_module_version": "1.5.0",
            "_model_name": "HTMLModel",
            "_view_count": null,
            "_view_module": "@jupyter-widgets/controls",
            "_view_module_version": "1.5.0",
            "_view_name": "HTMLView",
            "description": "",
            "description_tooltip": null,
            "layout": "IPY_MODEL_5e610a616b234a6fbd721b06ac39f2c7",
            "placeholder": "​",
            "style": "IPY_MODEL_460db75fdc8e457f91c193867ed8cb8d",
            "value": "100%"
          }
        },
        "21f3d8b6e5114fcea49bc16261423933": {
          "model_module": "@jupyter-widgets/controls",
          "model_name": "FloatProgressModel",
          "model_module_version": "1.5.0",
          "state": {
            "_dom_classes": [],
            "_model_module": "@jupyter-widgets/controls",
            "_model_module_version": "1.5.0",
            "_model_name": "FloatProgressModel",
            "_view_count": null,
            "_view_module": "@jupyter-widgets/controls",
            "_view_module_version": "1.5.0",
            "_view_name": "ProgressView",
            "bar_style": "success",
            "description": "",
            "description_tooltip": null,
            "layout": "IPY_MODEL_a66dd79d9352452bb2133b3ac6138cb1",
            "max": 25,
            "min": 0,
            "orientation": "horizontal",
            "style": "IPY_MODEL_9ee4e68ff19e4e48a8a89de409d00119",
            "value": 25
          }
        },
        "0007dd6505da46fea41efae90e38b3a5": {
          "model_module": "@jupyter-widgets/controls",
          "model_name": "HTMLModel",
          "model_module_version": "1.5.0",
          "state": {
            "_dom_classes": [],
            "_model_module": "@jupyter-widgets/controls",
            "_model_module_version": "1.5.0",
            "_model_name": "HTMLModel",
            "_view_count": null,
            "_view_module": "@jupyter-widgets/controls",
            "_view_module_version": "1.5.0",
            "_view_name": "HTMLView",
            "description": "",
            "description_tooltip": null,
            "layout": "IPY_MODEL_185898c4a87d44e2a773a078da3da969",
            "placeholder": "​",
            "style": "IPY_MODEL_652390924da3441f9b922f78ea3b9d65",
            "value": " 25/25 [04:29&lt;00:00, 10.16s/it]"
          }
        },
        "da0a2b6c775d4a67aa94e9bebb4d17e6": {
          "model_module": "@jupyter-widgets/base",
          "model_name": "LayoutModel",
          "model_module_version": "1.2.0",
          "state": {
            "_model_module": "@jupyter-widgets/base",
            "_model_module_version": "1.2.0",
            "_model_name": "LayoutModel",
            "_view_count": null,
            "_view_module": "@jupyter-widgets/base",
            "_view_module_version": "1.2.0",
            "_view_name": "LayoutView",
            "align_content": null,
            "align_items": null,
            "align_self": null,
            "border": null,
            "bottom": null,
            "display": null,
            "flex": null,
            "flex_flow": null,
            "grid_area": null,
            "grid_auto_columns": null,
            "grid_auto_flow": null,
            "grid_auto_rows": null,
            "grid_column": null,
            "grid_gap": null,
            "grid_row": null,
            "grid_template_areas": null,
            "grid_template_columns": null,
            "grid_template_rows": null,
            "height": null,
            "justify_content": null,
            "justify_items": null,
            "left": null,
            "margin": null,
            "max_height": null,
            "max_width": null,
            "min_height": null,
            "min_width": null,
            "object_fit": null,
            "object_position": null,
            "order": null,
            "overflow": null,
            "overflow_x": null,
            "overflow_y": null,
            "padding": null,
            "right": null,
            "top": null,
            "visibility": null,
            "width": null
          }
        },
        "5e610a616b234a6fbd721b06ac39f2c7": {
          "model_module": "@jupyter-widgets/base",
          "model_name": "LayoutModel",
          "model_module_version": "1.2.0",
          "state": {
            "_model_module": "@jupyter-widgets/base",
            "_model_module_version": "1.2.0",
            "_model_name": "LayoutModel",
            "_view_count": null,
            "_view_module": "@jupyter-widgets/base",
            "_view_module_version": "1.2.0",
            "_view_name": "LayoutView",
            "align_content": null,
            "align_items": null,
            "align_self": null,
            "border": null,
            "bottom": null,
            "display": null,
            "flex": null,
            "flex_flow": null,
            "grid_area": null,
            "grid_auto_columns": null,
            "grid_auto_flow": null,
            "grid_auto_rows": null,
            "grid_column": null,
            "grid_gap": null,
            "grid_row": null,
            "grid_template_areas": null,
            "grid_template_columns": null,
            "grid_template_rows": null,
            "height": null,
            "justify_content": null,
            "justify_items": null,
            "left": null,
            "margin": null,
            "max_height": null,
            "max_width": null,
            "min_height": null,
            "min_width": null,
            "object_fit": null,
            "object_position": null,
            "order": null,
            "overflow": null,
            "overflow_x": null,
            "overflow_y": null,
            "padding": null,
            "right": null,
            "top": null,
            "visibility": null,
            "width": null
          }
        },
        "460db75fdc8e457f91c193867ed8cb8d": {
          "model_module": "@jupyter-widgets/controls",
          "model_name": "DescriptionStyleModel",
          "model_module_version": "1.5.0",
          "state": {
            "_model_module": "@jupyter-widgets/controls",
            "_model_module_version": "1.5.0",
            "_model_name": "DescriptionStyleModel",
            "_view_count": null,
            "_view_module": "@jupyter-widgets/base",
            "_view_module_version": "1.2.0",
            "_view_name": "StyleView",
            "description_width": ""
          }
        },
        "a66dd79d9352452bb2133b3ac6138cb1": {
          "model_module": "@jupyter-widgets/base",
          "model_name": "LayoutModel",
          "model_module_version": "1.2.0",
          "state": {
            "_model_module": "@jupyter-widgets/base",
            "_model_module_version": "1.2.0",
            "_model_name": "LayoutModel",
            "_view_count": null,
            "_view_module": "@jupyter-widgets/base",
            "_view_module_version": "1.2.0",
            "_view_name": "LayoutView",
            "align_content": null,
            "align_items": null,
            "align_self": null,
            "border": null,
            "bottom": null,
            "display": null,
            "flex": null,
            "flex_flow": null,
            "grid_area": null,
            "grid_auto_columns": null,
            "grid_auto_flow": null,
            "grid_auto_rows": null,
            "grid_column": null,
            "grid_gap": null,
            "grid_row": null,
            "grid_template_areas": null,
            "grid_template_columns": null,
            "grid_template_rows": null,
            "height": null,
            "justify_content": null,
            "justify_items": null,
            "left": null,
            "margin": null,
            "max_height": null,
            "max_width": null,
            "min_height": null,
            "min_width": null,
            "object_fit": null,
            "object_position": null,
            "order": null,
            "overflow": null,
            "overflow_x": null,
            "overflow_y": null,
            "padding": null,
            "right": null,
            "top": null,
            "visibility": null,
            "width": null
          }
        },
        "9ee4e68ff19e4e48a8a89de409d00119": {
          "model_module": "@jupyter-widgets/controls",
          "model_name": "ProgressStyleModel",
          "model_module_version": "1.5.0",
          "state": {
            "_model_module": "@jupyter-widgets/controls",
            "_model_module_version": "1.5.0",
            "_model_name": "ProgressStyleModel",
            "_view_count": null,
            "_view_module": "@jupyter-widgets/base",
            "_view_module_version": "1.2.0",
            "_view_name": "StyleView",
            "bar_color": null,
            "description_width": ""
          }
        },
        "185898c4a87d44e2a773a078da3da969": {
          "model_module": "@jupyter-widgets/base",
          "model_name": "LayoutModel",
          "model_module_version": "1.2.0",
          "state": {
            "_model_module": "@jupyter-widgets/base",
            "_model_module_version": "1.2.0",
            "_model_name": "LayoutModel",
            "_view_count": null,
            "_view_module": "@jupyter-widgets/base",
            "_view_module_version": "1.2.0",
            "_view_name": "LayoutView",
            "align_content": null,
            "align_items": null,
            "align_self": null,
            "border": null,
            "bottom": null,
            "display": null,
            "flex": null,
            "flex_flow": null,
            "grid_area": null,
            "grid_auto_columns": null,
            "grid_auto_flow": null,
            "grid_auto_rows": null,
            "grid_column": null,
            "grid_gap": null,
            "grid_row": null,
            "grid_template_areas": null,
            "grid_template_columns": null,
            "grid_template_rows": null,
            "height": null,
            "justify_content": null,
            "justify_items": null,
            "left": null,
            "margin": null,
            "max_height": null,
            "max_width": null,
            "min_height": null,
            "min_width": null,
            "object_fit": null,
            "object_position": null,
            "order": null,
            "overflow": null,
            "overflow_x": null,
            "overflow_y": null,
            "padding": null,
            "right": null,
            "top": null,
            "visibility": null,
            "width": null
          }
        },
        "652390924da3441f9b922f78ea3b9d65": {
          "model_module": "@jupyter-widgets/controls",
          "model_name": "DescriptionStyleModel",
          "model_module_version": "1.5.0",
          "state": {
            "_model_module": "@jupyter-widgets/controls",
            "_model_module_version": "1.5.0",
            "_model_name": "DescriptionStyleModel",
            "_view_count": null,
            "_view_module": "@jupyter-widgets/base",
            "_view_module_version": "1.2.0",
            "_view_name": "StyleView",
            "description_width": ""
          }
        }
      }
    }
  },
  "nbformat": 4,
  "nbformat_minor": 0
}